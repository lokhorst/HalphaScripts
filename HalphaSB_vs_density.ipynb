{
 "cells": [
  {
   "cell_type": "code",
   "execution_count": 1,
   "metadata": {
    "collapsed": true
   },
   "outputs": [],
   "source": [
    "%matplotlib inline\n",
    "\n",
    "import numpy as np\n",
    "import matplotlib.pyplot as plt\n",
    "from astropy import constants as const\n",
    "from astropy import units as u \n",
    "\n",
    "# load constants\n",
    "c = 3e8            # speed of light m/s\n",
    "hp = 6.626e-27     # planck's constant erg s\n",
    "H_0 = 100.         # hubble's constant /h km/s/Mpc\n",
    "h = 0.73"
   ]
  },
  {
   "cell_type": "code",
   "execution_count": 7,
   "metadata": {
    "collapsed": true
   },
   "outputs": [],
   "source": [
    "#  how does the emissivity vary with temperature?  Can we trust that the variation of emissivity for H-alpha is similar \n",
    "#  to that of Ly-alpha?\n",
    "\n",
    "def Halpha():\n",
    "    ## Number density /cm^3.  Load values that agree with H-alpha emission at redshift 0\n",
    "    ## Emissivity erg/s/cm^3. Took ly-alpha emis (since didn't calculate H-alpha) \n",
    "    ## and used the energy fraction from Table B1 to approximate the emis of H-alpha\n",
    "\n",
    "  #  n_H = 4*10**-5.7         # taken as a popular density from the density map of Fig 4 B&S 2010   log(rho/rhom)~1.3\n",
    "\n",
    "    n_Harray = 4*10**-7 * 10**np.arange(0,4.1,0.1)   # number density ranging from 4*10^-7 to 4*10^-4\n",
    "\n",
    "    # Box:      dot-dash,  dash  ,  solid  , white/dotted\n",
    "    # Size:     1 Mpc   , 0.5Mpc , 0.15Mpc , 0.5Mpc\n",
    "    # log Temp: 5 - 6 K , 4 - 5 K, 3 - 4 K ,  5 K   \n",
    "    # emis:     -24.3   , -23.0  ,-23 - -23.5, -23.5 , \n",
    "    # density:  2.0     , 1.5    , 3.5     , 2.0-2.5\n",
    "    densityfactor = np.array([2.0,1.5,3.5,2.5])\n",
    "    n_Hplot = 4*10**-7 * 10**densityfactor  # dot-dash, dash, solid, white/dotted ; AVERAGE within the boxes\n",
    "    emiscoeff = np.array([-24.3,-23.0,-23.,-23.3])  \n",
    "    emis_plot = 0.66/11.26 * np.array([10**emiscoeff[0]*n_Hplot[0]**2,\n",
    "                                       10**emiscoeff[1]*n_Hplot[1]**2,\n",
    "                                       10**emiscoeff[2]*n_Hplot[2]**2,\n",
    "                                       10**emiscoeff[3]*n_Hplot[3]**2])\n",
    "    \n",
    "    z = 0                    # redshift\n",
    "    wavlen = 656.3e-9        # wavlength of line m  Which line should I use?  What fraction is \"energy\"? --> ergs, so use Halpha \n",
    "    \n",
    "    L_plot = np.array([1.,0.5,0.15,0.5])   # dot-dash, dash, solid\n",
    "    vol_plot = L_plot**3\n",
    "    \n",
    "    print('Doing H-alpha...')\n",
    "    # return:  emissivity, redshift, wavelength, length scale, volume\n",
    "    return [z,wavlen,emiscoeff,n_Harray,emis_plot,L_plot,vol_plot, densityfactor]\n"
   ]
  },
  {
   "cell_type": "code",
   "execution_count": 8,
   "metadata": {},
   "outputs": [
    {
     "name": "stdout",
     "output_type": "stream",
     "text": [
      "Doing H-alpha...\n"
     ]
    }
   ],
   "source": [
    "# Call the function with the constants we want, now we want to load the H-alpha values.\n",
    "z,wavlen,emiscoeff,n_Harray,emis_plot,L_plot,vol_plot,densityfactor = Halpha()\n",
    "\n",
    "# cosmic mean density\n",
    "rho_mean = 5.1*10**-6*((1+z)/3)**3\n",
    "\n",
    "# calculate the luminosity and angular diameter distances (equation from cosmology notes, for EdS universe)\n",
    "if z == 0: \n",
    "    DL = 15. #Mpc\n",
    "    DA = 15.\n",
    "else:\n",
    "    DL = 2*c*h*10**-3/H_0 * (1.+z) * (1. - 1/np.sqrt(1.+z))  # Mpc\n",
    "    DA = 2*c*h*10**-3/H_0 / (1.+z) * (1. - 1/np.sqrt(1.+z))  # Mpc\n",
    "\n",
    "# approx angular size of the emitter (use to calculate the surface brightness)\n",
    "solidangle_plot = L_plot/DA**2"
   ]
  },
  {
   "cell_type": "code",
   "execution_count": 9,
   "metadata": {},
   "outputs": [
    {
     "name": "stdout",
     "output_type": "stream",
     "text": [
      "[  4.70029946e-35   9.37833037e-35   9.37833037e-31   4.70029946e-33]\n",
      "[ 1.    0.5   0.15  0.5 ]\n",
      "[ 1.        0.125     0.003375  0.125   ]\n"
     ]
    }
   ],
   "source": [
    "print emis_plot\n",
    "print L_plot\n",
    "print vol_plot"
   ]
  },
  {
   "cell_type": "code",
   "execution_count": 10,
   "metadata": {},
   "outputs": [
    {
     "name": "stdout",
     "output_type": "stream",
     "text": [
      "[    3.8283098      1.90962057  1718.65851305    95.70774508]\n"
     ]
    },
    {
     "data": {
      "image/png": "[encoded data removed]",
      "text/plain": [
       "<matplotlib.figure.Figure at 0x10e1df510>"
      ]
     },
     "metadata": {},
     "output_type": "display_data"
    }
   ],
   "source": [
    "emis1 = 0.66/11.26 * 10**emiscoeff[2] * n_Harray**2\n",
    "emis2 = 0.66/11.26 * 10**emiscoeff[1] * n_Harray**2\n",
    "emis3 = 0.66/11.26 * 10**emiscoeff[0] * n_Harray**2\n",
    "emis4 = 0.66/11.26 * 10**emiscoeff[3] * n_Harray**2\n",
    "\n",
    "SB_plot1 = emis1 * vol_plot[2] / (4.*np.pi*DL**2) * wavlen * (1+z)/(hp*c) * 3.1e24 / solidangle_plot[2]\n",
    "SB_plot2 = emis2 * vol_plot[1] / (4.*np.pi*DL**2) * wavlen * (1+z)/(hp*c) * 3.1e24 / solidangle_plot[1]\n",
    "SB_plot3 = emis3 * vol_plot[0] / (4.*np.pi*DL**2) * wavlen * (1+z)/(hp*c) * 3.1e24 / solidangle_plot[0]\n",
    "SB_plot4 = emis4 * vol_plot[3] / (4.*np.pi*DL**2) * wavlen * (1+z)/(hp*c) * 3.1e24 / solidangle_plot[3]\n",
    "\n",
    "# Plot the SB as a function of the density n_H\n",
    "fig, ax1 = plt.subplots(figsize=(4,4))\n",
    "ax1.set_xlabel(r'log $\\rho$/$\\rho_{mean}$')\n",
    "ax1.set_ylabel('log SB [ph cm$^{-2}$ s$^{-1}$ sr$^{-1}$]')\n",
    "#ax1.legend(loc=4)\n",
    "#ax1.get_legend()\n",
    "\n",
    "ax1.plot(np.arange(0,4.1,0.1),np.log10(SB_plot1),'k-',linewidth=2)                          # logT ~ 3\n",
    "ax1.plot(np.arange(0,4.1,0.1),np.log10(SB_plot2),'k--',linewidth=2)        # logT ~ 3\n",
    "#ax1.plot(np.arange(0,4.1,0.1),np.log10(SB_plot3),'k:',linewidth=2)                          # logT ~ 6\n",
    "ax1.plot(np.arange(0,4.1,0.1),np.log10(SB_plot4),'k:',linewidth=2)                          # logT ~ 6\n",
    "\n",
    "#plot vertical and horizontal lines to indicate actual SB and density\n",
    "SB_plot = emis_plot * vol_plot / (4.*np.pi*DL**2) * wavlen * (1+z)/(hp*c) * 3.1e24 / solidangle_plot\n",
    "print(SB_plot)\n",
    "plt.plot([0.,4.0],np.log10([SB_plot[2],SB_plot[2]]),'k-',linewidth=1,color='gray')\n",
    "plt.plot([0.,4.0],np.log10([SB_plot[1],SB_plot[1]]),'k--',linewidth=1,color='gray')\n",
    "#plt.plot([0.,4.0],np.log10([SB_plot[0],SB_plot[0]]),'k:',linewidth=1,color='gray')\n",
    "plt.plot([0.,4.0],np.log10([SB_plot[3],SB_plot[3]]),'k:',linewidth=1,color='gray')\n",
    "plt.plot([densityfactor[2],densityfactor[2]],[-6,6],'k-',linewidth=1,color='gray')\n",
    "plt.plot([densityfactor[1],densityfactor[1]],[-6,6],'k--',linewidth=1,color='gray')\n",
    "#plt.plot([densityfactor[0],densityfactor[0]],[-6,6],'k:',linewidth=1,color='gray')\n",
    "plt.plot([densityfactor[3],densityfactor[3]],[-6,6],'k:',linewidth=1,color='gray')\n",
    "\n",
    "ax3 = ax1.twinx()\n",
    "ax3.set_yticks([-6,-4,-2,0,2,4,6])\n",
    "ax3.set_yticklabels([-6,-4,-2,0,2,4,6])\n",
    "ax3.set_ylabel('log SB [ph cm$^{-2}$ s$^{-1}$ sr$^{-1}$]')\n",
    "#convert to mag/arsec^2\n",
    "\n",
    "\n",
    "plt.savefig('FigHalphaSBBoxes.pdf')"
   ]
  },
  {
   "cell_type": "code",
   "execution_count": null,
   "metadata": {
    "collapsed": true
   },
   "outputs": [],
   "source": []
  },
  {
   "cell_type": "code",
   "execution_count": null,
   "metadata": {
    "collapsed": true
   },
   "outputs": [],
   "source": []
  }
 ],
 "metadata": {
  "kernelspec": {
   "display_name": "Python 3",
   "language": "python",
   "name": "python3"
  },
  "language_info": {
   "codemirror_mode": {
    "name": "ipython",
    "version": 3
   },
   "file_extension": ".py",
   "mimetype": "text/x-python",
   "name": "python",
   "nbconvert_exporter": "python",
   "pygments_lexer": "ipython3",
   "version": "3.7.6"
  }
 },
 "nbformat": 4,
 "nbformat_minor": 1
}
