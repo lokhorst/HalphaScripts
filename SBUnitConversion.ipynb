{
 "cells": [
  {
   "cell_type": "markdown",
   "metadata": {},
   "source": [
    "Conversion between photon cm$^{-2}$ s$^{-1}$ sr$^{-1}$ and erg cm$^{-2}$ s$^{-1}$ arcsec$^{-2}$."
   ]
  },
  {
   "cell_type": "code",
   "execution_count": 4,
   "metadata": {},
   "outputs": [
    {
     "name": "stdout",
     "output_type": "stream",
     "text": [
      "The surface brightness, 1.4 1 / (cm2 s sr), in cgs units is: 1e-22 erg / (arcsec2 cm2 s)\n",
      "2284.09023733 1 / (cm2 s sr)\n",
      "1.00850803631e-19 erg sr / arcsec2\n",
      "this: 1417.608\n",
      "31.5107001353\n",
      "36.8803921157\n",
      "29.3803921157\n",
      "7813.20496845 1 / (cm2 s sr)\n",
      "1070.88883888 1 / (cm2 s sr)\n",
      "1.30732523225e-19 erg sr / arcsec2\n",
      "1686.77842789 1 / (cm2 s sr)\n"
     ]
    }
   ],
   "source": [
    "from astropy import constants as const\n",
    "from astropy import units as u\n",
    "import eagle_constants_and_units as cons\n",
    "import numpy as np\n",
    "\n",
    "photon_wavelength = 656.3e-9*u.m\n",
    "\n",
    "SB_cgs = 10**-22 *u.erg / u.arcsec**2 / u.cm**2 / u.s\n",
    "SB_ph = SB_cgs * photon_wavelength/(const.h.to('erg s') * const.c.to('m/s')) * (206265.*u.arcsec)**2/u.sr\n",
    "\n",
    "print('The surface brightness, %s, in cgs units is: %s'%(SB_ph.round(1),SB_cgs))\n",
    "\n",
    "radians = 1.\n",
    "degrees = np.pi/180.\n",
    "arcmin = 1./60. * degrees \n",
    "arcsec = 1./3600. * degrees\n",
    "\n",
    "g = 1.\n",
    "kg = 10.**3 * g\n",
    "\n",
    "s = 1.\n",
    "Hz = 1/s\n",
    "\n",
    "cm = 1.\n",
    "nm = 10.**-7 * cm\n",
    "mum = 10**-4 * cm\n",
    "\n",
    "\n",
    "#S_erg = S_Jy *(10**-23 * u.erg / (u.s * u.Hz * u.cm**2) / u.Jy )\n",
    "erg = 1.\n",
    "Jy = 10**-23 * erg/(s*cm**2) *1/Hz  \n",
    "\n",
    "def getSB_ph(SB_cgs,photon_wavelength=656.3e-9*u.m):\n",
    "    return SB_cgs * photon_wavelength/(const.h.to('erg s') * const.c.to('m/s')) * (206265.*u.arcsec)**2/u.sr\n",
    "def getSB_cgs(SB_ph,photon_wavelength=656.3e-9*u.m):\n",
    "    return SB_ph / (photon_wavelength/(const.h.to('erg s') * const.c.to('m/s')) * (206265.*u.arcsec)**2/u.sr)\n",
    "\n",
    "print getSB_ph(1.62*10**-19 *u.erg / u.arcsec**2 / u.cm**2 / u.s, photon_wavelength=6583*10**-10*u.m)\n",
    "print getSB_cgs(1417.608)\n",
    "\n",
    "print 'this: %s'%(2.7e2 * (6563./10**3) * (1./1.25))\n",
    "\n",
    "def SB_photonscgs_to_ABmagarcsec(sb):\n",
    "    fld = sb * cons.planck * (4*np.pi)/3600**2 # flux density: energy / (m**2 s)  /frequency (/arcmin**2)  sufrace brightness: photons / (cm**2 s) /sr       \n",
    "    return -2.5*np.log10(fld/(3631.*Jy))\n",
    "\n",
    "print SB_photonscgs_to_ABmagarcsec(SB_ph.value)\n",
    "\n",
    "print SB_photonscgs_to_ABmagarcsec(0.01)\n",
    "print SB_photonscgs_to_ABmagarcsec(10)\n",
    "\n",
    "# Ly alpha feature at redshift z ~ 6.6\n",
    "print getSB_ph(1.*10**-18 *u.erg / u.arcsec**2 / u.cm**2 / u.s, photon_wavelength=1216*10**-10*u.m*(1.+2.))\n",
    "\n",
    "# Martin et al 2014: 1000 ph/cm^2/s/sr ~ 10^-19 erg/cm^2/s/arcsec^2\n",
    "print getSB_ph(1.*10**-19 *u.erg / u.arcsec**2 / u.cm**2 / u.s, photon_wavelength=5000*10**-10*u.m)\n",
    "print getSB_cgs(1400,photon_wavelength=5000*10**-10*u.m)\n",
    "\n",
    "# Fumagalli et al 2017: 1.2*10**-19 *u.erg / u.arcsec**2 / u.cm**2\n",
    "print getSB_ph(1.2*10**-19 *u.erg / u.arcsec**2 / u.cm**2 / u.s,photon_wavelength=656.3e-9*u.m)"
   ]
  },
  {
   "cell_type": "markdown",
   "metadata": {},
   "source": [
    "Conversion between photon/pixel and mag arcsec$^{-2}$ (from Abraham et al. 2014):\n",
    "\n",
    ">The surface brightness in equation (4), S, can be cast into units of\n",
    "magnitude per arcsecsecond squared (mag arcsec$^{-2}$) by noting that\n",
    "$S = F \\times 10^{-0.4\\mu} $\n",
    ", where F is the flux zero point for the\n",
    "filter and $\\mu$ is the mean surface brightness in magnitude units in the bandpass.\n",
    "\n",
    ">In the AB system, the zeroth magnitude calibrator is defined in frequency space as 3631 Jy in all bands, so after conversion back to wavelength space, \n",
    "$F = (3631$ Jy/arcsec$^{2}) \\times c / \\lambda^2$\n",
    ",where $\\lambda$ is the effective wavelength of the filter."
   ]
  },
  {
   "cell_type": "code",
   "execution_count": 4,
   "metadata": {},
   "outputs": [
    {
     "name": "stdout",
     "output_type": "stream",
     "text": [
      "The surface brightness, 21.5 mag/arcsec^2, is: 1.21188031907e+16 Jy / (arcsec2 m s)\n"
     ]
    }
   ],
   "source": [
    "SB_mag = 21.5 #* u.mag / u.arcsec**2\n",
    "F_zp = 3631. * u.Jy / u.arcsec**2\n",
    "eff_wavelen = 475. * 10**-9 * u.m # just by eyeballing the G filter transmission spectrum\n",
    "\n",
    "SB_ph = F_zp * const.c / eff_wavelen**2 * 10**(-0.4*SB_mag)\n",
    "\n",
    "print('The surface brightness, %s mag/arcsec^2, is: %s'%(SB_mag, SB_ph))"
   ]
  },
  {
   "cell_type": "markdown",
   "metadata": {},
   "source": [
    "Just ignore the /arcsec^2 for now since we can basically ignore that."
   ]
  },
  {
   "cell_type": "markdown",
   "metadata": {},
   "source": [
    "### Sky Brightness"
   ]
  },
  {
   "cell_type": "markdown",
   "metadata": {},
   "source": [
    "The sky brightness in g-band is approximately 21.5 mag/arcsec^2.  We are going through a few steps to get this into ph/s so that we can compare it to the sky background calculated for the Halpha filter.\n",
    "\n",
    "Some useful references:\n",
    "- http://classic.sdss.org/dr6/algorithms/fluxcal.html#sdss2ab\n",
    "- https://www.astro.umd.edu/~ssm/ASTR620/mags.html\n",
    "- http://www.stsci.edu/~strolger/docs/UNITS.txt\n",
    "- http://www.astro.caltech.edu/~george/ay20/Ay20-Lec3x.pdf\n",
    "- http://www.astro.caltech.edu/~george/ay122/Bessel2005ARAA43p293.pdf\n",
    "- https://www.gemini.edu/sciops/instruments/midir-resources/imaging-calibrations/fluxmagnitude-conversion\n"
   ]
  },
  {
   "cell_type": "code",
   "execution_count": 26,
   "metadata": {},
   "outputs": [
    {
     "name": "stdout",
     "output_type": "stream",
     "text": [
      "9.12065963281e-06 Jy\n",
      "9.12065963281e-29 erg / cm2\n"
     ]
    }
   ],
   "source": [
    "SB_mag = 21.5 #* u.mag \n",
    "F_zp = 3631. * u.Jy\n",
    "eff_wavelen = 475e-9 * u.m # just by eyeballing the G filter transmission spectrum\n",
    "\n",
    "S_Jy = F_zp * 10**(-0.4*SB_mag)\n",
    "print S_Jy\n",
    "\n",
    "S_erg = S_Jy *(10**-23 * u.erg / (u.s * u.Hz * u.cm**2) / u.Jy )\n",
    "print S_erg"
   ]
  },
  {
   "cell_type": "markdown",
   "metadata": {},
   "source": [
    "\n",
    "\n",
    "$$f = \\int S_\\nu d\\nu \\approx S_\\nu \\Delta\\nu$$\n",
    "\n",
    "$$c = \\nu\\lambda$$\n",
    "\n",
    "$$\\Delta\\nu \\approx -c \\frac{\\Delta\\lambda}{\\lambda^2}$$"
   ]
  },
  {
   "cell_type": "markdown",
   "metadata": {},
   "source": [
    "S_erg_tot_hz is in the units:  erg/ Hz / s / cm^2 \n",
    "\n",
    "On the webpage, the flux density units are: ergs / s / cm^2 / A (where I think that A is Angstroms)\n",
    "\n",
    "That means we need to convert between /Hz and /A.\n",
    "\n",
    "$$\\lambda*f_\\lambda = \\nu*f_\\nu$$\n",
    "so\n",
    "$$f_\\nu = f_\\lambda*(\\lambda/\\nu) = f_\\lambda*\\lambda^2/c$$."
   ]
  },
  {
   "cell_type": "code",
   "execution_count": 47,
   "metadata": {},
   "outputs": [
    {
     "name": "stdout",
     "output_type": "stream",
     "text": [
      "1.9944598338e+14 1 / s\n",
      "All of these are also per arcsec^2 since that is what the base magnitude of the sky, 21.5 mag/arsec^2, is.\n"
     ]
    },
    {
     "data": {
      "text/latex": [
       "$9.1206596 \\times 10^{-29} \\; \\mathrm{\\frac{erg}{cm^{2}}}$"
      ],
      "text/plain": [
       "<Quantity 9.120659632811291e-29 erg / cm2>"
      ]
     },
     "execution_count": 47,
     "metadata": {},
     "output_type": "execute_result"
    }
   ],
   "source": [
    "bandpass_in_lambda = 150e-9 * u.m #, approximate for our g-band. from the dragonfly paper\n",
    "\n",
    "bandpass_in_Hz = bandpass_in_lambda / eff_wavelen**2 * 3e8 *u.m/u.s\n",
    "print bandpass_in_Hz\n",
    "\n",
    "S_erg_hz = S_Jy *(10**-23 * u.erg / (u.Hz* u.s * u.cm**2) / u.Jy ) #* bandpass_in_Hz\n",
    "\n",
    "print \"All of these are also per arcsec^2 since that is what the base magnitude of the sky, 21.5 mag/arsec^2, is.\"\n",
    "S_erg_hz"
   ]
  },
  {
   "cell_type": "code",
   "execution_count": 48,
   "metadata": {},
   "outputs": [
    {
     "data": {
      "text/latex": [
       "$1.2127193 \\times 10^{-17} \\; \\mathrm{\\frac{erg}{m\\,s\\,cm^{2}}}$"
      ],
      "text/plain": [
       "<Quantity 1.2127192863571797e-17 erg / (cm2 m s)>"
      ]
     },
     "execution_count": 48,
     "metadata": {},
     "output_type": "execute_result"
    }
   ],
   "source": [
    "S_erg_A = S_erg_hz * (3e8 *u.m/u.s / eff_wavelen**2) / 10**10\n",
    "S_erg_A"
   ]
  },
  {
   "cell_type": "markdown",
   "metadata": {},
   "source": [
    "So this value is comparable with the ones found on the webpage http://www.stsci.edu/~strolger/docs/UNITS.txt (where they state that a surface brightness of ~21.5 corresponds to about 1.5 x 10^-6 ph/cm^2/s/Angstrom/arcsec^2):"
   ]
  },
  {
   "cell_type": "code",
   "execution_count": 46,
   "metadata": {
    "collapsed": true
   },
   "outputs": [],
   "source": [
    "\"\"\"\n",
    "Typical surface brightnesses:\n",
    "\n",
    "          mag      ph/cm^2/s/A/arcsec^2 W/m^2/Hz/arcsec^2 ergs/s/cm^2/A/arcsec^2\n",
    " -------------------------------------------------------------------------------\n",
    " CTIO  U  22.4             8.3e-07           1.99e-32           4.61e-18\n",
    " CTIO  B  22.9 \n",
    " KPNO  B  23.0             9.2e-07           2.68e-32           4.16e-18\n",
    " HST   B  24.0 NEP         3.7e-07\n",
    " CTIO  V  22.0                               5.75e-32           5.70e-18\n",
    " KPNO  V  21.9             1.7e-06\n",
    " HST   V  23.3 NEP         4.8e-07                              1.73e-18\n",
    " HST   V  22.1 antisolar   1.4e-06\n",
    " CTIO  R  21.2             2.4e-06           1.02e-31           7.46e-18\n",
    " HST   Rc 22.8 NEP         5.6e-07\n",
    " CTIO  I  19.9             5.3e-06           2.81e-31           1.35e-17\n",
    " UKIRT I  18.6\n",
    " HST   Ic 22.4 NEP         5.5e-07\n",
    " UKIRT Z  17.6\n",
    " VLT   Z  18.8 +/- 0.5\n",
    " VISTA Z  18.5             9.0e-06\n",
    " LCO   J  15.9             8.3e-05           7.04e-30           1.35e-16\n",
    " UKIRT J  15.6\n",
    " VLT   J' 16.2 (1.16 - 1.32 micron)\n",
    " LCO   H  14.0             2.3e-04           2.64e-29           2.90e-16\n",
    " UKIRT H  13.6\n",
    " LCO   K  11.8             8.6e-04           1.24e-28           7.68e-16\n",
    " UKIRT K  13.4\n",
    "\"\"\";"
   ]
  },
  {
   "cell_type": "markdown",
   "metadata": {},
   "source": [
    "The next step is to convert it to ph / cm^2 / s / A:\n",
    "\n",
    "$$E = \\frac{hc}{\\lambda}$$"
   ]
  },
  {
   "cell_type": "code",
   "execution_count": 50,
   "metadata": {},
   "outputs": [
    {
     "data": {
      "text/latex": [
       "$4.0066923 \\times 10^{-6} \\; \\mathrm{\\frac{1}{m\\,s\\,cm^{2}}}$"
      ],
      "text/plain": [
       "<Quantity 4.006692326599679e-06 1 / (cm2 m s)>"
      ]
     },
     "execution_count": 50,
     "metadata": {},
     "output_type": "execute_result"
    }
   ],
   "source": [
    "SB_ph_A = S_erg_A * photon_wavelength/(const.h.to('erg s') * const.c.to('m/s'))\n",
    "SB_ph_A"
   ]
  },
  {
   "cell_type": "markdown",
   "metadata": {},
   "source": [
    "SB_ph_A is also consistent with the values in the above table, though is a little bit on the high end (2 - 3 times larger than one might expect, but I think in this rough estimate it is close enough to make me happy!)."
   ]
  },
  {
   "cell_type": "markdown",
   "metadata": {},
   "source": [
    "### Halpha narrow-band sky brightness"
   ]
  },
  {
   "cell_type": "markdown",
   "metadata": {},
   "source": [
    "If we convert that into m from cm and times by the Halpha bandwidth of 3 nm = 30 Angstroms, we get:"
   ]
  },
  {
   "cell_type": "code",
   "execution_count": 59,
   "metadata": {},
   "outputs": [
    {
     "data": {
      "text/latex": [
       "$1.2020077 \\; \\mathrm{\\frac{1}{s\\,m^{2}}}$"
      ],
      "text/plain": [
       "<Quantity 1.2020076979799035 1 / (m2 s)>"
      ]
     },
     "execution_count": 59,
     "metadata": {},
     "output_type": "execute_result"
    }
   ],
   "source": [
    "SB_ph_halpha = SB_ph_A * (100*u.cm)**2/u.m**2 * (30*u.m)\n",
    "SB_ph_halpha"
   ]
  },
  {
   "cell_type": "markdown",
   "metadata": {},
   "source": [
    "The units of SB_ph_halpha are photons / m^2 / s / arcsec^2"
   ]
  },
  {
   "cell_type": "markdown",
   "metadata": {},
   "source": [
    "For my Halpha calculation, I found a background almost identical to this: 1.473626 photon/s/arcsec^2/m^2!"
   ]
  },
  {
   "cell_type": "markdown",
   "metadata": {},
   "source": [
    "### G-band sky brightness"
   ]
  },
  {
   "cell_type": "markdown",
   "metadata": {},
   "source": [
    "For the g-band, instead of multiplying by 30 Angstroms, we should multiply by 1500 Angstroms, which gives us:"
   ]
  },
  {
   "cell_type": "code",
   "execution_count": 57,
   "metadata": {},
   "outputs": [
    {
     "data": {
      "text/latex": [
       "$60.100385 \\; \\mathrm{\\frac{1}{s\\,m^{2}}}$"
      ],
      "text/plain": [
       "<Quantity 60.10038489899517 1 / (m2 s)>"
      ]
     },
     "execution_count": 57,
     "metadata": {},
     "output_type": "execute_result"
    }
   ],
   "source": [
    "SB_ph_A * (100.*u.cm)**2/u.m**2 * (1500.*u.m)"
   ]
  },
  {
   "cell_type": "markdown",
   "metadata": {},
   "source": [
    "So let's try using this as the background in the noise-adding script and then compare it to the counts that we detect in an actual Dragonfly image!"
   ]
  },
  {
   "cell_type": "code",
   "execution_count": null,
   "metadata": {
    "collapsed": true
   },
   "outputs": [],
   "source": []
  }
 ],
 "metadata": {
  "kernelspec": {
   "display_name": "Python 2",
   "language": "python",
   "name": "python2"
  },
  "language_info": {
   "codemirror_mode": {
    "name": "ipython",
    "version": 2
   },
   "file_extension": ".py",
   "mimetype": "text/x-python",
   "name": "python",
   "nbconvert_exporter": "python",
   "pygments_lexer": "ipython2",
   "version": "2.7.12"
  }
 },
 "nbformat": 4,
 "nbformat_minor": 1
}
