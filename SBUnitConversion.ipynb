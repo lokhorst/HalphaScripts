{
 "cells": [
  {
   "cell_type": "markdown",
   "metadata": {},
   "source": [
    "Conversion between photon cm$^{-2}$ s$^{-1}$ sr$^{-1}$ and erg cm$^{-2}$ s$^{-1}$ arcsec$^{-2}$."
   ]
  },
  {
   "cell_type": "code",
   "execution_count": 2,
   "metadata": {
    "collapsed": false
   },
   "outputs": [
    {
     "name": "stdout",
     "output_type": "stream",
     "text": [
      "The surface brightness, 1.4 1 / (cm2 s sr), in cgs units is: 1e-22 erg / (arcsec2 cm2 s)\n"
     ]
    }
   ],
   "source": [
    "from astropy import constants as const\n",
    "from astropy import units as u\n",
    "\n",
    "photon_wavelength = 656.3e-9*u.m\n",
    "\n",
    "SB_cgs = 10**-22 *u.erg / u.arcsec**2 / u.cm**2 / u.s\n",
    "SB_ph = SB_cgs * photon_wavelength/(const.h.to('erg s') * const.c.to('m/s')) * (206265.*u.arcsec)**2/u.sr\n",
    "\n",
    "print('The surface brightness, %s, in cgs units is: %s'%(SB_ph.round(1),SB_cgs))"
   ]
  },
  {
   "cell_type": "markdown",
   "metadata": {},
   "source": [
    "Conversion between photon/pixel and mag arcsec$^{-2}$ (from Abraham et al. 2014):\n",
    "\n",
    ">The surface brightness in equation (4), S, can be cast into units of\n",
    "magnitude per arcsecsecond squared (mag arcsec$^{-2}$) by noting that\n",
    "$S = F \\times 10^{-0.4\\mu} $\n",
    ", where F is the flux zero point for the\n",
    "filter and $\\mu$ is the mean surface brightness in magnitude units in the bandpass.\n",
    "\n",
    ">In the AB system, the zeroth magnitude calibrator is defined in frequency space as 3631 Jy in all bands, so after conversion back to wavelength space, \n",
    "$F = (3631$ Jy/arcsec$^{2}) \\times c / \\lambda^2$\n",
    ",where $\\lambda$ is the effective wavelength of the filter."
   ]
  },
  {
   "cell_type": "code",
   "execution_count": 4,
   "metadata": {
    "collapsed": false
   },
   "outputs": [
    {
     "name": "stdout",
     "output_type": "stream",
     "text": [
      "The surface brightness, 21.5 mag/arcsec^2, is: 1.21188031907e+16 Jy / (arcsec2 m s)\n"
     ]
    }
   ],
   "source": [
    "SB_mag = 21.5 #* u.mag / u.arcsec**2\n",
    "F_zp = 3631. * u.Jy / u.arcsec**2\n",
    "eff_wavelen = 475. * 10**-9 * u.m # just by eyeballing the G filter transmission spectrum\n",
    "\n",
    "SB_ph = F_zp * const.c / eff_wavelen**2 * 10**(-0.4*SB_mag)\n",
    "\n",
    "print('The surface brightness, %s mag/arcsec^2, is: %s'%(SB_mag, SB_ph))"
   ]
  },
  {
   "cell_type": "markdown",
   "metadata": {},
   "source": [
    "Just ignore the /arcsec^2 for now since we can basically ignore that."
   ]
  },
  {
   "cell_type": "markdown",
   "metadata": {},
   "source": [
    "### Sky Brightness"
   ]
  },
  {
   "cell_type": "markdown",
   "metadata": {},
   "source": [
    "The sky brightness in g-band is approximately 21.5 mag/arcsec^2.  We are going through a few steps to get this into ph/s so that we can compare it to the sky background calculated for the Halpha filter."
   ]
  },
  {
   "cell_type": "code",
   "execution_count": 26,
   "metadata": {
    "collapsed": false
   },
   "outputs": [
    {
     "name": "stdout",
     "output_type": "stream",
     "text": [
      "9.12065963281e-06 Jy\n",
      "9.12065963281e-29 erg / cm2\n"
     ]
    }
   ],
   "source": [
    "SB_mag = 21.5 #* u.mag \n",
    "F_zp = 3631. * u.Jy\n",
    "eff_wavelen = 475e-9 * u.m # just by eyeballing the G filter transmission spectrum\n",
    "\n",
    "S_Jy = F_zp * 10**(-0.4*SB_mag)\n",
    "print S_Jy\n",
    "\n",
    "S_erg = S_Jy *(10**-23 * u.erg / (u.s * u.Hz * u.cm**2) / u.Jy )\n",
    "print S_erg"
   ]
  },
  {
   "cell_type": "markdown",
   "metadata": {},
   "source": [
    "\n",
    "\n",
    "$$f = \\int S_\\nu d\\nu \\approx S_\\nu \\Delta\\nu$$\n",
    "\n",
    "$$c = \\nu\\lambda$$\n",
    "\n",
    "$$\\Delta\\nu \\approx -c \\frac{\\Delta\\lambda}{\\lambda^2}$$"
   ]
  },
  {
   "cell_type": "code",
   "execution_count": 35,
   "metadata": {
    "collapsed": false
   },
   "outputs": [
    {
     "name": "stdout",
     "output_type": "stream",
     "text": [
      "1.9944598338e+14 1 / s\n",
      "All of these are also per arcsec^2 since that is what the base magnitude of the sky, 21.5 mag/arsec^2, is.\n"
     ]
    },
    {
     "data": {
      "text/latex": [
       "$1.8190789 \\times 10^{-14} \\; \\mathrm{\\frac{erg}{Hz\\,cm^{2}\\,s^{2}}}$"
      ],
      "text/plain": [
       "<Quantity 1.8190789295357698e-14 erg / (cm2 Hz s2)>"
      ]
     },
     "execution_count": 35,
     "metadata": {},
     "output_type": "execute_result"
    }
   ],
   "source": [
    "bandpass_in_lambda = 150e-9 * u.m #, approximate for our g-band. from the dragonfly paper\n",
    "\n",
    "bandpass_in_Hz = bandpass_in_lambda / eff_wavelen**2 * 3e8 *u.m/u.s\n",
    "print bandpass_in_Hz\n",
    "\n",
    "S_erg_tot = S_Jy *(10**-23 * u.erg / (u.s * u.cm**2) / u.Jy ) * bandpass_in_Hz / u.Hz\n",
    "\n",
    "print \"All of these are also per arcsec^2 since that is what the base magnitude of the sky, 21.5 mag/arsec^2, is.\"\n",
    "S_erg_tot"
   ]
  },
  {
   "cell_type": "markdown",
   "metadata": {},
   "source": [
    "If we divide this by the bandpass, we can compare with some values given in http://www.stsci.edu/~strolger/docs/UNITS.txt, for other bands/telescopes."
   ]
  },
  {
   "cell_type": "code",
   "execution_count": 39,
   "metadata": {
    "collapsed": false
   },
   "outputs": [
    {
     "data": {
      "text/latex": [
       "$1.2127193 \\times 10^{-7} \\; \\mathrm{\\frac{erg}{Hz\\,cm^{2}\\,s^{2}}}$"
      ],
      "text/plain": [
       "<Quantity 1.2127192863571798e-07 erg / (cm2 Hz s2)>"
      ]
     },
     "execution_count": 39,
     "metadata": {},
     "output_type": "execute_result"
    }
   ],
   "source": [
    "bandpass_in_anstroms = 1500e-10\n",
    "\n",
    "S_erg_tot/bandpass_in_anstroms"
   ]
  },
  {
   "cell_type": "markdown",
   "metadata": {},
   "source": [
    "### From http://www.stsci.edu/~strolger/docs/UNITS.txt\n",
    "\n",
    "We have that a surface brightness of ~21.5 corresponds to about 1.5 x 10^-6 ph/cm^2/s/Angstrom/arcsec^2 (at least I think that A means Angstrom).  If we convert that into m from cm and times by the Halpha bandwidth of 3 nm = 30 Angstroms, we get:"
   ]
  },
  {
   "cell_type": "code",
   "execution_count": 38,
   "metadata": {
    "collapsed": false
   },
   "outputs": [
    {
     "data": {
      "text/plain": [
       "0.45"
      ]
     },
     "execution_count": 38,
     "metadata": {},
     "output_type": "execute_result"
    }
   ],
   "source": [
    "1.5e-6 * (100)**2 *30"
   ]
  },
  {
   "cell_type": "code",
   "execution_count": null,
   "metadata": {
    "collapsed": true
   },
   "outputs": [],
   "source": []
  }
 ],
 "metadata": {
  "kernelspec": {
   "display_name": "Python 2",
   "language": "python",
   "name": "python2"
  },
  "language_info": {
   "codemirror_mode": {
    "name": "ipython",
    "version": 2
   },
   "file_extension": ".py",
   "mimetype": "text/x-python",
   "name": "python",
   "nbconvert_exporter": "python",
   "pygments_lexer": "ipython2",
   "version": "2.7.13"
  }
 },
 "nbformat": 4,
 "nbformat_minor": 1
}
