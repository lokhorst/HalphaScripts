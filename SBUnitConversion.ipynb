{
 "cells": [
  {
   "cell_type": "markdown",
   "metadata": {},
   "source": [
    "Conversion between photon cm$^{-2}$ s$^{-1}$ sr$^{-1}$ and erg cm$^{-2}$ s$^{-1}$ arcsec$^{-2}$."
   ]
  },
  {
   "cell_type": "code",
   "execution_count": 12,
   "metadata": {},
   "outputs": [
    {
     "name": "stdout",
     "output_type": "stream",
     "text": [
      "The surface brightness, 1.4 1 / (cm2 s sr), in cgs units is: 1e-22 erg / (arcsec2 cm2 s)\n"
     ]
    }
   ],
   "source": [
    "## code snippet to change SB units ##\n",
    "from astropy import constants as const\n",
    "from astropy import units as u\n",
    "\n",
    "photon_wavelength = 656.3e-9*u.m\n",
    "\n",
    "SB_cgs = 10**-22 *u.erg / u.arcsec**2 / u.cm**2 / u.s\n",
    "SB_ph = SB_cgs * photon_wavelength/(const.h.to('erg s') * const.c.to('m/s')) * (206265.*u.arcsec)**2/u.sr\n",
    "\n",
    "print('The surface brightness, %s, in cgs units is: %s'%(SB_ph.round(1),SB_cgs))"
   ]
  },
  {
   "cell_type": "markdown",
   "metadata": {},
   "source": [
    "Conversion between photon/pixel and mag arcsec$^{-2}$ (from Abraham et al. 2014):\n",
    "\n",
    "The surface brightness in equation (4), S, can be cast into units of\n",
    "magnitude per arcsecsecond squared (mag arcsec$^{-2}$) by noting that\n",
    "$S = F \\times 10^{-0.4\\mu} $\n",
    ", where F is the flux zero point for the\n",
    "filter and $\\mu$ is the mean surface brightness in magnitude units in the bandpass.\n",
    "\n",
    "In the AB system, the zeroth magnitude calibrator is defined in frequency space as 3631 Jy in all bands, so after conversion back to wavelength space, \n",
    "$F = (3631$ Jy/arcsec$^{2}) \\times c / \\lambda^2$\n",
    ",where $\\lambda$ is the effective wavelength of the filter."
   ]
  },
  {
   "cell_type": "code",
   "execution_count": null,
   "metadata": {
    "collapsed": true
   },
   "outputs": [],
   "source": []
  }
 ],
 "metadata": {
  "kernelspec": {
   "display_name": "Python 2",
   "language": "python",
   "name": "python2"
  },
  "language_info": {
   "codemirror_mode": {
    "name": "ipython",
    "version": 2
   },
   "file_extension": ".py",
   "mimetype": "text/x-python",
   "name": "python",
   "nbconvert_exporter": "python",
   "pygments_lexer": "ipython2",
   "version": "2.7.12"
  }
 },
 "nbformat": 4,
 "nbformat_minor": 1
}
