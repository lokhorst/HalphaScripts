{
 "cells": [
  {
   "cell_type": "markdown",
   "metadata": {},
   "source": [
    "Conversion between photon cm$^{-2}$ s$^{-1}$ sr$^{-1}$ and erg cm$^{-2}$ s$^{-1}$ arcsec$^{-2}$."
   ]
  },
  {
   "cell_type": "code",
   "execution_count": 2,
   "metadata": {},
   "outputs": [
    {
     "name": "stdout",
     "output_type": "stream",
     "text": [
      "The surface brightness, 1.4 1 / (cm2 s sr), in cgs units is: 1e-22 erg / (arcsec2 cm2 s)\n"
     ]
    }
   ],
   "source": [
    "from astropy import constants as const\n",
    "from astropy import units as u\n",
    "\n",
    "photon_wavelength = 656.3e-9*u.m\n",
    "\n",
    "SB_cgs = 10**-22 *u.erg / u.arcsec**2 / u.cm**2 / u.s\n",
    "SB_ph = SB_cgs * photon_wavelength/(const.h.to('erg s') * const.c.to('m/s')) * (206265.*u.arcsec)**2/u.sr\n",
    "\n",
    "print('The surface brightness, %s, in cgs units is: %s'%(SB_ph.round(1),SB_cgs))"
   ]
  },
  {
   "cell_type": "markdown",
   "metadata": {},
   "source": [
    "Conversion between photon/pixel and mag arcsec$^{-2}$ (from Abraham et al. 2014):\n",
    "\n",
    ">The surface brightness in equation (4), S, can be cast into units of\n",
    "magnitude per arcsecsecond squared (mag arcsec$^{-2}$) by noting that\n",
    "$S = F \\times 10^{-0.4\\mu} $\n",
    ", where F is the flux zero point for the\n",
    "filter and $\\mu$ is the mean surface brightness in magnitude units in the bandpass.\n",
    "\n",
    ">In the AB system, the zeroth magnitude calibrator is defined in frequency space as 3631 Jy in all bands, so after conversion back to wavelength space, \n",
    "$F = (3631$ Jy/arcsec$^{2}) \\times c / \\lambda^2$\n",
    ",where $\\lambda$ is the effective wavelength of the filter."
   ]
  },
  {
   "cell_type": "code",
   "execution_count": 7,
   "metadata": {},
   "outputs": [
    {
     "name": "stdout",
     "output_type": "stream",
     "text": [
      "The surface brightness, 21.5 mag/arcsec^2, is: 1.21188031907e+16 Jy / (arcsec2 m s)\n"
     ]
    }
   ],
   "source": [
    "SB_mag = 21.5 #* u.mag / u.arcsec**2\n",
    "F_zp = 3631. * u.Jy / u.arcsec**2\n",
    "eff_wavelen = 475. * 10**-9 * u.m # just by eyeballing the G filter transmission spectrum\n",
    "SB_ph = F_zp * const.c / eff_wavelen**2 * 10**(-0.4*SB_mag)\n",
    "\n",
    "print('The surface brightness, %s mag/arcsec^2, is: %s'%(SB_mag, SB_ph))"
   ]
  },
  {
   "cell_type": "code",
   "execution_count": null,
   "metadata": {
    "collapsed": true
   },
   "outputs": [],
   "source": []
  }
 ],
 "metadata": {
  "kernelspec": {
   "display_name": "Python 2",
   "language": "python",
   "name": "python2"
  },
  "language_info": {
   "codemirror_mode": {
    "name": "ipython",
    "version": 2
   },
   "file_extension": ".py",
   "mimetype": "text/x-python",
   "name": "python",
   "nbconvert_exporter": "python",
   "pygments_lexer": "ipython2",
   "version": "2.7.12"
  }
 },
 "nbformat": 4,
 "nbformat_minor": 1
}
