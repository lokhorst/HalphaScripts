{
 "cells": [
  {
   "cell_type": "code",
   "execution_count": 12,
   "metadata": {
    "collapsed": false
   },
   "outputs": [
    {
     "name": "stdout",
     "output_type": "stream",
     "text": [
      "The surface brightness, 1.4 1 / (cm2 s sr), in cgs units is: 1e-22 erg / (arcsec2 cm2 s)\n"
     ]
    }
   ],
   "source": [
    "## code snippet to change SB units ##\n",
    "from astropy import constants as const\n",
    "from astropy import units as u\n",
    "\n",
    "photon_wavelength = 656.3e-9*u.m\n",
    "\n",
    "SB_cgs = 10**-22 *u.erg / u.arcsec**2 / u.cm**2 / u.s\n",
    "SB_ph = SB_cgs * photon_wavelength/(const.h.to('erg s') * const.c.to('m/s')) * (206265.*u.arcsec)**2/u.sr\n",
    "\n",
    "print('The surface brightness, %s, in cgs units is: %s'%(SB_ph.round(1),SB_cgs))"
   ]
  },
  {
   "cell_type": "code",
   "execution_count": null,
   "metadata": {
    "collapsed": false
   },
   "outputs": [],
   "source": []
  },
  {
   "cell_type": "code",
   "execution_count": null,
   "metadata": {
    "collapsed": true
   },
   "outputs": [],
   "source": []
  }
 ],
 "metadata": {
  "kernelspec": {
   "display_name": "Python 2",
   "language": "python",
   "name": "python2"
  },
  "language_info": {
   "codemirror_mode": {
    "name": "ipython",
    "version": 2
   },
   "file_extension": ".py",
   "mimetype": "text/x-python",
   "name": "python",
   "nbconvert_exporter": "python",
   "pygments_lexer": "ipython2",
   "version": "2.7.12"
  }
 },
 "nbformat": 4,
 "nbformat_minor": 0
}
