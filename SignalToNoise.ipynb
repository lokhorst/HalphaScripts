{
 "cells": [
  {
   "cell_type": "markdown",
   "metadata": {},
   "source": [
    "#Signal to Noise Calculations\n",
    "\n",
    "The SNR is calculated following the equation (see, e.g., pg 407 of \"Spectroscopic Instrumentation\" by Eversberg and Vollmann): \n",
    "\n",
    "$SNR = \\frac{I t}{\\sqrt{I t + B t + D t + R^2}}$, \n",
    "\n",
    "where I is the signal over some number of pixels, B is the sky background over some number of pixels, D is the dark current over some number of pixels and R is the readout noise of the detector.  The exposure time, t, is usually given in seconds."
   ]
  },
  {
   "cell_type": "markdown",
   "metadata": {},
   "source": [
    "###Dragonfly instrumentation data\n",
    "Listing some values gathered from the Dragonfly Telephoto Instrumentation paper (Abraham and van Dokkum 2014), as well as sky background from the Gemini Sky Observatory (www.gemini.edu).\n",
    "\n",
    "Some typical values I've used for the number of pixels to bin over:\n",
    "- $numpixels = [(2*60*2*60)/(pixsize**2)]$ for HI clouds & for back of the envelope calculation (used by Donahue et al 1995)\n",
    "- $numpixels = np.array([(100.*100.)/(pixsize**2),(10.*10.)/(pixsize**2),1.])$ for IGM filaments (from Bertone et al 2010, Fig2)\n",
    "- $numpixels = [7405.]$ for azithumally averaged galaxy, at radius 80kpc, distance 50 Mpc\n",
    "- $numpixels = [3700.]$ for azithumally averaged galaxy, at radius 80kpc, distance 100 Mpc\n",
    "- $numpixels = [1.]$ for H alpha testing fields -Cygnus loop\n"
   ]
  },
  {
   "cell_type": "code",
   "execution_count": 2,
   "metadata": {},
   "outputs": [
    {
     "name": "stderr",
     "output_type": "stream",
     "text": [
      "//anaconda/lib/python2.7/site-packages/matplotlib/font_manager.py:273: UserWarning: Matplotlib is building the font cache using fc-list. This may take a moment.\n",
      "  warnings.warn('Matplotlib is building the font cache using fc-list. This may take a moment.')\n"
     ]
    }
   ],
   "source": [
    "%matplotlib inline\n",
    "\n",
    "import numpy as np\n",
    "import matplotlib.pyplot as plt\n",
    "from astropy import constants as const\n",
    "from astropy import units as u"
   ]
  },
  {
   "cell_type": "code",
   "execution_count": 3,
   "metadata": {
    "collapsed": true
   },
   "outputs": [],
   "source": [
    "def Dragonfly():\n",
    "    area_lens = np.pi*(14.3/2)**2 * 48. * u.cm**2               # 48 * 14.3 cm diameter lenses\n",
    "    pix_size = 2.8                                              # arcsec\n",
    "    ang_size_pixel  = (pix_size * (1./206265.))**2 * u.rad**2   # rad^2, the pixel size of the CCD\n",
    "\n",
    "    tau_l = 0.85  # transmittance of the Dragonfly lens\n",
    "    QE = 0.48     # quantum efficiency of the CCDs\n",
    "    tau_f = 1.    # transmittance of the Halpha filter -- assumed for now\n",
    "\n",
    "    # The following are per pixel\n",
    "    B = 0.52135 *u.photon/u.second/u.nm/u.arcsec**2/u.m**2  # sky background at 565.6 nm \n",
    "    D = 0.04 *u.photon/u.second                             # dark current (electrons / s) -- PER PIXEL??\n",
    "    R_squared = 10.**2 * u.photon                           # read noise (electrons)\n",
    "\n",
    "    return [area_lens, ang_size_pixel, pix_size, tau_l, tau_f, QE, B, D, R_squared]\n",
    "\n"
   ]
  },
  {
   "cell_type": "markdown",
   "metadata": {},
   "source": [
    "### Haloes of galaxies\n",
    "In this section, I'll put together the basic calculation I've been doing to determine the signal-to-noise ratio for observations of H$\\alpha$ emission from the haloes of galaxies.\n",
    "\n",
    "I'll restate from above:\n",
    "- $numpixels = [7405.]$ for azithumally averaged galaxy, at radius 80kpc, distance 50 Mpc\n",
    "- $numpixels = [3700.]$ for azithumally averaged galaxy, at radius 80kpc, distance 100 Mpc\n"
   ]
  },
  {
   "cell_type": "code",
   "execution_count": 11,
   "metadata": {},
   "outputs": [
    {
     "name": "stdout",
     "output_type": "stream",
     "text": [
      "[<Quantity 7709.091380790922 cm2>, <Quantity 1.8427438923353984e-10 rad2>, 2.8, 0.85, 1.0, 0.48, <Quantity 0.52135 ph / (arcsec2 m2 nm s)>, <Quantity 0.04 ph / s>, <Quantity 100.0 ph>]\n",
      "Surface brightness: 280.0 ph / (cm2 rad2 s)\n"
     ]
    }
   ],
   "source": [
    "# pick numpixels:\n",
    "numpixel = 3700.\n",
    "\n",
    "[area_lens, ang_size_pixel, pix_size, tau_l, tau_f, QE, B, D, R_squared] = Dragonfly()\n",
    "\n",
    "print([area_lens, ang_size_pixel, pix_size, tau_l, tau_f, QE, B, D, R_squared])\n",
    "wavelen = 656.3e-9 * u.m\n",
    "\n",
    "### SB of extended halos\n",
    "SB_ph_upper = 2245.38 * u.photon / (u.cm**2 * u.rad**2 * u.second) # threshold from Steidel et al 2011 plus long translations\n",
    "SB_ph_lower = 559.60 * u.photon / (u.cm**2 * u.rad**2 * u.second)  # from van de Voort & Schaye 2013 (high mass out to 100 kpc)\n",
    "SB_ph_evenlower = 280. * u.photon / (u.cm**2 * u.rad**2 * u.second)  # from van de Voort & Schaye 2013 (medium mass out to 50 kpc)\n",
    "SB_ph_abslowest = 140. * u.photon / (u.cm**2 * u.rad**2 * u.second)  # from van de Voort & Schaye 2013 (medium mass out to 80 kpc)\n",
    "\n",
    "print('Surface brightness: '+str(SB_ph_evenlower))"
   ]
  },
  {
   "cell_type": "code",
   "execution_count": 16,
   "metadata": {},
   "outputs": [
    {
     "name": "stdout",
     "output_type": "stream",
     "text": [
      "Halpha Signal: 0.00130142212931 ph / s\n",
      "Background Sky: 3.85681880622 ph / s\n",
      "Halpha Signal: 0.000324344130421 ph / s\n",
      "Background Sky: 3.85681880622 ph / s\n",
      "Halpha Signal: 0.0001622879852 ph / s\n",
      "Background Sky: 3.85681880622 ph / s\n",
      "Halpha Signal: 8.11439925999e-05 ph / s\n",
      "Background Sky: 3.85681880622 ph / s\n"
     ]
    },
    {
     "data": {
      "image/png": "[encoded data removed]",
      "text/plain": [
       "<matplotlib.figure.Figure at 0x10f6a5d10>"
      ]
     },
     "metadata": {},
     "output_type": "display_data"
    }
   ],
   "source": [
    "# pick how long to calculate SNR over\n",
    "time = np.arange(1,60.*60.*1000000.,1000)* u.second\n",
    "time = np.arange(1,60.*60.*280.)* u.second\n",
    "limit = time[-1]/u.second\n",
    "\n",
    "for SB_ph in [SB_ph_upper, SB_ph_lower, SB_ph_evenlower, SB_ph_abslowest]:\n",
    "    ## Signal\n",
    "    S = SB_ph * QE * tau_l * tau_f * area_lens * ang_size_pixel\n",
    "    signal = S*time*numpixel\n",
    "    ## Noise\n",
    "    B_tot = B * QE * tau_l * tau_f * 3.*u.nm * area_lens.to(u.m**2) * ang_size_pixel.to(u.arcsec**2)\n",
    "    sigma = np.sqrt(signal + B_tot*time*numpixel + D*time*numpixel + R_squared*numpixel)\n",
    "\n",
    "    # Note that the signal is about an eighth the strength of the background sky signal: IS THIS TRUE HERE?\n",
    "    print('Halpha Signal: '+str(S))\n",
    "    print('Background Sky: ' +str(B_tot))\n",
    "\n",
    "    plt.plot(time/3600., signal/sigma, label=str(SB_ph))#,label= 'num pixels '+str(round(numpixel)))\n",
    "\n",
    "plt.plot([0,limit/3600.],[5,5],'k--')   \n",
    "plt.title(r'H$\\alpha$ Halo Emission')\n",
    "plt.legend(title='Surface Brightness:')\n",
    "plt.xlim(0,limit/3600.)\n",
    "plt.ylim(0,10)\n",
    "plt.xlabel('time (hours)')\n",
    "plt.ylabel('SNR')\n",
    "\n",
    "plt.plot([4.,4.],[0,10],'k--')  # ~4 hour ~250min\n",
    "plt.plot([70,70],[0,10],'k--')  # ~70 hour ~4200min\n",
    "\n",
    "\n",
    "plt.savefig('HalphaHaloEmission.pdf')\n"
   ]
  },
  {
   "cell_type": "code",
   "execution_count": 53,
   "metadata": {},
   "outputs": [
    {
     "data": {
      "text/plain": [
       "4200"
      ]
     },
     "execution_count": 53,
     "metadata": {},
     "output_type": "execute_result"
    }
   ],
   "source": [
    "70*60\n"
   ]
  },
  {
   "cell_type": "code",
   "execution_count": null,
   "metadata": {
    "collapsed": true
   },
   "outputs": [],
   "source": []
  }
 ],
 "metadata": {
  "kernelspec": {
   "display_name": "Python 2",
   "language": "python",
   "name": "python2"
  },
  "language_info": {
   "codemirror_mode": {
    "name": "ipython",
    "version": 2
   },
   "file_extension": ".py",
   "mimetype": "text/x-python",
   "name": "python",
   "nbconvert_exporter": "python",
   "pygments_lexer": "ipython2",
   "version": "2.7.12"
  }
 },
 "nbformat": 4,
 "nbformat_minor": 1
}
