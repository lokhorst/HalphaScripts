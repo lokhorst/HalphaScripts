{
 "cells": [
  {
   "cell_type": "code",
   "execution_count": 19,
   "metadata": {},
   "outputs": [],
   "source": [
    "import numpy as np\n",
    "import matplotlib.pyplot as plt\n",
    "from astroplan import Observer\n",
    "from astropy.coordinates import EarthLocation,SkyCoord\n",
    "from astropy.time import Time\n",
    "import astropy.units as u"
   ]
  },
  {
   "cell_type": "code",
   "execution_count": 20,
   "metadata": {},
   "outputs": [],
   "source": [
    "location = EarthLocation.from_geodetic( -105.529894*u.deg,32.902731*u.deg,2224.644*u.m)\n",
    "NMskies = Observer(location=location,name='NMskies')"
   ]
  },
  {
   "cell_type": "code",
   "execution_count": 32,
   "metadata": {},
   "outputs": [],
   "source": [
    "# what to look at\n",
    "coordinates = SkyCoord(ra=22.*u.hour,dec=50.*u.degree)  # random for now (coords of mercury tonight)\n",
    "\n",
    "# some initial time (when would start observations)\n",
    "time = Time(\"2016-08-15 04:00:00\")\n",
    "\n",
    "rise_time = NMskies.target_rise_time(time,coordinates,which=\"next\")\n",
    "set_time = NMskies.target_set_time(time,coordinates,which=\"next\")"
   ]
  },
  {
   "cell_type": "code",
   "execution_count": 33,
   "metadata": {},
   "outputs": [
    {
     "name": "stdout",
     "output_type": "stream",
     "text": [
      "ISO: 2016-08-15 22:01:13.127, JD: 2457616.41751\n",
      "ISO: 2016-08-15 16:47:22.391, JD: 2457616.19956\n"
     ]
    }
   ],
   "source": [
    "print(\"ISO: {0.iso}, JD: {0.jd}\".format(rise_time))\n",
    "print(\"ISO: {0.iso}, JD: {0.jd}\".format(set_time))"
   ]
  },
  {
   "cell_type": "code",
   "execution_count": null,
   "metadata": {
    "collapsed": true
   },
   "outputs": [],
   "source": [
    "# NM is on MT, which is 6 hours behind UTC"
   ]
  }
 ],
 "metadata": {
  "kernelspec": {
   "display_name": "Python 2",
   "language": "python",
   "name": "python2"
  },
  "language_info": {
   "codemirror_mode": {
    "name": "ipython",
    "version": 2
   },
   "file_extension": ".py",
   "mimetype": "text/x-python",
   "name": "python",
   "nbconvert_exporter": "python",
   "pygments_lexer": "ipython2",
   "version": "2.7.12"
  }
 },
 "nbformat": 4,
 "nbformat_minor": 1
}
