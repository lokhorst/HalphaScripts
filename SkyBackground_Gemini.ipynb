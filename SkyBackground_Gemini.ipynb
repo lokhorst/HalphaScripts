{
 "cells": [
  {
   "cell_type": "markdown",
   "metadata": {},
   "source": [
    "Gemini Sky Background data  \n",
    "(http://www.gemini.edu/sciops/ObsProcess/obsConstraints/atm-models/skybg_50_10.dat)\n",
    "\n",
    "sky background 0.3-1.0um\n",
    "\n",
    "DARK optical sky - 50%ile conditions (day 7)\n",
    "\n",
    "AM=1.0\n",
    "\n",
    "derived from (reverse engineered ESO model) sky spectrum plus constant slope to match assumed photometric background (from von Hippel model."
   ]
  },
  {
   "cell_type": "code",
   "execution_count": 1,
   "metadata": {
    "collapsed": false
   },
   "outputs": [
    {
     "name": "stderr",
     "output_type": "stream",
     "text": [
      "//anaconda/lib/python2.7/site-packages/matplotlib/font_manager.py:273: UserWarning: Matplotlib is building the font cache using fc-list. This may take a moment.\n",
      "  warnings.warn('Matplotlib is building the font cache using fc-list. This may take a moment.')\n"
     ]
    }
   ],
   "source": [
    "%matplotlib inline\n",
    "\n",
    "import numpy as np\n",
    "import matplotlib.pyplot as plt\n",
    "from astropy import constants as const\n",
    "from astropy import units as u"
   ]
  },
  {
   "cell_type": "code",
   "execution_count": 2,
   "metadata": {
    "collapsed": true
   },
   "outputs": [],
   "source": [
    "def getBackground(start,end):\n",
    "    wavelength = []\n",
    "    flux = []\n",
    "    with open('/Users/deblokhorst/Documents/Dragonfly/DragonflyHalpha/Notebooks/Gemini_skybackground.dat','r') as f:\n",
    "        for line in f:\n",
    "            if line[0]!='#' and len(line)>5:\n",
    "                tmp = line.split()\n",
    "                wavelength.append(tmp[0])\n",
    "                flux.append(tmp[1])\n",
    "                \n",
    "    wavelength = np.array(wavelength,'d')\n",
    "    flux = np.array(flux,'d')\n",
    "    \n",
    "    start_ind = (np.abs(wavelength-start)).argmin()\n",
    "    end_ind   = (np.abs(wavelength-end)).argmin()\n",
    "    \n",
    "    # since spacings are even, can just take the average of the flux array and times it by the total bandwidth\n",
    "    # return np.mean(flux[start_ind:end_ind])*(wavelength[end_ind]-wavelength[start_ind])    \n",
    "    return wavelength[start_ind:end_ind],flux[start_ind:end_ind]"
   ]
  },
  {
   "cell_type": "code",
   "execution_count": 3,
   "metadata": {
    "collapsed": true
   },
   "outputs": [],
   "source": [
    "def getBackgroundMean(start,end):\n",
    "    wavelength = []\n",
    "    flux = []\n",
    "    with open('/Users/deblokhorst/Documents/Dragonfly/DragonflyHalpha/Notebooks/Gemini_skybackground.dat','r') as f:\n",
    "        for line in f:\n",
    "            if line[0]!='#' and len(line)>5:\n",
    "                tmp = line.split()\n",
    "                wavelength.append(tmp[0])\n",
    "                flux.append(tmp[1])\n",
    "                \n",
    "    wavelength = np.array(wavelength,'d')\n",
    "    flux = np.array(flux,'d')\n",
    "    \n",
    "    start_ind = (np.abs(wavelength-start)).argmin()\n",
    "    end_ind   = (np.abs(wavelength-end)).argmin()\n",
    "    \n",
    "    total=0\n",
    "    for index in np.arange(start_ind,end_ind):\n",
    "        total = total + (flux[index]*(wavelength[index+1]-wavelength[index]))\n",
    "    \n",
    "    return total /(wavelength[end_ind]-wavelength[start_ind])"
   ]
  },
  {
   "cell_type": "code",
   "execution_count": 4,
   "metadata": {
    "collapsed": false
   },
   "outputs": [
    {
     "data": {
      "text/plain": [
       "<matplotlib.text.Text at 0x10c88db90>"
      ]
     },
     "execution_count": 4,
     "metadata": {},
     "output_type": "execute_result"
    },
    {
     "data": {
      "image/png": "[encoded data removed]",
      "text/plain": [
       "<matplotlib.figure.Figure at 0x10c883c10>"
      ]
     },
     "metadata": {},
     "output_type": "display_data"
    }
   ],
   "source": [
    "wavelength,flux=getBackground(600.,900.)\n",
    "meanat700 = getBackgroundMean(690.,710.)\n",
    "meanat850 = getBackgroundMean(840.,860.)\n",
    "\n",
    "fig = plt.figure(figsize=(15.,5.))\n",
    "plt.plot(wavelength, flux)\n",
    "plt.plot(700,meanat700,'ro')\n",
    "plt.plot(850,meanat850,'ro')\n",
    "plt.ylabel(r'Flux [photon s$^{-1}$ nm$^{-1}$ arcsec$^{-2}$ m$^{-2}$]')\n",
    "plt.xlabel('wavelength (nm)')"
   ]
  },
  {
   "cell_type": "markdown",
   "metadata": {},
   "source": [
    "Want to compare the UVES and Gemini sky spectra.  To do this need to convert to the same units:  photon / s / cm^2 / arcsec^2 / nm."
   ]
  },
  {
   "cell_type": "markdown",
   "metadata": {},
   "source": [
    "Gemini is in: photon / s / **m^2** / arcsec^2 / nm\n",
    "\n",
    "UVES is in: 1e-16 erg / s / cm^2 / arcsec^2 / **Angstrom**"
   ]
  },
  {
   "cell_type": "code",
   "execution_count": null,
   "metadata": {
    "collapsed": true
   },
   "outputs": [],
   "source": []
  }
 ],
 "metadata": {
  "kernelspec": {
   "display_name": "Python 2",
   "language": "python",
   "name": "python2"
  },
  "language_info": {
   "codemirror_mode": {
    "name": "ipython",
    "version": 2
   },
   "file_extension": ".py",
   "mimetype": "text/x-python",
   "name": "python",
   "nbconvert_exporter": "python",
   "pygments_lexer": "ipython2",
   "version": "2.7.13"
  }
 },
 "nbformat": 4,
 "nbformat_minor": 1
}
