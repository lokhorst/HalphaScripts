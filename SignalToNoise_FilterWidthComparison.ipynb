{
 "cells": [
  {
   "cell_type": "markdown",
   "metadata": {},
   "source": [
    "## Towards the comparison of the signal-to-noise achieved with different filter widths\n",
    "\n",
    "## Signal-to-noise calculations\n",
    "\n",
    "As a function of exposure time, what is the signal-to-noise for the different filter widths?\n",
    "\n",
    "How does that change when the CWL of the filters changes?\n",
    "\n",
    "What is the benefit of the narrow bandwidth filters over larger bandwidth?\n",
    "\n",
    "\n",
    "### Some background\n",
    "\n",
    "The SNR is calculated following the equation (see, e.g., pg 407 of \"Spectroscopic Instrumentation\" by Eversberg and Vollmann): \n",
    "\n",
    "$SNR = \\frac{I t}{\\sqrt{I t + B t + D t + R^2}}$, \n",
    "\n",
    "where I is the signal over some number of pixels, B is the sky background over some number of pixels, D is the dark current over some number of pixels and R is the readout noise of the detector.  The exposure time, t, is usually given in seconds."
   ]
  },
  {
   "cell_type": "code",
   "execution_count": 4,
   "metadata": {
    "collapsed": true
   },
   "outputs": [],
   "source": [
    "def Dragonfly():\n",
    "    number_of_lenses = 48.\n",
    "    area_lens = np.pi*(14.3/2)**2 * number_of_lenses * u.cm**2               # 48 * 14.3 cm diameter lenses\n",
    "    pix_size = 2.8                                              # arcsec\n",
    "    ang_size_pixel  = (pix_size * (1./206265.))**2 * u.rad**2   # rad^2, the pixel size of the CCD\n",
    "\n",
    "    tau_l = 0.85  # transmittance of the Dragonfly lens\n",
    "    QE = 0.48     # quantum efficiency of the CCDs\n",
    "    \n",
    "    tau_f = 1.    # transmittance of the Halpha filter -- assumed for now\n",
    "\n",
    "    # The following are per pixel\n",
    "    D = 0.04 *u.photon/u.second                             # dark current (electrons / s) -- PER PIXEL??\n",
    "    R_squared = 10.**2 * u.photon                           # read noise (electrons)\n",
    "\n",
    "    return [area_lens, ang_size_pixel, pix_size, tau_l, tau_f, QE, D, R_squared]"
   ]
  },
  {
   "cell_type": "code",
   "execution_count": 2,
   "metadata": {
    "collapsed": true
   },
   "outputs": [],
   "source": [
    "%matplotlib inline\n",
    "\n",
    "import numpy as np\n",
    "import matplotlib.pyplot as plt\n",
    "from astropy import constants as const\n",
    "from astropy import units as u\n",
    "from astropy.io import fits"
   ]
  },
  {
   "cell_type": "code",
   "execution_count": 16,
   "metadata": {},
   "outputs": [
    {
     "name": "stdout",
     "output_type": "stream",
     "text": [
      "total S: 0.000579599947142 ph / s\n",
      "total B: 3.4208667244 ph / s\n",
      "5.17058092296 ph(1/2)\n",
      "\n",
      "total S: 0.000579599947142 ph / s\n",
      "total B: 0.933307983911 ph / s\n",
      "9.74629527788 ph(1/2)\n"
     ]
    }
   ],
   "source": [
    "[area_lens, ang_size_pixel, pix_size, tau_l, tau_f, QE, D, R_squared] = Dragonfly()\n",
    "\n",
    "B = 0.52135 *u.photon/u.second/u.nm/u.arcsec**2/u.m**2  \n",
    "\n",
    "# centred at 656.3 nm\n",
    "B_3nm = 1.52495*u.photon/u.second/u.arcsec**2/u.m**2  # already times the filter width\n",
    "B_08nm = 0.383995*u.photon/u.second/u.arcsec**2/u.m**2  # already times the filter width\n",
    "\n",
    "# centred at 659.9 nm\n",
    "B_3nm = 1.387259*u.photon/u.second/u.arcsec**2/u.m**2  # already times the filter width\n",
    "B_08nm = 0.378483*u.photon/u.second/u.arcsec**2/u.m**2  # already times the filter width\n",
    "\n",
    "\n",
    "#SB_ph_one = 10**-2. * u.photon / (u.cm**2 * u.rad**2 * u.second)\n",
    "#SB_ph_two = 10**-1. * u.photon / (u.cm**2 * u.rad**2 * u.second)\n",
    "SB_ph_zero = 10**0. * u.photon / (u.cm**2 * u.rad**2 * u.second)\n",
    "SB_ph_one = 10**1. * u.photon / (u.cm**2 * u.rad**2 * u.second)\n",
    "SB_ph_two = 10**2. * u.photon / (u.cm**2 * u.rad**2 * u.second)\n",
    "SB_ph_three = 10**3. * u.photon / (u.cm**2 * u.rad**2 * u.second)\n",
    "\n",
    "numpixel = 100.0 * 100.0/(pix_size**2)   # 100-arcsec-a-side pixels\n",
    "#numpixel = 10.0 * 10.0/(pix_size**2)   # 10-arcsec-a-side pixels\n",
    "\n",
    "def calcSNR(SB_ph,B,time):\n",
    "    S = SB_ph * QE * tau_l * tau_f * area_lens * ang_size_pixel\n",
    "    signal = S*time*numpixel\n",
    "    B_tot = B * QE * tau_l * tau_f * area_lens.to(u.m**2) * ang_size_pixel.to(u.arcsec**2)\n",
    "    print('total S: %s'%S)\n",
    "    print('total B: %s'%B_tot)\n",
    "    sigma = np.sqrt(signal + B_tot*time*numpixel + D*time*numpixel + R_squared*numpixel)\n",
    "    SNR = signal/sigma\n",
    "    return SNR\n",
    "\n",
    "time = 60.*60.*60. * u.second\n",
    "SNR = calcSNR(SB_ph_three,B_3nm,time)\n",
    "print SNR\n",
    "print \"\"\n",
    "time = 60.*60.*60. * u.second\n",
    "SNR = calcSNR(SB_ph_three,B_08nm,time)\n",
    "print SNR"
   ]
  },
  {
   "cell_type": "code",
   "execution_count": null,
   "metadata": {
    "collapsed": true
   },
   "outputs": [],
   "source": [
    "# pick how long to calculate SNR over\n",
    "time = np.arange(1,60.*60.*1000000.,1000)* u.second\n",
    "time = np.arange(1,60.*60.*280.)* u.second\n",
    "limit = time[-1]/u.second\n",
    "\n",
    "for SB_ph in [SB_ph_1]:\n",
    "    ## Signal\n",
    "    S = SB_ph * QE * tau_l * tau_f * area_lens * ang_size_pixel\n",
    "    signal = S*time*numpixel\n",
    "    ## Noise\n",
    "    B_tot = B * QE * tau_l * tau_f * 3.*u.nm * area_lens.to(u.m**2) * ang_size_pixel.to(u.arcsec**2)\n",
    "    sigma = np.sqrt(signal + B_tot*time*numpixel + D*time*numpixel + R_squared*numpixel)\n",
    "\n",
    "    # Note that the signal is about an eighth the strength of the background sky signal: IS THIS TRUE HERE?\n",
    "    print('Halpha Signal: '+str(S))\n",
    "    print('Background Sky: ' +str(B_tot))\n",
    "\n",
    "    plt.plot(time/3600., signal/sigma, label=str(SB_ph))#,label= 'num pixels '+str(round(numpixel)))\n",
    "\n",
    "plt.plot([0,limit/3600.],[5,5],'k--')   \n",
    "plt.title(r'H$\\alpha$ Halo Emission')\n",
    "plt.legend(title='Surface Brightness:')\n",
    "plt.xlim(0,limit/3600.)\n",
    "plt.ylim(0,10)\n",
    "plt.xlabel('time (hours)')\n",
    "plt.ylabel('SNR')\n",
    "\n",
    "plt.plot([4.,4.],[0,10],'k--')  # ~4 hour ~250min\n",
    "plt.plot([70,70],[0,10],'k--')  # ~70 hour ~4200min\n",
    "\n"
   ]
  }
 ],
 "metadata": {
  "kernelspec": {
   "display_name": "Python 2",
   "language": "python",
   "name": "python2"
  },
  "language_info": {
   "codemirror_mode": {
    "name": "ipython",
    "version": 2
   },
   "file_extension": ".py",
   "mimetype": "text/x-python",
   "name": "python",
   "nbconvert_exporter": "python",
   "pygments_lexer": "ipython2",
   "version": "2.7.12"
  }
 },
 "nbformat": 4,
 "nbformat_minor": 2
}
