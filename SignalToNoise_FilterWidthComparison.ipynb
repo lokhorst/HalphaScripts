{
 "cells": [
  {
   "cell_type": "markdown",
   "metadata": {},
   "source": [
    "# Signal-to-noise calculations\n",
    "\n",
    "Determining benefit of the narrow bandwidth filters over larger bandwidth.\n",
    "\n",
    "The SNR is calculated following the equation (see, e.g., pg 407 of \"Spectroscopic Instrumentation\" by Eversberg and Vollmann): \n",
    "\n",
    "$SNR = \\frac{I t}{\\sqrt{I t + B t + D t + R^2}}$, \n",
    "\n",
    "where I is the signal over some number of pixels, B is the sky background over some number of pixels, D is the dark current over some number of pixels and R is the readout noise of the detector.  The exposure time, t, is usually given in seconds."
   ]
  },
  {
   "cell_type": "code",
   "execution_count": 1,
   "metadata": {
    "collapsed": true
   },
   "outputs": [],
   "source": [
    "%matplotlib inline\n",
    "\n",
    "import numpy as np\n",
    "import matplotlib.pyplot as plt\n",
    "from astropy import constants as const\n",
    "from astropy import units as u"
   ]
  },
  {
   "cell_type": "code",
   "execution_count": 2,
   "metadata": {
    "collapsed": true
   },
   "outputs": [],
   "source": [
    "def Dragonfly():\n",
    "    number_of_lenses = 48.\n",
    "    area_lens = np.pi*(14.3/2)**2 * number_of_lenses * u.cm**2               # 48 * 14.3 cm diameter lenses\n",
    "    pix_size = 2.8                                              # arcsec\n",
    "    ang_size_pixel  = (pix_size * (1./206265.))**2 * u.rad**2   # rad^2, the pixel size of the CCD\n",
    "\n",
    "    tau_l = 0.85  # transmittance of the Dragonfly lens\n",
    "    QE = 0.48     # quantum efficiency of the CCDs\n",
    "    \n",
    "    tau_f = 1.    # transmittance of the Halpha filter -- assumed for now\n",
    "\n",
    "    # The following are per pixel\n",
    "    D = 0.04 *u.photon/u.second                             # dark current (electrons / s) -- PER PIXEL??\n",
    "    R_squared = 10.**2 * u.photon                           # read noise (electrons)\n",
    "\n",
    "    return [area_lens, ang_size_pixel, pix_size, tau_l, tau_f, QE, D, R_squared]\n",
    "\n"
   ]
  },
  {
   "cell_type": "markdown",
   "metadata": {},
   "source": [
    "### determining the sky background\n",
    "\n",
    "#### Gemini Sky Background data  \n",
    "(http://www.gemini.edu/sciops/ObsProcess/obsConstraints/atm-models/skybg_50_10.dat)\n",
    "\n",
    "sky background 0.3-1.0um\n",
    "\n",
    "DARK optical sky - 50%ile conditions (day 7)\n",
    "\n",
    "AM=1.0\n",
    "\n",
    "derived from (reverse engineered ESO model) sky spectrum plus constant slope to match assumed photometric background (from von Hippel model.\n",
    "\n",
    "#### UVES Sky Background data  \n",
    "(http://www.eso.org/observing/dfo/quality/UVES/pipeline/sky_spectrum.html)"
   ]
  },
  {
   "cell_type": "code",
   "execution_count": 5,
   "metadata": {
    "collapsed": true
   },
   "outputs": [],
   "source": [
    "def getBackgroundGemini(start,end,machine,plot=False):\n",
    "    # Returns the total background flux in the wavlength interval supplied i.e. returns (flux)*(wavlength interval) \n",
    "    wavelength = []\n",
    "    flux = []\n",
    "    \n",
    "    if machine=='chinook':\n",
    "        geminiloc='/Users/lokhorst/Documents/Eagle/Gemini_skybackground.dat'\n",
    "    elif machine=='coho':\n",
    "        geminiloc='/Users/deblokhorst/Documents/Dragonfly/HalphaScripts/Gemini_skybackground.dat'\n",
    "    \n",
    "    with open(geminiloc,'r') as f:  #wavelength in nm, flux in phot/s/nm/arcsec^2/m^2\n",
    "        for line in f:\n",
    "            if line[0]!='#' and len(line)>5:\n",
    "                tmp = line.split()\n",
    "                wavelength.append(tmp[0])\n",
    "                flux.append(tmp[1])\n",
    "                \n",
    "    wavelength = np.array(wavelength,'d')\n",
    "    flux = np.array(flux,'d')\n",
    "    \n",
    "    start_ind = (np.abs(wavelength-start)).argmin()\n",
    "    end_ind   = (np.abs(wavelength-end)).argmin()\n",
    "    \n",
    "    # for plottingn purposes:\n",
    "    # wavelength[start_ind:end_ind],flux[start_ind:end_ind]\n",
    "    \n",
    "    # if spacings are not even, need to add element by element\n",
    "    total=0\n",
    "    for index in np.arange(start_ind,end_ind):\n",
    "      #  print index,index+1\n",
    "      #  print total\n",
    "        total = total+(flux[index]*(wavelength[index+1]-wavelength[index]))\n",
    "        \n",
    "    # if spacings are even, can just take the average of the flux array and times it by the total bandwidth\n",
    "    np.mean(flux[start_ind:end_ind])*(wavelength[end_ind]-wavelength[start_ind])\n",
    "    \n",
    "   # print('start index and end index: %s and %s'%(start_ind,end_ind))\n",
    "   # print(wavelength[start_ind:end_ind]-wavelength[start_ind+1:end_ind+1])\n",
    "    if plot==True:\n",
    "        plt.plot(wavelength[start_ind-100:end_ind+100],flux[start_ind-100:end_ind+100])\n",
    "        top = max(flux[start_ind-100:end_ind+100])\n",
    "        plt.plot([start,start,end,end,start],[0,top,top,0,0])\n",
    "        plt.show()\n",
    "        \n",
    "    return total,wavelength[start_ind:end_ind],flux[start_ind:end_ind]"
   ]
  },
  {
   "cell_type": "code",
   "execution_count": null,
   "metadata": {
    "collapsed": true
   },
   "outputs": [],
   "source": [
    "def getBackgroundUVES(start,end,machine,plot=False):\n",
    "    \n",
    "    def getUVESBackground(filename):\n",
    "        hdulist = fits.open(filename)\n",
    "        flux = hdulist[0].data\n",
    "    \n",
    "        CRPIX1 = hdulist[0].header['CRPIX1']\n",
    "        CRVAL1 = hdulist[0].header['CRVAL1']\n",
    "        CDELT1 = hdulist[0].header['CDELT1']\n",
    "        print(CRPIX1,CRVAL1,CDELT1)\n",
    "        hdulist.close()\n",
    "        \n",
    "        begin = CRVAL1 - CRPIX1*CDELT1   \n",
    "        end = begin + len(flux)*CDELT1\n",
    "        wavelength = np.arange(begin,end,CDELT1)\n",
    "        #print(len(wavelength),len(flux))\n",
    "        return wavelength,flux\n",
    "\n",
    "    # Returns the total background flux in the wavlength interval supplied i.e. returns (flux)*(wavlength interval) \n",
    "    wavelength = []\n",
    "    flux = []\n",
    "    \n",
    "    filename1 = \"fluxed_sky_580U.fits\"\n",
    "    filename2 = \"fluxed_sky_860L.fits\"\n",
    "\n",
    "\n",
    "    if machine=='coho':\n",
    "        uvesloc = '/Users/deblokhorst/Dropbox/UVES_Sky_Background/UVES_sky_all/'\n",
    "    elif machine =='chinook':\n",
    "        uvesloc = '/Users/lokhorst/Dropbox/UVES_Sky_Background/UVES_sky_all/'\n",
    "    else:\n",
    "        print 'No machine specified!'\n",
    "    \n",
    "    wavelength_UVES1,flux_UVES1=getUVESBackground(uvesloc+filename1)\n",
    "    wavelength_UVES2,flux_UVES2=getUVESBackground(uvesloc+filename2)\n",
    "\n",
    "    wavelength = np.array(wavelength,'d')\n",
    "    flux = np.array(flux,'d')\n",
    "    \n",
    "    start_ind = (np.abs(wavelength-start)).argmin()\n",
    "    end_ind   = (np.abs(wavelength-end)).argmin()\n",
    "    \n",
    "    # for plottingn purposes:\n",
    "    # wavelength[start_ind:end_ind],flux[start_ind:end_ind]\n",
    "    \n",
    "    # if spacings are not even, need to add element by element\n",
    "    total=0\n",
    "    for index in np.arange(start_ind,end_ind):\n",
    "      #  print index,index+1\n",
    "      #  print total\n",
    "        total = total+(flux[index]*(wavelength[index+1]-wavelength[index]))\n",
    "        \n",
    "    # if spacings are even, can just take the average of the flux array and times it by the total bandwidth\n",
    "    np.mean(flux[start_ind:end_ind])*(wavelength[end_ind]-wavelength[start_ind])\n",
    "    \n",
    "   # print('start index and end index: %s and %s'%(start_ind,end_ind))\n",
    "   # print(wavelength[start_ind:end_ind]-wavelength[start_ind+1:end_ind+1])\n",
    "    if plot==True:\n",
    "        plt.plot(wavelength[start_ind-100:end_ind+100],flux[start_ind-100:end_ind+100])\n",
    "        top = max(flux[start_ind-100:end_ind+100])\n",
    "        plt.plot([start,start,end,end,start],[0,top,top,0,0])\n",
    "        plt.show()\n",
    "        \n",
    "    return total,wavelength[start_ind:end_ind],flux[start_ind:end_ind]"
   ]
  },
  {
   "cell_type": "code",
   "execution_count": 12,
   "metadata": {
    "collapsed": false
   },
   "outputs": [
    {
     "data": {
      "text/plain": [
       "[<matplotlib.lines.Line2D at 0x114b75150>]"
      ]
     },
     "execution_count": 12,
     "metadata": {},
     "output_type": "execute_result"
    },
    {
     "data": {
      "image/png": "[encoded data removed]",
      "text/plain": [
       "<matplotlib.figure.Figure at 0x1150e7410>"
      ]
     },
     "metadata": {},
     "output_type": "display_data"
    }
   ],
   "source": [
    "start = 656.3 - 30.\n",
    "end = 656.3 + 30.\n",
    "machine = 'chinook'\n",
    "total,wavelen,flux = getBackgroundGemini(start,end,machine,plot=False)\n",
    "plt.plot(wavelen,flux)\n",
    "\n",
    "\n",
    "start = 659.9 - 1.5\n",
    "end = 659.9 + 1.5\n",
    "machine = 'chinook'\n",
    "total,wavelen,flux = getBackgroundGemini(start,end,machine,plot=False)\n",
    "plt.plot(wavelen,flux)\n",
    "\n",
    "start = 656.3 - 1.5\n",
    "end = 656.3 + 1.5\n",
    "machine = 'chinook'\n",
    "total,wavelen,flux = getBackgroundGemini(start,end,machine,plot=False)\n",
    "plt.plot(wavelen,flux)"
   ]
  },
  {
   "cell_type": "code",
   "execution_count": null,
   "metadata": {
    "collapsed": true
   },
   "outputs": [],
   "source": []
  }
 ],
 "metadata": {
  "kernelspec": {
   "display_name": "Python 2",
   "language": "python",
   "name": "python2"
  },
  "language_info": {
   "codemirror_mode": {
    "name": "ipython",
    "version": 2
   },
   "file_extension": ".py",
   "mimetype": "text/x-python",
   "name": "python",
   "nbconvert_exporter": "python",
   "pygments_lexer": "ipython2",
   "version": "2.7.13"
  }
 },
 "nbformat": 4,
 "nbformat_minor": 2
}
