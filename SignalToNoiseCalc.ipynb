{
 "cells": [
  {
   "cell_type": "markdown",
   "metadata": {},
   "source": [
    "# Signal to Noise Calculations for H clouds\n",
    "\n",
    "In this code, I am calculating the signal-to-noise ratio as a function of exposure time, to find the time required for the Dragonfly telescope to match observations of H$\\alpha$ emission performed by Donahue, Stocke, and Aldering (1995).  They performed narrowband H$\\alpha$ imaging of several intergalactic clouds to low surface brightness of $\\sim 10^{-18}$.  \n",
    "\n",
    "The SNR is calculated following the equation: \n",
    "\n",
    "$SNR = \\frac{I t}{\\sqrt{I t + B t + D t + R^2}}$, \n",
    "\n",
    "where I is the signal over some number of pixels, B is the sky background over some number of pixels, D is the dark current over some number of pixels and R is the readout noise of the detector.  The exposure time, t, is usually given in seconds."
   ]
  },
  {
   "cell_type": "code",
   "execution_count": 1,
   "metadata": {
    "collapsed": true
   },
   "outputs": [],
   "source": [
    "%matplotlib inline\n",
    "\n",
    "import numpy as np\n",
    "import matplotlib.pyplot as plt\n",
    "from astropy import constants as const\n",
    "from astropy import units as u"
   ]
  },
  {
   "cell_type": "code",
   "execution_count": 2,
   "metadata": {
    "collapsed": false
   },
   "outputs": [
    {
     "data": {
      "text/latex": [
       "$6.6260696 \\times 10^{-27} \\; \\mathrm{erg\\,s}$"
      ],
      "text/plain": [
       "<Quantity 6.62606957e-27 erg s>"
      ]
     },
     "execution_count": 2,
     "metadata": {},
     "output_type": "execute_result"
    }
   ],
   "source": [
    "# Testing out astropy a bit...\n",
    "const.h.cgs"
   ]
  },
  {
   "cell_type": "code",
   "execution_count": 3,
   "metadata": {
    "collapsed": false
   },
   "outputs": [
    {
     "data": {
      "text/plain": [
       "4.84813681109536e-06"
      ]
     },
     "execution_count": 3,
     "metadata": {},
     "output_type": "execute_result"
    }
   ],
   "source": [
    "u.arcsec.to(u.rad)"
   ]
  },
  {
   "cell_type": "markdown",
   "metadata": {},
   "source": [
    "##Add the Dragonfly instrumentation data\n",
    "Listing some values gathered from the Dragonfly Telephoto Instrumentation paper (Abraham and van Dokkum 2014), as well as sky background from the Gemini Sky Observatory (www.gemini.edu)."
   ]
  },
  {
   "cell_type": "code",
   "execution_count": 4,
   "metadata": {
    "collapsed": false
   },
   "outputs": [],
   "source": [
    "def Dragonfly():\n",
    "    area_lens = np.pi*(14.3/2)**2 * 48. * u.cm**2\n",
    "    pix_size = 2.8 # arcsec\n",
    "    ang_size_pixel  = (pix_size * (1./206265.))**2 * u.rad**2   # rad^2, the pixel size of the CCD\n",
    "\n",
    "    tau_l = 0.85  # transmittance of the Dragonfly lens\n",
    "    QE = 0.48     # quantum efficiency of the CCDs\n",
    "    tau_f = 1.    # transmittance of the Halpha filter -- assumed for now\n",
    "\n",
    "    # The following are per pixel\n",
    "    B = 0.52135 *u.photon/u.second/u.nm/u.arcsec**2/u.m**2   # sky background at 565.6 nm \n",
    "    D = 0.04 *u.photon/u.second                             # dark current (electrons / s) -- PER PIXEL??\n",
    "    R_squared = 10.**2 * u.photon                           # read noise (electrons)\n",
    "\n",
    "    # Donahue used 2' x 2' boxes to measure the sky brightness within\n",
    "   # numpixels = [(2*60*2*60)/(pix_size**2)]            # for HI clouds\n",
    "   # numpixels = np.array([(100.*100.)/(pix_size**2),   # for IGM filaments (from Bertone et al 2010, Fig2)\n",
    "   #                       (10.*10.)/(pix_size**2),\n",
    "   #                       1.]) \n",
    "   # numpixels = [7405.]                                  # for azithumally averaged galaxy, at radius 80kpc, distance 50 Mpc\n",
    "    numpixels = [3700.]                                  # for azithumally averaged galaxy, at radius 80kpc, distance 100 Mpc\n",
    "   # numpixels = [1.]                                      # for H alpha testing fields -Cygnus loop\n",
    "    print('Number of pixels: '+str(numpixels))\n",
    "    print('Area of the lens: '+str(area_lens))\n",
    "    \n",
    "    return [area_lens, ang_size_pixel, tau_l, tau_f, QE, B, D, R_squared, numpixels]"
   ]
  },
  {
   "cell_type": "markdown",
   "metadata": {},
   "source": [
    "The surface brightness of the clouds stated by Donahue+ (1995) are listed below."
   ]
  },
  {
   "cell_type": "code",
   "execution_count": 6,
   "metadata": {
    "collapsed": false
   },
   "outputs": [
    {
     "name": "stdout",
     "output_type": "stream",
     "text": [
      "Number of pixels: [3700.0]\n",
      "Area of the lens: 7709.09138079 cm2\n",
      "Surface brightness: 2245.38 ph / (cm2 rad2 s)\n"
     ]
    }
   ],
   "source": [
    "[area_lens, ang_size_pixel, tau_l, tau_f, QE, B, D, R_squared, numpixels] = Dragonfly()\n",
    "\n",
    "wavelen = 656.3e-9 * u.m\n",
    "\n",
    "### SB of H clouds (from Donahue et al 1995)\n",
    "#SB_cgs = 1.4*10**-18 * u.erg / u.second / (u.cm**2) / u.arcsec**2\n",
    "#SB_ph  = SB_cgs * wavelen / (const.h.cgs * const.c) / (u.arcsec.to(u.rad) * u.rad/u.arcsec)**2 * u.photon\n",
    "\n",
    "\n",
    "### SB of extended halos (threshold from Stiedel et al 2011)\n",
    "#SB_cgs = 1.597e-19 erg / (arcsec2 cm2 s)\n",
    "SB_ph = 2245.38 * u.photon / (u.cm**2 * u.rad**2 * u.second)\n",
    "\n",
    "### SB of IGM filaments (from Bertone series of papers, see SurfaceBrighnessCalcs.ipynb)\n",
    "#SB_ph = 23870.257 * u.photon / (u.cm**2) / u.second / (u.rad**2)\n",
    "#SB_ph = np.array([])\n",
    "\n",
    "### SB of Cygnus loop (lowest SB of filaments, brightest is 5*10**-5)  Hester+1986\n",
    "#SB_cgs = 10**-6 * u.erg / u.second / (u.cm**2) / u.rad**2  \n",
    "#SB_cgs =  10**-5 * u.erg / u.second / (u.cm**2) / u.rad**2  \n",
    "#SB_ph  = SB_cgs * wavelen / (const.h.cgs * const.c) * u.photon\n",
    "\n",
    "print('Surface brightness: '+str(SB_ph))"
   ]
  },
  {
   "cell_type": "markdown",
   "metadata": {},
   "source": [
    "## SNR calculation\n",
    "The signal-to-noise is calculated for the surface brightness listed above for an array of exposure times.  At some time, t, it reaches a SNR ~ 5, which is generally accepted as a reliable detection."
   ]
  },
  {
   "cell_type": "code",
   "execution_count": 10,
   "metadata": {
    "collapsed": false
   },
   "outputs": [
    {
     "name": "stdout",
     "output_type": "stream",
     "text": [
      "3700.0\n",
      "0.00130142212931 ph / s\n",
      "7709.09138079 cm2\n",
      "Halpha Signal: 0.00130142212931 ph / s\n",
      "Background Sky: 3.85681880622 ph / s\n"
     ]
    },
    {
     "data": {
      "image/png": "[encoded data removed]",
      "text/plain": [
       "<matplotlib.figure.Figure at 0x10e537690>"
      ]
     },
     "metadata": {},
     "output_type": "display_data"
    }
   ],
   "source": [
    "time = np.arange(0,60.*260.) * u.second   # Exposure Times \n",
    "plt.figure(figsize=(4,4))\n",
    "size = np.array(['2.8\"','10\"','100\"'])\n",
    "i = 0\n",
    "for numpixel in numpixels:\n",
    "    print(numpixel)\n",
    "    ## Signal = signal flux * QE * transmission * angular pixel size * area of the lens\n",
    "    S = SB_ph * QE * tau_l * tau_f * area_lens * ang_size_pixel\n",
    "    print(S)\n",
    "    signal = S*time*numpixel\n",
    "    print(area_lens)\n",
    "    ## Noise\n",
    "    B_tot = B * QE * tau_l * tau_f * 3.*u.nm * area_lens.to(u.m**2) * ang_size_pixel.to(u.arcsec**2)\n",
    "    sigma = np.sqrt(signal + B_tot*time*numpixel + D*time*numpixel + R_squared*numpixel)\n",
    "\n",
    "    # Note that the signal is about an eighth the strength of the background sky signal:\n",
    "    print('Halpha Signal: '+str(S))\n",
    "    print('Background Sky: ' +str(B_tot))\n",
    "\n",
    "    #plt.plot(time, signal/np.sqrt(signal),label='Signal')\n",
    "    #plt.plot(time, signal/np.sqrt(signal + B_tot*time),label='Signal + bkgd')\n",
    "    #plt.plot(time, signal/np.sqrt(signal + B_tot*time + D*time),label='Signal + bkgd + dark curr')\n",
    "    plt.plot(time/60., signal/sigma,label= 'Pixel size: '+size[i])\n",
    "    i = i+1\n",
    "\n",
    "plt.plot([0,260.],[5,5],'k--')    \n",
    "plt.legend()\n",
    "    \n",
    "plt.xlabel('time (minutes)')\n",
    "plt.ylabel('SNR')\n",
    "plt.savefig('FigSNR.pdf')"
   ]
  },
  {
   "cell_type": "code",
   "execution_count": 31,
   "metadata": {
    "collapsed": false
   },
   "outputs": [
    {
     "name": "stdout",
     "output_type": "stream",
     "text": [
      "1275.51020408\n",
      "0.0138351996955 ph / s\n",
      "Halpha Signal: 0.0138351996955 ph / s\n",
      "Background Sky: 3.85681880622 ph / s\n",
      "12.7551020408\n",
      "0.0138351996955 ph / s\n",
      "Halpha Signal: 0.0138351996955 ph / s\n",
      "Background Sky: 3.85681880622 ph / s\n",
      "1.0\n",
      "0.0138351996955 ph / s\n",
      "Halpha Signal: 0.0138351996955 ph / s\n",
      "Background Sky: 3.85681880622 ph / s\n"
     ]
    },
    {
     "data": {
      "image/png": "[encoded data removed]",
      "text/plain": [
       "<matplotlib.figure.Figure at 0x10fa65e90>"
      ]
     },
     "metadata": {},
     "output_type": "display_data"
    }
   ],
   "source": [
    "time = np.arange(0,200.*3600.) * u.second   # Exposure Times \n",
    "plt.figure(figsize=(4,4))\n",
    "\n",
    "for numpixel in numpixels:\n",
    "    print(numpixel)\n",
    "    ## Signal = signal flux * QE * transmission * angular pixel size * area of the lens\n",
    "    S = SB_ph * QE * tau_l * tau_f * area_lens * ang_size_pixel\n",
    "    print(S)\n",
    "    signal = S*time*numpixel\n",
    "\n",
    "    ## Noise\n",
    "    B_tot = B * QE * tau_l * tau_f * 3.*u.nm * area_lens.to(u.m**2) * ang_size_pixel.to(u.arcsec**2)\n",
    "    sigma = np.sqrt(signal + B_tot*time*numpixel + D*time*numpixel + R_squared*numpixel)\n",
    "\n",
    "    # Note that the signal is about an eighth the strength of the background sky signal:\n",
    "    print('Halpha Signal: '+str(S))\n",
    "    print('Background Sky: ' +str(B_tot))\n",
    "\n",
    "    #plt.plot(time, signal/np.sqrt(signal),label='Signal')\n",
    "    #plt.plot(time, signal/np.sqrt(signal + B_tot*time),label='Signal + bkgd')\n",
    "    #plt.plot(time, signal/np.sqrt(signal + B_tot*time + D*time),label='Signal + bkgd + dark curr')\n",
    "    plt.plot(time/3600., signal/sigma,label= 'num pixels '+str(round(numpixel)))\n",
    "\n",
    "plt.plot([0,150.],[5,5],'k--')    \n",
    "plt.legend()\n",
    "plt.xlim(0,140)\n",
    "plt.ylim(0,10)\n",
    "plt.xlabel('time (hours)')\n",
    "plt.ylabel('SNR')\n",
    "plt.savefig('FigSNR.pdf')"
   ]
  },
  {
   "cell_type": "code",
   "execution_count": 32,
   "metadata": {
    "collapsed": false
   },
   "outputs": [
    {
     "name": "stdout",
     "output_type": "stream",
     "text": [
      "Number of pixels: [  1.27551020e+03   1.27551020e+01   1.00000000e+00]\n",
      "Area of the lens: 7709.09138079 cm2\n",
      "1275.51020408\n",
      "0.138351996955 ph / s\n",
      "Halpha Signal: 0.138351996955 ph / s\n",
      "Background Sky: 38.5681880622 ph / s\n",
      "12.7551020408\n",
      "0.138351996955 ph / s\n",
      "Halpha Signal: 0.138351996955 ph / s\n",
      "Background Sky: 38.5681880622 ph / s\n",
      "1.0\n",
      "0.138351996955 ph / s\n",
      "Halpha Signal: 0.138351996955 ph / s\n",
      "Background Sky: 38.5681880622 ph / s\n"
     ]
    },
    {
     "data": {
      "image/png": "[encoded data removed]",
      "text/plain": [
       "<matplotlib.figure.Figure at 0x10dbbe250>"
      ]
     },
     "metadata": {},
     "output_type": "display_data"
    }
   ],
   "source": [
    "[area_lens, ang_size_pixel, tau_l, tau_f, QE, B, D, R_squared, numpixels] = Dragonfly()\n",
    "wavelen = 656.3e-9 * u.m\n",
    "SB_ph = 23870.257 * u.photon / (u.cm**2) / u.second / (u.rad**2)\n",
    "\n",
    "time = np.arange(0,15.*3600.) * u.second   # Exposure Times \n",
    "area_lens = area_lens*10.                   # Increase size of Dragonfly to 500 lenses\n",
    "plt.figure(figsize=(4,4))\n",
    "\n",
    "for numpixel in numpixels:\n",
    "    print(numpixel)\n",
    "    ## Signal = signal flux * QE * transmission * angular pixel size * area of the lens\n",
    "    S = SB_ph * QE * tau_l * tau_f * area_lens * ang_size_pixel\n",
    "    print(S)\n",
    "    signal = S*time*numpixel\n",
    "\n",
    "    ## Noise\n",
    "    B_tot = B * QE * tau_l * tau_f * 3.*u.nm * area_lens.to(u.m**2) * ang_size_pixel.to(u.arcsec**2)\n",
    "    sigma = np.sqrt(signal + B_tot*time*numpixel + D*time*numpixel + R_squared*numpixel)\n",
    "\n",
    "    # Note that the signal is about an eighth the strength of the background sky signal:\n",
    "    print('Halpha Signal: '+str(S))\n",
    "    print('Background Sky: ' +str(B_tot))\n",
    "\n",
    "    #plt.plot(time, signal/np.sqrt(signal),label='Signal')\n",
    "    #plt.plot(time, signal/np.sqrt(signal + B_tot*time),label='Signal + bkgd')\n",
    "    #plt.plot(time, signal/np.sqrt(signal + B_tot*time + D*time),label='Signal + bkgd + dark curr')\n",
    "    plt.plot(time/3600., signal/sigma,label= 'num pixels '+str(round(numpixel)))\n",
    "\n",
    "plt.plot([0,15],[5,5],'k--')    \n",
    "plt.legend()\n",
    "plt.ylim(0,20)\n",
    "plt.xlim(0,15)\n",
    "plt.xlabel('time (hours)')\n",
    "plt.ylabel('SNR')\n",
    "plt.savefig('FigSNR.pdf')"
   ]
  },
  {
   "cell_type": "markdown",
   "metadata": {},
   "source": [
    "##Double Check Donahue's values\n",
    "Okay, this seems good.  Let's double check this calculation using values from the Donahue paper.  I can't find values for the quantum efficiency of the CCD or the transmission of the Kitt Peak telescope or the dark current, so I'm just going to use the same value as that of the Dragonfly CCD."
   ]
  },
  {
   "cell_type": "code",
   "execution_count": 39,
   "metadata": {
    "collapsed": false
   },
   "outputs": [
    {
     "name": "stdout",
     "output_type": "stream",
     "text": [
      "Number of pixels: 3494.38229513\n",
      "Area of the lens: 2922.466566 cm2\n",
      "19679.0446881 ph / (cm2 rad2 s)\n",
      "Halpha Signal: 0.00227276597993 ph / s\n",
      "Background Sky: 0.768513687779 ph / s\n"
     ]
    },
    {
     "data": {
      "text/plain": [
       "<matplotlib.text.Text at 0x10f349e90>"
      ]
     },
     "execution_count": 39,
     "metadata": {},
     "output_type": "execute_result"
    },
    {
     "data": {
      "image/png": "[encoded data removed]",
      "text/plain": [
       "<matplotlib.figure.Figure at 0x10f257690>"
      ]
     },
     "metadata": {},
     "output_type": "display_data"
    }
   ],
   "source": [
    "def Donahue():\n",
    "    ## Donahue instrumention\n",
    "    area_lens = np.pi*(61./2)**2 * u.cm**2\n",
    "    pix_size = 2.03\n",
    "    ang_size_pixel  = (pix_size * (1./206265.))**2 * u.rad**2   # rad^2, the pixel size of the telescope\n",
    "\n",
    "    tau_l = 0.85  # transmittance of the Dragonfly lens\n",
    "    QE = 0.48     # quantum efficiency of the Dragonfly CCDs\n",
    "    tau_f = 1.    # transmittance of the Halpha filter -- UNKNOWN\n",
    "\n",
    "    B = 0.52135 *u.photon/u.second/u.nm/u.arcsec**2/u.m**2   # avg sky background at 565.6 nm \n",
    "    D = 0.04 *u.photon/u.second     # dark current (electrons / s) \n",
    "    R_squared = 3.**2 * u.photon       # read noise (electrons)\n",
    "\n",
    "    # Donahue used 2' x 2' boxes to measure the sky brightness within\n",
    "    numpixels = (2*60*2*60)/(pix_size**2)\n",
    "    print('Number of pixels: ' + str(numpixels))\n",
    "    print('Area of the lens: '+str(area_lens))\n",
    "    \n",
    "    return [area_lens, ang_size_pixel, tau_l, tau_f, QE, B, D, R_squared, numpixels]\n",
    "\n",
    "[area_lens, ang_size_pixel, tau_l, tau_f, QE, B, D, R_squared, numpixels] = Donahue()\n",
    "\n",
    "wavelen = 656.3e-9 * u.m\n",
    "SB_cgs = 1.4*10**-18 * u.erg / u.second / (u.cm**2) / u.arcsec**2\n",
    "SB_ph  = SB_cgs * wavelen / (const.h.cgs * const.c) / (u.arcsec.to(u.rad) * u.rad/u.arcsec)**2 * u.photon\n",
    "print(SB_ph)\n",
    "\n",
    "time = np.arange(0,900.) * u.second   # Exposure Times \n",
    "S = SB_ph * QE * tau_l * tau_f * area_lens * ang_size_pixel\n",
    "signal = S*time*numpixels\n",
    "\n",
    "B_tot = B * QE * tau_l * tau_f * 3.*u.nm * area_lens.to(u.m**2) * ang_size_pixel.to(u.arcsec**2)\n",
    "sigma = np.sqrt(signal + B_tot*time*numpixels + D*time*numpixels + R_squared*numpixels)\n",
    "\n",
    "# Note that the signal is about an eighth the strength of the background sky signal:\n",
    "print('Halpha Signal: '+str(S))\n",
    "print('Background Sky: ' +str(B_tot))\n",
    "\n",
    "plt.figure(figsize=(12,12))\n",
    "#plt.plot(time, signal/np.sqrt(signal),label='Signal')\n",
    "#plt.plot(time, signal/np.sqrt(signal + B_tot*time),label='Signal + bkgd')\n",
    "#plt.plot(time, signal/np.sqrt(signal + B_tot*time + D*time),label='Signal + bkgd + dark curr')\n",
    "plt.plot(time, signal/sigma,label='Signal + bkgd + dark curr + read noise')\n",
    "plt.legend()\n",
    "plt.xlabel('time (seconds)')\n",
    "plt.ylabel('SNR')"
   ]
  },
  {
   "cell_type": "markdown",
   "metadata": {},
   "source": [
    "So this seems about right.  "
   ]
  },
  {
   "cell_type": "markdown",
   "metadata": {},
   "source": [
    "## SB of Donahue's non-detections\n",
    "\n",
    "Donahue+ (2014) speculate that the above Halpha emission corresponding to the above SB of ~$1.9 * 10^4$ph/s/cm^2/sr is due to excitation of the gas from local effects from being near the two galaxies (since the spatial distribution looks like outflows and the Leo field of similar depth did not have a Halpha detection). \n",
    "\n",
    "I want to estimate the surface brightness of Halpha emission from the ionizing background radiation (more of an IGM effect).  I thought I'd do that by reversing the equation for the ionizing background and using some previous estimates of the ionizing background to predict how bright the Halpha emission should be (using the physics that Donahue+ 2014 assumed, as a first guess).  We can then repeat the above calculation, and figure out how much longer we'd have to observe to see Halpha emission in the regions where Donahue+ got non-detections.\n",
    "\n",
    "The equation used by Donahue+(2014) has several factors that depend on the geometry of the cloud and the spectral shape of the ionizing background.  Since we don't really know what either of those are, I figured I could take the best case scenario, a good case scenario, a bad case scenario, and the worst case scenario.\n",
    "\n",
    "1. Best case: Spherical cloud, high ionization background (assumed by Donahue et al 2014):  J$_0=2*10^{-22}$, f$_g$ = 1. , f$_s$ = 1. \n",
    "2. Medium case: Weird shaped clouds, high ionization background with sharp profile: J$_0=2*10^{-22}$, f$_g$ = 2., f$_s$ = 1.63\n",
    "3. Medium case: Spherical clouds, low ionization background: J$_0=10^{-23}$, f$_g$ = 1., f$_s$ = 1.\n",
    "4. Worst case: Weird shaped clouds, low ionization background: J$_0=10^{-23}$, f$_g$ = 2., f$_s$ = 1.63"
   ]
  },
  {
   "cell_type": "code",
   "execution_count": 40,
   "metadata": {
    "collapsed": false
   },
   "outputs": [
    {
     "name": "stdout",
     "output_type": "stream",
     "text": [
      "13582.7128057 ph / (cm2 s sr)\n",
      "0.690212000684 rad2 / sr\n",
      "0.306748466258\n"
     ]
    }
   ],
   "source": [
    "# 1. Best case\n",
    "J_0 = 2.*10**-22 *u.erg/u.second/u.cm**2/u.sr/u.Hz # to 10**-23\n",
    "f_Halpha = 0.45\n",
    "f_g = 1.  # max of 2\n",
    "f_s = 1.  # max of 1.63\n",
    "SB_Halpha_max = J_0 * f_Halpha / (const.h.cgs * f_g * f_s) * u.Hz * u.second * u.photon\n",
    "\n",
    "print(SB_Halpha_max)\n",
    "print(SB_Halpha_max/SB_ph)\n",
    "print(1./(2.*1.63))"
   ]
  },
  {
   "cell_type": "markdown",
   "metadata": {},
   "source": [
    "This surface brightness is about 2/3 of the SB calculated above.  If we use the lower bound for the ionizing background, the surface brightness is decreased by another order of magnitude.  If we use the non-ideal conditions for f_g and f_s and max them out, the surface brightness is a third of its value again.  Below, we do this calculation for two medium cases and for the most extreme case:"
   ]
  },
  {
   "cell_type": "code",
   "execution_count": 41,
   "metadata": {
    "collapsed": false
   },
   "outputs": [
    {
     "name": "stdout",
     "output_type": "stream",
     "text": [
      "4166.47632077 ph / (cm2 s sr)\n",
      "0.211721472602 rad2 / sr\n",
      "679.135640286 ph / (cm2 s sr)\n",
      "0.0345106000342 rad2 / sr\n",
      "208.323816039 ph / (cm2 s sr)\n",
      "0.0105860736301 rad2 / sr\n"
     ]
    }
   ],
   "source": [
    "# 2. Medium case 1:  Weird shaped clouds, high ionization background with sharp spectral profile\n",
    "J_0 = 2*10**-22 *u.erg/u.second/u.cm**2/u.sr/u.Hz # to 10**-23\n",
    "f_Halpha = 0.45\n",
    "f_g = 2. #2.  # max of 2\n",
    "f_s = 1.63 #1.63  # max of 1.63\n",
    "SB_Halpha_med1 = J_0 * f_Halpha / (const.h.cgs * f_g * f_s) * u.Hz * u.second * u.photon\n",
    "\n",
    "print(SB_Halpha_med1)\n",
    "print(SB_Halpha_med1/SB_ph)\n",
    "\n",
    "# 3. Medium case 2: Spherical clouds, low ionization background\n",
    "J_0 = 10**-23 *u.erg/u.second/u.cm**2/u.sr/u.Hz # to 10**-23\n",
    "f_Halpha = 0.45\n",
    "f_g = 1. #2.  # max of 2\n",
    "f_s = 1. #1.63  # max of 1.63\n",
    "SB_Halpha_med2 = J_0 * f_Halpha / (const.h.cgs * f_g * f_s) * u.Hz * u.second * u.photon\n",
    "\n",
    "print(SB_Halpha_med2)\n",
    "print(SB_Halpha_med2/SB_ph)\n",
    "\n",
    "# 4. Worst case:  Weird shaped clouds, low ionization background with sharp spectral profile\n",
    "J_0 = 10**-23 *u.erg/u.second/u.cm**2/u.sr/u.Hz # to 10**-23\n",
    "f_Halpha = 0.45\n",
    "f_g = 2. #2.  # max of 2\n",
    "f_s = 1.63 #1.63  # max of 1.63\n",
    "SB_Halpha_min = J_0 * f_Halpha / (const.h.cgs * f_g * f_s) * u.Hz * u.second * u.photon\n",
    "\n",
    "print(SB_Halpha_min)\n",
    "print(SB_Halpha_min/SB_ph)"
   ]
  },
  {
   "cell_type": "markdown",
   "metadata": {},
   "source": [
    "In the worst case, the surface brightness is about a hundredth of the SB that Donahue+ reached.\n",
    "\n",
    "I'll plot the SNR ratios as a function of exposure time for the four cases below."
   ]
  },
  {
   "cell_type": "code",
   "execution_count": 47,
   "metadata": {
    "collapsed": false
   },
   "outputs": [
    {
     "name": "stdout",
     "output_type": "stream",
     "text": [
      "Number of pixels: [1836.7346938775513]\n",
      "Area of the lens: 7709.09138079 cm2\n",
      "Background Sky: 3.85681880622 ph / s\n",
      "7709.09138079 cm2\n",
      "77090.9138079 cm2\n"
     ]
    },
    {
     "data": {
      "image/png": "[encoded data removed]",
      "text/plain": [
       "<matplotlib.figure.Figure at 0x1171d6f50>"
      ]
     },
     "metadata": {},
     "output_type": "display_data"
    }
   ],
   "source": [
    "# Load values from Dragonfly instrumentation\n",
    "[area_lens, ang_size_pixel, tau_l, tau_f, QE, B, D, R_squared, numpixels] = Dragonfly()\n",
    "\n",
    "B_tot = B * QE * tau_l * tau_f * 3.*u.nm * area_lens.to(u.m**2) * ang_size_pixel.to(u.arcsec**2)\n",
    "print('Background Sky: ' +str(B_tot))\n",
    "\n",
    "fig, ((ax1,ax2),(ax3,ax4)) = plt.subplots(2,2, figsize=(12,12))\n",
    "\n",
    "time = np.arange(0,900.) * u.second   # Exposure Times \n",
    "\n",
    "signal_max  = SB_Halpha_max  * QE * tau_l * tau_f * area_lens * ang_size_pixel *time*numpixels\n",
    "sigma_max  = np.sqrt(signal_max  + B_tot*time*numpixels + D*time*numpixels + R_squared*numpixels)\n",
    "one = ax1.plot(time, signal_max/sigma_max,label='Best case, 48 lenses')\n",
    "ax1.set_xlabel('time (seconds)')\n",
    "ax1.set_ylabel('SNR')\n",
    "ax8 = ax1.twiny()\n",
    "ax8.set_xlim(0,900./3600.)\n",
    "ax8.set_xlabel('time (hours)')\n",
    "ax1.legend()\n",
    "\n",
    "time = np.arange(0,9000.) * u.second   # Exposure Times \n",
    "\n",
    "signal_med1 = SB_Halpha_med1 * QE * tau_l * tau_f * area_lens * ang_size_pixel *time*numpixels\n",
    "sigma_med1 = np.sqrt(signal_med1 + B_tot*time*numpixels + D*time*numpixels + R_squared*numpixels)\n",
    "two= ax2.plot(time, signal_med1/sigma_med1,label='Med case 1, 48 lenses')\n",
    "ax2.set_xlabel('time (seconds)')\n",
    "ax2.set_ylabel('SNR')\n",
    "ax7 = ax2.twiny()\n",
    "ax7.set_xlim(0,9000./3600.)\n",
    "ax7.set_xlabel('time (hours)')\n",
    "ax2.legend()\n",
    "\n",
    "time = np.arange(0,300000.) * u.second   # Exposure Times \n",
    "print(area_lens)\n",
    "signal_med2 = SB_Halpha_med2 * QE * tau_l * tau_f * area_lens * ang_size_pixel *time*numpixels\n",
    "sigma_med2 = np.sqrt(signal_med2 + B_tot*time*numpixels + D*time*numpixels + R_squared*numpixels)\n",
    "three=ax3.plot(time, signal_med2/sigma_med2,label='Med case 2, 48 lenses')\n",
    "ax3.set_xlabel('time (seconds)')\n",
    "ax3.set_ylabel('SNR')\n",
    "ax6 = ax3.twiny()\n",
    "ax6.set_xlim(0,300000./3600.)\n",
    "ax6.set_xlabel('time (hours)')\n",
    "ax3.legend()\n",
    "\n",
    "area_lens = area_lens*10.\n",
    "B_tot = B * QE * tau_l * tau_f * 3.*u.nm * area_lens.to(u.m**2) * ang_size_pixel.to(u.arcsec**2)\n",
    "time = np.arange(0,300000.) * u.second   # Exposure Times \n",
    "print(area_lens)\n",
    "signal_min  = SB_Halpha_min  * QE * tau_l * tau_f * area_lens * ang_size_pixel *time*numpixels\n",
    "sigma_min  = np.sqrt(signal_min  + B_tot*time*numpixels + D*time*numpixels + R_squared*numpixels)\n",
    "four = ax4.plot(time, signal_min/sigma_min,label='Worst case, 500 lenses')\n",
    "ax4.set_xlabel('time (seconds)')\n",
    "ax4.set_ylabel('SNR')\n",
    "ax5 = ax4.twiny()\n",
    "ax5.set_xlim(0,300000/3600.)\n",
    "ax5.set_xlabel('time (hours)')\n",
    "ax4.legend()\n",
    "\n",
    "plt.savefig('FigSNRclouds.pdf')\n",
    "#print(signal_med2[9000])\n",
    "#print(signal_min[9000])\n",
    "#print(sigma_med2[9000])\n",
    "#print(sigma_min[9000])"
   ]
  },
  {
   "cell_type": "markdown",
   "metadata": {},
   "source": [
    "The best case scenario is definitely doable.  The medium cases are pushing it, need to increase time by a factor of ten (at least) additionally for each case.\n",
    "\n",
    "For the worst case, it appears that we would need 500 Dragonfly lenses and then integrate for an exposure time of ~80 hours."
   ]
  },
  {
   "cell_type": "markdown",
   "metadata": {},
   "source": [
    "Need to answer:\n",
    "1.  Which case is the most likely?\n",
    "2.  Would Donahue et al (2014) have seen the best case?  (if so, should scratch that one)\n",
    "3.  What is the physics for that the Halpha emission rate is 0.45 times the ionization background?\n"
   ]
  },
  {
   "cell_type": "markdown",
   "metadata": {},
   "source": [
    "1. \n",
    "2. In their Table 2, they give limits for the Halpha in the two non-detection fields of $1.62 * 10^{-19}$ erg/s/cm^2/arcsec^2 and $3.68 * 10^{-19}$ erg/s/cm^2/arcsec^2 (I believe these correspond to the limits of the confidence intervals that they calculated for each set of boxes for each field http://evolution.gs.washington.edu/gs560/2011/lecture3.pdf).  These correspond to $\\sim$ 2277 ph/cm^2/sr/s and 5172 ph/cm^2/sr/s.  So they would have observed the best case of Halpha emission, probably, but not the medium cases.  Do we have any other advantage over this group, other than the times two detection rate?\n",
    "3. "
   ]
  },
  {
   "cell_type": "code",
   "execution_count": 61,
   "metadata": {
    "collapsed": false
   },
   "outputs": [
    {
     "name": "stdout",
     "output_type": "stream",
     "text": [
      "5172.77746087 ph / (cm2 rad2 s)\n"
     ]
    }
   ],
   "source": [
    "wavelen = 656.3e-9 * u.m\n",
    "SB_cgs = 3.68*10**-19 * u.erg / u.second / (u.cm**2) / u.arcsec**2\n",
    "SB_ph  = SB_cgs * wavelen / (const.h.cgs * const.c) / (u.arcsec.to(u.rad) * u.rad/u.arcsec)**2 * u.photon\n",
    "print(SB_ph)"
   ]
  },
  {
   "cell_type": "code",
   "execution_count": 62,
   "metadata": {
    "collapsed": false
   },
   "outputs": [
    {
     "data": {
      "text/plain": [
       "3.4917000000000005e-19"
      ]
     },
     "execution_count": 62,
     "metadata": {},
     "output_type": "execute_result"
    }
   ],
   "source": [
    "sigma_rms = 0.113 # adu\n",
    "sigma_rms * 3.09e-18"
   ]
  },
  {
   "cell_type": "code",
   "execution_count": 63,
   "metadata": {
    "collapsed": false
   },
   "outputs": [
    {
     "data": {
      "text/plain": [
       "0.12324969082746885"
      ]
     },
     "execution_count": 63,
     "metadata": {},
     "output_type": "execute_result"
    }
   ],
   "source": [
    "2.086*0.108/np.sqrt(20)\n",
    "2.131*0.224/np.sqrt(15)"
   ]
  },
  {
   "cell_type": "code",
   "execution_count": 64,
   "metadata": {
    "collapsed": false
   },
   "outputs": [
    {
     "data": {
      "text/plain": [
       "1.9377179122251858e+20"
      ]
     },
     "execution_count": 64,
     "metadata": {},
     "output_type": "execute_result"
    }
   ],
   "source": [
    "5*10**-4.6 * 0.5 * u.Mpc.to(u.cm)"
   ]
  },
  {
   "cell_type": "markdown",
   "metadata": {},
   "source": [
    "Investigating the sky background flux:"
   ]
  },
  {
   "cell_type": "code",
   "execution_count": 65,
   "metadata": {
    "collapsed": true
   },
   "outputs": [],
   "source": [
    "wavelen = [ 654.78,  655.04,  655.31,  655.57,  655.84,  656.1 ,  656.37,\n",
    "        656.63,  656.9 ,  657.16,  657.43,  657.69,  657.96]\n",
    "flux = [0.4887,  0.5453,  0.5547,  0.5547,  0.4976,  0.4889,  0.4716,\n",
    "        0.5385,  0.5485,  0.5556,  0.5179,  0.5079,  0.5077]\n",
    "wavelen = np.array(wavelen,'d')\n",
    "flux = np.array(flux,'d')"
   ]
  },
  {
   "cell_type": "code",
   "execution_count": 66,
   "metadata": {
    "collapsed": false
   },
   "outputs": [
    {
     "name": "stdout",
     "output_type": "stream",
     "text": [
      "0.521353846154\n",
      "(654.8, 657.8)\n",
      "13\n"
     ]
    },
    {
     "data": {
      "text/plain": [
       "[<matplotlib.lines.Line2D at 0x10ea477d0>]"
      ]
     },
     "execution_count": 66,
     "metadata": {},
     "output_type": "execute_result"
    },
    {
     "data": {
      "image/png": "[encoded data removed]",
      "text/plain": [
       "<matplotlib.figure.Figure at 0x107689c10>"
      ]
     },
     "metadata": {},
     "output_type": "display_data"
    }
   ],
   "source": [
    "print(np.mean(flux))\n",
    "print(656.3-1.5,656.3+1.5)\n",
    "print(len(flux))\n",
    "plt.plot(wavelen,flux)"
   ]
  },
  {
   "cell_type": "code",
   "execution_count": 67,
   "metadata": {
    "collapsed": false
   },
   "outputs": [
    {
     "name": "stdout",
     "output_type": "stream",
     "text": [
      "1.56406153846\n",
      "1.56406153846\n"
     ]
    }
   ],
   "source": [
    "delta_nm = 3. / len(flux)\n",
    "sum_flux = np.sum(flux*delta_nm)\n",
    "print(sum_flux)\n",
    "print(np.mean(flux)*3.)"
   ]
  },
  {
   "cell_type": "markdown",
   "metadata": {},
   "source": [
    "Those are weirdly the exact same value... So we can just use the mean sky background flux in this 3nm range, which is 0.52135."
   ]
  },
  {
   "cell_type": "code",
   "execution_count": null,
   "metadata": {
    "collapsed": true
   },
   "outputs": [],
   "source": []
  }
 ],
 "metadata": {
  "kernelspec": {
   "display_name": "Python 2",
   "language": "python",
   "name": "python2"
  },
  "language_info": {
   "codemirror_mode": {
    "name": "ipython",
    "version": 2
   },
   "file_extension": ".py",
   "mimetype": "text/x-python",
   "name": "python",
   "nbconvert_exporter": "python",
   "pygments_lexer": "ipython2",
   "version": "2.7.12"
  }
 },
 "nbformat": 4,
 "nbformat_minor": 0
}
