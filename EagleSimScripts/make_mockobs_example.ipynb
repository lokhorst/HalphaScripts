{
 "cells": [
  {
   "cell_type": "markdown",
   "metadata": {},
   "source": [
    "# Making a mock observation from the EAGLE simulations\n",
    "\n",
    "This script is an example script to lay out the individual steps of making mock observations.\n",
    "\n",
    "The steps are as follows:\n",
    "\n",
    "1. Load the EAGLE simulated data.  Specify the distance at which we want to observe the cosmic web i.e. redshift of central wavelength of filter and the resolution that the data should be binned to.  The minimum resolution at 50Mpc away is about 14\".\n",
    "2. Cut out a chunk of the simulated data that corresponds to the Dragonfly FOV.  (switched with step 3 because takes too long for the whole simulation)\n",
    "3. Add the noise to the simulated data to mimic observational noises (includes sky background noise, read out noise, dark current noise, and shot noise).  This depends on the exposure time of the mock observation.\n",
    "4. Plot the data to check and see what it looks like.\n",
    "\n",
    "Ta da!"
   ]
  },
  {
   "cell_type": "code",
   "execution_count": 1,
   "metadata": {
    "collapsed": true
   },
   "outputs": [],
   "source": [
    "import numpy as np\n",
    "import eagle_constants_and_units as c\n",
    "import cosmo_utils as csu\n",
    "import matplotlib.pyplot as plt\n",
    "import matplotlib.cm as cm\n",
    "import mpl_toolkits.axes_grid1 as axgrid\n",
    "from astropy import constants as const\n",
    "from astropy import units as u\n",
    "\n",
    "import os\n",
    "import get_halpha_SB\n",
    "\n",
    "%matplotlib inline\n",
    "\n",
    "%run 'load_data.ipynb'\n",
    "%run 'add_noise.ipynb'\n",
    "%run 'extract_FOV.ipynb'"
   ]
  },
  {
   "cell_type": "markdown",
   "metadata": {},
   "source": [
    "### Step 1:  Load the data (load_data.ipynb)\n",
    "Let's say we want to observe at 100 Mpc away, with a resolution of 100 arcsec.  Our filter width is 3nm which corresponds to about 20 Mpc in radial distance (so we specify a slice width of 20)."
   ]
  },
  {
   "cell_type": "code",
   "execution_count": 2,
   "metadata": {},
   "outputs": [
    {
     "name": "stdout",
     "output_type": "stream",
     "text": [
      "Loading data of slicewidth 20 (after rounding), number of slices is 4\n",
      "data_50Mpc_14arcsec_20slwd.npz exists (and is special because cant save as tuple), loading now...\n"
     ]
    }
   ],
   "source": [
    "distance = '50Mpc'; resolution = 14.; slicewidth = 20; machine='coho'\n",
    "data_tuple = loaddata(machine=machine,resolution=resolution,distance=distance,slicewidth=slicewidth)"
   ]
  },
  {
   "cell_type": "code",
   "execution_count": 3,
   "metadata": {
    "collapsed": true
   },
   "outputs": [],
   "source": [
    "#total_fname = 'data_50Mpc_14arcsec_20slwd.npz'  # copied over from emission_halpha_L0100N1504_28_test2_SmAb_C2Sm_32000pix_20slice_zcen12.5_total.npz\n",
    "#sl = [slice(None,None,None), slice(None,None,None)]\n",
    "#data = (np.load(total_fname)['arr_0'])[sl]\n",
    "#data_tuple = (data,32000,1)\n",
    "##np.savez(total_fname,data) ### Seems to by a python issue that cannot save large numpy object arrays, cPickle breaks or something"
   ]
  },
  {
   "cell_type": "markdown",
   "metadata": {},
   "source": [
    "### Step 2: Extract the Dragonfly FOV (extract_FOV.ipynb)"
   ]
  },
  {
   "cell_type": "code",
   "execution_count": 4,
   "metadata": {
    "collapsed": true
   },
   "outputs": [],
   "source": [
    "#data_FOV_50Mpc, xystarts_50, size_50 = extractFOV(data_tuple,resolution,distance)\n",
    "\n",
    "#distance = '46Mpc'  # ('92Mpc',) actual distance that corresponds to 14\" per pixel in the simulation \n",
    "#data_FOV_46Mpc, xystarts_46, size_46 = extractFOV(data_tuple,resolution,distance)\n",
    "\n",
    "#data_FOV_50Mpc.shape\n",
    "#data_FOV_46Mpc.shape\n",
    "\n",
    "#fig, (ax1,ax2) = plt.subplots(1, 2, figsize=(12, 12))\n",
    "#get_halpha_SB.makemap(data_FOV_50Mpc,size_50,ax1,xystarts = xystarts_50)\n",
    "#get_halpha_SB.makemap(data_FOV_46Mpc,size_46,ax2,xystarts = xystarts_46)"
   ]
  },
  {
   "cell_type": "markdown",
   "metadata": {},
   "source": [
    "### Step 3: Add noise to the data (add_noise.ipynb)\n",
    "Let's say that we want to observe for 1000 hours."
   ]
  },
  {
   "cell_type": "code",
   "execution_count": null,
   "metadata": {
    "collapsed": true
   },
   "outputs": [],
   "source": [
    "exptime = 1000.*60.*60.\n",
    "debugging = True; R_squared = None; CMOS = False\n",
    "noiseadded_signal_50,B_sky_array_50,R_array_50 = addnoise(data_FOV_50Mpc,resolution,exptime=exptime,debugging=True)#,expnum=1)\n",
    "# default for addnoise: oldcam == old QE and old R"
   ]
  },
  {
   "cell_type": "markdown",
   "metadata": {},
   "source": [
    "### Step 5: Plot the data\n"
   ]
  },
  {
   "cell_type": "code",
   "execution_count": null,
   "metadata": {
    "collapsed": true
   },
   "outputs": [],
   "source": [
    "def plthist(ax3,B_sky,R_squared,R,title='',label1='',label2='',label3=''):\n",
    "    ax3.hist(np.ravel(B_sky),edgecolor='black', alpha = 0.5,label=label1)\n",
    "    ax3.hist(np.ravel(R_squared),edgecolor='black', alpha = 0.5,label=label2)\n",
    "    #ax3.hist(np.ravel(R),edgecolor='black', alpha = 0.5, label=label3)\n",
    "    ax3.text(0.6,0.7,r'$\\sigma$_sb = %.1f'%(np.std(B_sky)),transform=ax3.transAxes)\n",
    "    ax3.text(0.6,0.6,r'$\\sigma$_r = %.1f'%(np.std(R_squared)),transform=ax3.transAxes)\n",
    "    ax3.text(0.6,0.5,r'$\\sigma$_r = %.1f'%(np.std(R)),transform=ax3.transAxes)\n",
    "    #ax3.set_ylim(0,8500)\n",
    "    #ax3.set_xlim(-1500,2000)\n",
    "    ax3.set_title(title)\n",
    "\n",
    "fig, (ax1) = plt.subplots(1, 1, figsize=(6, 6))\n",
    "plthist(ax1,B_sky_array,R_array**2,R_array,label1='b_sky',label2='r_squared',label3='r')\n",
    "ax1.legend()\n",
    "print B_sky_array.shape\n",
    "print R_array"
   ]
  },
  {
   "cell_type": "code",
   "execution_count": null,
   "metadata": {
    "collapsed": true
   },
   "outputs": [],
   "source": [
    "fig, (ax1) = plt.subplots(1, 1, figsize=(6, 6))\n",
    "get_halpha_SB.makemap(noiseadded_signal,size,ax1,xystarts = xystarts)"
   ]
  }
 ],
 "metadata": {
  "kernelspec": {
   "display_name": "Python 2",
   "language": "python",
   "name": "python2"
  },
  "language_info": {
   "codemirror_mode": {
    "name": "ipython",
    "version": 2
   },
   "file_extension": ".py",
   "mimetype": "text/x-python",
   "name": "python",
   "nbconvert_exporter": "python",
   "pygments_lexer": "ipython2",
   "version": "2.7.12"
  }
 },
 "nbformat": 4,
 "nbformat_minor": 2
}
