{
 "cells": [
  {
   "cell_type": "markdown",
   "metadata": {},
   "source": [
    "## make_mockobs_forPieterandBob\n",
    "\n",
    "Script that runs the making mock observations scripts and output is specifically given to Pieter and Bob/ my paper."
   ]
  },
  {
   "cell_type": "code",
   "execution_count": 1,
   "metadata": {
    "collapsed": true
   },
   "outputs": [],
   "source": [
    "%run 'make_mockobs.ipynb'"
   ]
  },
  {
   "cell_type": "code",
   "execution_count": 2,
   "metadata": {
    "collapsed": true
   },
   "outputs": [],
   "source": [
    "machine='chinook'"
   ]
  },
  {
   "cell_type": "code",
   "execution_count": 3,
   "metadata": {
    "collapsed": true
   },
   "outputs": [],
   "source": [
    "resolution = None;  # This should prompt the script to just use the lowest resolution \n",
    "\n",
    "slicewidth = 20; \n",
    "exptime = 1000.*60.*60.; \n",
    "CMOS = True; ROnoise= None; \n",
    "x_center = 50.5; y_center = 13.5"
   ]
  },
  {
   "cell_type": "code",
   "execution_count": 4,
   "metadata": {
    "collapsed": false
   },
   "outputs": [
    {
     "name": "stdout",
     "output_type": "stream",
     "text": [
      "****** Working on mock observation for distance 100Mpc ******\n",
      "loading the data...\n",
      "Resolution is None, finding minimum resolution of the similuation...\n",
      "The resolution of the raw simulation at 100Mpc is 6.40094057981.\n",
      "Loading data of slicewidth 20 (after rounding), number of slices is 4\n",
      "./intermediatedata/data_100Mpc_6arcsec_20slwd.npz exists, loading now...\n",
      "./intermediatedata/data_100Mpc_6arcsec_20slwd.npz was not saved as a tuple since too large, returning as tuple with 32000,1 appended.\n",
      "extracting the FOV...\n",
      "adding noise to the data...\n",
      "******* Adding noise to the input data to simulate a mock observation by the 48.0 lens Dragonfly Telescope *******\n"
     ]
    },
    {
     "ename": "TypeError",
     "evalue": "unsupported operand type(s) for /: 'NoneType' and 'float'",
     "output_type": "error",
     "traceback": [
      "\u001b[0;31m---------------------------------------------------------------------------\u001b[0m",
      "\u001b[0;31mTypeError\u001b[0m                                 Traceback (most recent call last)",
      "\u001b[0;32m<ipython-input-4-5017fd96e151>\u001b[0m in \u001b[0;36m<module>\u001b[0;34m()\u001b[0m\n\u001b[1;32m      6\u001b[0m \u001b[0;34m\u001b[0m\u001b[0m\n\u001b[1;32m      7\u001b[0m \u001b[0mdistance\u001b[0m \u001b[0;34m=\u001b[0m \u001b[0;34m'100Mpc'\u001b[0m\u001b[0;34m\u001b[0m\u001b[0m\n\u001b[0;32m----> 8\u001b[0;31m \u001b[0mdata_FOV_100\u001b[0m\u001b[0;34m,\u001b[0m \u001b[0mxystarts_100\u001b[0m\u001b[0;34m,\u001b[0m \u001b[0msize_100\u001b[0m\u001b[0;34m,\u001b[0m \u001b[0mnoiseadded_signal_100\u001b[0m\u001b[0;34m,\u001b[0m \u001b[0mB_sky_array_100\u001b[0m\u001b[0;34m,\u001b[0m \u001b[0mR_array_100\u001b[0m\u001b[0;34m,\u001b[0m\u001b[0mD_array100\u001b[0m \u001b[0;34m=\u001b[0m \u001b[0mget_noisydata\u001b[0m\u001b[0;34m(\u001b[0m\u001b[0mresolution\u001b[0m\u001b[0;34m,\u001b[0m\u001b[0mdistance\u001b[0m\u001b[0;34m,\u001b[0m\u001b[0mslicewidth\u001b[0m\u001b[0;34m,\u001b[0m\u001b[0mexptime\u001b[0m\u001b[0;34m,\u001b[0m\u001b[0mCMOS\u001b[0m\u001b[0;34m=\u001b[0m\u001b[0mCMOS\u001b[0m\u001b[0;34m,\u001b[0m\u001b[0mROnoise\u001b[0m\u001b[0;34m=\u001b[0m\u001b[0mROnoise\u001b[0m\u001b[0;34m,\u001b[0m\u001b[0mx_center\u001b[0m\u001b[0;34m=\u001b[0m\u001b[0mx_center\u001b[0m\u001b[0;34m,\u001b[0m\u001b[0my_center\u001b[0m\u001b[0;34m=\u001b[0m\u001b[0my_center\u001b[0m\u001b[0;34m)\u001b[0m\u001b[0;34m\u001b[0m\u001b[0m\n\u001b[0m\u001b[1;32m      9\u001b[0m \u001b[0;34m\u001b[0m\u001b[0m\n\u001b[1;32m     10\u001b[0m \u001b[0;31m#distance = '50Mpc'\u001b[0m\u001b[0;34m\u001b[0m\u001b[0;34m\u001b[0m\u001b[0m\n",
      "\u001b[0;32m<ipython-input-1-1d35462980bf>\u001b[0m in \u001b[0;36mget_noisydata\u001b[0;34m(resolution, distance, slicewidth, exptime, mask, CMOS, ROnoise, x_center, y_center, plotnoise, debug)\u001b[0m\n\u001b[1;32m     19\u001b[0m         \u001b[0;32mprint\u001b[0m \u001b[0;34m\"ERROR: not sure what filter width to use...\"\u001b[0m\u001b[0;34m\u001b[0m\u001b[0m\n\u001b[1;32m     20\u001b[0m     \u001b[0;32mprint\u001b[0m \u001b[0;34m'adding noise to the data...'\u001b[0m\u001b[0;34m\u001b[0m\u001b[0m\n\u001b[0;32m---> 21\u001b[0;31m     \u001b[0mnoiseadded_signal\u001b[0m\u001b[0;34m,\u001b[0m\u001b[0mB_sky_array\u001b[0m\u001b[0;34m,\u001b[0m\u001b[0mR_array\u001b[0m\u001b[0;34m,\u001b[0m\u001b[0mD_array\u001b[0m \u001b[0;34m=\u001b[0m \u001b[0maddnoise\u001b[0m\u001b[0;34m(\u001b[0m\u001b[0mdata_FOV\u001b[0m\u001b[0;34m,\u001b[0m\u001b[0mresolution\u001b[0m\u001b[0;34m,\u001b[0m\u001b[0mexptime\u001b[0m\u001b[0;34m=\u001b[0m\u001b[0mexptime\u001b[0m\u001b[0;34m,\u001b[0m\u001b[0mfilterwidth\u001b[0m\u001b[0;34m=\u001b[0m\u001b[0mfilterwidth\u001b[0m\u001b[0;34m,\u001b[0m                                                             \u001b[0mCMOS\u001b[0m\u001b[0;34m=\u001b[0m\u001b[0mCMOS\u001b[0m\u001b[0;34m,\u001b[0m\u001b[0mR\u001b[0m\u001b[0;34m=\u001b[0m\u001b[0mROnoise\u001b[0m\u001b[0;34m,\u001b[0m\u001b[0mdebugging\u001b[0m\u001b[0;34m=\u001b[0m\u001b[0mTrue\u001b[0m\u001b[0;34m)\u001b[0m\u001b[0;34m\u001b[0m\u001b[0m\n\u001b[0m\u001b[1;32m     22\u001b[0m \u001b[0;34m\u001b[0m\u001b[0m\n\u001b[1;32m     23\u001b[0m     \u001b[0;32mprint\u001b[0m \u001b[0;34m'saving the noise-added data...'\u001b[0m\u001b[0;34m\u001b[0m\u001b[0m\n",
      "\u001b[0;32m<ipython-input-1-5a62c1d7f472>\u001b[0m in \u001b[0;36maddnoise\u001b[0;34m(data, resolution, plotchecks, log, R, expnum, filterwidth, exptime, CMOS, debugging, testing)\u001b[0m\n\u001b[1;32m     16\u001b[0m \u001b[0;34m\u001b[0m\u001b[0m\n\u001b[1;32m     17\u001b[0m     \u001b[0mbinpix_size\u001b[0m \u001b[0;34m=\u001b[0m \u001b[0mresolution\u001b[0m \u001b[0;31m# arcsec\u001b[0m\u001b[0;34m\u001b[0m\u001b[0m\n\u001b[0;32m---> 18\u001b[0;31m     \u001b[0mnumpixel\u001b[0m \u001b[0;34m=\u001b[0m \u001b[0;34m(\u001b[0m\u001b[0mround\u001b[0m\u001b[0;34m(\u001b[0m\u001b[0mbinpix_size\u001b[0m\u001b[0;34m/\u001b[0m\u001b[0mpix_size\u001b[0m\u001b[0;34m)\u001b[0m\u001b[0;34m)\u001b[0m\u001b[0;34m**\u001b[0m\u001b[0;36m2\u001b[0m\u001b[0;34m\u001b[0m\u001b[0m\n\u001b[0m\u001b[1;32m     19\u001b[0m \u001b[0;34m\u001b[0m\u001b[0m\n\u001b[1;32m     20\u001b[0m     \u001b[0;32mif\u001b[0m \u001b[0mdebugging\u001b[0m\u001b[0;34m:\u001b[0m\u001b[0;34m\u001b[0m\u001b[0m\n",
      "\u001b[0;31mTypeError\u001b[0m: unsupported operand type(s) for /: 'NoneType' and 'float'"
     ]
    }
   ],
   "source": [
    "#distance = '500Mpc'\n",
    "#data_FOV_500, xystarts_500, size_500, noiseadded_signal_500, B_sky_array_500, R_array_500,D_array500 = get_noisydata(resolution,distance,slicewidth,exptime,CMOS=CMOS,ROnoise=ROnoise,x_center=x_center,y_center=y_center)\n",
    "\n",
    "#distance = '200Mpc'\n",
    "#data_FOV_200, xystarts_200, size_200, noiseadded_signal_200, B_sky_array_200, R_array_200,D_array200 = get_noisydata(resolution,distance,slicewidth,exptime,CMOS=CMOS,ROnoise=ROnoise,x_center=x_center,y_center=y_center)\n",
    "\n",
    "distance = '100Mpc'\n",
    "data_FOV_100, xystarts_100, size_100, noiseadded_signal_100, B_sky_array_100, R_array_100,D_array100 = get_noisydata(resolution,distance,slicewidth,exptime,CMOS=CMOS,ROnoise=ROnoise,x_center=x_center,y_center=y_center)\n",
    "\n",
    "#distance = '50Mpc'\n",
    "#data_FOV_50, xystarts_50, size_50, noiseadded_signal_50, B_sky_array_50, R_array_50,D_array50 = get_noisydata(resolution,distance,slicewidth,exptime,CMOS=CMOS,ROnoise=ROnoise,x_center=x_center,y_center=y_center)"
   ]
  },
  {
   "cell_type": "code",
   "execution_count": null,
   "metadata": {
    "collapsed": true
   },
   "outputs": [],
   "source": [
    "print data_FOV_500.shape, B_sky_array_500.shape, R_array_500.shape, D_array500.shape\n",
    "\n",
    "plotchecks(B_sky_array_500, R_array_500, D_array500)\n",
    "fig, (ax) = plt.subplots(1, 1, figsize=(9, 4))\n",
    "img = ax.imshow(data_FOV_500)\n",
    "plt.show()"
   ]
  }
 ],
 "metadata": {
  "kernelspec": {
   "display_name": "Python 2",
   "language": "python",
   "name": "python2"
  },
  "language_info": {
   "codemirror_mode": {
    "name": "ipython",
    "version": 2
   },
   "file_extension": ".py",
   "mimetype": "text/x-python",
   "name": "python",
   "nbconvert_exporter": "python",
   "pygments_lexer": "ipython2",
   "version": "2.7.13"
  }
 },
 "nbformat": 4,
 "nbformat_minor": 2
}
