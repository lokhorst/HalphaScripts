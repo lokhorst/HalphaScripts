{
 "cells": [
  {
   "cell_type": "markdown",
   "metadata": {},
   "source": [
    "This script tests load_data.ipynb.\n",
    "\n",
    "It runs some examples to double check that the scripts is working correctly."
   ]
  },
  {
   "cell_type": "code",
   "execution_count": 1,
   "metadata": {
    "collapsed": true
   },
   "outputs": [],
   "source": [
    "import numpy as np\n",
    "import eagle_constants_and_units as c\n",
    "import cosmo_utils as csu\n",
    "import matplotlib.pyplot as plt\n",
    "import matplotlib.cm as cm\n",
    "import mpl_toolkits.axes_grid1 as axgrid\n",
    "from astropy import constants as const\n",
    "from astropy import units as u\n",
    "\n",
    "import os\n",
    "\n",
    "import get_halpha_SB"
   ]
  },
  {
   "cell_type": "code",
   "execution_count": 19,
   "metadata": {
    "collapsed": true
   },
   "outputs": [],
   "source": [
    "%run 'load_data.ipynb'"
   ]
  },
  {
   "cell_type": "markdown",
   "metadata": {},
   "source": [
    "### Example 1\n",
    "Load data from a specific machine (specified so that the data location is known), with a specific resolution and distance."
   ]
  },
  {
   "cell_type": "code",
   "execution_count": 11,
   "metadata": {},
   "outputs": [
    {
     "name": "stdout",
     "output_type": "stream",
     "text": [
      "data_50Mpc_100arcsec.npz exists, loading now...\n"
     ]
    }
   ],
   "source": [
    "machine='coho'\n",
    "\n",
    "distance = '50Mpc'; resolution = 100\n",
    "data_tuple = loaddata(machine=machine,resolution=resolution,distance=distance)\n",
    "data = data_tuple[0]"
   ]
  },
  {
   "cell_type": "markdown",
   "metadata": {},
   "source": [
    "### Example 2\n",
    "Load data from a specific machine with no other specifications.\n",
    "This automatically loads a 5Mpc slice width of the full resolution and at 0Mpc distance away."
   ]
  },
  {
   "cell_type": "code",
   "execution_count": 12,
   "metadata": {},
   "outputs": [
    {
     "name": "stdout",
     "output_type": "stream",
     "text": [
      "Loading a 5Mpc slice of data...\n",
      "Data exists, loading emission_halpha_L0100N1504_28_test2_SmAb_C2Sm_32000pix_5.000000slice_zcen12.5_total.npz now...\n"
     ]
    }
   ],
   "source": [
    "data_tuple = loaddata(machine=machine)\n",
    "data = data_tuple[0]"
   ]
  },
  {
   "cell_type": "markdown",
   "metadata": {},
   "source": [
    "### Example 3\n",
    "Load data of a 20 Mpc slice width, from a specific machine, at a distance of 50Mpc, with 100 arcsec resolution.\n",
    "\n",
    "The following takes ~30 minutes to run on my laptop if you do not have the final reduced data, so be warned!"
   ]
  },
  {
   "cell_type": "code",
   "execution_count": 20,
   "metadata": {},
   "outputs": [
    {
     "name": "stdout",
     "output_type": "stream",
     "text": [
      "Loading data of slicewidth 20 (after rounding), number of slices is 4\n",
      "data_50Mpc_100arcsec_20slwd.npz does not exists, making it now...\n",
      "Creating data of slicewidth 20 Mpc...\n",
      "First slice: index 1 of 4\n",
      "Loading noSF data first (/Users/deblokhorst/eagle/SlicesFromNastasha/emission_halpha_L0100N1504_28_test2_SmAb_C2Sm_32000pix_5.000000slice_zcen12.5_noSFR.npz)...\n",
      "Loading SF data second (/Users/deblokhorst/eagle/SlicesFromNastasha/emission_halpha_L0100N1504_28_test2_SmAb_C2Sm_32000pix_5.000000slice_zcen12.5__fromSFR.npz)...\n",
      "Adding together to make a 5 Mpc slice...\n",
      "Deleting intermediate files: noSF data, SF data...\n",
      "First slice: index 2 of 4\n",
      "Loading noSF data first (/Users/deblokhorst/eagle/SlicesFromNastasha/emission_halpha_L0100N1504_28_test2_SmAb_C2Sm_32000pix_5.000000slice_zcen17.5_noSFR.npz)...\n",
      "Loading SF data second (/Users/deblokhorst/eagle/SlicesFromNastasha/emission_halpha_L0100N1504_28_test2_SmAb_C2Sm_32000pix_5.000000slice_zcen17.5__fromSFR.npz)...\n",
      "Adding together to make a 5 Mpc slice...\n",
      "Deleting intermediate files: noSF data, SF data...\n",
      "First slice: index 3 of 4\n",
      "Loading noSF data first (/Users/deblokhorst/eagle/SlicesFromNastasha/emission_halpha_L0100N1504_28_test2_SmAb_C2Sm_32000pix_5.000000slice_zcen2.5_noSFR.npz)...\n",
      "Loading SF data second (/Users/deblokhorst/eagle/SlicesFromNastasha/emission_halpha_L0100N1504_28_test2_SmAb_C2Sm_32000pix_5.000000slice_zcen2.5__fromSFR.npz)...\n",
      "Adding together to make a 5 Mpc slice...\n",
      "Deleting intermediate files: noSF data, SF data...\n",
      "First slice: index 4 of 4\n",
      "Loading noSF data first (/Users/deblokhorst/eagle/SlicesFromNastasha/emission_halpha_L0100N1504_28_test2_SmAb_C2Sm_32000pix_5.000000slice_zcen7.5_noSFR.npz)...\n",
      "Loading SF data second (/Users/deblokhorst/eagle/SlicesFromNastasha/emission_halpha_L0100N1504_28_test2_SmAb_C2Sm_32000pix_5.000000slice_zcen7.5__fromSFR.npz)...\n",
      "Adding together to make a 5 Mpc slice...\n",
      "Deleting intermediate files: noSF data, SF data...\n",
      "Saving the summed data in emission_halpha_L0100N1504_28_test2_SmAb_C2Sm_32000pix_20slice_zcen12.5_total.npz...\n",
      "Reducing the resolution to desired distance/resolution...\n",
      "Will reduce resolution by a factor of 8.0.\n"
     ]
    }
   ],
   "source": [
    "distance = '50Mpc'; resolution = 100; slicewidth = 20\n",
    "data_tuple = loaddata(machine=machine,resolution=resolution,distance=distance,slicewidth=slicewidth)"
   ]
  },
  {
   "cell_type": "code",
   "execution_count": 26,
   "metadata": {},
   "outputs": [
    {
     "data": {
      "text/plain": [
       "(4000, 4000)"
      ]
     },
     "execution_count": 26,
     "metadata": {},
     "output_type": "execute_result"
    }
   ],
   "source": [
    "data=data_tuple[0]\n",
    "data.shape"
   ]
  },
  {
   "cell_type": "markdown",
   "metadata": {},
   "source": [
    "### Example 4\n",
    "Same as example 3, but with different distance/resolution."
   ]
  },
  {
   "cell_type": "code",
   "execution_count": 24,
   "metadata": {},
   "outputs": [
    {
     "name": "stdout",
     "output_type": "stream",
     "text": [
      "Loading data of slicewidth 20 (after rounding), number of slices is 4\n",
      "data_50Mpc_100arcsec_20slwd.npz exists, loading now...\n"
     ]
    }
   ],
   "source": [
    "distance = '50Mpc'; resolution = 100; slicewidth = 20\n",
    "\n",
    "data_tuple2 = loaddata(machine=machine,resolution=resolution,distance=distance,slicewidth=slicewidth)\n"
   ]
  },
  {
   "cell_type": "code",
   "execution_count": null,
   "metadata": {
    "collapsed": true
   },
   "outputs": [],
   "source": []
  }
 ],
 "metadata": {
  "kernelspec": {
   "display_name": "Python 2",
   "language": "python",
   "name": "python2"
  },
  "language_info": {
   "codemirror_mode": {
    "name": "ipython",
    "version": 2
   },
   "file_extension": ".py",
   "mimetype": "text/x-python",
   "name": "python",
   "nbconvert_exporter": "python",
   "pygments_lexer": "ipython2",
   "version": "2.7.12"
  }
 },
 "nbformat": 4,
 "nbformat_minor": 2
}
