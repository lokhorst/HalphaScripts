{
 "cells": [
  {
   "cell_type": "markdown",
   "metadata": {},
   "source": [
    "This notebook will be to read in the data files I made of the mock observation (the mock observation itself, and the readout noise array and sky background array that were added to the signal).\n",
    "\n",
    "It will compare the distributions to the expected values for the data"
   ]
  },
  {
   "cell_type": "code",
   "execution_count": 1,
   "metadata": {
    "collapsed": true
   },
   "outputs": [],
   "source": [
    "import numpy as np\n",
    "import eagle_constants_and_units as c\n",
    "import cosmo_utils as csu\n",
    "import matplotlib.pyplot as plt\n",
    "import matplotlib.cm as cm\n",
    "import mpl_toolkits.axes_grid1 as axgrid\n",
    "from astropy import constants as const\n",
    "from astropy import units as u\n",
    "\n",
    "import os\n",
    "import get_halpha_SB\n",
    "\n",
    "%matplotlib inline\n",
    "\n",
    "%run 'load_data.ipynb'\n",
    "%run 'add_noise.ipynb'\n",
    "%run 'extract_FOV.ipynb'"
   ]
  },
  {
   "cell_type": "markdown",
   "metadata": {},
   "source": [
    "Load the data:"
   ]
  },
  {
   "cell_type": "code",
   "execution_count": 2,
   "metadata": {
    "collapsed": true
   },
   "outputs": [],
   "source": [
    "mockobs  = np.load('noisy_fov_1000.0hr_oldcam_100Mpcdist_14.0arcsec_20slwd.npz')['arr_0']\n",
    "skynoise = np.load('noisy_fov_1000.0hr_oldcam_100Mpcdist_14.0arcsec_20slwd_BSKYARRAY.npz')['arr_0']\n",
    "ronoise  = np.load('noisy_fov_1000.0hr_oldcam_100Mpcdist_14.0arcsec_20slwd_RARRAY.npz')['arr_0']"
   ]
  },
  {
   "cell_type": "markdown",
   "metadata": {},
   "source": [
    "Plot up some histograms:"
   ]
  },
  {
   "cell_type": "code",
   "execution_count": 11,
   "metadata": {
    "collapsed": false
   },
   "outputs": [],
   "source": [
    "def plthist(ax,data1,data2=None,title='',label1='',label2='',ylim=None,xlim=None):\n",
    "    ax.hist(np.ravel(data1),edgecolor='black', alpha = 0.5,label=label1+r', $\\sigma_1$ = %.1f'%(np.std(data1)))\n",
    "    if data2 is not None:\n",
    "        ax.hist(np.ravel(data2),edgecolor='black', alpha = 0.5,label=label2+r', $\\sigma_2$ = %.1f'%(np.std(data2)))\n",
    "    #ax.text(0.6,0.7,r'$\\sigma$_sb = %.1f'%(np.std(B_sky)),transform=ax.transAxes)\n",
    "    #ax.text(0.6,0.6,r'$\\sigma$_r = %.1f'%(np.std(R)),transform=ax.transAxes)\n",
    "    if ylim is not None:\n",
    "        ax.set_ylim(ylim)\n",
    "    if xlim is not None:\n",
    "        ax.set_xlim(xlim)\n",
    "    ax.set_title(title)"
   ]
  },
  {
   "cell_type": "code",
   "execution_count": 24,
   "metadata": {
    "collapsed": false
   },
   "outputs": [
    {
     "data": {
      "image/png": "[encoded data removed]",
      "text/plain": [
       "<matplotlib.figure.Figure at 0x11c7fcf90>"
      ]
     },
     "metadata": {},
     "output_type": "display_data"
    }
   ],
   "source": [
    "fig, (ax1) = plt.subplots(1, 1, figsize=(9, 4))\n",
    "ax1.set_title('1000 hour exp, 14 arcsec res, 100 Mpc distance away, old cams')\n",
    "ax1.hist(np.ravel(mockobs) ,edgecolor='black', alpha = 0.5,label='mock obs',bins=100)\n",
    "#ax1.hist(np.ravel(skynoise),edgecolor='black', alpha = 0.5,label='sky noise')\n",
    "#ax1.hist(np.ravel(ronoise) ,edgecolor='black', alpha = 0.5,label='ro noise')\n",
    "plt.legend()\n",
    "plt.show()"
   ]
  },
  {
   "cell_type": "code",
   "execution_count": 20,
   "metadata": {
    "collapsed": false
   },
   "outputs": [
    {
     "name": "stdout",
     "output_type": "stream",
     "text": [
      "327046391.954\n"
     ]
    }
   ],
   "source": [
    "print np.median(mockobs)"
   ]
  },
  {
   "cell_type": "code",
   "execution_count": null,
   "metadata": {
    "collapsed": true
   },
   "outputs": [],
   "source": []
  }
 ],
 "metadata": {
  "kernelspec": {
   "display_name": "Python 2",
   "language": "python",
   "name": "python2"
  },
  "language_info": {
   "codemirror_mode": {
    "name": "ipython",
    "version": 2
   },
   "file_extension": ".py",
   "mimetype": "text/x-python",
   "name": "python",
   "nbconvert_exporter": "python",
   "pygments_lexer": "ipython2",
   "version": "2.7.13"
  }
 },
 "nbformat": 4,
 "nbformat_minor": 2
}
