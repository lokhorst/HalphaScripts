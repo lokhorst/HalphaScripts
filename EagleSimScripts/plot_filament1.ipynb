{
 "cells": [
  {
   "cell_type": "markdown",
   "metadata": {},
   "source": [
    "Plotting a filament with noise added.  Load in the SB data file then pick exposure time."
   ]
  },
  {
   "cell_type": "code",
   "execution_count": 1,
   "metadata": {},
   "outputs": [
    {
     "name": "stderr",
     "output_type": "stream",
     "text": [
      "//anaconda/lib/python2.7/site-packages/matplotlib/font_manager.py:273: UserWarning: Matplotlib is building the font cache using fc-list. This may take a moment.\n",
      "  warnings.warn('Matplotlib is building the font cache using fc-list. This may take a moment.')\n"
     ]
    }
   ],
   "source": [
    "import numpy as np\n",
    "import matplotlib.pyplot as plt\n",
    "import matplotlib.cm as cm\n",
    "import mpl_toolkits.axes_grid1 as axgrid\n",
    "from astropy import constants as const\n",
    "from astropy import units as u\n",
    "\n",
    "%matplotlib inline"
   ]
  },
  {
   "cell_type": "code",
   "execution_count": 2,
   "metadata": {
    "collapsed": true
   },
   "outputs": [],
   "source": [
    "def plotfilament(SBdata,ax,colmap='viridis',onlyyellow=False,contours=True,mockobs=False,labelaxes=False):\n",
    "    # setting up the plot\n",
    "    if mockobs:\n",
    "        clabel = r'log signal (photons)'\n",
    "    else:\n",
    "        clabel = r'log photons/cm$^2$/s/sr'\n",
    "    Vmin = None\n",
    "    Vmax= None\n",
    "    #fig = plt.figure(figsize = (7.5, 8.))\n",
    "    #ax = plt.subplot(121)\n",
    "    fontsize=13\n",
    "\n",
    "    if labelaxes:\n",
    "        ax.set_xlabel(r'X [cMpc]',fontsize=fontsize)\n",
    "        ax.set_ylabel(r'Y [cMpc]',fontsize=fontsize)\n",
    "        #xlabels = [0,0.6,1.2,1.8,2.4,3.0]\n",
    "        #ax.set_xticks([0,5,10,15,20,25], minor=False)\n",
    "        #ax.set_xticklabels(xlabels, minor=False)\n",
    "        #ylabels = [ 0.,0.25,0.5]\n",
    "        #ax.set_yticks([0,2.5,5], minor=False)\n",
    "        #ax.set_yticklabels(ylabels, minor=False)\n",
    "    \n",
    "        ax.tick_params(labelsize=fontsize) #,top=True,labeltop=True)\n",
    "        ax.xaxis.set_label_position('top') \n",
    "        ax.xaxis.tick_top()\n",
    "        \n",
    "    \n",
    "    #colmap = 'viridis'#'gist_gray'#'plasma'#'viridis' #'afmhot'\n",
    "    ax.patch.set_facecolor(cm.get_cmap(colmap)(0.)) # sets background color to lowest color map value\n",
    "\n",
    "    \n",
    "    ## If you only want to plot the SB greater than 1 photon/s/cm^2/arcsec^2 then do the following\n",
    "    if onlyyellow:\n",
    "        SBonlyyellow = SBdata\n",
    "        SBonlyyellow[SBdata<0.] = -3.\n",
    "        img = ax.imshow(SBonlyyellow.T,origin='lower', cmap=cm.get_cmap(colmap), vmin = Vmin, vmax=Vmax,interpolation='nearest')\n",
    "        levels = [0,1,2]\n",
    "        colours = ['yellow','cyan','purple']\n",
    "    else:\n",
    "        img = ax.imshow(SBdata.T,origin='lower',extent=(0,3.7,0,0.7), cmap=cm.get_cmap(colmap), vmin = Vmin, vmax=Vmax,interpolation='nearest')\n",
    "        levels = np.array([-2,-1,0,1,2,3])\n",
    "        colours = ('red','orange','yellow','cyan','purple','pink')\n",
    "        #levels = np.array([-2,-1.5,-1,-0.5,0,0.3,1,1.5,2,2.5,3])\n",
    "        #colours = ('red','black','orange','black','yellow','black','cyan','black','purple','black','pink')\n",
    "    \n",
    "    # plot contours\n",
    "    cmap = cm.PRGn\n",
    "    if contours:\n",
    "        ax.contour(SBdata.T,levels,colors=colours)#,cmap=cm.get_cmap(cmap, len(levels) - 1),)\n",
    "\n",
    "    div = axgrid.make_axes_locatable(ax)\n",
    "    cax = div.append_axes(\"bottom\",size=\"15%\",pad=0.1)\n",
    "    cbar = plt.colorbar(img, cax=cax,orientation='horizontal')\n",
    "    cbar.solids.set_edgecolor(\"face\")\n",
    "    cbar.ax.set_xlabel(r'%s' % (clabel), fontsize=fontsize)\n",
    "    #cbar.ax.set_ylabel(r'%s' % (clabel), fontsize=fontsize)\n",
    "    cbar.ax.tick_params(labelsize=fontsize)\n"
   ]
  },
  {
   "cell_type": "code",
   "execution_count": 40,
   "metadata": {
    "collapsed": true
   },
   "outputs": [],
   "source": [
    "def addnoise(data,resolution,exptime=10**3*3600.,CMOS=False,addnoisesqrt=False):\n",
    "    # Dragonfly info\n",
    "    area_lens = np.pi*(14.3/2)**2 * 48.                 # cm^2, 48 * 14.3 cm diameter lenses\n",
    "    pix_size = 2.8                                      # arcsec\n",
    "    ang_size_pixel  = (pix_size * (1./206265.))**2      # rad^2, the pixel size of the CCD\n",
    "    tau_l = 0.85                                        # transmittance of the Dragonfly lens\n",
    "    tau_f = 1.                                          # transmittance of the Halpha filter -- assumed for now\n",
    "    #B = getBackground(656.3,657.3,machine)              # *u.photon/u.second/u.arcsec**2/u.m**2  ****already multiplied by the bandwidth***\n",
    "    B = 0.560633\n",
    "    D = 0.04                                            # dark current (electrons / s) \n",
    "    if CMOS:\n",
    "        print \"Using new CMOS cameras...\"\n",
    "        QE = 0.70                                       # quantum efficiency of the CMOS detector\n",
    "        R_squared = 2.**2                               # read noise (electrons)\n",
    "    else:\n",
    "        print \"Using old cameras...\"\n",
    "        QE = 0.48                                       # quantum efficiency of the CCDs\n",
    "        R_squared = 10.**2                              # read noise (electrons)\n",
    "    \n",
    "   # R_squared = 50.**2\n",
    "    \n",
    "    binpix_size = resolution # arcsec\n",
    "    numpixel = round((binpix_size/pix_size)**2)\n",
    "    print \"the number of pixels is %s\"%numpixel\n",
    "    \n",
    "    \n",
    "    ### total signal incident in exposure time ###\n",
    "    totsignal = 10**data * exptime # ( photons / cm^2 /sr )\n",
    "    ### total signal detected (accounting for system efficiency) ###\n",
    "    detsignal = totsignal * QE * tau_l * tau_f * area_lens * ang_size_pixel * numpixel\n",
    "    print \"the total object signal [electrons] detected ranges from: %s to %s\"%(np.min(detsignal),np.max(detsignal))\n",
    "    print \"an example of the object signal [electrons] is: %s\"%detsignal[0]\n",
    "\n",
    "    ### ObjectShotNoise ###\n",
    "    detsignal_noise = np.zeros((data.shape[0],data.shape[1]))\n",
    "    for x in range(data.shape[0]):\n",
    "        for y in range(data.shape[1]):\n",
    "            detsignal_noise[x][y]=np.random.normal(detsignal[x][y],np.sqrt(detsignal[x][y])) \n",
    "    print \"an example of the object signal noise [electrons] is: %s\"%detsignal_noise[0]\n",
    "    \n",
    "    \n",
    "    ### BackgroundSkyNoise ###\n",
    "    'background sky signal detected [B]=ph/s/arcsec^2/m^2, [B_sky]=ph/s (in a pixel)'\n",
    "    B_sky = B * QE * tau_l * tau_f * area_lens*(1/100.)**2 * pix_size**2\n",
    "    print \"the background in the bandwidth is: %s\"%B\n",
    "    print \"the background signal, B_sky [ph/s (in a pixel)], is: %s\"%B_sky\n",
    "    B_sky_inexptime = B_sky*exptime\n",
    "    B_sky_total     = B_sky*exptime*numpixel    \n",
    "    B_sky_array = np.zeros((data.shape[0],data.shape[1]))\n",
    "    for x in range(data.shape[0]):\n",
    "        for y in range(data.shape[1]):\n",
    "            B_sky_array[x][y]=np.random.normal(B_sky_total,np.sqrt(B_sky_total)) \n",
    "#            B_sky_array[x][y]=np.random.poisson(B_sky_total)\n",
    "    B_sky_array_total = B_sky_array\n",
    "    print \"the mean total background signal, B_sky_total [electrons], is: %s\"%B_sky_total\n",
    "    print \"the total background noisy signal [electrons] ranges from: %s to %s\"%(np.min(B_sky_array_total),np.max(B_sky_array_total))\n",
    "    \n",
    "    \n",
    "    \n",
    "    ### ReadOutNoise ###\n",
    "    numexposures = exptime/3600. # hour long exposures\n",
    "    R_squared_array = np.zeros((data.shape[0],data.shape[1]))\n",
    "    for x in range(data.shape[0]):\n",
    "        for y in range(data.shape[1]):\n",
    "            R_squared_array[x][y]=np.mean(np.random.normal(np.sqrt(R_squared),np.sqrt(np.sqrt(B_sky)),int(numpixel)))**2   \n",
    "    R_squared_total = R_squared * round(numexposures)\n",
    "    R_squared_total_array = R_squared_array * round(numexposures)\n",
    "    print \"the R_squared value is: %s, so in %s exposures [per pixel], will have R_squared of: %s, %s\"%(R_squared,numexposures,R_squared_total,R_squared_total_array[0])\n",
    "    print \"the total R_squared value [electrons] multiplying by numpix read out is: %s, %s\"%((R_squared_total*numpixel),(R_squared_total_array[0]*numpixel))\n",
    "    \n",
    "    ### DarkCurrent ###\n",
    "    D_total = D*exptime*numpixel\n",
    "    D_array = np.zeros((data.shape[0],data.shape[1]))\n",
    "    for x in range(data.shape[0]):\n",
    "        for y in range(data.shape[1]):\n",
    "            D_array[x][y]=np.random.normal(D_total,np.sqrt(D_total)) \n",
    "    D_array_total = D_array\n",
    "    print \"the total dark current [electrons] is: %s , %s\"%(D_total, D_array_total[0])\n",
    "\n",
    "    sigma = np.sqrt(detsignal_noise + B_sky_array_total + D_array_total + R_squared_total_array*numpixel)\n",
    "    print \"an example total noise (not squarerooted) is: %s\"%(detsignal + B_sky_array_total + D_array_total + R_squared_total_array*numpixel)[0]\n",
    "    print \"an example total noise (squarerooted) is: %s\"%sigma[0]\n",
    "\n",
    "    ###  The total signal = signal + noise, The noise is 'sigma' = sqrt(# photons). ###\n",
    "    \n",
    "    if addnoisesqrt:\n",
    "        print \"adding noise as sqrt(# photons)...\"\n",
    "        noiseadded_signal = np.log10(detsignal_noise + sigma) \n",
    "    else:\n",
    "        print \"adding noise as (# photons)...\"\n",
    "        noiseadded_signal = np.log10(sigma**2) \n",
    "    \n",
    "    return B_sky_array_total,noiseadded_signal\n"
   ]
  },
  {
   "cell_type": "markdown",
   "metadata": {},
   "source": [
    "Load the EAGLE SB data from a saved file:"
   ]
  },
  {
   "cell_type": "code",
   "execution_count": 75,
   "metadata": {},
   "outputs": [
    {
     "name": "stdout",
     "output_type": "stream",
     "text": [
      "(16, 4)\n"
     ]
    }
   ],
   "source": [
    "resolution = 500. #arcsec\n",
    "SBdata = np.load('SBdata_500arcsec.npz')['arr_0']\n",
    "\n",
    "resolution = 1000. # arcsec\n",
    "SBdata = np.load('SBdata_1000arcsec.npz')['arr_0']\n",
    "\n",
    "resolution = 100. # arcsec\n",
    "SBdata = np.load('SBdata_100arcsec.npz')['arr_0']\n",
    "\n",
    "print SBdata.shape"
   ]
  },
  {
   "cell_type": "code",
   "execution_count": 76,
   "metadata": {},
   "outputs": [
    {
     "data": {
      "image/png": "[encoded data removed]",
      "text/plain": [
       "<matplotlib.figure.Figure at 0x113552410>"
      ]
     },
     "metadata": {},
     "output_type": "display_data"
    }
   ],
   "source": [
    "fig = plt.figure(figsize = (9.5, 5.))\n",
    "ax1 = plt.subplot(111)\n",
    "\n",
    "plotfilament(SBdata,ax1,contours=False,labelaxes=True)"
   ]
  },
  {
   "cell_type": "markdown",
   "metadata": {},
   "source": [
    "Add noise to the data and plot it.\n",
    "\n",
    "Choose the exposure time and whether you want to add the noise as sqrt(# photons) [addnoisesqrt = True] or straight up add the full (# photons) from the background/system [addnoisesqrt = False]."
   ]
  },
  {
   "cell_type": "code",
   "execution_count": 68,
   "metadata": {},
   "outputs": [
    {
     "name": "stdout",
     "output_type": "stream",
     "text": [
      "Using new CMOS cameras...\n",
      "the number of pixels is 127551.0\n",
      "the total object signal [electrons] detected ranges from: 37726743.6433 to 6.81534556389e+14\n",
      "an example of the object signal [electrons] is: [  7.22018848e+07   2.63533377e+08   7.78285473e+08   1.41830583e+09]\n",
      "an example of the object signal noise [electrons] is: [  7.22040016e+07   2.63532451e+08   7.78272919e+08   1.41827871e+09]\n",
      "the background in the bandwidth is: 0.560633\n",
      "the background signal, B_sky [ph/s (in a pixel)], is: 2.01611304518\n",
      "the mean total background signal, B_sky_total [electrons], is: 9.25766046094e+16\n",
      "the total background noisy signal [electrons] ranges from: 9.25766036124e+16 to 9.25766053554e+16\n",
      "the R_squared value is: 4.0, so in 100000000.0 exposures [per pixel], will have R_squared of: 400000000.0, [  4.01427815e+08   4.01198615e+08   3.99618777e+08   4.01143493e+08]\n",
      "the total R_squared value [electrons] multiplying by numpix read out is: 5.10204e+13, [  5.12025192e+13   5.11732845e+13   5.09717746e+13   5.11662537e+13]\n",
      "the total dark current [electrons] is: 1.8367344e+15 , [  1.83673437e+15   1.83673438e+15   1.83673438e+15   1.83673433e+15]\n",
      "an example total noise (not squarerooted) is: [  9.44645415e+16   9.44645118e+16   9.44643111e+16   9.44645059e+16]\n",
      "an example total noise (squarerooted) is: [  3.07350844e+08   3.07350796e+08   3.07350470e+08   3.07350786e+08]\n",
      "adding noise as (# photons)...\n"
     ]
    },
    {
     "data": {
      "image/png": "[encoded data removed]",
      "text/plain": [
       "<matplotlib.figure.Figure at 0x112bfc4d0>"
      ]
     },
     "metadata": {},
     "output_type": "display_data"
    }
   ],
   "source": [
    "exptime=10**8*3600.\n",
    "addnoisesqrt = False\n",
    "\n",
    "#  Add the noise to the EAGLE SB data\n",
    "b_sky_total,SBdata_exp0 = addnoise(SBdata,resolution,exptime=exptime,CMOS=True,addnoisesqrt=addnoisesqrt)\n",
    "\n",
    "#  Subtract a background value\n",
    "mockobs_sub = SBdata_exp0 - (int(np.min(SBdata_exp0)*1000000)/1000000.)\n",
    "\n",
    "# Plot the subtracted noiseadded data\n",
    "fig = plt.figure(figsize = (9.5, 5.))\n",
    "ax1 = plt.subplot(111)\n",
    "\n",
    "plotfilament(mockobs_sub**0.02,ax1,contours=False,mockobs=True,colmap='gist_gray')\n",
    "\n",
    "#plt.savefig('mockobs_res%sas_exptime%shr.png'%(resolution,round(exptime/3600.)))"
   ]
  },
  {
   "cell_type": "code",
   "execution_count": 61,
   "metadata": {},
   "outputs": [
    {
     "data": {
      "text/plain": [
       "(array([  6.,  14.,  26.,  51.,  45.,  32.,  17.,  15.,   3.,   1.]),\n",
       " array([  2.31442996e+12,   2.31443073e+12,   2.31443150e+12,\n",
       "          2.31443227e+12,   2.31443304e+12,   2.31443381e+12,\n",
       "          2.31443458e+12,   2.31443535e+12,   2.31443612e+12,\n",
       "          2.31443688e+12,   2.31443765e+12]),\n",
       " <a list of 10 Patch objects>)"
      ]
     },
     "execution_count": 61,
     "metadata": {},
     "output_type": "execute_result"
    },
    {
     "data": {
      "image/png": "[encoded data removed]",
      "text/plain": [
       "<matplotlib.figure.Figure at 0x111f35b10>"
      ]
     },
     "metadata": {},
     "output_type": "display_data"
    }
   ],
   "source": [
    "plt.figure(figsize = (10,5))\n",
    "plt.hist((b_sky_total.flatten()),bins=10)"
   ]
  },
  {
   "cell_type": "code",
   "execution_count": 59,
   "metadata": {},
   "outputs": [
    {
     "data": {
      "text/plain": [
       "(array([  6.,  14.,  26.,  51.,  45.,  32.,  17.,  15.,   3.,   1.]),\n",
       " array([ 1521325.06781259,  1521325.32062075,  1521325.5734289 ,\n",
       "         1521325.82623705,  1521326.0790452 ,  1521326.33185336,\n",
       "         1521326.58466151,  1521326.83746966,  1521327.09027782,\n",
       "         1521327.34308597,  1521327.59589412]),\n",
       " <a list of 10 Patch objects>)"
      ]
     },
     "execution_count": 59,
     "metadata": {},
     "output_type": "execute_result"
    },
    {
     "data": {
      "image/png": "[encoded data removed]",
      "text/plain": [
       "<matplotlib.figure.Figure at 0x111ee6850>"
      ]
     },
     "metadata": {},
     "output_type": "display_data"
    }
   ],
   "source": [
    "plt.figure(figsize = (10,5))\n",
    "plt.hist(np.sqrt(b_sky_total.flatten()))"
   ]
  },
  {
   "cell_type": "code",
   "execution_count": 37,
   "metadata": {},
   "outputs": [
    {
     "data": {
      "text/plain": [
       "array([[  1.27311429e-05,   1.33161822e-05,   1.05311971e-05,\n",
       "          1.10582729e-05,   1.02463996e-05,   1.05880092e-05,\n",
       "          1.03590853e-05],\n",
       "       [  1.21269871e-05,   1.10869693e-05,   7.54350702e-06,\n",
       "          1.33180376e-05,   8.86654835e-06,   1.23240762e-05,\n",
       "          9.93393335e-06],\n",
       "       [  8.64823563e-06,   1.06313206e-05,   9.95830632e-06,\n",
       "          1.04600901e-05,   9.66757554e-06,   1.13526720e-05,\n",
       "          1.07504059e-05],\n",
       "       [  1.07520825e-05,   1.40225306e-05,   1.30030155e-05,\n",
       "          2.24283862e-05,   1.20653856e-05,   1.01771788e-05,\n",
       "          1.20562205e-05],\n",
       "       [  1.27801225e-05,   1.15030774e-05,   1.82802976e-05,\n",
       "          5.16769200e-03,   1.20880472e-05,   1.13014138e-05,\n",
       "          9.61575450e-06],\n",
       "       [  1.15235484e-05,   7.83550477e-03,   1.22083578e-05,\n",
       "          1.22743440e-05,   9.36150360e-06,   1.24156184e-05,\n",
       "          9.58453744e-06],\n",
       "       [  8.99228698e-06,   1.30936735e-05,   1.09101283e-05,\n",
       "          1.36620763e-05,   1.32372517e-05,   1.21061022e-05,\n",
       "          1.11761482e-05],\n",
       "       [  1.15584511e-05,   1.11606650e-05,   1.33706929e-05,\n",
       "          1.02619381e-05,   1.10363200e-05,   1.35931038e-05,\n",
       "          1.17121659e-05],\n",
       "       [  1.19429457e-05,   9.92843494e-06,   1.15559708e-05,\n",
       "          1.32910933e-05,   1.26901896e-05,   1.06525466e-05,\n",
       "          1.13318885e-05],\n",
       "       [  7.73499911e-06,   1.24162830e-05,   1.37245063e-05,\n",
       "          9.12780880e-06,   1.54170718e-05,   1.00586962e-05,\n",
       "          8.41370780e-06],\n",
       "       [  1.13436909e-05,   1.16819620e-05,   8.72553686e-06,\n",
       "          1.36011702e-05,   1.21170599e-05,   1.65109241e-05,\n",
       "          1.23583411e-05],\n",
       "       [  1.15222522e-05,   1.13548065e-05,   1.34906268e-05,\n",
       "          9.93688545e-06,   1.14531722e-05,   9.38402340e-06,\n",
       "          1.10552198e-05],\n",
       "       [  1.04119302e-05,   1.12119311e-05,   1.14002985e-05,\n",
       "          9.52579328e-06,   1.39123321e-05,   9.74541052e-04,\n",
       "          1.21168512e-05],\n",
       "       [  1.26332780e-05,   7.93085101e-06,   1.03072972e-05,\n",
       "          1.40965301e-05,   1.23551802e-05,   4.38597956e-04,\n",
       "          1.11697959e-05],\n",
       "       [  1.15315625e-05,   1.11386035e-05,   9.28226063e-06,\n",
       "          1.36686140e-05,   9.39581937e-06,   1.13721732e-05,\n",
       "          1.09035181e-05],\n",
       "       [  1.00262285e-05,   1.24944312e-05,   1.16498440e-05,\n",
       "          2.67161485e-03,   2.82650198e-04,   1.17688166e-04,\n",
       "          8.20571441e-06],\n",
       "       [  1.30811232e-05,   1.30883475e-05,   1.22981325e-05,\n",
       "          1.34542724e-05,   1.04316513e-05,   1.09021589e-05,\n",
       "          1.07857156e-05],\n",
       "       [  1.16115867e-05,   1.37930496e-05,   1.25855983e-02,\n",
       "          1.54582487e-05,   1.08413025e-05,   1.08331153e-05,\n",
       "          8.28471363e-06],\n",
       "       [  9.59684064e-06,   1.34139858e-05,   1.15269840e-04,\n",
       "          1.21786310e-05,   1.05296315e-05,   1.21364365e-05,\n",
       "          9.68892012e-06],\n",
       "       [  1.10897463e-05,   1.20935717e-05,   1.10295026e-05,\n",
       "          1.14726777e-05,   1.13306938e-05,   1.25584927e-05,\n",
       "          9.13876228e-06],\n",
       "       [  1.42339853e-05,   1.18790486e-05,   1.31730680e-05,\n",
       "          1.15563268e-05,   1.11647743e-05,   9.30642787e-06,\n",
       "          1.07021952e-05],\n",
       "       [  1.33436162e-05,   1.20764728e-05,   1.26023721e-05,\n",
       "          9.46300198e-06,   1.12740179e-05,   1.00673561e-05,\n",
       "          9.04901571e-06],\n",
       "       [  1.50801023e-05,   1.32404186e-05,   1.13560830e-05,\n",
       "          1.26101181e-05,   1.19236458e-05,   1.07042278e-05,\n",
       "          1.30212437e-05],\n",
       "       [  1.39469425e-05,   8.91570060e-06,   1.13819918e-05,\n",
       "          1.12805553e-05,   8.87208419e-06,   9.71026045e-06,\n",
       "          1.47625916e-05],\n",
       "       [  1.05857710e-05,   9.62610758e-06,   1.00658006e-05,\n",
       "          1.01810884e-05,   1.30449859e-05,   1.05661773e-05,\n",
       "          1.10222752e-05],\n",
       "       [  1.01961848e-05,   1.16321864e-05,   1.00492764e-05,\n",
       "          1.28499848e-05,   1.20118733e-05,   1.07755251e-05,\n",
       "          1.03690382e-05],\n",
       "       [  1.09816151e-05,   1.33336988e-04,   9.96214476e-06,\n",
       "          1.08869306e-05,   1.26853983e-05,   1.21794248e-05,\n",
       "          1.27120388e-05],\n",
       "       [  9.91550595e-06,   1.08733224e-05,   1.00267019e-05,\n",
       "          1.21772650e-05,   1.05001099e-05,   1.00020333e-05,\n",
       "          9.79989162e-06],\n",
       "       [  1.09344137e-05,   1.15576992e-05,   1.21922225e-05,\n",
       "          1.43383070e-05,   1.43850226e-05,   1.67879642e-05,\n",
       "          1.04795423e-05],\n",
       "       [  1.45150497e-05,   9.50709428e-06,   1.19926331e-05,\n",
       "          1.21677252e-05,   1.05366351e-05,   8.41582202e-06,\n",
       "          1.20123200e-05]])"
      ]
     },
     "execution_count": 37,
     "metadata": {},
     "output_type": "execute_result"
    }
   ],
   "source": [
    "test"
   ]
  },
  {
   "cell_type": "code",
   "execution_count": 38,
   "metadata": {
    "collapsed": true
   },
   "outputs": [],
   "source": [
    "test= mockobs_sub[:][:]"
   ]
  },
  {
   "cell_type": "code",
   "execution_count": 39,
   "metadata": {},
   "outputs": [
    {
     "data": {
      "text/plain": [
       "array([[  1.27311429e-05,   1.33161822e-05,   1.05311971e-05,\n",
       "          1.10582729e-05,   1.02463996e-05,   1.05880092e-05,\n",
       "          1.03590853e-05],\n",
       "       [  1.21269871e-05,   1.10869693e-05,   7.54350702e-06,\n",
       "          1.33180376e-05,   8.86654835e-06,   1.23240762e-05,\n",
       "          9.93393335e-06],\n",
       "       [  8.64823563e-06,   1.06313206e-05,   9.95830632e-06,\n",
       "          1.04600901e-05,   9.66757554e-06,   1.13526720e-05,\n",
       "          1.07504059e-05],\n",
       "       [  1.07520825e-05,   1.40225306e-05,   1.30030155e-05,\n",
       "          2.24283862e-05,   1.20653856e-05,   1.01771788e-05,\n",
       "          1.20562205e-05],\n",
       "       [  1.27801225e-05,   1.15030774e-05,   1.82802976e-05,\n",
       "          5.16769200e-03,   1.20880472e-05,   1.13014138e-05,\n",
       "          9.61575450e-06],\n",
       "       [  1.15235484e-05,   7.83550477e-03,   1.22083578e-05,\n",
       "          1.22743440e-05,   9.36150360e-06,   1.24156184e-05,\n",
       "          9.58453744e-06],\n",
       "       [  8.99228698e-06,   1.30936735e-05,   1.09101283e-05,\n",
       "          1.36620763e-05,   1.32372517e-05,   1.21061022e-05,\n",
       "          1.11761482e-05],\n",
       "       [  1.15584511e-05,   1.11606650e-05,   1.33706929e-05,\n",
       "          1.02619381e-05,   1.10363200e-05,   1.35931038e-05,\n",
       "          1.17121659e-05],\n",
       "       [  1.19429457e-05,   9.92843494e-06,   1.15559708e-05,\n",
       "          1.32910933e-05,   1.26901896e-05,   1.06525466e-05,\n",
       "          1.13318885e-05],\n",
       "       [  7.73499911e-06,   1.24162830e-05,   1.37245063e-05,\n",
       "          9.12780880e-06,   1.54170718e-05,   1.00586962e-05,\n",
       "          8.41370780e-06],\n",
       "       [  1.13436909e-05,   1.16819620e-05,   8.72553686e-06,\n",
       "          1.36011702e-05,   1.21170599e-05,   1.65109241e-05,\n",
       "          1.23583411e-05],\n",
       "       [  1.15222522e-05,   1.13548065e-05,   1.34906268e-05,\n",
       "          9.93688545e-06,   1.14531722e-05,   9.38402340e-06,\n",
       "          1.10552198e-05],\n",
       "       [  1.04119302e-05,   1.12119311e-05,   1.14002985e-05,\n",
       "          9.52579328e-06,   1.39123321e-05,   9.74541052e-04,\n",
       "          1.21168512e-05],\n",
       "       [  1.26332780e-05,   7.93085101e-06,   1.03072972e-05,\n",
       "          1.40965301e-05,   1.23551802e-05,   4.38597956e-04,\n",
       "          1.11697959e-05],\n",
       "       [  1.15315625e-05,   1.11386035e-05,   9.28226063e-06,\n",
       "          1.36686140e-05,   9.39581937e-06,   1.13721732e-05,\n",
       "          1.09035181e-05],\n",
       "       [  1.00262285e-05,   1.24944312e-05,   1.16498440e-05,\n",
       "          2.67161485e-03,   2.82650198e-04,   1.17688166e-04,\n",
       "          8.20571441e-06],\n",
       "       [  1.30811232e-05,   1.30883475e-05,   1.22981325e-05,\n",
       "          1.34542724e-05,   1.04316513e-05,   1.09021589e-05,\n",
       "          1.07857156e-05],\n",
       "       [  1.16115867e-05,   1.37930496e-05,   1.25855983e-02,\n",
       "          1.54582487e-05,   1.08413025e-05,   1.08331153e-05,\n",
       "          8.28471363e-06],\n",
       "       [  9.59684064e-06,   1.34139858e-05,   1.15269840e-04,\n",
       "          1.21786310e-05,   1.05296315e-05,   1.21364365e-05,\n",
       "          9.68892012e-06],\n",
       "       [  1.10897463e-05,   1.20935717e-05,   1.10295026e-05,\n",
       "          1.14726777e-05,   1.13306938e-05,   1.25584927e-05,\n",
       "          9.13876228e-06],\n",
       "       [  1.42339853e-05,   1.18790486e-05,   1.31730680e-05,\n",
       "          1.15563268e-05,   1.11647743e-05,   9.30642787e-06,\n",
       "          1.07021952e-05],\n",
       "       [  1.33436162e-05,   1.20764728e-05,   1.26023721e-05,\n",
       "          9.46300198e-06,   1.12740179e-05,   1.00673561e-05,\n",
       "          9.04901571e-06],\n",
       "       [  1.50801023e-05,   1.32404186e-05,   1.13560830e-05,\n",
       "          1.26101181e-05,   1.19236458e-05,   1.07042278e-05,\n",
       "          1.30212437e-05],\n",
       "       [  1.39469425e-05,   8.91570060e-06,   1.13819918e-05,\n",
       "          1.12805553e-05,   8.87208419e-06,   9.71026045e-06,\n",
       "          1.47625916e-05],\n",
       "       [  1.05857710e-05,   9.62610758e-06,   1.00658006e-05,\n",
       "          1.01810884e-05,   1.30449859e-05,   1.05661773e-05,\n",
       "          1.10222752e-05],\n",
       "       [  1.01961848e-05,   1.16321864e-05,   1.00492764e-05,\n",
       "          1.28499848e-05,   1.20118733e-05,   1.07755251e-05,\n",
       "          1.03690382e-05],\n",
       "       [  1.09816151e-05,   1.33336988e-04,   9.96214476e-06,\n",
       "          1.08869306e-05,   1.26853983e-05,   1.21794248e-05,\n",
       "          1.27120388e-05],\n",
       "       [  9.91550595e-06,   1.08733224e-05,   1.00267019e-05,\n",
       "          1.21772650e-05,   1.05001099e-05,   1.00020333e-05,\n",
       "          9.79989162e-06],\n",
       "       [  1.09344137e-05,   1.15576992e-05,   1.21922225e-05,\n",
       "          1.43383070e-05,   1.43850226e-05,   1.67879642e-05,\n",
       "          1.04795423e-05],\n",
       "       [  1.45150497e-05,   9.50709428e-06,   1.19926331e-05,\n",
       "          1.21677252e-05,   1.05366351e-05,   8.41582202e-06,\n",
       "          1.20123200e-05]])"
      ]
     },
     "execution_count": 39,
     "metadata": {},
     "output_type": "execute_result"
    }
   ],
   "source": [
    "test"
   ]
  },
  {
   "cell_type": "code",
   "execution_count": null,
   "metadata": {
    "collapsed": true
   },
   "outputs": [],
   "source": []
  }
 ],
 "metadata": {
  "kernelspec": {
   "display_name": "Python 2",
   "language": "python",
   "name": "python2"
  },
  "language_info": {
   "codemirror_mode": {
    "name": "ipython",
    "version": 2
   },
   "file_extension": ".py",
   "mimetype": "text/x-python",
   "name": "python",
   "nbconvert_exporter": "python",
   "pygments_lexer": "ipython2",
   "version": "2.7.12"
  }
 },
 "nbformat": 4,
 "nbformat_minor": 2
}
