{
 "cells": [
  {
   "cell_type": "markdown",
   "metadata": {},
   "source": [
    "# Adding noise to the EAGLE simulations\n",
    "This goal of this notebook is to explore adding noise to the EAGLE simulation to make mock observations.\n",
    "\n",
    "We will go through the different types of noise so that it is clear which one dominates the signal.  In particular, we want to explore when read out noise trades out with the sky background as the dominant noise source.\n",
    "\n",
    "The shot noise, dark current noise, and sky background noise are all Poisson processes.  Therefore can draw from a Poisson or Gaussian (large number statistics) distribution with a sigma that is the square root of the mean value for each background source to draw random values for the noise.\n",
    "\n",
    "Poission_noise = sigma = SQRT(meanvalue_Poisson)\n",
    "\n",
    "e.g. D_noise = SQRT ( D )\n",
    "\n",
    "The read out noise is a Gaussian process, therefore can draw from a Gaussian distribution with a sigma that is the mean read out noise value.  Usually, people give the read out noise like # e- RMS.  This is the approximate # of e-s per pixel, or more precisely, the # e- RMS is the standard deviation (= sigma) around the mean pixel value.\n",
    "\n",
    "Gaussian_noise = sigma = R\n",
    "\n",
    "Since we then add the noise in quadrature that means that we add:\n",
    "\n",
    "Noise_total = SQRT ( Poisson_noise ^ 2 + Gaussian_noise ^2 + ... ) = SQRT ( (meanvalue_Poisson) + R^2 + ...)\n",
    "\n"
   ]
  },
  {
   "cell_type": "code",
   "execution_count": 1,
   "metadata": {
    "collapsed": true
   },
   "outputs": [],
   "source": [
    "import numpy as np\n",
    "import eagle_constants_and_units as c\n",
    "import cosmo_utils as csu\n",
    "import matplotlib.pyplot as plt\n",
    "import matplotlib.cm as cm\n",
    "import mpl_toolkits.axes_grid1 as axgrid\n",
    "from astropy import constants as const\n",
    "from astropy import units as u\n",
    "\n",
    "import get_halpha_SB"
   ]
  },
  {
   "cell_type": "code",
   "execution_count": 2,
   "metadata": {
    "collapsed": true
   },
   "outputs": [],
   "source": [
    "%run 'load_data.ipynb'"
   ]
  },
  {
   "cell_type": "markdown",
   "metadata": {},
   "source": [
    "First, let's declare some variables from the Dragonfly Telephoto array.\n",
    "\n",
    "We will also declare a background value, which was taken from the Gemini Sky Background spectrum.  \n",
    "*Verify that this background is correct*"
   ]
  },
  {
   "cell_type": "code",
   "execution_count": 14,
   "metadata": {
    "collapsed": true
   },
   "outputs": [],
   "source": [
    "# Dragonfly info\n",
    "area_lens = np.pi*(14.3/2)**2 * 48. *10.                # cm^2, 48 * 14.3 cm diameter lenses\n",
    "pix_size = 2.8                                          # arcsec\n",
    "ang_size_pixel  = (pix_size * (1./206265.))**2          # rad^2, the pixel size of the CCD\n",
    "tau_l = 0.85                                            # transmittance of the Dragonfly lens\n",
    "tau_f = 1.                                              # transmittance of the Halpha filter -- assumed for now\n",
    "#B = getBackground(656.3,657.3,machine)                  # *u.photon/u.second/u.arcsec**2/u.m**2  ****already multiplied by the bandwidth***\n",
    "B = 0.560633\n",
    "D = 0.04       # dark current (electrons / s) \n",
    "QE=0.48 # current cameras"
   ]
  },
  {
   "cell_type": "code",
   "execution_count": 4,
   "metadata": {
    "collapsed": true
   },
   "outputs": [],
   "source": [
    "debugging = True"
   ]
  },
  {
   "cell_type": "markdown",
   "metadata": {},
   "source": [
    "Adding the sky background (and the Poisson noise background from the data as well, in one go).\n",
    "\n",
    "1. Grab sky background \n",
    "2. Multiply sky background by efficiency factors, by the aperture area, and the by square angular pixel size\n",
    "3. Multiply sky background by the exposure time\n",
    "4. Multiply sky background by the number of pixels in one bin\n",
    "5. Make an array the shape of the data, to put the sky background and Poisson noise into\n",
    "6. Draw from a random gaussian distribution of the sqrt of the background (and the data) for each element of the array\n",
    "7. Return the array of sky background and Poisson noise, and the value of the sky background for a binned pixel in the exposure time"
   ]
  },
  {
   "cell_type": "code",
   "execution_count": 18,
   "metadata": {
    "collapsed": true
   },
   "outputs": [],
   "source": [
    "def add_skybackground(detsignal,numpixel):\n",
    "    'Background from stuff in space'\n",
    "    'background sky signal detected [B]=ph/s/arcsec^2/m^2, [B_sky]=ph/s (in a pixel)'\n",
    "    B_sky = B * QE * tau_l * tau_f * area_lens*(1/100.)**2 * pix_size**2\n",
    "    if debugging:\n",
    "        print \"DEBUGGING: the background in the bandwidth is: %s\"%B\n",
    "        print \"DEBUGGING: the background signal, B_sky [ph/s (in a pixel)], is: %s\"%B_sky\n",
    "    B_sky_inexptime = B_sky*exptime\n",
    "    B_sky_total     = B_sky_inexptime*numpixel    \n",
    "    B_sky_array = np.zeros((data.shape[0],data.shape[1]))\n",
    "    for x in range(data.shape[0]):\n",
    "        for y in range(data.shape[1]):\n",
    "            B_sky_array[x][y]=np.random.normal(0,np.sqrt(B_sky_total+detsignal[x][y])) \n",
    "#            B_sky_array[x][y]=np.random.poisson(B_sky_total)\n",
    "#    B_sky_array_total = B_sky_array\n",
    "    if debugging:\n",
    "        print \"DEBUGGING: the mean total background signal, B_sky_total [electrons], is: %s\"\\\n",
    "                %B_sky_total\n",
    "        print \"DEBUGGING: the total background noisy signal [electrons] ranges from: %s to %s\"\\\n",
    "                %(np.min(B_sky_array),np.max(B_sky_array))\n",
    " \n",
    "    return B_sky_total, B_sky_array"
   ]
  },
  {
   "cell_type": "markdown",
   "metadata": {},
   "source": [
    "Adding the dark current. "
   ]
  },
  {
   "cell_type": "code",
   "execution_count": 51,
   "metadata": {
    "collapsed": true
   },
   "outputs": [],
   "source": [
    "def add_darkcurrent(numpixel):\n",
    "    'DarkCurrent'\n",
    "    noise_from_detector = 0.0\n",
    "    D_total = D*exptime*numpixel\n",
    "    D_array_total = np.zeros((data.shape[0],data.shape[1]))\n",
    "    for x in range(data.shape[0]):\n",
    "        for y in range(data.shape[1]):\n",
    "            D_array_total[x][y]=np.random.normal(D_total,np.sqrt(D_total)) \n",
    "    if debugging:\n",
    "        print \"DEBUGGING: the total dark current [electrons] is: %s\"%(D_total)\n",
    "        print \"DEBUGGING: the total dark current noisy signal [electrons] ranges from: %s to %s\"\\\n",
    "                %(np.min(D_array_total),np.max(D_array_total))\n",
    "        \n",
    "    return D_array_total"
   ]
  },
  {
   "cell_type": "markdown",
   "metadata": {},
   "source": [
    "Adding the read out noise.  *I don't know why the sigma was B_sky for the read out noise... it is very confusing to me*\n",
    "\n",
    "1. Assume the exposures are an hour long, so get the number of times data read out by dividing exposure time by 3600 secounds\n",
    "2. The read out noise is Gaussian distributed with the sigma, R, (10e- for Dragonfly) so return a random value draw from a Gaussian distribution with sigma R"
   ]
  },
  {
   "cell_type": "code",
   "execution_count": 49,
   "metadata": {
    "collapsed": true
   },
   "outputs": [],
   "source": [
    "def add_readoutnoise(R_squared,numpixel,expnum):\n",
    "    'ReadOut Noise'\n",
    "    #numexposures = exptime/3600. # hour long exposures\n",
    "    numexposures = expnum\n",
    "    R_squared_array = np.zeros((data.shape[0],data.shape[1]))\n",
    "    R = np.sqrt(R_squared)\n",
    "    for x in range(data.shape[0]):\n",
    "        for y in range(data.shape[1]):\n",
    "#            R_squared_array[x][y]=np.mean(np.random.normal(np.sqrt(R_squared),np.sqrt(np.sqrt(B_sky)),int(numpixel)))**2   \n",
    "            R_squared_array[x][y]=np.mean(np.random.normal(0,R,int(numpixel)))**2\n",
    "    R_squared_total = R_squared * round(numexposures)\n",
    "    R_squared_total_array = R_squared_array * round(numexposures)\n",
    "#    R_squared_total_array = R_squared_array\n",
    "#    R_squared_total = R_squared\n",
    "    if debugging:\n",
    "        print \"DEBUGGING: the R_squared value is: %s, so in %s exposures [per pixel], will have R_squared of: %s\"\\\n",
    "                %(R_squared,numexposures,R_squared_total)\n",
    "        print \"DEBUGGING: the total R_squared value [electrons] multiplying by numpix read out is: %s\"\\\n",
    "                %((R_squared_total*numpixel))\n",
    "        print \"DEBUGGING: the max and min R_squared values are: %s and %s\" \\\n",
    "                %(np.max(R_squared_total_array),np.min(R_squared_total_array))\n",
    "        \n",
    "    return R_squared_total_array"
   ]
  },
  {
   "cell_type": "code",
   "execution_count": 53,
   "metadata": {
    "collapsed": true
   },
   "outputs": [],
   "source": [
    "def addnoise(data,resolution,log = True,R_squared=None,expnum=1, exptime=10**3*3600.,CMOS=False, debugging=True):\n",
    "    \"\"\"\n",
    "    This function adds noise to simulated data (such as the EAGLE simulation) to create mock observations.\n",
    "    The EAGLE data is logged though, so the log = True for the EAGLE stuff\n",
    "    \"\"\"\n",
    "    binpix_size = resolution # arcsec\n",
    "    numpixel = round((binpix_size/pix_size)**2)\n",
    "    \n",
    "    if R_squared is None:\n",
    "        if CMOS:\n",
    "            print \"VERBOSE: Using new CMOS cameras...\"\n",
    "            QE = 0.70                                       # quantum efficiency of the CMOS detector\n",
    "            R_squared = 2.**2                               # read noise (electrons)\n",
    "        else:\n",
    "            print \"VERBOSE: Using old cameras...\"\n",
    "            QE = 0.48                                       # quantum efficiency of the CCDs\n",
    "            R_squared = 10.**2                              # read noise (electrons)\n",
    "    \n",
    "    if debugging:\n",
    "        print \"DEBUGGING: R_squared is : %s\" % R_squared\n",
    "        print \"DEBUGGING: the number of pixels is %s\" % numpixel\n",
    "    \n",
    "    if log:\n",
    "        if debugging:\n",
    "            print \"DEBUGGING: raise the data by 10** since was logged data before...\"\n",
    "        data = 10**data\n",
    "    \n",
    "    'total signal incident in exposure time'\n",
    "    totsignal = data * exptime # ( photons / cm^2 /sr )\n",
    "    'total signal detected (accounting for system efficiency)'\n",
    "    detsignal = totsignal * QE * tau_l * tau_f * area_lens * ang_size_pixel * numpixel\n",
    "    \n",
    "    if debugging:\n",
    "        print \"DEBUGGING: the total object signal [electrons] detected ranges from: %s to %s\"%(np.min(detsignal),np.max(detsignal))\n",
    "        #print \"DEBUGGING: an example of the object signal [electrons] is: %s\"%detsignal[0]\n",
    "    \n",
    "    'Add sky background and shot noise to the signal'\n",
    "    B_sky_total, B_sky_array = add_skybackground(detsignal,numpixel)\n",
    "    noiseadded_signal = detsignal + B_sky_total + B_sky_array\n",
    "    \n",
    "    'Add read out noise to the signal:'\n",
    "    R_squared_total_array = add_readoutnoise(R_squared,numpixel,expnum)\n",
    "    noise_from_detector = R_squared_total_array*numpixel\n",
    "\n",
    "    'Add dark current to the signal:'\n",
    "    D_array_total = add_darkcurrent(numpixel)\n",
    "    noise_from_detector = noise_from_detector + D_array_total\n",
    "    \n",
    "    #if debugging:\n",
    "    #    print \"DEBUGGING: an example total noise (not squarerooted) is: %s\"%(detsignal + B_sky_array + D_array_total + R_squared_total_array*numpixel)[0]\n",
    "    \n",
    "    noiseadded_signal = noiseadded_signal + noise_from_detector\n",
    "    \n",
    "    return noiseadded_signal"
   ]
  },
  {
   "cell_type": "markdown",
   "metadata": {},
   "source": [
    "To demonstrate the dependence of the different noise sources on time, I need a mock data set that I will add noise to.\n",
    "How about not even using the EAGLE data at first, instead just using a circle of ones on a background of zeros (to make everything very clear!)."
   ]
  },
  {
   "cell_type": "code",
   "execution_count": 36,
   "metadata": {
    "collapsed": false
   },
   "outputs": [
    {
     "data": {
      "image/png": "[encoded data removed]",
      "text/plain": [
       "<matplotlib.figure.Figure at 0x112eec150>"
      ]
     },
     "metadata": {},
     "output_type": "display_data"
    }
   ],
   "source": [
    "size = 100\n",
    "pretenddata = np.zeros((size,size))\n",
    "for j in np.arange(size)-size/2:\n",
    "    for i in np.arange(size)-size/2:\n",
    "        if np.sqrt(j**2 + i**2) < 30. and np.sqrt(j**2 + i**2) > 20. :  \n",
    "            pretenddata[j+size/2,i+size/2] = 10000.\n",
    "    \n",
    "fig = plt.figure(figsize=(6, 3.2))\n",
    "ax = fig.add_subplot(111)\n",
    "ax.set_title('Pretend Data')\n",
    "plt.imshow(pretenddata)\n",
    "ax.set_aspect('equal')\n",
    "cax = fig.add_axes([0.12, 0.1, 0.78, 0.8])\n",
    "cax.get_xaxis().set_visible(False)\n",
    "cax.get_yaxis().set_visible(False)\n",
    "cax.patch.set_alpha(0)\n",
    "cax.set_frame_on(False)\n",
    "plt.colorbar(orientation='vertical')\n",
    "plt.show()"
   ]
  },
  {
   "cell_type": "markdown",
   "metadata": {},
   "source": [
    "The next step is to start adding noise i.e. integrate for a small amount of time.\n",
    "\n",
    "The add_noise function takes a couple inputs along with the data:\n",
    "1. resolution\n",
    "2. exposure time\n",
    "3. readout noise value (optional)\n",
    "4. toggle to use CMOS detectors (optional)\n",
    "\n",
    "Let's not use the CMOS detectors, and let's use the default read out noise for now.\n",
    "\n",
    "Let's just say we are not binning at first, so the resolution is the same as the detector (2.8\").\n",
    "\n",
    "And finally, let's use various exposure times, starting with one minute (60 seconds)."
   ]
  },
  {
   "cell_type": "code",
   "execution_count": 54,
   "metadata": {
    "collapsed": false
   },
   "outputs": [
    {
     "name": "stdout",
     "output_type": "stream",
     "text": [
      "VERBOSE: Using old cameras...\n",
      "DEBUGGING: R_squared is : 100.0\n",
      "DEBUGGING: the number of pixels is 1.0\n",
      "DEBUGGING: the total object signal [electrons] detected ranges from: 0.0 to 3.47759968285\n",
      "DEBUGGING: the background in the bandwidth is: 0.560633\n",
      "DEBUGGING: the background signal, B_sky [ph/s (in a pixel)], is: 13.824775167\n",
      "DEBUGGING: the mean total background signal, B_sky_total [electrons], is: 829.486510018\n",
      "DEBUGGING: the total background noisy signal [electrons] ranges from: -105.125583662 to 102.233320131\n",
      "DEBUGGING: the R_squared value is: 100.0, so in 1 exposures [per pixel], will have R_squared of: 100.0\n",
      "DEBUGGING: the total R_squared value [electrons] multiplying by numpix read out is: 100.0\n",
      "DEBUGGING: the max and min R_squared values are: 1375.11450346 and 3.22975930842e-06\n",
      "DEBUGGING: the total dark current [electrons] is: 2.4\n",
      "DEBUGGING: the total dark current noisy signal [electrons] ranges from: -3.54096910491 to 8.34175034131\n"
     ]
    }
   ],
   "source": [
    "data = pretenddata; resolution = 2.8; exptime = 60.\n",
    "\n",
    "noiseadded_signal = addnoise(data,resolution,log=False,exptime=exptime, expnum=1, debugging=True)"
   ]
  },
  {
   "cell_type": "code",
   "execution_count": 4,
   "metadata": {
    "collapsed": false
   },
   "outputs": [
    {
     "name": "stdout",
     "output_type": "stream",
     "text": [
      "%s exists, loading now...\n"
     ]
    }
   ],
   "source": []
  },
  {
   "cell_type": "code",
   "execution_count": null,
   "metadata": {
    "collapsed": true
   },
   "outputs": [],
   "source": []
  },
  {
   "cell_type": "code",
   "execution_count": null,
   "metadata": {
    "collapsed": true
   },
   "outputs": [],
   "source": [
    "# exposure time\n",
    "exptime = 60.*60.*10**5  # seconds  (10^5 hours)\n",
    "# where is the data\n",
    "machine='chinook'\n",
    "# what distance and resolution do you want\n",
    "distance = '50Mpc'; resolution = 100\n",
    "data_tuple = loaddata(machine=machine,resolution=resolution,distance=distance)\n",
    "# or do you want the raw data\n",
    "data_tuple = loaddata(machine=machine)\n",
    "data = data_tuple[0]"
   ]
  }
 ],
 "metadata": {
  "kernelspec": {
   "display_name": "Python 2",
   "language": "python",
   "name": "python2"
  },
  "language_info": {
   "codemirror_mode": {
    "name": "ipython",
    "version": 2
   },
   "file_extension": ".py",
   "mimetype": "text/x-python",
   "name": "python",
   "nbconvert_exporter": "python",
   "pygments_lexer": "ipython2",
   "version": "2.7.13"
  }
 },
 "nbformat": 4,
 "nbformat_minor": 2
}
