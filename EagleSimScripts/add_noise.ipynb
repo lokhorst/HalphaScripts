{
 "cells": [
  {
   "cell_type": "markdown",
   "metadata": {},
   "source": [
    "# Adding noise to the EAGLE simulations\n",
    "This goal of this notebook is to explore adding noise to the EAGLE simulation to make mock observations.  The main part of this notebook doesn't even use the simulations, it just explores the sources of noise as added to a pretend data set (a circle on a blank background).\n",
    "\n",
    "We will go through the different types of noise so that it is clear which one dominates the signal.  In particular, we want to explore when read out noise trades out with the sky background as the dominant noise source.\n",
    "\n",
    "### Sources of Poisson noise:\n",
    "The shot noise, dark current noise, and sky background noise are all Poisson processes.  Therefore can draw from a Poisson or Gaussian (large number statistics) distribution with a sigma that is the square root of the mean value for each background source to draw random values for the noise.\n",
    "\n",
    "> For small photon counts, photon noise is generally dominated by other signal-independent sources of noise, and\n",
    "for larger counts, the central limit theorem ensures that the Poisson distribution approaches a Gaussian.\n",
    "\n",
    "> The ratio of signal to photon noise grows with the square root\n",
    "of the number of photons captured, √ λt. <br>\n",
    "( https://people.csail.mit.edu/hasinoff/pubs/hasinoff-photon-2012-preprint.pdf )\n",
    "\n",
    "Poission_noise = sigma = SQRT(meanvalue_Poisson)\n",
    "\n",
    "By the Central Limit Theorem, the Poisson distribution can be approximated as a Gaussian ( http://www.socr.ucla.edu/Applets.dir/NormalApprox2PoissonApplet.html ): <br>\n",
    "if X $\\sim$ Poisson($\\lambda$) $\\Rightarrow$ X $\\approx N(\\mu = \\lambda,\\sigma = \\sqrt\\lambda )$ \n",
    "\n",
    "\n",
    "e.g. D_noise = SQRT ( D )\n",
    "\n",
    "### Read out noise:\n",
    "The read out noise is a Gaussian process, therefore can draw from a Gaussian distribution with a sigma that is the read out noise value given.  \n",
    "\n",
    "> CCD manufacturers measure and report CCD noise as a number of electrons RMS (Root Mean Square).  You’ll typically see it presented like this, 15eˉ RMS, meaning that with this CCD, you should expect to see about 15 electrons of noise per pixel.  More precisely, 15eˉ RMS is the standard deviation around the mean pixel value. <br>\n",
    "( http://www.qsimaging.com/ccd_noise.html )\n",
    "\n",
    "It seems that we don't actually know the mean value of the read out noise, so we should center the read out noise at zero (since we can subtract the mean value off in the images).\n",
    "\n",
    "Gaussian_noise = sigma = R\n",
    "\n",
    "### Combining noise:\n",
    "We then add the noise in quadrature (error propagation):\n",
    "\n",
    "Noise_total = SQRT ( Poisson_noise ^ 2 + Gaussian_noise ^2 + ... ) = SQRT ( (meanvalue_Poisson) + R^2 + ...)\n",
    "\n",
    "For a couple references on error propagation, check out:\n",
    "http://www.mso.anu.edu.au/pfrancis/ObsTech/Stats2.pdf and https://www.deanza.edu/faculty/marshburnthomas/pdf/ErrorPropagation.pdf.\n"
   ]
  },
  {
   "cell_type": "code",
   "execution_count": 1,
   "metadata": {
    "collapsed": true
   },
   "outputs": [],
   "source": [
    "import numpy as np\n",
    "import eagle_constants_and_units as c\n",
    "import cosmo_utils as csu\n",
    "import matplotlib.pyplot as plt\n",
    "import matplotlib.cm as cm\n",
    "import mpl_toolkits.axes_grid1 as axgrid\n",
    "from astropy import constants as const\n",
    "from astropy import units as u\n",
    "\n",
    "import get_halpha_SB\n",
    "\n",
    "%matplotlib inline"
   ]
  },
  {
   "cell_type": "code",
   "execution_count": 2,
   "metadata": {
    "collapsed": true
   },
   "outputs": [],
   "source": [
    "%run 'load_data.ipynb'"
   ]
  },
  {
   "cell_type": "markdown",
   "metadata": {},
   "source": [
    "First, let's declare some variables from the Dragonfly Telephoto array.\n",
    "\n",
    "We will also declare a background value, which was taken from the Gemini Sky Background spectrum.  \n",
    "*Verify that this background is correct*"
   ]
  },
  {
   "cell_type": "code",
   "execution_count": 3,
   "metadata": {
    "collapsed": true
   },
   "outputs": [],
   "source": [
    "# Dragonfly info\n",
    "area_lens = np.pi*(14.3/2)**2 * 48.                     # cm^2, 48 * 14.3 cm diameter lenses\n",
    "pix_size = 2.8                                          # arcsec\n",
    "ang_size_pixel  = (pix_size * (1./206265.))**2          # rad^2, the pixel size of the CCD\n",
    "tau_l = 0.85                                            # transmittance of the Dragonfly lens\n",
    "tau_f = 1.                                              # transmittance of the Halpha filter -- assumed for now\n",
    "#B = getBackground(656.3,657.3,machine)                  # *u.photon/u.second/u.arcsec**2/u.m**2  ****already multiplied by the bandwidth***\n",
    "B = 0.560633\n",
    "D = 0.04       # dark current (electrons / s) \n",
    "QE= 0.48 # current cameras"
   ]
  },
  {
   "cell_type": "code",
   "execution_count": 4,
   "metadata": {
    "collapsed": true
   },
   "outputs": [],
   "source": [
    "#debugging = True"
   ]
  },
  {
   "cell_type": "markdown",
   "metadata": {},
   "source": [
    "Adding the sky background (and the Poisson noise background from the data as well, in one go).\n",
    "\n",
    "1. Grab sky background \n",
    "2. Multiply sky background by efficiency factors, by the aperture area, and the by square angular pixel size\n",
    "3. Multiply sky background by the exposure time\n",
    "4. Multiply sky background by the number of pixels in one bin\n",
    "5. Make an array the shape of the data, to put the sky background and Poisson noise into\n",
    "6. Draw from a random gaussian distribution of the sqrt of the background (and the data) for each element of the array\n",
    "7. Return the array of sky background and Poisson noise, and the value of the sky background for a binned pixel in the exposure time"
   ]
  },
  {
   "cell_type": "code",
   "execution_count": 5,
   "metadata": {
    "collapsed": true
   },
   "outputs": [],
   "source": [
    "def add_skybackground(data,B_sky,exptime,numpixel):\n",
    "    'Background from stuff in space'\n",
    "    B_sky_inexptime = B_sky*exptime\n",
    "    B_sky_total     = B_sky_inexptime*numpixel    \n",
    "    B_sky_array = np.zeros((data.shape[0],data.shape[1]))\n",
    "    if debugging:\n",
    "        print \"DEBUGGING: the shape of B_sky_array is: \"\n",
    "        print B_sky_array.shape\n",
    "    for x in range(data.shape[0]):\n",
    "        for y in range(data.shape[1]):\n",
    "            B_sky_array[x][y]=np.random.normal(0,np.sqrt(B_sky_total+data[x][y])) \n",
    "#            B_sky_array[x][y]=np.random.poisson(B_sky_total)\n",
    "\n",
    "    if debugging:\n",
    "        print \"DEBUGGING: the mean total background signal, B_sky_total [electrons], is: %s\"\\\n",
    "                %B_sky_total\n",
    "        print \"DEBUGGING: the total background noisy signal [electrons] ranges from: %s to %s\"\\\n",
    "                %(np.min(B_sky_array),np.max(B_sky_array))\n",
    " \n",
    "    return B_sky_array"
   ]
  },
  {
   "cell_type": "markdown",
   "metadata": {},
   "source": [
    "Adding the dark current. "
   ]
  },
  {
   "cell_type": "code",
   "execution_count": 12,
   "metadata": {
    "collapsed": true
   },
   "outputs": [],
   "source": [
    "def add_darkcurrent(data,exptime,numpixel):\n",
    "    'DarkCurrent'\n",
    "    noise_from_detector = 0.0\n",
    "    D_total = D*exptime*numpixel\n",
    "    D_array_total = np.zeros((data.shape[0],data.shape[1]))\n",
    "    for x in range(data.shape[0]):\n",
    "        for y in range(data.shape[1]):\n",
    "            D_array_total[x][y]=np.random.normal(D_total,np.sqrt(D_total)) \n",
    "    if debugging:\n",
    "        print \"DEBUGGING: the total dark current [electrons] is: %s\"%(D_total)\n",
    "        print \"DEBUGGING: the total dark current noisy signal [electrons] ranges from: %s to %s\"\\\n",
    "                %(np.min(D_array_total),np.max(D_array_total))\n",
    "        \n",
    "    return D_array_total"
   ]
  },
  {
   "cell_type": "markdown",
   "metadata": {},
   "source": [
    "Adding the read out noise.  *Note to self: I don't know why the sigma was B_sky for the read out noise in the previous script... i'm guessing for testing but it is very confusing to me*\n",
    "\n",
    "1. If the number of exposures is not provided, assume the exposures are an hour long, so get the number of times data read out by dividing exposure time by 3600 secounds\n",
    "2. The read out noise is Gaussian distributed with sigma R (10e- for Dragonfly) so return a random value draw from a Gaussian distribution with sigma R\n",
    "\n",
    "This algorithm for applying the readout noise assumes that each 2.8 arcsecond pixel (i.e. inherent Dragonfly pixel, not binned) is assigned a (random) readout noise.  \n",
    "\n",
    "Since we will end up binning the data over some number of pixels, \"numpixel\", we build an array the size of the binned array (smaller than the inherent Dragonfly array), and in each index of the array, we store the SUM of the readout noise from each of the pixels and from each exposure.  We store the SUM instead of the AVERAGE because we won't be able to calculate the average readout noise independantly in the actual data (unless we do on-chip binning).  (So, right now I am assuming off-chip binning).\n",
    "\n",
    "The binned read out noise is stored in \"R_array\".\n",
    "\n",
    "The squared of \"R_array\" is stored in \"R_squared_array\", in prep for adding the noise in quadrature.  *Note to self:  Wait, why am I doing this?*\n",
    "\n"
   ]
  },
  {
   "cell_type": "code",
   "execution_count": 10,
   "metadata": {
    "collapsed": true
   },
   "outputs": [],
   "source": [
    "def add_readoutnoise(data,R,numpixel,expnum,exptime):\n",
    "    'ReadOut Noise'\n",
    "    numexp = 1\n",
    "    numlens = 48    \n",
    "    R_squared = R**2\n",
    "    if expnum is None:\n",
    "        numexp = exptime/3600. # hour long exposures\n",
    "        if debugging:\n",
    "            print \"DEBUGGING: No expnum provided, assuming hour long exposures.\"\n",
    "    else:\n",
    "        numexp = expnum\n",
    "    if debugging:\n",
    "        print \"DEBUGGING: The number of exposures is: %s\" % numexp\n",
    "        print \"DEBUGGING: Drawing %s values (numpixel=%s * numexp=%s * numlens=%s) per binned pixel and summing them.\" \\\n",
    "                %((int(numpixel)*round(numexp)*numlens),int(numpixel),round(numexp),numlens)\n",
    "    \n",
    "    R_squared_array = np.zeros((data.shape[0],data.shape[1]))\n",
    "    R_array = np.zeros((data.shape[0],data.shape[1]))\n",
    "    for x in range(data.shape[0]):\n",
    "        print \"VERBOSE:  At line %s out of %s\" % (x,data.shape[0])\n",
    "        #if data.shape[0]>1000:\n",
    "        #    if (x % 100)==0:\n",
    "        #        print \"VERBOSE:  At line %s out of %s\" % (x,data.shape[0])\n",
    "        #elif data.shape[0]>100:\n",
    "        #    if (x % 50)==0:\n",
    "        #        print \"VERBOSE: At line %s out of %s\" % (x,data.shape[0])\n",
    "        for y in range(data.shape[1]):\n",
    "            if data.shape[1]>1000:\n",
    "                if (y % 100)==0:\n",
    "                    print \"VERBOSE:  At column %s out of %s\" % (y,data.shape[0])\n",
    "            R_array[x][y]=np.sum(np.random.normal(0,R,int(numpixel)*round(numexp)*numlens))\n",
    "            R_squared_array[x][y]=(R_array[x][y])**2 # centered at 0, st dev of R, return numpixel*numexp values\n",
    "    \n",
    "    if debugging:\n",
    "        print \"DEBUGGING: Standard deviation of R array: %s \" % np.std(R_array)\n",
    "        print \"DEBUGGING: the R_squared value is: %s, so in %s exposures [per pixel], will have R_squared of: %s\"\\\n",
    "                %(R_squared,numexp,R_squared * round(numexp))\n",
    "        print \"DEBUGGING: the total R_squared value [electrons] multiplying by numpix read out is: %s\"\\\n",
    "                %((R_squared * round(numexp) * numpixel))\n",
    "        print \"DEBUGGING: the max and min R_squared values are: %s and %s\" \\\n",
    "                %(np.max(R_squared_array),np.min(R_squared_array))\n",
    "        print \"DEBUGGING: the max and min R values are: %s and %s\" \\\n",
    "                %(np.max(R_array),np.min(R_array))\n",
    "        \n",
    "    return R_array"
   ]
  },
  {
   "cell_type": "code",
   "execution_count": 46,
   "metadata": {
    "collapsed": true
   },
   "outputs": [],
   "source": [
    "def addnoise(data,resolution,log = True,R=None,expnum=None, exptime=10**3*3600.,CMOS=False, debugging=True):\n",
    "    \"\"\"\n",
    "    This function adds noise to simulated data (such as the EAGLE simulation) to create mock observations.\n",
    "    The EAGLE data is logged though, so the log = True for the EAGLE stuff\n",
    "    \"\"\"\n",
    "    binpix_size = resolution # arcsec\n",
    "    numpixel = round((binpix_size/pix_size)**2)\n",
    "    \n",
    "    if debugging:\n",
    "        print \"DEBUGGING: the binpix_size (resolution) is %s\" %binpix_size\n",
    "        print \"DEBUGGING: the pixel size (inherent) is %s\" %pix_size\n",
    "    \n",
    "    if CMOS:\n",
    "        print \"VERBOSE: Using new CMOS cameras... (QE = 0.70, R = 2.)\"\n",
    "        QE = 0.70                                           # quantum efficiency of the CMOS detector\n",
    "    else:\n",
    "        print \"VERBOSE: Using old cameras... (QE = 0.48, R = 10.)\"\n",
    "        QE = 0.48    \n",
    "    \n",
    "    if R is None:\n",
    "        if CMOS:\n",
    "            R = 2.                               # read noise (electrons)\n",
    "        else:\n",
    "            R = 10.                              \n",
    "    \n",
    "    if debugging:\n",
    "        print \"DEBUGGING: R is : %s\" % R\n",
    "        print \"DEBUGGING: the number of pixels is %s\" % numpixel\n",
    "    \n",
    "    if log:\n",
    "        if debugging:\n",
    "            print \"DEBUGGING: raise the data by 10** since was logged data before...\"\n",
    "        data = 10**data\n",
    "    \n",
    "    if debugging:\n",
    "        print \"DEBUGGING: the shape of the input data is:\"\n",
    "        print data.shape\n",
    "    \n",
    "    'total signal incident in exposure time'\n",
    "    totsignal = data * exptime # ( photons / cm^2 /sr )\n",
    "    'total signal detected (accounting for system efficiency)'\n",
    "    detsignal = totsignal * QE * tau_l * tau_f * area_lens * ang_size_pixel * numpixel\n",
    "    \n",
    "    if debugging:\n",
    "        print \"DEBUGGING: the total object signal [electrons] detected ranges from: %s to %s\"%(np.min(detsignal),np.max(detsignal))\n",
    "        #print \"DEBUGGING: an example of the object signal [electrons] is: %s\"%detsignal[0]\n",
    "        print \"DEBUGGING: the shape of the detsignal is:\"\n",
    "        print detsignal.shape\n",
    "    \n",
    "    print \"Adding sky background noise and shot noise.\"\n",
    "    'background sky signal detected [B]=ph/s/arcsec^2/m^2, [B_sky]=ph/s (in a pixel)'\n",
    "    B_sky = B * QE * tau_l * tau_f * area_lens*(1/100.)**2 * pix_size**2\n",
    "    if debugging:\n",
    "        print \"DEBUGGING: the background in the bandwidth is: %s\"%B\n",
    "        print \"DEBUGGING: the background signal, B_sky [ph/s (in a pixel)], is: %s\"%B_sky\n",
    "\n",
    "    B_sky_array = add_skybackground(detsignal,B_sky,exptime,numpixel)\n",
    "    noiseadded_signal = detsignal + B_sky_array + B_sky*exptime*numpixel  ## last term is constant (mean sky background - don't really need to add in...)\n",
    "    \n",
    "    print \"Adding read out noise to the signal.\"\n",
    "    R_array = add_readoutnoise(detsignal,R,numpixel,expnum,exptime)\n",
    "    noise_from_detector = R_array\n",
    "\n",
    "    print \"Adding dark current to the signal.\"\n",
    "    D_array = add_darkcurrent(detsignal,exptime,numpixel)\n",
    "    noise_from_detector = noise_from_detector + D_array\n",
    "        \n",
    "    noiseadded_signal = noiseadded_signal + noise_from_detector\n",
    "    \n",
    "    return noiseadded_signal,B_sky_array,R_array"
   ]
  },
  {
   "cell_type": "code",
   "execution_count": 74,
   "metadata": {
    "collapsed": true
   },
   "outputs": [],
   "source": [
    "### EXAMPLE ###\n",
    "## exposure time\n",
    "#exptime = 60.*60.*10**5  # seconds  (10^5 hours)\n",
    "## where is the data\n",
    "#machine='coho'\n",
    "## what distance and resolution do you want\n",
    "#distance = '50Mpc'; resolution = 100\n",
    "#data_tuple = loaddata(machine=machine,resolution=resolution,distance=distance)\n",
    "## or do you want the raw data\n",
    "#data_tuple = loaddata(machine=machine)\n",
    "#data = data_tuple[0]"
   ]
  },
  {
   "cell_type": "code",
   "execution_count": null,
   "metadata": {
    "collapsed": true
   },
   "outputs": [],
   "source": []
  }
 ],
 "metadata": {
  "kernelspec": {
   "display_name": "Python 2",
   "language": "python",
   "name": "python2"
  },
  "language_info": {
   "codemirror_mode": {
    "name": "ipython",
    "version": 2
   },
   "file_extension": ".py",
   "mimetype": "text/x-python",
   "name": "python",
   "nbconvert_exporter": "python",
   "pygments_lexer": "ipython2",
   "version": "2.7.12"
  }
 },
 "nbformat": 4,
 "nbformat_minor": 2
}
