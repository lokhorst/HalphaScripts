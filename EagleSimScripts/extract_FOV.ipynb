{
 "cells": [
  {
   "cell_type": "markdown",
   "metadata": {},
   "source": [
    "# Extracting the Dragonfly FOV from the EAGLE simulations\n",
    "\n",
    "This script is a snippet to extract an array the size of the Dragonfly FOV from the EAGLE data (assumes that the full size 100Mpc data array is input to it).  The shape of the data is not necessary 32000x32000 anymore, because in the load_data step it may have decreased the size/resolution of the data.\n",
    "\n",
    "The Dragonfly FOV depends on the distance and resolution/size of the data (because the script needs to know the pixel scale).  Give it a reference point that it will center the Dragonfly FOV on."
   ]
  },
  {
   "cell_type": "code",
   "execution_count": 1,
   "metadata": {
    "collapsed": true
   },
   "outputs": [],
   "source": [
    "import numpy as np"
   ]
  },
  {
   "cell_type": "code",
   "execution_count": 3,
   "metadata": {
    "collapsed": true
   },
   "outputs": [],
   "source": [
    "def extractFOV(data_tuple, resolution, distance, x_center = 47.5, y_center = 12.):\n",
    "    \"\"\"\n",
    "    data_tuple: [data, newsize, factor]\n",
    "    data:  2D array, equal to 100Mpc along each size\n",
    "    newsize: the cropped size of the 2D array before it was binned with imreduce \n",
    "    factor:  the factor by which the size of the array was decreased from 32000x32000 i.e. the factor of binned pixels\n",
    "    resolution: the new resolution of the data, in arcsec (redundant variable, no longer used, since assuming that size\n",
    "                of the data is 100Mpc a side -- change this so that can input the size of the data)\n",
    "                resolution = ( size angular ) / ( size pixels ) = ( sizeMpc / pixscale ) / sizepixels\n",
    "                e.g. resolution = ( 100Mpc / pixscale['100Mpc'] ) / (32000/2) \n",
    "    distance: the distance that the data is put at (required for correct scaling wrt cMpc/arcsec)\n",
    "    x_center, x_center: set of coordinates in Mpc that the output array will be centered on\n",
    "    \"\"\"\n",
    "    \n",
    "    # Using comoving distance to calculate the pixel scale, because the EAGLE simulation is \n",
    "    # 100 comoving Mpc a side (so this is consistent).\n",
    "    pixscale =  {'46Mpc': 0.221/1000.*(1.+0.0107), '50Mpc': 0.237/1000.*(1.+0.0115), \\\n",
    "                 '92Mpc': 0.437/1000.*(1.+0.0215),'100Mpc': 0.477/1000.*(1.+0.0235),\\\n",
    "                 '200Mpc': 0.928/1000.*(1.+0.047) , '500Mpc': 2.178/1000.*(1.+0.12)} ### Mpc / arcsec (comoving)\n",
    "    x_angFOV = 3.*60.*60. # arcsec\n",
    "    y_angFOV = 2.*60.*60. # arcsec\n",
    "    x_FOV = {distance: pixscale[distance]*x_angFOV for distance in ['46Mpc','50Mpc','100Mpc','200Mpc','500Mpc']}  # cMpc\n",
    "    y_FOV = {distance: pixscale[distance]*y_angFOV for distance in ['46Mpc','50Mpc','100Mpc','200Mpc','500Mpc']}  # cMpc\n",
    "\n",
    "    data = data_tuple[0]; newsize = data_tuple[1]; factor = data_tuple[2];\n",
    "    \n",
    "    xystarts = [x_center-x_FOV[distance]/2.,y_center-y_FOV[distance]/2.]\n",
    "    size     = [x_FOV[distance], y_FOV[distance]]\n",
    "    \n",
    "    x1 = ((x_center-x_FOV[distance]/2.)/100.*(newsize/factor))\n",
    "    x2 = ((x_center+x_FOV[distance]/2.)/100.*(newsize/factor))\n",
    "    y1 = ((y_center-y_FOV[distance]/2.)/100.*(newsize/factor))\n",
    "    y2 = ((y_center+y_FOV[distance]/2.)/100.*(newsize/factor))\n",
    "    \n",
    "    data_FOV = data[int(x1):int(x2),int(y1):int(y2)]\n",
    "    \n",
    "    return data_FOV, xystarts, size"
   ]
  },
  {
   "cell_type": "code",
   "execution_count": 1,
   "metadata": {},
   "outputs": [],
   "source": [
    "### EXAMPLE ###\n",
    "#print pixscale # in Mpc / arcsec\n",
    "#pixscale_p =  {'50Mpc': 0.237/1000., '100Mpc': 0.477/1000.,\\\n",
    "#             '200Mpc': 0.928/1000. , '500Mpc': 2.178/1000.} ### Mpc / arcsec (proper)\n",
    "#print pixscale_p"
   ]
  },
  {
   "cell_type": "code",
   "execution_count": 2,
   "metadata": {},
   "outputs": [],
   "source": [
    "#0.00044639550000000005 * 3 *60.*60."
   ]
  },
  {
   "cell_type": "code",
   "execution_count": null,
   "metadata": {
    "collapsed": true
   },
   "outputs": [],
   "source": []
  },
  {
   "cell_type": "code",
   "execution_count": null,
   "metadata": {
    "collapsed": true
   },
   "outputs": [],
   "source": []
  }
 ],
 "metadata": {
  "kernelspec": {
   "display_name": "Python 2",
   "language": "python",
   "name": "python2"
  },
  "language_info": {
   "codemirror_mode": {
    "name": "ipython",
    "version": 2
   },
   "file_extension": ".py",
   "mimetype": "text/x-python",
   "name": "python",
   "nbconvert_exporter": "python",
   "pygments_lexer": "ipython2",
   "version": "2.7.12"
  }
 },
 "nbformat": 4,
 "nbformat_minor": 2
}
