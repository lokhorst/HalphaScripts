{
 "cells": [
  {
   "cell_type": "markdown",
   "metadata": {},
   "source": [
    "This script is a snippet to extract an array the size of the Dragonfly FOV from the EAGLE data.\n",
    "\n",
    "The Dragonfly FOV depends on the distance and resolution/size of the data (because the script needs to know the pixel scale).  Give it a reference point that it will center the Dragonfly FOV on."
   ]
  },
  {
   "cell_type": "code",
   "execution_count": 1,
   "metadata": {
    "collapsed": true
   },
   "outputs": [],
   "source": [
    "import numpy as np\n",
    "import get_halpha_SB\n",
    "\n",
    "pixscale =  {'50Mpc': 0.237/1000.*(1.+0.0115), '100Mpc': 0.477/1000.*(1.+0.0235),'200Mpc': 0.928/1000.*(1.+0.047) , '500Mpc': 2.178/1000.*(1.+0.12)} ### Mpc / arcsec (comoving)\n",
    "x_angFOV = 3.*60.*60. # \" \n",
    "y_angFOV = 2.*60.*60. # \"  \n",
    "x_FOV = {distance: pixscale[distance]*x_angFOV for distance in ['50Mpc','100Mpc','200Mpc','500Mpc']}  # cMpc\n",
    "y_FOV = {distance: pixscale[distance]*y_angFOV for distance in ['50Mpc','100Mpc','200Mpc','500Mpc']}  # cMpc\n"
   ]
  },
  {
   "cell_type": "code",
   "execution_count": 3,
   "metadata": {
    "collapsed": true
   },
   "outputs": [],
   "source": [
    "def extractFOV(data_tuple, resolution, distance, x_center = 47.5, y_center = 12.):\n",
    "    data = data_tuple[0]; newsize = data_tuple[1]; factor = data_tuple[2];\n",
    "    \n",
    "    xystarts = [x_center-x_FOV[distance]/2.,y_center-y_FOV[distance]/2.]\n",
    "    size     = [x_FOV[distance], y_FOV[distance]]\n",
    "    \n",
    "    x1 = ((x_center-x_FOV[distance]/2.)/100.*(newsize/factor))\n",
    "    x2 = ((x_center+x_FOV[distance]/2.)/100.*(newsize/factor))\n",
    "    y1 = ((y_center-y_FOV[distance]/2.)/100.*(newsize/factor))\n",
    "    y2 = ((y_center+y_FOV[distance]/2.)/100.*(newsize/factor))\n",
    "    \n",
    "    data_FOV = data[int(x1):int(x2),int(y1):int(y2)]\n",
    "    \n",
    "    return data_FOV"
   ]
  },
  {
   "cell_type": "code",
   "execution_count": null,
   "metadata": {
    "collapsed": true
   },
   "outputs": [],
   "source": [
    "### EXAMPLE ###\n"
   ]
  }
 ],
 "metadata": {
  "kernelspec": {
   "display_name": "Python 2",
   "language": "python",
   "name": "python2"
  },
  "language_info": {
   "codemirror_mode": {
    "name": "ipython",
    "version": 2
   },
   "file_extension": ".py",
   "mimetype": "text/x-python",
   "name": "python",
   "nbconvert_exporter": "python",
   "pygments_lexer": "ipython2",
   "version": "2.7.12"
  }
 },
 "nbformat": 4,
 "nbformat_minor": 2
}
