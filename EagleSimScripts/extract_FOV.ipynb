{
 "cells": [
  {
   "cell_type": "markdown",
   "metadata": {},
   "source": [
    "# Extracting the Dragonfly FOV from the EAGLE simulations\n",
    "\n",
    "This script is a snippet to extract an array the size of the Dragonfly FOV from the EAGLE data (assumes that the full size 100Mpc data array is input to it).  The shape of the data is not necessary 32000x32000 anymore, because in the load_data step it may have decreased the size/resolution of the data.\n",
    "\n",
    "The Dragonfly FOV depends on the distance and resolution/size of the data (because the script needs to know the pixel scale).  Give it a reference point that it will center the Dragonfly FOV on."
   ]
  },
  {
   "cell_type": "code",
   "execution_count": 1,
   "metadata": {
    "collapsed": true
   },
   "outputs": [],
   "source": [
    "import numpy as np"
   ]
  },
  {
   "cell_type": "code",
   "execution_count": 2,
   "metadata": {
    "collapsed": true
   },
   "outputs": [],
   "source": [
    "def extractFOV(data_tuple, resolution, distance, x_center = 47.5, y_center = 12.,debug=False,x_angFOV=10800.,y_angFOV=7200.):\n",
    "    \"\"\"\n",
    "    data_tuple: [data, newsize, factor]\n",
    "    data:  2D array, equal to 100Mpc along each size\n",
    "    newsize: the cropped size of the 2D array before it was binned with imreduce \n",
    "    factor:  the factor by which the size of the array was decreased from 32000x32000 i.e. the factor of binned pixels\n",
    "    resolution: the new resolution of the data, in arcsec (redundant variable, no longer used, since assuming that size\n",
    "                of the data is 100Mpc a side -- change this so that can input the size of the data)\n",
    "                resolution = ( size angular ) / ( size pixels ) = ( sizeMpc / pixscale ) / sizepixels\n",
    "                e.g. resolution = ( 100Mpc / pixscale['100Mpc'] ) / (32000/2) \n",
    "    distance: the distance that the data is put at (required for correct scaling wrt cMpc/arcsec)\n",
    "    x_center, x_center: set of coordinates in Mpc that the output array will be centered on\n",
    "    Dragonfly FOV is the default desired output angular size:\n",
    "    x_angFOV: 3.*60.*60. = 10800.0 # arcsec\n",
    "    y_angFOV: 2.*60.*60. = 7200.0# arcsec\n",
    "    \"\"\"\n",
    "    \n",
    "    # Using comoving distance to calculate the pixel scale, because the EAGLE simulation is \n",
    "    # 100 comoving Mpc a side (so this is consistent).\n",
    "    pixscale =  {'20Mpc': 0.098/1000.*(1.+0.0047), '25Mpc': 0.120/1000.*(1.+0.0058), \\\n",
    "                 '30Mpc': 0.145/1000.*(1.+0.007), '35Mpc': 0.170/1000.*(1.+0.0082), \\\n",
    "                 '40Mpc': 0.194/1000.*(1.+0.0094),  \\\n",
    "                 '46Mpc': 0.221/1000.*(1.+0.0107), '50Mpc': 0.237/1000.*(1.+0.0115), \\\n",
    "                 '92Mpc': 0.437/1000.*(1.+0.0215),'100Mpc': 0.477/1000.*(1.+0.0235),\\\n",
    "                 '200Mpc': 0.928/1000.*(1.+0.047), '500Mpc': 2.178/1000.*(1.+0.12),\\\n",
    "                 '980Mpc': 3.825/1000.*(1.+0.24), '1600Mpc':5.588/1000.*(1+0.42)} ### Mpc / arcsec (comoving)\n",
    "\n",
    "    x_FOV = {distance: pixscale[distance]*x_angFOV for distance in ['20Mpc','25Mpc','30Mpc','35Mpc','40Mpc','46Mpc','50Mpc','100Mpc','200Mpc','500Mpc','980Mpc','1600Mpc']}  # cMpc\n",
    "    y_FOV = {distance: pixscale[distance]*y_angFOV for distance in ['20Mpc','25Mpc','30Mpc','35Mpc','40Mpc','46Mpc','50Mpc','100Mpc','200Mpc','500Mpc','980Mpc','1600Mpc']}  # cMpc\n",
    "\n",
    "    data = data_tuple[0]; newsize = data_tuple[1]; factor = data_tuple[2];\n",
    "    \n",
    "    xystarts = [x_center-x_FOV[distance]/2.,y_center-y_FOV[distance]/2.]\n",
    "    size     = [x_FOV[distance], y_FOV[distance]]\n",
    "    \n",
    "    x1 = ((x_center-x_FOV[distance]/2.)/100.*(newsize/factor))\n",
    "    x2 = ((x_center+x_FOV[distance]/2.)/100.*(newsize/factor))\n",
    "    y1 = ((y_center-y_FOV[distance]/2.)/100.*(newsize/factor))\n",
    "    y2 = ((y_center+y_FOV[distance]/2.)/100.*(newsize/factor))\n",
    "    \n",
    "    data_FOV = data[int(round(x1)):int(round(x2)),int(round(y1)):int(round(y2))]\n",
    "    \n",
    "    ## Since we cut off the bounding values to the integer, chances are our size is not actually right\n",
    "    ## Return these values that were calculated from the rounded index values\n",
    "    xFOV_out = ( int(round(x2)) / (newsize/factor) * 100. ) - ( int(round(x1)) / (newsize/factor) * 100. ) \n",
    "    yFOV_out = ( int(round(y2)) / (newsize/factor) * 100. ) - ( int(round(y1)) / (newsize/factor) * 100. )\n",
    "    size_out = [xFOV_out,yFOV_out]\n",
    "    xystarts_out = [( int(round(x1)) / (newsize/factor) * 100. ) , ( int(round(y1)) / (newsize/factor) * 100. ) ]\n",
    "    \n",
    "    if debug:\n",
    "        print 'The input FOV is (%s,%s) but due to rounding we are outputting a FOV of size (%s,%s)'\\\n",
    "                % (x_FOV[distance],y_FOV[distance],xFOV_out,yFOV_out)\n",
    "        print 'The input xystarts that we use (based on the input FOV) is (%s,%s).'% (xystarts[0],xystarts[1])\n",
    "        print 'The actual xystarts that we use (based on output FOV) is (%s,%s).' % (xystarts_out[0],xystarts_out[1])\n",
    "    \n",
    "    return data_FOV, xystarts_out, size_out"
   ]
  },
  {
   "cell_type": "code",
   "execution_count": 1,
   "metadata": {
    "collapsed": true
   },
   "outputs": [],
   "source": [
    "### EXAMPLE ###\n",
    "\n",
    "#print pixscale # in Mpc / arcsec\n",
    "#pixscale_p =  {'50Mpc': 0.237/1000., '100Mpc': 0.477/1000.,\\\n",
    "#             '200Mpc': 0.928/1000. , '500Mpc': 2.178/1000.} ### Mpc / arcsec (proper)\n",
    "#print pixscale_p"
   ]
  },
  {
   "cell_type": "code",
   "execution_count": 2,
   "metadata": {
    "collapsed": true
   },
   "outputs": [],
   "source": [
    "#0.00044639550000000005 * 3 *60.*60."
   ]
  },
  {
   "cell_type": "code",
   "execution_count": null,
   "metadata": {},
   "outputs": [],
   "source": []
  },
  {
   "cell_type": "code",
   "execution_count": null,
   "metadata": {
    "collapsed": true
   },
   "outputs": [],
   "source": []
  }
 ],
 "metadata": {
  "kernelspec": {
   "display_name": "Python 2",
   "language": "python",
   "name": "python2"
  },
  "language_info": {
   "codemirror_mode": {
    "name": "ipython",
    "version": 2
   },
   "file_extension": ".py",
   "mimetype": "text/x-python",
   "name": "python",
   "nbconvert_exporter": "python",
   "pygments_lexer": "ipython2",
   "version": "2.7.12"
  }
 },
 "nbformat": 4,
 "nbformat_minor": 2
}
