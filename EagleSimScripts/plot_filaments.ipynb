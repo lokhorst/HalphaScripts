{
 "cells": [
  {
   "cell_type": "code",
   "execution_count": 26,
   "metadata": {},
   "outputs": [],
   "source": [
    "import numpy as np\n",
    "import eagle_constants_and_units as c\n",
    "import cosmo_utils as csu\n",
    "import matplotlib.pyplot as plt\n",
    "import matplotlib.cm as cm\n",
    "import mpl_toolkits.axes_grid1 as axgrid\n",
    "from astropy import constants as const\n",
    "from astropy import units as u\n",
    "\n",
    "import get_halpha_SB\n",
    "import HalphaSBplot_addnoise\n",
    "\n",
    "%matplotlib inline"
   ]
  },
  {
   "cell_type": "code",
   "execution_count": 17,
   "metadata": {
    "collapsed": true
   },
   "outputs": [],
   "source": [
    "def getBackground(start,end,machine,plot=False):\n",
    "    # Returns the total background flux in the wavlength interval supplied i.e. returns (flux)*(wavlength interval) \n",
    "    wavelength = []\n",
    "    flux = []\n",
    "    \n",
    "    if machine=='chinook':\n",
    "        geminiloc='/Users/lokhorst/Documents/Eagle/Gemini_skybackground.dat'\n",
    "    elif machine=='coho':\n",
    "        geminiloc='/Users/deblokhorst/Documents/Dragonfly/HalphaScripts/Gemini_skybackground.dat'\n",
    "    \n",
    "    with open(geminiloc,'r') as f:  #wavelength in nm, flux in phot/s/nm/arcsec^2/m^2\n",
    "        for line in f:\n",
    "            if line[0]!='#' and len(line)>5:\n",
    "                tmp = line.split()\n",
    "                wavelength.append(tmp[0])\n",
    "                flux.append(tmp[1])\n",
    "                \n",
    "    wavelength = np.array(wavelength,'d')\n",
    "    flux = np.array(flux,'d')\n",
    "    \n",
    "    start_ind = (np.abs(wavelength-start)).argmin()\n",
    "    end_ind   = (np.abs(wavelength-end)).argmin()\n",
    "    \n",
    "    # if spacings are not even, need to add element by element\n",
    "    total=0\n",
    "    for index in np.arange(start_ind,end_ind):\n",
    "      #  print index,index+1\n",
    "      #  print total\n",
    "        total = total+(flux[index]*(wavelength[index+1]-wavelength[index]))\n",
    "        \n",
    "    # if spacings are even, can just take the average of the flux array and times it by the total bandwidth\n",
    "    np.mean(flux[start_ind:end_ind])*(wavelength[end_ind]-wavelength[start_ind])\n",
    "    \n",
    "   # print('start index and end index: %s and %s'%(start_ind,end_ind))\n",
    "   # print(wavelength[start_ind:end_ind]-wavelength[start_ind+1:end_ind+1])\n",
    "    if plot==True:\n",
    "        plt.plot(wavelength[start_ind-100:end_ind+100],flux[start_ind-100:end_ind+100])\n",
    "        top = max(flux[start_ind-100:end_ind+100])\n",
    "        plt.plot([start,start,end,end,start],[0,top,top,0,0])\n",
    "        plt.show()\n",
    "        \n",
    "    return total\n"
   ]
  },
  {
   "cell_type": "code",
   "execution_count": 18,
   "metadata": {
    "collapsed": true
   },
   "outputs": [],
   "source": [
    "def plotfilament(SBdata,ax,colmap='viridis',onlyyellow=False,contours=True,mockobs=False,labelaxes=False):\n",
    "    # setting up the plot\n",
    "    if mockobs:\n",
    "        clabel = r'log signal (photons)'\n",
    "    else:\n",
    "        clabel = r'log photons/cm$^2$/s/sr'\n",
    "    Vmin = None\n",
    "    Vmax= None\n",
    "    #fig = plt.figure(figsize = (7.5, 8.))\n",
    "    #ax = plt.subplot(121)\n",
    "    fontsize=13\n",
    "\n",
    "    if labelaxes:\n",
    "        ax.set_xlabel(r'X [cMpc]',fontsize=fontsize)\n",
    "        ax.set_ylabel(r'Y [cMpc]',fontsize=fontsize)\n",
    "        #xlabels = [0,0.6,1.2,1.8,2.4,3.0]\n",
    "        #ax.set_xticks([0,5,10,15,20,25], minor=False)\n",
    "        #ax.set_xticklabels(xlabels, minor=False)\n",
    "        #ylabels = [ 0.,0.25,0.5]\n",
    "        #ax.set_yticks([0,2.5,5], minor=False)\n",
    "        #ax.set_yticklabels(ylabels, minor=False)\n",
    "    \n",
    "        ax.tick_params(labelsize=fontsize) #,top=True,labeltop=True)\n",
    "        ax.xaxis.set_label_position('top') \n",
    "        ax.xaxis.tick_top()\n",
    "        \n",
    "    \n",
    "    #colmap = 'viridis'#'gist_gray'#'plasma'#'viridis' #'afmhot'\n",
    "    ax.patch.set_facecolor(cm.get_cmap(colmap)(0.)) # sets background color to lowest color map value\n",
    "\n",
    "    \n",
    "    ## If you only want to plot the SB greater than 1 photon/s/cm^2/arcsec^2 then do the following\n",
    "    if onlyyellow:\n",
    "        SBonlyyellow = SBdata\n",
    "        SBonlyyellow[SBdata<0.] = -3.\n",
    "        img = ax.imshow(SBonlyyellow.T,origin='lower', cmap=cm.get_cmap(colmap), vmin = Vmin, vmax=Vmax,interpolation='nearest')\n",
    "        levels = [0,1,2]\n",
    "        colours = ['yellow','cyan','purple']\n",
    "    else:\n",
    "        img = ax.imshow(SBdata.T,origin='lower',extent=(0,3.7,0,0.7), cmap=cm.get_cmap(colmap), vmin = Vmin, vmax=Vmax,interpolation='nearest')\n",
    "        levels = np.array([-2,-1,0,1,2,3])\n",
    "        colours = ('red','orange','yellow','cyan','purple','pink')\n",
    "        #levels = np.array([-2,-1.5,-1,-0.5,0,0.3,1,1.5,2,2.5,3])\n",
    "        #colours = ('red','black','orange','black','yellow','black','cyan','black','purple','black','pink')\n",
    "    \n",
    "    # plot contours\n",
    "    cmap = cm.PRGn\n",
    "    if contours:\n",
    "        ax.contour(SBdata.T,levels,colors=colours)#,cmap=cm.get_cmap(cmap, len(levels) - 1),)\n",
    "\n",
    "    div = axgrid.make_axes_locatable(ax)\n",
    "    cax = div.append_axes(\"bottom\",size=\"15%\",pad=0.1)\n",
    "    cbar = plt.colorbar(img, cax=cax,orientation='horizontal')\n",
    "    cbar.solids.set_edgecolor(\"face\")\n",
    "    cbar.ax.set_xlabel(r'%s' % (clabel), fontsize=fontsize)\n",
    "    #cbar.ax.set_ylabel(r'%s' % (clabel), fontsize=fontsize)\n",
    "    cbar.ax.tick_params(labelsize=fontsize)\n"
   ]
  },
  {
   "cell_type": "code",
   "execution_count": 19,
   "metadata": {
    "collapsed": true
   },
   "outputs": [],
   "source": [
    "def loaddata():\n",
    "    sl = [slice(None,None,None), slice(None,None,None)]\n",
    "    if machine=='chinook':\n",
    "        homedir='/Users/lokhorst/Eagle/'\n",
    "    elif machine=='coho':\n",
    "        homedir='/Users/deblokhorst/eagle/SlicesFromNastasha/'\n",
    "\n",
    "    # Simulation snapnum 28 (z = 0), xy box size: 100Mpc, z slice width: 5Mpc,\n",
    "    files_SF_28 = [homedir+'emission_halpha_L0100N1504_28_test2_SmAb_C2Sm_32000pix_5.000000slice_zcen12.5__fromSFR.npz',\n",
    "                   homedir+'emission_halpha_L0100N1504_28_test2_SmAb_C2Sm_32000pix_5.000000slice_zcen17.5__fromSFR.npz',\n",
    "                   homedir+'emission_halpha_L0100N1504_28_test2_SmAb_C2Sm_32000pix_5.000000slice_zcen2.5__fromSFR.npz',\n",
    "                   homedir+'emission_halpha_L0100N1504_28_test2_SmAb_C2Sm_32000pix_5.000000slice_zcen7.5__fromSFR.npz']\n",
    "\n",
    "    files_noSF_28 = [homedir+'emission_halpha_L0100N1504_28_test2_SmAb_C2Sm_32000pix_5.000000slice_zcen12.5_noSFR.npz',\n",
    "                     homedir+'emission_halpha_L0100N1504_28_test2_SmAb_C2Sm_32000pix_5.000000slice_zcen17.5_noSFR.npz',\n",
    "                     homedir+'emission_halpha_L0100N1504_28_test2_SmAb_C2Sm_32000pix_5.000000slice_zcen2.5_noSFR.npz',\n",
    "                     homedir+'emission_halpha_L0100N1504_28_test2_SmAb_C2Sm_32000pix_5.000000slice_zcen7.5_noSFR.npz']\n",
    "                 \n",
    "    # Load a 5Mpc slice of data\n",
    "    print('data1 ('+files_noSF_28[0]+')...')\n",
    "    data1 = (np.load(files_noSF_28[0])['arr_0'])[sl]\n",
    "    data1 = get_halpha_SB.imreduce(data1, round(factor), log=True, method = 'average')\n",
    "    print('data11 ('+files_SF_28[0]+')...')\n",
    "    data11 = (np.load(files_SF_28[0])['arr_0'])[sl]\n",
    "    data11 = get_halpha_SB.imreduce(data11, round(factor), log=True, method = 'average')\n",
    "    print('5 Mpc slice...')\n",
    "    data_5 = np.log10(10**data1+10**data11)\n",
    "    print('delete data1, data11...')\n",
    "    del data1\n",
    "    del data11\n",
    "    \n",
    "    return data_5\n",
    "\n"
   ]
  },
  {
   "cell_type": "code",
   "execution_count": 20,
   "metadata": {
    "collapsed": true
   },
   "outputs": [],
   "source": [
    "def changeres(distance,resolution,data):\n",
    "    pixscale =  {'50Mpc': 0.237/1000.*(1.+0.0115), '100Mpc': 0.477/1000.*(1.+0.0235),'200Mpc': 0.928/1000.*(1.+0.047) , '500Mpc': 2.178/1000.*(1.+0.12)} ### Mpc / arcsec (comoving)\n",
    "    simpixsize = 100./32000. ### Mpc / pixel is resolution of raw data \n",
    "    factor = round(pixscale[distance]*resolution/simpixsize)\n",
    "    size = 32000.\n",
    "    # LATER determine the current resolution of the data. FOR NOW assume current resolution is 100 Mpc/ 32000 pixels ~ 3 kpc/pixel\n",
    "\n",
    "    # If the factors are not integer multiples of 32000., I'll trim the data first and then imreduce it\n",
    "    if 32000.%((factor)) != 0.:\n",
    "        times_factor_fits_in = int(32000./factor)\n",
    "        newsize = times_factor_fits_in * factor\n",
    "        print(\"Before reducing resolution, the original data was trimmed to size %s.\"%int(newsize))\n",
    "        datanew = data[0:int(newsize),0:int(newsize)]\n",
    "    else:\n",
    "        datanew = data\n",
    "        newsize = size\n",
    "\n",
    "    return get_halpha_SB.imreduce(datanew, round(factor), log=True, method = 'average'), newsize, factor"
   ]
  },
  {
   "cell_type": "code",
   "execution_count": 21,
   "metadata": {
    "collapsed": true
   },
   "outputs": [],
   "source": [
    "def defineboxes(data,size=100.):\n",
    "    # size in Mpc = total box size of data\n",
    "    pixlength = float(data.shape[0])\n",
    "    \n",
    "    # Define boxes around the filaments (snapnum 28)\n",
    "    xbox_3 = np.array([53,53,56,56])*pixlength/size\n",
    "    ybox_3 = (np.array([9.2,10,8.5,7.7])-0.2)*pixlength/size\n",
    "    xbox_2 = np.array([44.5,44.5,46,46])*pixlength/size\n",
    "    #    xbox_2 = np.array([43,43,46,46])*pixlength/size\n",
    "    ybox_2 = (np.array([(7.9+6.9)/2.,(8.05+7.05)/2.,7.05,6.9])-0.05+0.2)*pixlength/size\n",
    "    #    ybox_2 = (np.array([7.9,8.05,7.05,6.9])-0.05+0.2)*pixlength/size\n",
    "    ##    ybox_2 = (np.array([7.8,8.1,7.1,6.8])-0.05+0.2)*pixlength/size\n",
    "    xbox_1 = (np.array([47.4,46.2,46.9,48.1])+0.5)*pixlength/size\n",
    "    ybox_1 = np.array([10.5,14,14,10.5])*pixlength/size\n",
    "    xboxes = {'1':xbox_1,'2':xbox_2,'3':xbox_3}\n",
    "    yboxes = {'1':ybox_1,'2':ybox_2,'3':ybox_3}\n",
    "    \n",
    "    return xboxes, yboxes"
   ]
  },
  {
   "cell_type": "code",
   "execution_count": 22,
   "metadata": {
    "collapsed": true
   },
   "outputs": [],
   "source": [
    "def extractdata(xfull,yfull,data):\n",
    "    SBdata = np.zeros(xfull.shape)\n",
    "    for i in range(yfull.shape[0]):\n",
    "        for j in range(yfull.shape[1]):\n",
    "                SBdata[i,j]  = data[xfull[i,j],yfull[i,j]]\n",
    "    return SBdata\n",
    "\n",
    "def getSBatfilament(data,resolution,distance):\n",
    "### DOESN'T WORK YET ###\n",
    "    datares, newsize, factor = changeres(distance,resolution,data) # change data to required resolution at selected distance\n",
    "    xboxes, yboxes = defineboxes(datares)\n",
    "    xfull, yfull= get_halpha_SB.indices_region(xboxes[boxnum].astype(int),yboxes[boxnum].astype(int)) \n",
    "    SBdata = extractdata(xfull,yfull,datares)\n",
    "    return SBdata"
   ]
  },
  {
   "cell_type": "code",
   "execution_count": 6,
   "metadata": {
    "collapsed": true
   },
   "outputs": [],
   "source": [
    "def addnoise(data,resolution,exptime=10**3*3600.,CMOS=False):\n",
    "### DOESN'T WORK YET ###\n",
    "    # Dragonfly info\n",
    "    area_lens = np.pi*(14.3/2)**2 * 48.                 # cm^2, 48 * 14.3 cm diameter lenses\n",
    "    pix_size = 2.8                                      # arcsec\n",
    "    ang_size_pixel  = (pix_size * (1./206265.))**2      # rad^2, the pixel size of the CCD\n",
    "    tau_l = 0.85                                        # transmittance of the Dragonfly lens\n",
    "    tau_f = 1.                                          # transmittance of the Halpha filter -- assumed for now\n",
    "    B = getBackground(656.3,657.3,machine)              # *u.photon/u.second/u.arcsec**2/u.m**2  ****already multiplied by the bandwidth***\n",
    "    D = 0.04                                            # dark current (electrons / s) \n",
    "    if CMOS:\n",
    "        print \"Using new CMOS cameras...\"\n",
    "        QE = 0.70                                       # quantum efficiency of the CMOS detector\n",
    "        R_squared = 2.**2                               # read noise (electrons)\n",
    "    else:\n",
    "        print \"Using old cameras...\"\n",
    "        QE = 0.48                                       # quantum efficiency of the CCDs\n",
    "        R_squared = 10.**2                              # read noise (electrons)\n",
    "    \n",
    "    R_squared = 50.**2\n",
    "    \n",
    "    binpix_size = resolution # arcsec\n",
    "    numpixel = round((binpix_size/pix_size)**2)\n",
    "    print \"the number of pixels is %s\"%numpixel\n",
    "    \n",
    "    \n",
    "    ### total signal incident (not including atm absorption) in exposure time ###\n",
    "    totsignal = 10**data * exptime # ( photons / cm^2 /sr )\n",
    "    ### total signal detected (accounting for system efficiency) ###\n",
    "    detsignal = totsignal * QE * tau_l * tau_f * area_lens * ang_size_pixel * numpixel\n",
    "    \n",
    "    print \"the total signal [electrons] detected ranges from: %s to %s\"%(np.min(detsignal),np.max(detsignal))\n",
    "    # to do:  add noise to the signal as done below for the sky background.\n",
    "    \n",
    "    ### BackgroundSkyNoise ###\n",
    "    'background sky signal detected [B]=ph/s/arcsec^2/m^2, [B_sky]=ph/s (in a pixel)'\n",
    "    B_sky = B * QE * tau_l * tau_f * area_lens*(1/100.)**2 * pix_size**2\n",
    "    print \"the background in the bandwidth is: %s\"%B\n",
    "    print \"the background signal, B_sky [ph/s (in a pixel)], is: %s\"%B_sky\n",
    "    # add noise to the background sky signal by replacing each value with a random value taken from a gaussian distribution with a mean of its value and st dev of sqrt of its value\n",
    "    # set up array to contain sky background noise, use mean from the number of pixels bin over to make the map\n",
    "    B_sky_array = np.zeros((data.shape[0],data.shape[1]))\n",
    "    for x in range(data.shape[0]):\n",
    "        for y in range(data.shape[1]):\n",
    "            B_sky_array[x][y]=np.mean(np.random.normal(B_sky,np.sqrt(B_sky),int(numpixel)))    \n",
    "    B_sky_total = B_sky*exptime*numpixel\n",
    "    B_sky_array_total = B_sky_array*exptime*numpixel\n",
    "    print \"the mean total background signal, B_sky_total [electrons], is: %s\"%B_sky_total\n",
    "    print \"the total background noisy signal [electrons] ranges from: %s to %s\"%(np.min(B_sky_array_total),np.max(B_sky_array_total))\n",
    "    \n",
    "    ### ReadOutNoise ###\n",
    "    numexposures = exptime/3600. # hour long exposures\n",
    "    R_squared_array = np.zeros((data.shape[0],data.shape[1]))\n",
    "    for x in range(data.shape[0]):\n",
    "        for y in range(data.shape[1]):\n",
    "            R_squared_array[x][y]=np.mean(np.random.normal(np.sqrt(R_squared),np.sqrt(np.sqrt(B_sky)),int(numpixel)))**2   \n",
    "    R_squared_total = R_squared * round(numexposures)\n",
    "    R_squared_total_array = R_squared_array * round(numexposures)\n",
    "    print \"the R_squared value is: %s, so in %s exposures [per pixel], will have R_squared of: %s\"%(R_squared,numexposures,R_squared_total)\n",
    "    print \"the total R_squared value [electrons] multiplying by numpix read out is: %s\"%(R_squared_total*numpixel)\n",
    "    \n",
    "    ### DarkCurrent ###\n",
    "    print \"the total dark current [electrons] is: %s \"%(D*exptime*numpixel)\n",
    "    # to do: add noise to dark current and read noise?\n",
    "    \n",
    "    sigma = np.sqrt(detsignal + B_sky_array*exptime*numpixel + D*exptime*numpixel + R_squared_total*numpixel)\n",
    "    print \"the total noise (not squarerooted) is: %s\"%(detsignal + B_sky_array*exptime*numpixel + D*exptime*numpixel + R_squared_total*numpixel)\n",
    "    print \"the total noise (squarerooted) is: %s\"%sigma\n",
    "\n",
    "    return B_sky_array, np.log10(detsignal + sigma)\n"
   ]
  },
  {
   "cell_type": "code",
   "execution_count": 9,
   "metadata": {
    "collapsed": true
   },
   "outputs": [],
   "source": [
    "    #-------------- pick your distance and desired resolution ---------------------------------------------#\n",
    "    resolution = 100.  ### arcsec\n",
    "    distance = '50Mpc'  ### '50Mpc' '100Mpc' '200Mpc' '500Mpc'\n",
    "    boxnum = '1' ### which filament (there are 3)\n",
    "    factor = 1\n",
    "    machine='coho'\n",
    "    #------------------------------------------------------------------------------------------------------#"
   ]
  },
  {
   "cell_type": "code",
   "execution_count": 10,
   "metadata": {},
   "outputs": [
    {
     "name": "stdout",
     "output_type": "stream",
     "text": [
      "data1 (/Users/deblokhorst/eagle/SlicesFromNastasha/emission_halpha_L0100N1504_28_test2_SmAb_C2Sm_32000pix_5.000000slice_zcen12.5_noSFR.npz)...\n",
      "data11 (/Users/deblokhorst/eagle/SlicesFromNastasha/emission_halpha_L0100N1504_28_test2_SmAb_C2Sm_32000pix_5.000000slice_zcen12.5__fromSFR.npz)...\n"
     ]
    },
    {
     "name": "stderr",
     "output_type": "stream",
     "text": [
      "get_halpha_SB.py:36: RuntimeWarning: divide by zero encountered in log10\n",
      "  inimg = np.log10(inimg)\n"
     ]
    },
    {
     "name": "stdout",
     "output_type": "stream",
     "text": [
      "5 Mpc slice...\n",
      "delete data1, data11...\n"
     ]
    }
   ],
   "source": [
    " data_5 = loaddata()"
   ]
  },
  {
   "cell_type": "code",
   "execution_count": 23,
   "metadata": {},
   "outputs": [
    {
     "name": "stdout",
     "output_type": "stream",
     "text": [
      "Before reducing resolution, the original data was trimmed to size 31996.\n",
      "xacross_length,yacross_length,xdown_length,ydown_length:  6, 0, -10, 29\n",
      "xacross_length > yacross_length:\n",
      "iterable: [ 0.  0.  0.  0.  0.  0.  0.]\n",
      "xdown_length < ydown_length:\n",
      "iterable: [ -0.  -0.  -1.  -1.  -1.  -2.  -2.  -2.  -3.  -3.  -3.  -4.  -4.  -4.  -5.\n",
      "  -5.  -6.  -6.  -6.  -7.  -7.  -7.  -8.  -8.  -8.  -9.  -9.  -9. -10. -10.]\n"
     ]
    }
   ],
   "source": [
    "resolution = 500.\n",
    "SBdata = getSBatfilament(data_5,resolution,distance)\n",
    "np.savez('SBdata_500arcsec.npz',SBdata)"
   ]
  },
  {
   "cell_type": "code",
   "execution_count": 24,
   "metadata": {},
   "outputs": [
    {
     "data": {
      "text/plain": [
       "(30, 7)"
      ]
     },
     "execution_count": 24,
     "metadata": {},
     "output_type": "execute_result"
    }
   ],
   "source": [
    "SBdata.shape"
   ]
  },
  {
   "cell_type": "code",
   "execution_count": 25,
   "metadata": {},
   "outputs": [
    {
     "name": "stdout",
     "output_type": "stream",
     "text": [
      "Using new CMOS cameras...\n",
      "the number of pixels is 31888.0\n",
      "the total signal [electrons] detected ranges from: 9.00557016839 to 693799555.983\n",
      "the background in the bandwidth is: 0.560633\n",
      "the background signal, B_sky [ph/s (in a pixel)], is: 2.01611304518\n",
      "the mean total background signal, B_sky_total [electrons], is: 23144332602.5\n",
      "the total background noisy signal [electrons] ranges from: 22938179821.1 to 23396260480.0\n",
      "the R_squared value is: 2500.0, so in 100.0 exposures [per pixel], will have R_squared of: 250000.0\n",
      "the total R_squared value [electrons] multiplying by numpix read out is: 7972000000.0\n",
      "the total dark current [electrons] is: 459187200.0 \n",
      "the total noise (not squarerooted) is: [[  3.15515323e+10   3.14784111e+10   3.14415677e+10   3.16658867e+10\n",
      "    3.14647897e+10   3.16354851e+10   3.15918005e+10]\n",
      " [  3.15755393e+10   3.16383920e+10   3.16123696e+10   3.14861092e+10\n",
      "    3.18139186e+10   3.15616364e+10   3.15168472e+10]\n",
      " [  3.15835223e+10   3.14308613e+10   3.16298043e+10   3.15492071e+10\n",
      "    3.14428250e+10   3.15135605e+10   3.15415349e+10]\n",
      " [  3.15756902e+10   3.17162539e+10   3.15849362e+10   3.17076758e+10\n",
      "    3.13971102e+10   3.15888713e+10   3.17108961e+10]\n",
      " [  3.15470307e+10   3.15018589e+10   3.16693045e+10   3.19539986e+10\n",
      "    3.16992096e+10   3.15679618e+10   3.15774306e+10]\n",
      " [  3.16130214e+10   3.19065690e+10   3.17113642e+10   3.13838850e+10\n",
      "    3.15669942e+10   3.17075032e+10   3.16679848e+10]\n",
      " [  3.15454787e+10   3.15909456e+10   3.15369709e+10   3.15639624e+10\n",
      "    3.15224946e+10   3.15669241e+10   3.14505978e+10]\n",
      " [  3.16114016e+10   3.16052790e+10   3.15912757e+10   3.16404933e+10\n",
      "    3.16598975e+10   3.16469661e+10   3.16638213e+10]\n",
      " [  3.15441706e+10   3.15205204e+10   3.16729267e+10   3.15881885e+10\n",
      "    3.16476343e+10   3.16467377e+10   3.13693670e+10]\n",
      " [  3.17108370e+10   3.16018142e+10   3.15704442e+10   3.15524259e+10\n",
      "    3.14902045e+10   3.15381498e+10   3.16934943e+10]\n",
      " [  3.16154722e+10   3.16323728e+10   3.16400194e+10   3.16014879e+10\n",
      "    3.15508489e+10   3.15546208e+10   3.15051329e+10]\n",
      " [  3.14056021e+10   3.15997775e+10   3.16329808e+10   3.15779600e+10\n",
      "    3.14588379e+10   3.15913137e+10   3.14921461e+10]\n",
      " [  3.18063277e+10   3.16290209e+10   3.16608971e+10   3.17099535e+10\n",
      "    3.15128643e+10   3.15497107e+10   3.16739655e+10]\n",
      " [  3.17185073e+10   3.15192591e+10   3.15895211e+10   3.15685527e+10\n",
      "    3.15664623e+10   3.15227432e+10   3.14315217e+10]\n",
      " [  3.14633382e+10   3.15418460e+10   3.15021429e+10   3.15114640e+10\n",
      "    3.17557364e+10   3.16519720e+10   3.15148792e+10]\n",
      " [  3.17066123e+10   3.14011908e+10   3.15717887e+10   3.17400051e+10\n",
      "    3.16522430e+10   3.16889534e+10   3.14619769e+10]\n",
      " [  3.15134193e+10   3.14514016e+10   3.16312487e+10   3.14818598e+10\n",
      "    3.16211009e+10   3.14340126e+10   3.15592437e+10]\n",
      " [  3.17119108e+10   3.17224295e+10   3.22616391e+10   3.14783457e+10\n",
      "    3.15767706e+10   3.15313805e+10   3.16751236e+10]\n",
      " [  3.15077777e+10   3.15651345e+10   3.15305704e+10   3.15695481e+10\n",
      "    3.16573274e+10   3.17273190e+10   3.16055114e+10]\n",
      " [  3.14975061e+10   3.16368977e+10   3.16013506e+10   3.16222844e+10\n",
      "    3.13999647e+10   3.15731094e+10   3.16333349e+10]\n",
      " [  3.16052335e+10   3.15773444e+10   3.15740481e+10   3.16599878e+10\n",
      "    3.17013540e+10   3.16041624e+10   3.15961876e+10]\n",
      " [  3.15194531e+10   3.15287000e+10   3.15399008e+10   3.15421539e+10\n",
      "    3.15406145e+10   3.16218507e+10   3.15529259e+10]\n",
      " [  3.14812034e+10   3.16539067e+10   3.15223536e+10   3.15254624e+10\n",
      "    3.15080157e+10   3.16430232e+10   3.16592312e+10]\n",
      " [  3.14942681e+10   3.15208622e+10   3.14977426e+10   3.16440617e+10\n",
      "    3.15582203e+10   3.15801498e+10   3.17564269e+10]\n",
      " [  3.15663315e+10   3.15969846e+10   3.15283578e+10   3.14893207e+10\n",
      "    3.16260672e+10   3.16873464e+10   3.14512317e+10]\n",
      " [  3.15528887e+10   3.14804891e+10   3.14096193e+10   3.17105539e+10\n",
      "    3.15622375e+10   3.14127052e+10   3.15339147e+10]\n",
      " [  3.15491931e+10   3.15301257e+10   3.16281727e+10   3.14711632e+10\n",
      "    3.15338080e+10   3.16769852e+10   3.18274482e+10]\n",
      " [  3.16889442e+10   3.15827762e+10   3.15416135e+10   3.16846300e+10\n",
      "    3.14840747e+10   3.15935068e+10   3.13851069e+10]\n",
      " [  3.14914766e+10   3.15013557e+10   3.15649383e+10   3.16641063e+10\n",
      "    3.16329044e+10   3.15630713e+10   3.16244943e+10]\n",
      " [  3.16114601e+10   3.13983730e+10   3.17591712e+10   3.15622284e+10\n",
      "    3.14133090e+10   3.16625269e+10   3.15098744e+10]]\n",
      "the total noise (squarerooted) is: [[ 177627.50994408  177421.56333456  177317.70265292  177949.11270502\n",
      "   177383.17202807  177863.66992932  177740.82392531]\n",
      " [ 177695.07388076  177871.84145507  177798.67702103  177443.25634153\n",
      "   178364.56647106  177655.94963564  177529.84877211]\n",
      " [ 177717.53515735  177287.51017328  177847.69973019  177620.96476891\n",
      "   177321.24790052  177520.59167782  177599.36637247]\n",
      " [ 177695.49845904  178090.57770927  177721.51292794  178066.49260526\n",
      "   177192.29723303  177732.58376885  178075.53493332]\n",
      " [ 177614.83814628  177487.63036288  177958.71570684  178756.81407864\n",
      "   178042.71860466  177673.75108843  177700.39567827]\n",
      " [ 177800.51001623  178624.09976391  178076.84922698  177154.97454824\n",
      "   177671.02794765  178066.0080752   177955.00785166]\n",
      " [ 177610.46906792  177738.41904735  177586.51672597  177662.49574016\n",
      "   177545.75363224  177670.83069706  177343.16385668]\n",
      " [ 177795.95492655  177778.73598855  177739.34772812  177877.74812829\n",
      "   177932.28340014  177895.9417955   177943.30930621]\n",
      " [ 177606.78635548  177540.19384579  177968.89240928  177730.66282295\n",
      "   177897.81968969  177895.29989725  177113.99445338]\n",
      " [ 178075.36897032  177768.99104733  177680.73685548  177630.02521206\n",
      "   177454.79558215  177589.83572435  178026.66739449]\n",
      " [ 177807.4019922   177854.92072508  177876.41612855  177768.07322845\n",
      "   177625.58619836  177636.203422    177496.85311276]\n",
      " [ 177216.25791487  177763.26250743  177856.62996201  177701.88509153\n",
      "   177366.39461651  177739.45455367  177460.26627211]\n",
      " [ 178343.28605519  177845.49731052  177935.09227568  178072.88815208\n",
      "   177518.63098005  177622.38222681  177971.81106257]\n",
      " [ 178096.90431661  177536.64153939  177734.41179992  177675.41380072\n",
      "   177669.53106236  177546.4536634   177289.37279684]\n",
      " [ 177379.08056706  177600.24204647  177488.43029448  177514.68682963\n",
      "   178201.39287474  177910.01094798  177524.3058334 ]\n",
      " [ 178063.50634633  177203.81145554  177684.52019922  178157.24826351\n",
      "   177910.77248736  178013.91360668  177375.24331593]\n",
      " [ 177520.19414867  177345.43002886  177851.76037991  177431.28194216\n",
      "   177823.22939719  177296.39746319  177649.21529378]\n",
      " [ 178078.38384623  178107.91528377  179615.25285565  177421.37887959\n",
      "   177698.53866346  177570.77612107  177975.06457059]\n",
      " [ 177504.30334052  177665.79437192  177568.49484461  177678.21501588\n",
      "   177925.06106429  178121.64115807  177779.38961038]\n",
      " [ 177475.36755425  177867.6409711   177767.68713231  177826.55707897\n",
      "   177200.35174368  177688.23645656  177857.62538579]\n",
      " [ 177778.6080436   177700.15318891  177690.87783041  177932.5372289\n",
      "   178048.74038757  177775.59556641  177753.16487307]\n",
      " [ 177537.1879712   177563.2282702   177594.76578569  177601.10888653\n",
      "   177596.77507544  177825.33763399  177631.43280124]\n",
      " [ 177429.43208269  177915.44815695  177545.35636697  177554.11111985\n",
      "   177504.97379497  177884.85926319  177930.4109937 ]\n",
      " [ 177466.24501803  177541.15625454  177476.03394003  177887.77849559\n",
      "   177646.33492716  177708.0465227   178203.33015093]\n",
      " [ 177669.16296006  177755.40679933  177562.26456539  177452.30554454\n",
      "   177837.19295221  178009.39980718  177344.95119876]\n",
      " [ 177631.32799907  177427.41933775  177227.59175043  178074.57386359\n",
      "   177657.6413517   177236.29754242  177577.91155453]\n",
      " [ 177620.92514999  177567.24281262  177843.11249966  177401.13638703\n",
      "   177577.61131592  177980.29455523  178402.4894028 ]\n",
      " [ 178013.88765379  177715.43607593  177599.58759715  178001.76959214\n",
      "   177437.5233862   177745.62382055  177158.42317026]\n",
      " [ 177458.37987371  177486.21257346  177665.24212283  177944.10994859\n",
      "   177856.41512779  177659.98790457  177832.7705923 ]\n",
      " [ 177796.11959987  177195.86058021  178211.02983392  177657.61571198\n",
      "   177238.00110325  177939.67220389  177510.20941662]]\n"
     ]
    }
   ],
   "source": [
    "noise,SBdata_exp0 = addnoise(SBdata,resolution,exptime=10**2*3600.,CMOS=True)\n",
    "np.savez('SBdata_500as_100hr_R50.npz',SBdata)"
   ]
  },
  {
   "cell_type": "code",
   "execution_count": 29,
   "metadata": {},
   "outputs": [
    {
     "data": {
      "image/png": "[encoded data removed]",
      "text/plain": [
       "<matplotlib.figure.Figure at 0x102a2ecd0>"
      ]
     },
     "metadata": {},
     "output_type": "display_data"
    }
   ],
   "source": [
    "mockobs_sub = SBdata_exp0 - (int(np.min(SBdata_exp0)*100)/100.)\n",
    "fig = plt.figure(figsize = (9.5, 5.))\n",
    "ax1 = plt.subplot(111)\n",
    "plotfilament(mockobs_sub**0.02,ax1,contours=False,mockobs=True,colmap='gist_gray')\n",
    "plt.savefig('mockobs_res%sas_exptime%shr.png'%(resolution,round(10**2)))"
   ]
  },
  {
   "cell_type": "code",
   "execution_count": null,
   "metadata": {
    "collapsed": true
   },
   "outputs": [],
   "source": []
  },
  {
   "cell_type": "code",
   "execution_count": null,
   "metadata": {
    "collapsed": true
   },
   "outputs": [],
   "source": []
  },
  {
   "cell_type": "code",
   "execution_count": null,
   "metadata": {
    "collapsed": true
   },
   "outputs": [],
   "source": []
  },
  {
   "cell_type": "code",
   "execution_count": 68,
   "metadata": {},
   "outputs": [
    {
     "name": "stdout",
     "output_type": "stream",
     "text": [
      "Using new CMOS cameras...\n"
     ]
    }
   ],
   "source": [
    "    area_lens = np.pi*(14.3/2)**2 * 48.                 # cm^2, 48 * 14.3 cm diameter lenses\n",
    "    pix_size = 2.8                                      # arcsec\n",
    "    ang_size_pixel  = (pix_size * (1./206265.))**2      # rad^2, the pixel size of the CCD\n",
    "    tau_l = 0.85                                        # transmittance of the Dragonfly lens\n",
    "    tau_f = 1.                                          # transmittance of the Halpha filter -- assumed for now\n",
    "    B = getBackground(656.3,657.3,machine)              # *u.photon/u.second/u.arcsec**2/u.m**2  ****already multiplied by the bandwidth***\n",
    "    D = 0.04                                            # dark current (electrons / s) \n",
    "    CMOS=True\n",
    "    if CMOS:\n",
    "        print \"Using new CMOS cameras...\"\n",
    "        QE = 0.70                                       # quantum efficiency of the CMOS detector\n",
    "        R_squared = 2.**2                               # read noise (electrons)\n",
    "    else:\n",
    "        print \"Using old cameras...\"\n",
    "        QE = 0.48                                       # quantum efficiency of the CCDs\n",
    "        R_squared = 10.**2                              # read noise (electrons)\n",
    "    R_squared = 50.**2"
   ]
  },
  {
   "cell_type": "code",
   "execution_count": 32,
   "metadata": {},
   "outputs": [
    {
     "name": "stdout",
     "output_type": "stream",
     "text": [
      "the number of pixels is 31888.0\n"
     ]
    }
   ],
   "source": [
    "binpix_size = resolution # arcsec\n",
    "numpixel = round((binpix_size/pix_size)**2)\n",
    "print \"the number of pixels is %s\"%numpixel"
   ]
  },
  {
   "cell_type": "code",
   "execution_count": 35,
   "metadata": {},
   "outputs": [],
   "source": [
    "exptime=10**2*3600.\n",
    "totsignal = 10**SBdata * exptime # ( photons / cm^2 /sr )\n",
    "detsignal = totsignal * QE * tau_l * tau_f * area_lens * ang_size_pixel * numpixel\n"
   ]
  },
  {
   "cell_type": "code",
   "execution_count": 56,
   "metadata": {},
   "outputs": [
    {
     "name": "stdout",
     "output_type": "stream",
     "text": [
      "Raw signal (ph per sec per area per angular area per second): 0.054995 ph/pix/cm^2/arcsec^2/s\n",
      "Raw signal in the exposure time (100.0 hr): 19798.220805 ph/pix/cm^2/arcsec^2\n",
      "Detected signal (in a 500.0\" by 500.0\" binned pixel): 533.627970 electrons\n"
     ]
    }
   ],
   "source": [
    "print('Raw signal (ph per sec per area per angular area per second): %f ph/pix/cm^2/arcsec^2/s' % (10**SBdata[3][0]))\n",
    "print('Raw signal in the exposure time (%s hr): %f ph/pix/cm^2/arcsec^2' % ((exptime/3600.),totsignal[3][0]))\n",
    "print('Detected signal (in a %s\\\" by %s\\\" binned pixel): %f electrons' % (resolution,resolution,detsignal[3][0]))"
   ]
  },
  {
   "cell_type": "code",
   "execution_count": 69,
   "metadata": {},
   "outputs": [
    {
     "name": "stdout",
     "output_type": "stream",
     "text": [
      "0.560633\n",
      "Background signal per second: 2.016113\n",
      "Background signal in exposure time (in a 500.0\" by 500.0\" binned pixel): 23144332602.5 electrons\n",
      "Sqrt background signal in exposure time (in a 500.0\" by 500.0\" binned pixel): 152132.615183 electrons\n"
     ]
    }
   ],
   "source": [
    "\n",
    "print(B)\n",
    "B_sky = B * QE * tau_l * tau_f * area_lens*(1/100.)**2 * pix_size**2\n",
    "print(\"Background signal per second: %f\"%B_sky)\n",
    "B_sky_total = B_sky*exptime*numpixel\n",
    "print(\"Background signal in exposure time (in a %s\\\" by %s\\\" binned pixel): %s electrons\"%(resolution,resolution,B_sky_total))\n",
    "print(\"Sqrt background signal in exposure time (in a %s\\\" by %s\\\" binned pixel): %s electrons\"%(resolution,resolution,np.sqrt(B_sky_total)))"
   ]
  },
  {
   "cell_type": "markdown",
   "metadata": {},
   "source": [
    "Straight from the Gemini data:"
   ]
  },
  {
   "cell_type": "code",
   "execution_count": 66,
   "metadata": {},
   "outputs": [
    {
     "name": "stdout",
     "output_type": "stream",
     "text": [
      "35239298246.5\n",
      "20967382456.6\n"
     ]
    }
   ],
   "source": [
    "# 0.5079 phot/s/nm/arcsec^2/m^2 is the background flux value around 656.3 nm\n",
    "B_incident = 0.5079 * exptime * 1.0 * pix_size**2 * numpixel * area_lens*(1/100.)**2\n",
    "print B_incident\n",
    "B_detected = B_incident * QE * tau_l * tau_f\n",
    "print B_detected"
   ]
  },
  {
   "cell_type": "markdown",
   "metadata": {},
   "source": [
    "The second value is on the same order-of-magnitude as the B_sky_total so we are not crazily off.  It looks like our background value is a little too high though."
   ]
  },
  {
   "cell_type": "code",
   "execution_count": 71,
   "metadata": {},
   "outputs": [
    {
     "name": "stdout",
     "output_type": "stream",
     "text": [
      "7972000000.0\n"
     ]
    }
   ],
   "source": [
    "numexposures = exptime/3600. # hour long exposures\n",
    "R_squared_allexp = R_squared * round(numexposures)\n",
    "R_squared_total  = R_squared_allexp*numpixel\n",
    "print R_squared_total"
   ]
  },
  {
   "cell_type": "code",
   "execution_count": null,
   "metadata": {
    "collapsed": true
   },
   "outputs": [],
   "source": [
    "'background sky signal detected [B]=ph/s/arcsec^2/m^2, [B_sky]=ph/s (in a pixel)'\n",
    "    # add noise to the background sky signal by replacing each value with a random value taken from a gaussian distribution with a mean of its value and st dev of sqrt of its value\n",
    "    # set up array to contain sky background noise, use mean from the number of pixels bin over to make the map\n",
    "    B_sky_array = np.zeros((data.shape[0],data.shape[1]))\n",
    "    for x in range(data.shape[0]):\n",
    "        for y in range(data.shape[1]):\n",
    "            B_sky_array[x][y]=np.mean(np.random.normal(B_sky,np.sqrt(B_sky),int(numpixel)))    \n",
    "    B_sky_total = B_sky*exptime*numpixel\n",
    "    B_sky_array_total = B_sky_array*exptime*numpixel\n",
    "    print \"the mean total background signal, B_sky_total [electrons], is: %s\"%B_sky_total\n",
    "    print \"the total background noisy signal [electrons] ranges from: %s to %s\"%(np.min(B_sky_array_total),np.max(B_sky_array_total))\n",
    "    \n",
    "    ### ReadOutNoise ###\n",
    "    numexposures = exptime/3600. # hour long exposures\n",
    "    R_squared_array = np.zeros((data.shape[0],data.shape[1]))\n",
    "    for x in range(data.shape[0]):\n",
    "        for y in range(data.shape[1]):\n",
    "            R_squared_array[x][y]=np.mean(np.random.normal(np.sqrt(R_squared),np.sqrt(np.sqrt(B_sky)),int(numpixel)))**2   \n",
    "    R_squared_total = R_squared * round(numexposures)\n",
    "    R_squared_total_array = R_squared_array * round(numexposures)\n",
    "    print \"the R_squared value is: %s, so in %s exposures [per pixel], will have R_squared of: %s\"%(R_squared,numexposures,R_squared_total)\n",
    "    print \"the total R_squared value [electrons] multiplying by numpix read out is: %s\"%(R_squared_total*numpixel)\n",
    "    \n",
    "    ### DarkCurrent ###\n",
    "    print \"the total dark current [electrons] is: %s \"%(D*exptime*numpixel)\n",
    "    # to do: add noise to dark current and read noise?\n",
    "    \n",
    "    sigma = np.sqrt(detsignal + B_sky_array*exptime*numpixel + D*exptime*numpixel + R_squared_total*numpixel)\n",
    "    print \"the total noise (not squarerooted) is: %s\"%(detsignal + B_sky_array*exptime*numpixel + D*exptime*numpixel + R_squared_total*numpixel)\n",
    "    print \"the total noise (squarerooted) is: %s\"%sigma\n",
    "\n",
    "    return B_sky_array, np.log10(detsignal + sigma)\n"
   ]
  }
 ],
 "metadata": {
  "kernelspec": {
   "display_name": "Python 2",
   "language": "python",
   "name": "python2"
  },
  "language_info": {
   "codemirror_mode": {
    "name": "ipython",
    "version": 2
   },
   "file_extension": ".py",
   "mimetype": "text/x-python",
   "name": "python",
   "nbconvert_exporter": "python",
   "pygments_lexer": "ipython2",
   "version": "2.7.12"
  }
 },
 "nbformat": 4,
 "nbformat_minor": 2
}
