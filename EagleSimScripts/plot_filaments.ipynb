{
 "cells": [
  {
   "cell_type": "code",
   "execution_count": null,
   "metadata": {
    "collapsed": true
   },
   "outputs": [],
   "source": [
    "import numpy as np\n",
    "import eagle_constants_and_units as c\n",
    "import cosmo_utils as csu\n",
    "import matplotlib.pyplot as plt\n",
    "import matplotlib.cm as cm\n",
    "import mpl_toolkits.axes_grid1 as axgrid\n",
    "from astropy import constants as const\n",
    "from astropy import units as u\n",
    "\n",
    "import get_halpha_SB\n",
    "import HalphaSBplot_addnoise\n",
    "\n",
    "%matplotlib inline"
   ]
  },
  {
   "cell_type": "code",
   "execution_count": 17,
   "metadata": {
    "collapsed": true
   },
   "outputs": [],
   "source": [
    "def getBackground(start,end,machine,plot=False):\n",
    "    # Returns the total background flux in the wavlength interval supplied i.e. returns (flux)*(wavlength interval) \n",
    "    wavelength = []\n",
    "    flux = []\n",
    "    \n",
    "    if machine=='chinook':\n",
    "        geminiloc='/Users/lokhorst/Documents/Eagle/Gemini_skybackground.dat'\n",
    "    elif machine=='coho':\n",
    "        geminiloc='/Users/deblokhorst/Documents/Dragonfly/HalphaScripts/Gemini_skybackground.dat'\n",
    "    \n",
    "    with open(geminiloc,'r') as f:  #wavelength in nm, flux in phot/s/nm/arcsec^2/m^2\n",
    "        for line in f:\n",
    "            if line[0]!='#' and len(line)>5:\n",
    "                tmp = line.split()\n",
    "                wavelength.append(tmp[0])\n",
    "                flux.append(tmp[1])\n",
    "                \n",
    "    wavelength = np.array(wavelength,'d')\n",
    "    flux = np.array(flux,'d')\n",
    "    \n",
    "    start_ind = (np.abs(wavelength-start)).argmin()\n",
    "    end_ind   = (np.abs(wavelength-end)).argmin()\n",
    "    \n",
    "    # if spacings are not even, need to add element by element\n",
    "    total=0\n",
    "    for index in np.arange(start_ind,end_ind):\n",
    "      #  print index,index+1\n",
    "      #  print total\n",
    "        total = total+(flux[index]*(wavelength[index+1]-wavelength[index]))\n",
    "        \n",
    "    # if spacings are even, can just take the average of the flux array and times it by the total bandwidth\n",
    "    np.mean(flux[start_ind:end_ind])*(wavelength[end_ind]-wavelength[start_ind])\n",
    "    \n",
    "   # print('start index and end index: %s and %s'%(start_ind,end_ind))\n",
    "   # print(wavelength[start_ind:end_ind]-wavelength[start_ind+1:end_ind+1])\n",
    "    if plot==True:\n",
    "        plt.plot(wavelength[start_ind-100:end_ind+100],flux[start_ind-100:end_ind+100])\n",
    "        top = max(flux[start_ind-100:end_ind+100])\n",
    "        plt.plot([start,start,end,end,start],[0,top,top,0,0])\n",
    "        plt.show()\n",
    "        \n",
    "    return total\n"
   ]
  },
  {
   "cell_type": "code",
   "execution_count": 18,
   "metadata": {
    "collapsed": true
   },
   "outputs": [],
   "source": [
    "def plotfilament(SBdata,ax,colmap='viridis',onlyyellow=False,contours=True,mockobs=False,labelaxes=False):\n",
    "    # setting up the plot\n",
    "    if mockobs:\n",
    "        clabel = r'log signal (photons)'\n",
    "    else:\n",
    "        clabel = r'log photons/cm$^2$/s/sr'\n",
    "    Vmin = None\n",
    "    Vmax= None\n",
    "    #fig = plt.figure(figsize = (7.5, 8.))\n",
    "    #ax = plt.subplot(121)\n",
    "    fontsize=13\n",
    "\n",
    "    if labelaxes:\n",
    "        ax.set_xlabel(r'X [cMpc]',fontsize=fontsize)\n",
    "        ax.set_ylabel(r'Y [cMpc]',fontsize=fontsize)\n",
    "        #xlabels = [0,0.6,1.2,1.8,2.4,3.0]\n",
    "        #ax.set_xticks([0,5,10,15,20,25], minor=False)\n",
    "        #ax.set_xticklabels(xlabels, minor=False)\n",
    "        #ylabels = [ 0.,0.25,0.5]\n",
    "        #ax.set_yticks([0,2.5,5], minor=False)\n",
    "        #ax.set_yticklabels(ylabels, minor=False)\n",
    "    \n",
    "        ax.tick_params(labelsize=fontsize) #,top=True,labeltop=True)\n",
    "        ax.xaxis.set_label_position('top') \n",
    "        ax.xaxis.tick_top()\n",
    "        \n",
    "    \n",
    "    #colmap = 'viridis'#'gist_gray'#'plasma'#'viridis' #'afmhot'\n",
    "    ax.patch.set_facecolor(cm.get_cmap(colmap)(0.)) # sets background color to lowest color map value\n",
    "\n",
    "    \n",
    "    ## If you only want to plot the SB greater than 1 photon/s/cm^2/arcsec^2 then do the following\n",
    "    if onlyyellow:\n",
    "        SBonlyyellow = SBdata\n",
    "        SBonlyyellow[SBdata<0.] = -3.\n",
    "        img = ax.imshow(SBonlyyellow.T,origin='lower', cmap=cm.get_cmap(colmap), vmin = Vmin, vmax=Vmax,interpolation='nearest')\n",
    "        levels = [0,1,2]\n",
    "        colours = ['yellow','cyan','purple']\n",
    "    else:\n",
    "        img = ax.imshow(SBdata.T,origin='lower',extent=(0,3.7,0,0.7), cmap=cm.get_cmap(colmap), vmin = Vmin, vmax=Vmax,interpolation='nearest')\n",
    "        levels = np.array([-2,-1,0,1,2,3])\n",
    "        colours = ('red','orange','yellow','cyan','purple','pink')\n",
    "        #levels = np.array([-2,-1.5,-1,-0.5,0,0.3,1,1.5,2,2.5,3])\n",
    "        #colours = ('red','black','orange','black','yellow','black','cyan','black','purple','black','pink')\n",
    "    \n",
    "    # plot contours\n",
    "    cmap = cm.PRGn\n",
    "    if contours:\n",
    "        ax.contour(SBdata.T,levels,colors=colours)#,cmap=cm.get_cmap(cmap, len(levels) - 1),)\n",
    "\n",
    "    div = axgrid.make_axes_locatable(ax)\n",
    "    cax = div.append_axes(\"bottom\",size=\"15%\",pad=0.1)\n",
    "    cbar = plt.colorbar(img, cax=cax,orientation='horizontal')\n",
    "    cbar.solids.set_edgecolor(\"face\")\n",
    "    cbar.ax.set_xlabel(r'%s' % (clabel), fontsize=fontsize)\n",
    "    #cbar.ax.set_ylabel(r'%s' % (clabel), fontsize=fontsize)\n",
    "    cbar.ax.tick_params(labelsize=fontsize)\n"
   ]
  },
  {
   "cell_type": "code",
   "execution_count": 19,
   "metadata": {
    "collapsed": true
   },
   "outputs": [],
   "source": [
    "def loaddata():\n",
    "    sl = [slice(None,None,None), slice(None,None,None)]\n",
    "    if machine=='chinook':\n",
    "        homedir='/Users/lokhorst/Eagle/'\n",
    "    elif machine=='coho':\n",
    "        homedir='/Users/deblokhorst/eagle/SlicesFromNastasha/'\n",
    "\n",
    "    # Simulation snapnum 28 (z = 0), xy box size: 100Mpc, z slice width: 5Mpc,\n",
    "    files_SF_28 = [homedir+'emission_halpha_L0100N1504_28_test2_SmAb_C2Sm_32000pix_5.000000slice_zcen12.5__fromSFR.npz',\n",
    "                   homedir+'emission_halpha_L0100N1504_28_test2_SmAb_C2Sm_32000pix_5.000000slice_zcen17.5__fromSFR.npz',\n",
    "                   homedir+'emission_halpha_L0100N1504_28_test2_SmAb_C2Sm_32000pix_5.000000slice_zcen2.5__fromSFR.npz',\n",
    "                   homedir+'emission_halpha_L0100N1504_28_test2_SmAb_C2Sm_32000pix_5.000000slice_zcen7.5__fromSFR.npz']\n",
    "\n",
    "    files_noSF_28 = [homedir+'emission_halpha_L0100N1504_28_test2_SmAb_C2Sm_32000pix_5.000000slice_zcen12.5_noSFR.npz',\n",
    "                     homedir+'emission_halpha_L0100N1504_28_test2_SmAb_C2Sm_32000pix_5.000000slice_zcen17.5_noSFR.npz',\n",
    "                     homedir+'emission_halpha_L0100N1504_28_test2_SmAb_C2Sm_32000pix_5.000000slice_zcen2.5_noSFR.npz',\n",
    "                     homedir+'emission_halpha_L0100N1504_28_test2_SmAb_C2Sm_32000pix_5.000000slice_zcen7.5_noSFR.npz']\n",
    "                 \n",
    "    # Load a 5Mpc slice of data\n",
    "    print('data1 ('+files_noSF_28[0]+')...')\n",
    "    data1 = (np.load(files_noSF_28[0])['arr_0'])[sl]\n",
    "    data1 = get_halpha_SB.imreduce(data1, round(factor), log=True, method = 'average')\n",
    "    print('data11 ('+files_SF_28[0]+')...')\n",
    "    data11 = (np.load(files_SF_28[0])['arr_0'])[sl]\n",
    "    data11 = get_halpha_SB.imreduce(data11, round(factor), log=True, method = 'average')\n",
    "    print('5 Mpc slice...')\n",
    "    data_5 = np.log10(10**data1+10**data11)\n",
    "    print('delete data1, data11...')\n",
    "    del data1\n",
    "    del data11\n",
    "    \n",
    "    return data_5\n",
    "\n"
   ]
  },
  {
   "cell_type": "code",
   "execution_count": 20,
   "metadata": {
    "collapsed": true
   },
   "outputs": [],
   "source": [
    "def changeres(distance,resolution,data):\n",
    "    pixscale =  {'50Mpc': 0.237/1000.*(1.+0.0115), '100Mpc': 0.477/1000.*(1.+0.0235),'200Mpc': 0.928/1000.*(1.+0.047) , '500Mpc': 2.178/1000.*(1.+0.12)} ### Mpc / arcsec (comoving)\n",
    "    simpixsize = 100./32000. ### Mpc / pixel is resolution of raw data \n",
    "    factor = round(pixscale[distance]*resolution/simpixsize)\n",
    "    size = 32000.\n",
    "    # LATER determine the current resolution of the data. FOR NOW assume current resolution is 100 Mpc/ 32000 pixels ~ 3 kpc/pixel\n",
    "\n",
    "    # If the factors are not integer multiples of 32000., I'll trim the data first and then imreduce it\n",
    "    if 32000.%((factor)) != 0.:\n",
    "        times_factor_fits_in = int(32000./factor)\n",
    "        newsize = times_factor_fits_in * factor\n",
    "        print(\"Before reducing resolution, the original data was trimmed to size %s.\"%int(newsize))\n",
    "        datanew = data[0:int(newsize),0:int(newsize)]\n",
    "    else:\n",
    "        datanew = data\n",
    "        newsize = size\n",
    "\n",
    "    return get_halpha_SB.imreduce(datanew, round(factor), log=True, method = 'average'), newsize, factor"
   ]
  },
  {
   "cell_type": "code",
   "execution_count": 21,
   "metadata": {
    "collapsed": true
   },
   "outputs": [],
   "source": [
    "def defineboxes(data,size=100.):\n",
    "    # size in Mpc = total box size of data\n",
    "    pixlength = float(data.shape[0])\n",
    "    \n",
    "    # Define boxes around the filaments (snapnum 28)\n",
    "    xbox_3 = np.array([53,53,56,56])*pixlength/size\n",
    "    ybox_3 = (np.array([9.2,10,8.5,7.7])-0.2)*pixlength/size\n",
    "    xbox_2 = np.array([44.5,44.5,46,46])*pixlength/size\n",
    "    #    xbox_2 = np.array([43,43,46,46])*pixlength/size\n",
    "    ybox_2 = (np.array([(7.9+6.9)/2.,(8.05+7.05)/2.,7.05,6.9])-0.05+0.2)*pixlength/size\n",
    "    #    ybox_2 = (np.array([7.9,8.05,7.05,6.9])-0.05+0.2)*pixlength/size\n",
    "    ##    ybox_2 = (np.array([7.8,8.1,7.1,6.8])-0.05+0.2)*pixlength/size\n",
    "    xbox_1 = (np.array([47.4,46.2,46.9,48.1])+0.5)*pixlength/size\n",
    "    ybox_1 = np.array([10.5,14,14,10.5])*pixlength/size\n",
    "    xboxes = {'1':xbox_1,'2':xbox_2,'3':xbox_3}\n",
    "    yboxes = {'1':ybox_1,'2':ybox_2,'3':ybox_3}\n",
    "    \n",
    "    return xboxes, yboxes"
   ]
  },
  {
   "cell_type": "code",
   "execution_count": 22,
   "metadata": {
    "collapsed": true
   },
   "outputs": [],
   "source": [
    "def extractdata(xfull,yfull,data):\n",
    "    SBdata = np.zeros(xfull.shape)\n",
    "    for i in range(yfull.shape[0]):\n",
    "        for j in range(yfull.shape[1]):\n",
    "                SBdata[i,j]  = data[xfull[i,j],yfull[i,j]]\n",
    "    return SBdata\n",
    "\n",
    "def getSBatfilament(data,resolution,distance):\n",
    "    datares, newsize, factor = changeres(distance,resolution,data) # change data to required resolution at selected distance\n",
    "    xboxes, yboxes = defineboxes(datares)\n",
    "    xfull, yfull= get_halpha_SB.indices_region(xboxes[boxnum].astype(int),yboxes[boxnum].astype(int)) \n",
    "    SBdata = extractdata(xfull,yfull,datares)\n",
    "    return SBdata"
   ]
  },
  {
   "cell_type": "code",
   "execution_count": 198,
   "metadata": {
    "collapsed": true
   },
   "outputs": [],
   "source": [
    "def addnoise(data,resolution,exptime=10**3*3600.,CMOS=False):\n",
    "    # Dragonfly info\n",
    "    area_lens = np.pi*(14.3/2)**2 * 48.                 # cm^2, 48 * 14.3 cm diameter lenses\n",
    "    pix_size = 2.8                                      # arcsec\n",
    "    ang_size_pixel  = (pix_size * (1./206265.))**2      # rad^2, the pixel size of the CCD\n",
    "    tau_l = 0.85                                        # transmittance of the Dragonfly lens\n",
    "    tau_f = 1.                                          # transmittance of the Halpha filter -- assumed for now\n",
    "    #B = getBackground(656.3,657.3,machine)              # *u.photon/u.second/u.arcsec**2/u.m**2  ****already multiplied by the bandwidth***\n",
    "    B = 0.560633\n",
    "    D = 0.04                                            # dark current (electrons / s) \n",
    "    if CMOS:\n",
    "        print \"Using new CMOS cameras...\"\n",
    "        QE = 0.70                                       # quantum efficiency of the CMOS detector\n",
    "        R_squared = 2.**2                               # read noise (electrons)\n",
    "    else:\n",
    "        print \"Using old cameras...\"\n",
    "        QE = 0.48                                       # quantum efficiency of the CCDs\n",
    "        R_squared = 10.**2                              # read noise (electrons)\n",
    "    \n",
    "   # R_squared = 50.**2\n",
    "    \n",
    "    binpix_size = resolution # arcsec\n",
    "    numpixel = round((binpix_size/pix_size)**2)\n",
    "    print \"the number of pixels is %s\"%numpixel\n",
    "    \n",
    "    \n",
    "    ### total signal incident in exposure time ###\n",
    "    totsignal = 10**data * exptime # ( photons / cm^2 /sr )\n",
    "    ### total signal detected (accounting for system efficiency) ###\n",
    "    detsignal = totsignal * QE * tau_l * tau_f * area_lens * ang_size_pixel * numpixel\n",
    "    print \"the total object signal [electrons] detected ranges from: %s to %s\"%(np.min(detsignal),np.max(detsignal))\n",
    "    print \"an example of the object signal [electrons] is: %s\"%detsignal[0]\n",
    "\n",
    "    ### ObjectShotNoise ###\n",
    "    detsignal_noise = np.zeros((data.shape[0],data.shape[1]))\n",
    "    for x in range(data.shape[0]):\n",
    "        for y in range(data.shape[1]):\n",
    "            detsignal_noise[x][y]=np.random.normal(detsignal[x][y],np.sqrt(detsignal[x][y])) \n",
    "    print \"an example of the object signal noise [electrons] is: %s\"%detsignal_noise[0]\n",
    "    \n",
    "    \n",
    "    ### BackgroundSkyNoise ###\n",
    "    'background sky signal detected [B]=ph/s/arcsec^2/m^2, [B_sky]=ph/s (in a pixel)'\n",
    "    B_sky = B * QE * tau_l * tau_f * area_lens*(1/100.)**2 * pix_size**2\n",
    "    print \"the background in the bandwidth is: %s\"%B\n",
    "    print \"the background signal, B_sky [ph/s (in a pixel)], is: %s\"%B_sky\n",
    "    B_sky_inexptime = B_sky*exptime\n",
    "    B_sky_total     = B_sky*exptime*numpixel    \n",
    "    B_sky_array = np.zeros((data.shape[0],data.shape[1]))\n",
    "    for x in range(data.shape[0]):\n",
    "        for y in range(data.shape[1]):\n",
    "            B_sky_array[x][y]=np.random.normal(B_sky_total,np.sqrt(B_sky_total)) \n",
    "#            B_sky_array[x][y]=np.random.poisson(B_sky_total)\n",
    "    B_sky_array_total = B_sky_array\n",
    "    print \"the mean total background signal, B_sky_total [electrons], is: %s\"%B_sky_total\n",
    "    print \"the total background noisy signal [electrons] ranges from: %s to %s\"%(np.min(B_sky_array_total),np.max(B_sky_array_total))\n",
    "    \n",
    "    ### ReadOutNoise ###\n",
    "    numexposures = exptime/3600. # hour long exposures\n",
    "    R_squared_array = np.zeros((data.shape[0],data.shape[1]))\n",
    "    for x in range(data.shape[0]):\n",
    "        for y in range(data.shape[1]):\n",
    "            R_squared_array[x][y]=np.mean(np.random.normal(np.sqrt(R_squared),np.sqrt(np.sqrt(B_sky)),int(numpixel)))**2   \n",
    "    R_squared_total = R_squared * round(numexposures)\n",
    "    R_squared_total_array = R_squared_array * round(numexposures)\n",
    "    print \"the R_squared value is: %s, so in %s exposures [per pixel], will have R_squared of: %s, %s\"%(R_squared,numexposures,R_squared_total,R_squared_total_array[0])\n",
    "    print \"the total R_squared value [electrons] multiplying by numpix read out is: %s, %s\"%((R_squared_total*numpixel),(R_squared_total_array[0]*numpixel))\n",
    "    \n",
    "    ### DarkCurrent ###\n",
    "    D_total = D*exptime*numpixel\n",
    "    D_array = np.zeros((data.shape[0],data.shape[1]))\n",
    "    for x in range(data.shape[0]):\n",
    "        for y in range(data.shape[1]):\n",
    "            D_array[x][y]=np.random.normal(D_total,np.sqrt(D_total)) \n",
    "    D_array_total = D_array\n",
    "    print \"the total dark current [electrons] is: %s , %s\"%(D_total, D_array_total[0])\n",
    "\n",
    "    sigma = np.sqrt(detsignal_noise + B_sky_array_total + D_array_total + R_squared_total_array*numpixel)\n",
    "    print \"an example total noise (not squarerooted) is: %s\"%(detsignal + B_sky_array_total + D_array_total + R_squared_total_array*numpixel)[0]\n",
    "    print \"an example total noise (squarerooted) is: %s\"%sigma[0]\n",
    "\n",
    "    ###  The total signal = signal + noise ###\n",
    "    noiseadded_signal = np.log10(detsignal_noise + sigma**2)\n",
    "    \n",
    "    return noiseadded_signal\n"
   ]
  },
  {
   "cell_type": "code",
   "execution_count": 9,
   "metadata": {
    "collapsed": true
   },
   "outputs": [],
   "source": [
    "    #-------------- pick your distance and desired resolution ---------------------------------------------#\n",
    "    resolution = 100.  ### arcsec\n",
    "    distance = '50Mpc'  ### '50Mpc' '100Mpc' '200Mpc' '500Mpc'\n",
    "    boxnum = '1' ### which filament (there are 3)\n",
    "    factor = 1\n",
    "    machine='coho'\n",
    "    #------------------------------------------------------------------------------------------------------#"
   ]
  },
  {
   "cell_type": "code",
   "execution_count": 10,
   "metadata": {
    "collapsed": false
   },
   "outputs": [
    {
     "name": "stdout",
     "output_type": "stream",
     "text": [
      "data1 (/Users/deblokhorst/eagle/SlicesFromNastasha/emission_halpha_L0100N1504_28_test2_SmAb_C2Sm_32000pix_5.000000slice_zcen12.5_noSFR.npz)...\n",
      "data11 (/Users/deblokhorst/eagle/SlicesFromNastasha/emission_halpha_L0100N1504_28_test2_SmAb_C2Sm_32000pix_5.000000slice_zcen12.5__fromSFR.npz)...\n"
     ]
    },
    {
     "name": "stderr",
     "output_type": "stream",
     "text": [
      "get_halpha_SB.py:36: RuntimeWarning: divide by zero encountered in log10\n",
      "  inimg = np.log10(inimg)\n"
     ]
    },
    {
     "name": "stdout",
     "output_type": "stream",
     "text": [
      "5 Mpc slice...\n",
      "delete data1, data11...\n"
     ]
    }
   ],
   "source": [
    " data_5 = loaddata()"
   ]
  },
  {
   "cell_type": "code",
   "execution_count": 202,
   "metadata": {
    "collapsed": false
   },
   "outputs": [
    {
     "name": "stdout",
     "output_type": "stream",
     "text": [
      "Before reducing resolution, the original data was trimmed to size 31996.\n",
      "xacross_length,yacross_length,xdown_length,ydown_length:  6, 0, -10, 29\n",
      "xacross_length > yacross_length:\n",
      "iterable: [ 0.  0.  0.  0.  0.  0.  0.]\n",
      "xdown_length < ydown_length:\n",
      "iterable: [ -0.  -0.  -1.  -1.  -1.  -2.  -2.  -2.  -3.  -3.  -3.  -4.  -4.  -4.  -5.\n",
      "  -5.  -6.  -6.  -6.  -7.  -7.  -7.  -8.  -8.  -8.  -9.  -9.  -9. -10. -10.]\n"
     ]
    }
   ],
   "source": [
    "resolution = 500.\n",
    "SBdata = getSBatfilament(data_5,resolution,distance)\n",
    "#np.savez('SBdata_1000arcsec.npz',SBdata)"
   ]
  },
  {
   "cell_type": "code",
   "execution_count": 171,
   "metadata": {
    "collapsed": false
   },
   "outputs": [
    {
     "data": {
      "text/plain": [
       "(30, 7)"
      ]
     },
     "execution_count": 171,
     "metadata": {},
     "output_type": "execute_result"
    }
   ],
   "source": [
    "SBdata.shape"
   ]
  },
  {
   "cell_type": "code",
   "execution_count": 174,
   "metadata": {
    "collapsed": true
   },
   "outputs": [],
   "source": [
    "SBdata_loaded = np.load('SBdata_500arcsec.npz')['arr_0']"
   ]
  },
  {
   "cell_type": "code",
   "execution_count": 178,
   "metadata": {
    "collapsed": false
   },
   "outputs": [
    {
     "data": {
      "text/plain": [
       "(30, 7)"
      ]
     },
     "execution_count": 178,
     "metadata": {},
     "output_type": "execute_result"
    }
   ],
   "source": [
    "SBdata_loaded.shape"
   ]
  },
  {
   "cell_type": "markdown",
   "metadata": {},
   "source": [
    "Here down is where we can mess around with things:"
   ]
  },
  {
   "cell_type": "code",
   "execution_count": 199,
   "metadata": {
    "collapsed": false
   },
   "outputs": [
    {
     "name": "stdout",
     "output_type": "stream",
     "text": [
      "Using new CMOS cameras...\n",
      "the number of pixels is 31888.0\n",
      "the total object signal [electrons] detected ranges from: 90.0557016839 to 6937995559.83\n",
      "an example of the object signal [electrons] is: [  726.89623109  1115.06429772  2119.90561268  4698.06775117  5928.38816209\n",
      "  6738.57444368  3164.88833722]\n",
      "an example of the object signal noise [electrons] is: [  750.17620423  1104.11107899  2103.06121435  4705.05596644  6010.98411779\n",
      "  6861.38474904  3139.58272127]\n",
      "the background in the bandwidth is: 0.560633\n",
      "the background signal, B_sky [ph/s (in a pixel)], is: 2.01611304518\n",
      "the mean total background signal, B_sky_total [electrons], is: 2.31443326025e+11\n",
      "the total background noisy signal [electrons] ranges from: 231442146302.0 to 231444452980.0\n",
      "the R_squared value is: 4.0, so in 1000.0 exposures [per pixel], will have R_squared of: 4000.0, [ 3986.8057722   4006.67864322  3980.53715885  4017.68515746  3984.38444874\n",
      "  3998.26386844  3970.2987352 ]\n",
      "the total R_squared value [electrons] multiplying by numpix read out is: 127552000.0, [  1.27131262e+08   1.27764969e+08   1.26931369e+08   1.28115944e+08\n",
      "   1.27054051e+08   1.27496638e+08   1.26604886e+08]\n",
      "the total dark current [electrons] is: 4591872000.0 , [  4.59189325e+09   4.59179646e+09   4.59192206e+09   4.59179984e+09\n",
      "   4.59190692e+09   4.59188434e+09   4.59185007e+09]\n",
      "an example total noise (not squarerooted) is: [  2.36162339e+11   2.36163432e+11   2.36162338e+11   2.36164088e+11\n",
      "   2.36162811e+11   2.36162633e+11   2.36161588e+11]\n",
      "an example total noise (squarerooted) is: [ 485965.36803896  485966.49248589  485965.36685789  485967.16783402\n",
      "  485965.85424202  485965.67038028  485964.59525435]\n"
     ]
    },
    {
     "data": {
      "image/png": "[encoded data removed]",
      "text/plain": [
       "<matplotlib.figure.Figure at 0x2013766d0>"
      ]
     },
     "metadata": {},
     "output_type": "display_data"
    }
   ],
   "source": [
    "exptime=10**3*3600.\n",
    "SBdata_exp0 = addnoise(SBdata,resolution,exptime=exptime,CMOS=True)\n",
    "mockobs_sub = SBdata_exp0 - (int(np.min(SBdata_exp0)*100000)/100000.)\n",
    "fig = plt.figure(figsize = (9.5, 5.))\n",
    "ax1 = plt.subplot(111)\n",
    "plotfilament(mockobs_sub**0.0002,ax1,contours=False,mockobs=True,colmap='gist_gray')\n",
    "plt.savefig('mockobs_res%sas_exptime%shr_straightskyadd_poisson.png'%(resolution,round(exptime/3600.)))"
   ]
  },
  {
   "cell_type": "code",
   "execution_count": null,
   "metadata": {
    "collapsed": true
   },
   "outputs": [],
   "source": []
  },
  {
   "cell_type": "code",
   "execution_count": null,
   "metadata": {
    "collapsed": true
   },
   "outputs": [],
   "source": []
  },
  {
   "cell_type": "code",
   "execution_count": null,
   "metadata": {
    "collapsed": true
   },
   "outputs": [],
   "source": []
  },
  {
   "cell_type": "code",
   "execution_count": 68,
   "metadata": {
    "collapsed": false
   },
   "outputs": [
    {
     "name": "stdout",
     "output_type": "stream",
     "text": [
      "Using new CMOS cameras...\n"
     ]
    }
   ],
   "source": [
    "    area_lens = np.pi*(14.3/2)**2 * 48.                 # cm^2, 48 * 14.3 cm diameter lenses\n",
    "    pix_size = 2.8                                      # arcsec\n",
    "    ang_size_pixel  = (pix_size * (1./206265.))**2      # rad^2, the pixel size of the CCD\n",
    "    tau_l = 0.85                                        # transmittance of the Dragonfly lens\n",
    "    tau_f = 1.                                          # transmittance of the Halpha filter -- assumed for now\n",
    "    B = getBackground(656.3,657.3,machine)              # *u.photon/u.second/u.arcsec**2/u.m**2  ****already multiplied by the bandwidth***\n",
    "    D = 0.04                                            # dark current (electrons / s) \n",
    "    CMOS=True\n",
    "    if CMOS:\n",
    "        print \"Using new CMOS cameras...\"\n",
    "        QE = 0.70                                       # quantum efficiency of the CMOS detector\n",
    "        R_squared = 2.**2                               # read noise (electrons)\n",
    "    else:\n",
    "        print \"Using old cameras...\"\n",
    "        QE = 0.48                                       # quantum efficiency of the CCDs\n",
    "        R_squared = 10.**2                              # read noise (electrons)\n",
    "    R_squared = 50.**2"
   ]
  },
  {
   "cell_type": "code",
   "execution_count": 32,
   "metadata": {
    "collapsed": false
   },
   "outputs": [
    {
     "name": "stdout",
     "output_type": "stream",
     "text": [
      "the number of pixels is 31888.0\n"
     ]
    }
   ],
   "source": [
    "binpix_size = resolution # arcsec\n",
    "numpixel = round((binpix_size/pix_size)**2)\n",
    "print \"the number of pixels is %s\"%numpixel"
   ]
  },
  {
   "cell_type": "code",
   "execution_count": 35,
   "metadata": {
    "collapsed": true
   },
   "outputs": [],
   "source": [
    "exptime=10**2*3600.\n",
    "totsignal = 10**SBdata * exptime # ( photons / cm^2 /sr )\n",
    "detsignal = totsignal * QE * tau_l * tau_f * area_lens * ang_size_pixel * numpixel\n"
   ]
  },
  {
   "cell_type": "code",
   "execution_count": 56,
   "metadata": {
    "collapsed": false
   },
   "outputs": [
    {
     "name": "stdout",
     "output_type": "stream",
     "text": [
      "Raw signal (ph per sec per area per angular area per second): 0.054995 ph/pix/cm^2/arcsec^2/s\n",
      "Raw signal in the exposure time (100.0 hr): 19798.220805 ph/pix/cm^2/arcsec^2\n",
      "Detected signal (in a 500.0\" by 500.0\" binned pixel): 533.627970 electrons\n"
     ]
    }
   ],
   "source": [
    "print('Raw signal (ph per sec per area per angular area per second): %f ph/pix/cm^2/arcsec^2/s' % (10**SBdata[3][0]))\n",
    "print('Raw signal in the exposure time (%s hr): %f ph/pix/cm^2/arcsec^2' % ((exptime/3600.),totsignal[3][0]))\n",
    "print('Detected signal (in a %s\\\" by %s\\\" binned pixel): %f electrons' % (resolution,resolution,detsignal[3][0]))"
   ]
  },
  {
   "cell_type": "code",
   "execution_count": 69,
   "metadata": {
    "collapsed": false
   },
   "outputs": [
    {
     "name": "stdout",
     "output_type": "stream",
     "text": [
      "0.560633\n",
      "Background signal per second: 2.016113\n",
      "Background signal in exposure time (in a 500.0\" by 500.0\" binned pixel): 23144332602.5 electrons\n",
      "Sqrt background signal in exposure time (in a 500.0\" by 500.0\" binned pixel): 152132.615183 electrons\n"
     ]
    }
   ],
   "source": [
    "\n",
    "print(B)\n",
    "B_sky = B * QE * tau_l * tau_f * area_lens*(1/100.)**2 * pix_size**2\n",
    "print(\"Background signal per second: %f\"%B_sky)\n",
    "B_sky_total = B_sky*exptime*numpixel\n",
    "print(\"Background signal in exposure time (in a %s\\\" by %s\\\" binned pixel): %s electrons\"%(resolution,resolution,B_sky_total))\n",
    "print(\"Sqrt background signal in exposure time (in a %s\\\" by %s\\\" binned pixel): %s electrons\"%(resolution,resolution,np.sqrt(B_sky_total)))"
   ]
  },
  {
   "cell_type": "markdown",
   "metadata": {},
   "source": [
    "Straight from the Gemini data:"
   ]
  },
  {
   "cell_type": "code",
   "execution_count": 66,
   "metadata": {
    "collapsed": false
   },
   "outputs": [
    {
     "name": "stdout",
     "output_type": "stream",
     "text": [
      "35239298246.5\n",
      "20967382456.6\n"
     ]
    }
   ],
   "source": [
    "# 0.5079 phot/s/nm/arcsec^2/m^2 is the background flux value around 656.3 nm\n",
    "B_incident = 0.5079 * exptime * 1.0 * pix_size**2 * numpixel * area_lens*(1/100.)**2\n",
    "print B_incident\n",
    "B_detected = B_incident * QE * tau_l * tau_f\n",
    "print B_detected"
   ]
  },
  {
   "cell_type": "markdown",
   "metadata": {},
   "source": [
    "The second value is on the same order-of-magnitude as the B_sky_total so we are not crazily off.  It looks like our background value is a little too high though."
   ]
  },
  {
   "cell_type": "code",
   "execution_count": 71,
   "metadata": {
    "collapsed": false
   },
   "outputs": [
    {
     "name": "stdout",
     "output_type": "stream",
     "text": [
      "7972000000.0\n"
     ]
    }
   ],
   "source": [
    "numexposures = exptime/3600. # hour long exposures\n",
    "R_squared_allexp = R_squared * round(numexposures)\n",
    "R_squared_total  = R_squared_allexp*numpixel\n",
    "print R_squared_total"
   ]
  },
  {
   "cell_type": "code",
   "execution_count": null,
   "metadata": {
    "collapsed": true
   },
   "outputs": [],
   "source": [
    "'background sky signal detected [B]=ph/s/arcsec^2/m^2, [B_sky]=ph/s (in a pixel)'\n",
    "    # add noise to the background sky signal by replacing each value with a random value taken from a gaussian distribution with a mean of its value and st dev of sqrt of its value\n",
    "    # set up array to contain sky background noise, use mean from the number of pixels bin over to make the map\n",
    "    B_sky_array = np.zeros((data.shape[0],data.shape[1]))\n",
    "    for x in range(data.shape[0]):\n",
    "        for y in range(data.shape[1]):\n",
    "            B_sky_array[x][y]=np.mean(np.random.normal(B_sky,np.sqrt(B_sky),int(numpixel)))    \n",
    "    B_sky_total = B_sky*exptime*numpixel\n",
    "    B_sky_array_total = B_sky_array*exptime*numpixel\n",
    "    print \"the mean total background signal, B_sky_total [electrons], is: %s\"%B_sky_total\n",
    "    print \"the total background noisy signal [electrons] ranges from: %s to %s\"%(np.min(B_sky_array_total),np.max(B_sky_array_total))\n",
    "    \n",
    "    ### ReadOutNoise ###\n",
    "    numexposures = exptime/3600. # hour long exposures\n",
    "    R_squared_array = np.zeros((data.shape[0],data.shape[1]))\n",
    "    for x in range(data.shape[0]):\n",
    "        for y in range(data.shape[1]):\n",
    "            R_squared_array[x][y]=np.mean(np.random.normal(np.sqrt(R_squared),np.sqrt(np.sqrt(B_sky)),int(numpixel)))**2   \n",
    "    R_squared_total = R_squared * round(numexposures)\n",
    "    R_squared_total_array = R_squared_array * round(numexposures)\n",
    "    print \"the R_squared value is: %s, so in %s exposures [per pixel], will have R_squared of: %s\"%(R_squared,numexposures,R_squared_total)\n",
    "    print \"the total R_squared value [electrons] multiplying by numpix read out is: %s\"%(R_squared_total*numpixel)\n",
    "    \n",
    "    ### DarkCurrent ###\n",
    "    print \"the total dark current [electrons] is: %s \"%(D*exptime*numpixel)\n",
    "    # to do: add noise to dark current and read noise?\n",
    "    \n",
    "    sigma = np.sqrt(detsignal + B_sky_array*exptime*numpixel + D*exptime*numpixel + R_squared_total*numpixel)\n",
    "    print \"the total noise (not squarerooted) is: %s\"%(detsignal + B_sky_array*exptime*numpixel + D*exptime*numpixel + R_squared_total*numpixel)\n",
    "    print \"the total noise (squarerooted) is: %s\"%sigma\n",
    "\n",
    "    return B_sky_array, np.log10(detsignal + sigma)\n"
   ]
  }
 ],
 "metadata": {
  "kernelspec": {
   "display_name": "Python 2",
   "language": "python",
   "name": "python2"
  },
  "language_info": {
   "codemirror_mode": {
    "name": "ipython",
    "version": 2
   },
   "file_extension": ".py",
   "mimetype": "text/x-python",
   "name": "python",
   "nbconvert_exporter": "python",
   "pygments_lexer": "ipython2",
   "version": "2.7.13"
  }
 },
 "nbformat": 4,
 "nbformat_minor": 2
}
