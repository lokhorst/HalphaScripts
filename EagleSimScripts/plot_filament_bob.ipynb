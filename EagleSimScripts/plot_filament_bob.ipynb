{
 "cells": [
  {
   "cell_type": "markdown",
   "metadata": {},
   "source": [
    "Plotting a filament with noise added.  Load in the SB data file then pick exposure time."
   ]
  },
  {
   "cell_type": "code",
   "execution_count": 1,
   "metadata": {
    "collapsed": false
   },
   "outputs": [
    {
     "name": "stderr",
     "output_type": "stream",
     "text": [
      "//anaconda/lib/python2.7/site-packages/matplotlib/font_manager.py:273: UserWarning: Matplotlib is building the font cache using fc-list. This may take a moment.\n",
      "  warnings.warn('Matplotlib is building the font cache using fc-list. This may take a moment.')\n"
     ]
    }
   ],
   "source": [
    "import numpy as np\n",
    "import matplotlib.pyplot as plt\n",
    "import matplotlib.cm as cm\n",
    "import mpl_toolkits.axes_grid1 as axgrid\n",
    "from astropy import constants as const\n",
    "from astropy import units as u\n",
    "\n",
    "%matplotlib inline"
   ]
  },
  {
   "cell_type": "code",
   "execution_count": 2,
   "metadata": {
    "collapsed": true
   },
   "outputs": [],
   "source": [
    "def plotfilament(SBdata,ax,colmap='viridis',onlyyellow=False,contours=True,mockobs=False,labelaxes=False):\n",
    "    # setting up the plot\n",
    "    if mockobs:\n",
    "        clabel = r'log signal (photons)'\n",
    "    else:\n",
    "        clabel = r'log photons/cm$^2$/s/sr'\n",
    "    Vmin = None\n",
    "    Vmax= None\n",
    "    #fig = plt.figure(figsize = (7.5, 8.))\n",
    "    #ax = plt.subplot(121)\n",
    "    fontsize=13\n",
    "\n",
    "    if labelaxes:\n",
    "        ax.set_xlabel(r'X [cMpc]',fontsize=fontsize)\n",
    "        ax.set_ylabel(r'Y [cMpc]',fontsize=fontsize)\n",
    "        #xlabels = [0,0.6,1.2,1.8,2.4,3.0]\n",
    "        #ax.set_xticks([0,5,10,15,20,25], minor=False)\n",
    "        #ax.set_xticklabels(xlabels, minor=False)\n",
    "        #ylabels = [ 0.,0.25,0.5]\n",
    "        #ax.set_yticks([0,2.5,5], minor=False)\n",
    "        #ax.set_yticklabels(ylabels, minor=False)\n",
    "    \n",
    "        ax.tick_params(labelsize=fontsize) #,top=True,labeltop=True)\n",
    "        ax.xaxis.set_label_position('top') \n",
    "        ax.xaxis.tick_top()\n",
    "        \n",
    "    \n",
    "    #colmap = 'viridis'#'gist_gray'#'plasma'#'viridis' #'afmhot'\n",
    "    ax.patch.set_facecolor(cm.get_cmap(colmap)(0.)) # sets background color to lowest color map value\n",
    "\n",
    "    \n",
    "    ## If you only want to plot the SB greater than 1 photon/s/cm^2/arcsec^2 then do the following\n",
    "    if onlyyellow:\n",
    "        SBonlyyellow = SBdata\n",
    "        SBonlyyellow[SBdata<0.] = -3.\n",
    "        img = ax.imshow(SBonlyyellow.T,origin='lower', cmap=cm.get_cmap(colmap), vmin = Vmin, vmax=Vmax,interpolation='nearest')\n",
    "        levels = [0,1,2]\n",
    "        colours = ['yellow','cyan','purple']\n",
    "    else:\n",
    "        img = ax.imshow(SBdata.T,origin='lower',extent=(0,3.7,0,0.7), cmap=cm.get_cmap(colmap), vmin = Vmin, vmax=Vmax,interpolation='nearest')\n",
    "        levels = np.array([-2,-1,0,1,2,3])\n",
    "        colours = ('red','orange','yellow','cyan','purple','pink')\n",
    "        #levels = np.array([-2,-1.5,-1,-0.5,0,0.3,1,1.5,2,2.5,3])\n",
    "        #colours = ('red','black','orange','black','yellow','black','cyan','black','purple','black','pink')\n",
    "    \n",
    "    # plot contours\n",
    "    cmap = cm.PRGn\n",
    "    if contours:\n",
    "        ax.contour(SBdata.T,levels,colors=colours)#,cmap=cm.get_cmap(cmap, len(levels) - 1),)\n",
    "\n",
    "    div = axgrid.make_axes_locatable(ax)\n",
    "    #cax = div.append_axes(\"bottom\",size=\"15%\",pad=0.1)\n",
    "    #cbar = plt.colorbar(img, cax=cax,orientation='horizontal')\n",
    "    #cbar.solids.set_edgecolor(\"face\")\n",
    "    #cbar.ax.set_xlabel(r'%s' % (clabel), fontsize=fontsize)\n",
    "    ##cbar.ax.set_ylabel(r'%s' % (clabel), fontsize=fontsize)\n",
    "    #cbar.ax.tick_params(labelsize=fontsize)\n"
   ]
  },
  {
   "cell_type": "code",
   "execution_count": 3,
   "metadata": {
    "collapsed": true
   },
   "outputs": [],
   "source": [
    "def addnoise(data,resolution,exptime=10**3*3600.,CMOS=False):\n",
    "    # Dragonfly info\n",
    "    area_lens = np.pi*(14.3/2)**2 * 48.                 # cm^2, 48 * 14.3 cm diameter lenses\n",
    "    pix_size = 2.8                                      # arcsec\n",
    "    ang_size_pixel  = (pix_size * (1./206265.))**2      # rad^2, the pixel size of the CCD\n",
    "    tau_l = 0.85                                        # transmittance of the Dragonfly lens\n",
    "    tau_f = 1.                                          # transmittance of the Halpha filter -- assumed for now\n",
    "    #B = getBackground(656.3,657.3,machine)              # *u.photon/u.second/u.arcsec**2/u.m**2  ****already multiplied by the bandwidth***\n",
    "    B = 0.560633\n",
    "    D = 0.04       # dark current (electrons / s) \n",
    "    \n",
    "    if CMOS:\n",
    "   #     print \"Using new CMOS cameras...\"\n",
    "        QE = 0.70                                       # quantum efficiency of the CMOS detector\n",
    "        R_squared = 2.**2                               # read noise (electrons)\n",
    "    else:\n",
    "   #     print \"Using old cameras...\"\n",
    "        QE = 0.48                                       # quantum efficiency of the CCDs\n",
    "        R_squared = 10.**2                              # read noise (electrons)\n",
    "    \n",
    "   # R_squared = 50.**2\n",
    "    \n",
    "    binpix_size = resolution # arcsec\n",
    "    numpixel = round((binpix_size/pix_size)**2)\n",
    "    #print \"the number of pixels is %s\"%numpixel\n",
    "    \n",
    "    \n",
    "    ### total signal incident in exposure time ###\n",
    "    totsignal = 10**data * exptime # ( photons / cm^2 /sr )\n",
    "    ### total signal detected (accounting for system efficiency) ###\n",
    "    detsignal = totsignal * QE * tau_l * tau_f * area_lens * ang_size_pixel * numpixel\n",
    "    #print \"the total object signal [electrons] detected ranges from: %s to %s\"%(np.min(detsignal),np.max(detsignal))\n",
    "    #print \"an example of the object signal [electrons] is: %s\"%detsignal[0]\n",
    "\n",
    "\n",
    "    ### Background from stuff in space ###\n",
    "    'background sky signal detected [B]=ph/s/arcsec^2/m^2, [B_sky]=ph/s (in a pixel)'\n",
    "    B_sky = B * QE * tau_l * tau_f * area_lens*(1/100.)**2 * pix_size**2\n",
    "    #print \"the background in the bandwidth is: %s\"%B\n",
    "    #print \"the background signal, B_sky [ph/s (in a pixel)], is: %s\"%B_sky\n",
    "    B_sky_inexptime = B_sky*exptime\n",
    "    B_sky_total     = B_sky*exptime*numpixel    \n",
    "    B_sky_array = np.zeros((data.shape[0],data.shape[1]))\n",
    "    for x in range(data.shape[0]):\n",
    "        for y in range(data.shape[1]):\n",
    "            B_sky_array[x][y]=np.random.normal(0,np.sqrt(B_sky_total+detsignal[x][y])) \n",
    "#            B_sky_array[x][y]=np.random.poisson(B_sky_total)\n",
    "    B_sky_array_total = B_sky_array\n",
    "    #print \"the mean total background signal, B_sky_total [electrons], is: %s\"%B_sky_total\n",
    "    #print \"the total background noisy signal [electrons] ranges from: %s to %s\"%(np.min(B_sky_array_total),np.max(B_sky_array_total))\n",
    "    \n",
    "    # Signal\n",
    "    noiseadded_signal = detsignal + B_sky_total + B_sky_array\n",
    "    \n",
    "    ### ReadOutNoise ###\n",
    "    numexposures = exptime/3600. # hour long exposures\n",
    "    R_squared_array = np.zeros((data.shape[0],data.shape[1]))\n",
    "    for x in range(data.shape[0]):\n",
    "        for y in range(data.shape[1]):\n",
    "            R_squared_array[x][y]=np.mean(np.random.normal(np.sqrt(R_squared),np.sqrt(np.sqrt(B_sky)),int(numpixel)))**2   \n",
    "    R_squared_total = R_squared * round(numexposures)\n",
    "    R_squared_total_array = R_squared_array * round(numexposures)\n",
    "    #print \"the R_squared value is: %s, so in %s exposures [per pixel], will have R_squared of: %s, %s\"%(R_squared,numexposures,R_squared_total,R_squared_total_array[0])\n",
    "    #print \"the total R_squared value [electrons] multiplying by numpix read out is: %s, %s\"%((R_squared_total*numpixel),(R_squared_total_array[0]*numpixel))\n",
    "    \n",
    "    ### DarkCurrent ###\n",
    "    noise_from_detector = 0.0\n",
    "    #D_total = D*exptime*numpixel\n",
    "    #D_array = np.zeros((data.shape[0],data.shape[1]))\n",
    "    #for x in range(data.shape[0]):\n",
    "    #    for y in range(data.shape[1]):\n",
    "    #        D_array[x][y]=np.random.normal(D_total,np.sqrt(D_total)) \n",
    "    #D_array_total = D_array\n",
    "    #print \"the total dark current [electrons] is: %s , %s\"%(D_total, D_array_total[0])\n",
    "\n",
    "    #noise_from_detector = D_array_total + R_squared_total_array*numpixel\n",
    "    #print \"an example total noise (not squarerooted) is: %s\"%(detsignal + B_sky_array_total + D_array_total + R_squared_total_array*numpixel)[0]\n",
    "    #print \"an example total noise (squarerooted) is: %s\"%sigma[0]\n",
    "    \n",
    "    \n",
    "    # Now add noise from the detector\n",
    "    \n",
    "    noiseadded_signal = noiseadded_signal + noise_from_detector\n",
    "    \n",
    "    return noiseadded_signal\n"
   ]
  },
  {
   "cell_type": "markdown",
   "metadata": {},
   "source": [
    "Load the EAGLE SB data from a saved file:"
   ]
  },
  {
   "cell_type": "code",
   "execution_count": 5,
   "metadata": {
    "collapsed": true
   },
   "outputs": [],
   "source": [
    "resolution = 500. #arcsec\n",
    "SBdata = np.load('SBdata_500arcsec.npz')['arr_0']"
   ]
  },
  {
   "cell_type": "code",
   "execution_count": 6,
   "metadata": {
    "collapsed": false
   },
   "outputs": [
    {
     "data": {
      "text/plain": [
       "(30, 7)"
      ]
     },
     "execution_count": 6,
     "metadata": {},
     "output_type": "execute_result"
    }
   ],
   "source": [
    "SBdata.shape"
   ]
  },
  {
   "cell_type": "code",
   "execution_count": 7,
   "metadata": {
    "collapsed": true
   },
   "outputs": [],
   "source": [
    "def plotit(exptime, mymap='gist_gray'):\n",
    "    \n",
    "    addnoisesqrt = False\n",
    "\n",
    "    #  Add the noise to the EAGLE SB data\n",
    "    SBdata_exp0 = addnoise(SBdata,resolution,exptime=exptime,CMOS=True)\n",
    "\n",
    "    # Plot the subtracted noiseadded data\n",
    "    fig = plt.figure(figsize = (9.5, 5.))\n",
    "    ax1 = plt.subplot(111)\n",
    "\n",
    "    # Plot the data nicely\n",
    "    median = np.median(SBdata_exp0);\n",
    "    sig = np.sqrt(median)\n",
    "\n",
    "    mymax = median + 10*sig\n",
    "    mymin = median - 5*sig\n",
    "\n",
    "    SBdata_clipped = SBdata_exp0\n",
    "    SBdata_clipped[SBdata_clipped < mymin] = mymin\n",
    "    SBdata_clipped[SBdata_clipped > mymax] = mymax\n",
    "    SBdata_clipped = SBdata_clipped - mymin\n",
    "\n",
    "    plotfilament(SBdata_clipped**0.25,ax1,contours=False,mockobs=True,colmap=mymap)\n",
    "\n",
    "#plt.savefig('mockobs_res%sas_exptime%shr.png'%(resolution,round(exptime/3600.)))"
   ]
  },
  {
   "cell_type": "code",
   "execution_count": 8,
   "metadata": {
    "collapsed": false
   },
   "outputs": [
    {
     "data": {
      "image/png": "[encoded data removed]",
      "text/plain": [
       "<matplotlib.figure.Figure at 0x10c052ed0>"
      ]
     },
     "metadata": {},
     "output_type": "display_data"
    }
   ],
   "source": [
    "plotit(10**3 * 3600, 'viridis')"
   ]
  },
  {
   "cell_type": "code",
   "execution_count": 9,
   "metadata": {
    "collapsed": false
   },
   "outputs": [
    {
     "data": {
      "image/png": "[encoded data removed]",
      "text/plain": [
       "<matplotlib.figure.Figure at 0x10e61c5d0>"
      ]
     },
     "metadata": {},
     "output_type": "display_data"
    }
   ],
   "source": [
    "plotit(10**6 * 3600,'viridis')"
   ]
  },
  {
   "cell_type": "code",
   "execution_count": null,
   "metadata": {
    "collapsed": true
   },
   "outputs": [],
   "source": []
  }
 ],
 "metadata": {
  "kernelspec": {
   "display_name": "Python 2",
   "language": "python",
   "name": "python2"
  },
  "language_info": {
   "codemirror_mode": {
    "name": "ipython",
    "version": 2
   },
   "file_extension": ".py",
   "mimetype": "text/x-python",
   "name": "python",
   "nbconvert_exporter": "python",
   "pygments_lexer": "ipython2",
   "version": "2.7.13"
  }
 },
 "nbformat": 4,
 "nbformat_minor": 2
}
