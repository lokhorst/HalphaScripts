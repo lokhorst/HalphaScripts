{
 "cells": [
  {
   "cell_type": "markdown",
   "metadata": {},
   "source": [
    "## make the filament mock observations, but with masking to compare"
   ]
  },
  {
   "cell_type": "code",
   "execution_count": 1,
   "metadata": {
    "collapsed": true
   },
   "outputs": [],
   "source": [
    "import numpy as np\n",
    "import eagle_constants_and_units as c\n",
    "import cosmo_utils as csu\n",
    "import matplotlib.pyplot as plt\n",
    "import matplotlib.cm as cm\n",
    "import mpl_toolkits.axes_grid1 as axgrid\n",
    "from astropy import constants as const\n",
    "from astropy import units as u\n",
    "from astropy.io import fits\n",
    "\n",
    "import os\n",
    "import get_halpha_SB\n",
    "\n",
    "%matplotlib inline\n",
    "\n",
    "%run 'load_data.ipynb'\n",
    "%run 'add_noise.ipynb'\n",
    "%run 'extract_FOV.ipynb'\n",
    "%run 'mask_galaxies.ipynb'\n",
    "%run 'extract_filament.ipynb'"
   ]
  },
  {
   "cell_type": "markdown",
   "metadata": {},
   "source": [
    "### load data"
   ]
  },
  {
   "cell_type": "code",
   "execution_count": 9,
   "metadata": {
    "collapsed": true
   },
   "outputs": [],
   "source": [
    "machine = 'chinook'\n",
    "plotchecks = True\n",
    "slicewidth=5.\n",
    "distance='50Mpc'\n",
    "resolution=None"
   ]
  },
  {
   "cell_type": "code",
   "execution_count": 10,
   "metadata": {
    "collapsed": false
   },
   "outputs": [
    {
     "name": "stdout",
     "output_type": "stream",
     "text": [
      "Resolution is None, finding minimum resolution of the similuation...\n",
      "The resolution of the raw simulation at 50Mpc is 13.0357429643.\n",
      "Loading data of slicewidth 5 (after rounding), number of slices is 1\n",
      "./intermediatedata/data_50Mpc_13arcsec_5slwd.npz exists, loading now...\n",
      "./intermediatedata/data_50Mpc_13arcsec_5slwd.npz was not saved as a tuple since too large, returning as tuple with 32000,1,13.0357429643 appended.\n"
     ]
    }
   ],
   "source": [
    "data_tuple_5 = loaddata(machine=machine,resolution=resolution,distance=distance,slicewidth=slicewidth)"
   ]
  },
  {
   "cell_type": "markdown",
   "metadata": {},
   "source": [
    "### extract section of the array that contains the filament"
   ]
  },
  {
   "cell_type": "code",
   "execution_count": null,
   "metadata": {
    "collapsed": true
   },
   "outputs": [],
   "source": [
    "xystarts = [40.,0.]\n",
    "size     = [20.,20.]\n",
    "data_cutout = data_tuple_5[0]\n",
    "data_cutout = data_cutout[(40./100.*32000):(60./100.*32000),0:(20./100.*32000)]"
   ]
  },
  {
   "cell_type": "markdown",
   "metadata": {},
   "source": [
    "### mask the galaxies"
   ]
  },
  {
   "cell_type": "code",
   "execution_count": 11,
   "metadata": {
    "collapsed": false
   },
   "outputs": [
    {
     "name": "stdout",
     "output_type": "stream",
     "text": [
      "13.0357429643\n"
     ]
    }
   ],
   "source": [
    "resolution = data_tuple_5[3]\n",
    "print resolution"
   ]
  },
  {
   "cell_type": "code",
   "execution_count": null,
   "metadata": {
    "collapsed": false
   },
   "outputs": [
    {
     "name": "stdout",
     "output_type": "stream",
     "text": [
      "NOTE on masking:\n",
      "This is a huge galaxy-it is located at x,y,z = 87.0127,69.3419,13.168 and has mass 1.84771e+11\n",
      "\n"
     ]
    },
    {
     "name": "stderr",
     "output_type": "stream",
     "text": [
      "/anaconda/lib/python2.7/site-packages/ipykernel/__main__.py:17: VisibleDeprecationWarning: using a non-integer number instead of an integer will result in an error in the future\n"
     ]
    }
   ],
   "source": [
    "masked_data = maskgalaxies(data_cutout,xystarts,size,slicewidth,distance,resolution,debug=False,verbose=False)\n",
    "# started at 1:54pm"
   ]
  },
  {
   "cell_type": "markdown",
   "metadata": {},
   "source": [
    "### extract the filament (both data and mask)"
   ]
  },
  {
   "cell_type": "code",
   "execution_count": null,
   "metadata": {
    "collapsed": true
   },
   "outputs": [],
   "source": [
    "SBdata_ = extractfilament(data_tuple=data_tuple_5,plotchecks=True)\n",
    "mask = extractfilament(data_tuple=data_tuple_5,plotchecks=True)"
   ]
  },
  {
   "cell_type": "markdown",
   "metadata": {},
   "source": [
    "### add the noise"
   ]
  },
  {
   "cell_type": "code",
   "execution_count": null,
   "metadata": {
    "collapsed": true
   },
   "outputs": [],
   "source": [
    "exptime = 60.*60.*1000.\n",
    "filterwidth = 1\n",
    "CMOS = True\n",
    "ROnoise = None\n",
    "includemeannoise = True"
   ]
  },
  {
   "cell_type": "code",
   "execution_count": null,
   "metadata": {
    "collapsed": true
   },
   "outputs": [],
   "source": [
    "noiseadded_signal,B_sky_array,R_array,D_array = addnoise(SBdata_5,resolution,exptime=exptime,filterwidth=filterwidth,\\\n",
    "                                                         CMOS=CMOS,R=ROnoise,debugging=True,includemeannoise=includemeannoise,\\\n",
    "                                                         plotchecks=plotchecks)"
   ]
  },
  {
   "cell_type": "markdown",
   "metadata": {},
   "source": [
    "### bin the data (using the mask)"
   ]
  },
  {
   "cell_type": "code",
   "execution_count": null,
   "metadata": {
    "collapsed": true
   },
   "outputs": [],
   "source": []
  }
 ],
 "metadata": {
  "kernelspec": {
   "display_name": "Python 2",
   "language": "python",
   "name": "python2"
  },
  "language_info": {
   "codemirror_mode": {
    "name": "ipython",
    "version": 2
   },
   "file_extension": ".py",
   "mimetype": "text/x-python",
   "name": "python",
   "nbconvert_exporter": "python",
   "pygments_lexer": "ipython2",
   "version": "2.7.13"
  }
 },
 "nbformat": 4,
 "nbformat_minor": 2
}
