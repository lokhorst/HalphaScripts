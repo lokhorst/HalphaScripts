{
 "cells": [
  {
   "cell_type": "markdown",
   "metadata": {},
   "source": [
    "# not using yet\n",
    "\n",
    "## psf_image_conv_filament\n",
    "Script that runs the image convolution on the EAGLE projections, specifically the section containing the filament that we cut out.  Use the profiles that are approximately the Dragonfly PSF: double Moffat with Aureole.\n",
    "\n",
    "Want to convolve the simulation before reducing to the Dragonfly resolution...\n",
    "\n",
    "__Input:__<br>\n",
    "paths to .npz files that are both non-SF and SF\n",
    "\n",
    "__Output:__<br>\n",
    "maps of the emission with the PSF convolution for SF and nonSF<br>\n",
    "comparison of SB profiles with the PSF convolution for SF and nonSF"
   ]
  },
  {
   "cell_type": "code",
   "execution_count": 1,
   "metadata": {
    "collapsed": true
   },
   "outputs": [],
   "source": [
    "%run 'extract_FOV.ipynb'\n",
    "### Need to load those previous two before the image convolution one or else will crash (something contradicts in these)\n",
    "%run 'psf_image_conv.ipynb'"
   ]
  },
  {
   "cell_type": "markdown",
   "metadata": {},
   "source": [
    "Load the EAGLE simulation"
   ]
  },
  {
   "cell_type": "code",
   "execution_count": 2,
   "metadata": {
    "collapsed": true
   },
   "outputs": [],
   "source": [
    "import os\n",
    "\n",
    "### some functions from load_data\n",
    "def changeres(distance,resolution,data):\n",
    "    \"\"\"\n",
    "    distance: one of 50Mpc, 100Mpc, 200Mpc, or 500Mpc\n",
    "    resolution: desired output resolution (e.g. 14 arcsec, 100 arcsec, 500 arcsec, 1000 arcsec)\n",
    "    data: the raw data (size 32000 x 32000 pixels, 100 Mpc x 100 Mpc)\n",
    "    \"\"\"\n",
    "    pixscale_tomatchres = {'46Mpc': 0.221/1000.*(1.+0.0107),'92Mpc':0.437/1000.*(1.+0.0215)}\n",
    "    pixscale            = {'50Mpc': 0.237/1000.*(1.+0.0115), '100Mpc': 0.477/1000.*(1.+0.0235),\\\n",
    "                           '200Mpc': 0.928/1000.*(1.+0.047) , '500Mpc': 2.178/1000.*(1.+0.12),\\\n",
    "                           '980Mpc': 3.825/1000.*(1.+0.24)} ### Mpc / arcsec (comoving)\n",
    "    size = 32000. # pixels \n",
    "    scale = 100.  # Mpc \n",
    "    \n",
    "    if distance in pixscale:\n",
    "        simpixsize = scale/size ### Mpc / pixel is resolution of raw data \n",
    "        factor = round(pixscale[distance]*resolution/simpixsize)\n",
    "        print(\"Will reduce resolution by a factor of %s.\"%factor)\n",
    "        # LATER determine the current resolution of the data. FOR NOW assume current resolution is 100 Mpc/ 32000 pixels ~ 3 kpc/pixel\n",
    "\n",
    "        'If the factors are not integer multiples of the size (32000), trim the data first and then imreduce it'\n",
    "        if size%((factor)) != 0.:\n",
    "            times_factor_fits_in = int(size/factor)\n",
    "            newsize = times_factor_fits_in * factor\n",
    "            print(\"Before reducing resolution, the original data was trimmed to size %s.\"%newsize)\n",
    "            datanew = data[0:int(newsize),0:int(newsize)]\n",
    "        else:\n",
    "            datanew = data\n",
    "            newsize = size\n",
    "    else:\n",
    "        print('distance needs to be one of: 50Mpc, 100Mpc, 200Mpc, 500Mpc, or 980Mpc.  Others not supported atm.')\n",
    "        return None\n",
    "    \n",
    "    if factor < 2.:\n",
    "        return datanew, newsize, factor\n",
    "    else:\n",
    "        return imreduce(datanew, round(factor), log=True, method = 'average'), newsize, factor\n",
    "\n",
    "\n",
    "def find_output_resolution(distance,DragonflyTelescope):\n",
    "    \"\"\"\n",
    "    inputs:\n",
    "    distance: one of 50Mpc, 100Mpc, 200Mpc, or 500Mpc\n",
    "    data: the raw data (size 32000 x 32000 pixels, 100 Mpc x 100 Mpc)\n",
    "    \"\"\"\n",
    "    pixscale_tomatchres = {'46Mpc': 0.221/1000.*(1.+0.0107),'92Mpc':0.437/1000.*(1.+0.0215)}\n",
    "    pixscale            = {'50Mpc': 0.237/1000.*(1.+0.0115), '100Mpc': 0.477/1000.*(1.+0.0235),\\\n",
    "                           '200Mpc': 0.928/1000.*(1.+0.047) , '500Mpc': 2.178/1000.*(1.+0.12),\\\n",
    "                           '980Mpc': 3.825/1000.*(1.+0.24)} ### Mpc / arcsec (comoving)\n",
    "    res_Dragonfly = 2.8 # arcsec / pixel\n",
    "    ## For now, assuming that the size and scale of the simulation is that of the raw simulation: 100Mpc/32000pixels\n",
    "    size = 32000. # pixels \n",
    "    scale = 100.  # Mpc \n",
    "    \n",
    "    if distance in pixscale:\n",
    "        simpixsize = scale/size ### Mpc / pixel is physical resolution of raw data\n",
    "        'calculate the resolution of the raw simulation at the distance specified'\n",
    "        resolution = simpixsize / pixscale[distance] ### (Mpc / pixel) / (Mpc / arcsec) = arcsec/pixel is angular resolution of raw data\n",
    "        print(\"The resolution of the raw simulation at %s is %s.\"%(distance,resolution))\n",
    "        \n",
    "        if resolution < res_Dragonfly and DragonflyTelescope:\n",
    "            factor = round(res_Dragonfly/resolution)\n",
    "            print (\"%s is less than the Dragonfly resolution (%s) so (if resolution = None) would bin data by %s.\"\\\n",
    "                   % (resolution, res_Dragonfly, factor))\n",
    "            resolution = resolution*factor\n",
    "            print (\"Final resolution would be %s\" % resolution)\n",
    "        return resolution\n",
    "    else:\n",
    "        print('distance needs to be one of: 50Mpc, 100Mpc, 200Mpc, 500Mpc, or 980Mpc.  Others not supported atm.')\n",
    "        return None\n",
    "\n",
    "def loaddata(machine):\n",
    "    homedir=''\n",
    "    if machine=='chinook':\n",
    "        homedir='/Users/lokhorst/Eagle/'\n",
    "    elif machine=='coho':\n",
    "        homedir='/Users/deblokhorst/eagle/SlicesFromNastasha/'\n",
    "    ## Add the path to where the raw data is kept on your computer here\n",
    "    \n",
    "    files_SF_28 = [homedir+'emission_halpha_L0100N1504_28_test2_SmAb_C2Sm_32000pix_5.000000slice_zcen12.5__fromSFR.npz',\n",
    "                    homedir+'emission_halpha_L0100N1504_28_test2_SmAb_C2Sm_32000pix_5.000000slice_zcen17.5__fromSFR.npz',\n",
    "                    homedir+'emission_halpha_L0100N1504_28_test2_SmAb_C2Sm_32000pix_5.000000slice_zcen7.5__fromSFR.npz',\n",
    "                    homedir+'emission_halpha_L0100N1504_28_test2_SmAb_C2Sm_32000pix_5.000000slice_zcen2.5__fromSFR.npz']\n",
    "\n",
    "    files_noSF_28 = [homedir+'emission_halpha_L0100N1504_28_test2_SmAb_C2Sm_32000pix_5.000000slice_zcen12.5_noSFR.npz',\n",
    "                    homedir+'emission_halpha_L0100N1504_28_test2_SmAb_C2Sm_32000pix_5.000000slice_zcen17.5_noSFR.npz',\n",
    "                    homedir+'emission_halpha_L0100N1504_28_test2_SmAb_C2Sm_32000pix_5.000000slice_zcen7.5_noSFR.npz',\n",
    "                    homedir+'emission_halpha_L0100N1504_28_test2_SmAb_C2Sm_32000pix_5.000000slice_zcen2.5_noSFR.npz']\n",
    "    \n",
    "    file_SF_28 = homedir+'emission_halpha_L0100N1504_28_test2_SmAb_C2Sm_32000pix_20slice_total_fromSFR.npz'\n",
    "    file_noSF_28 = homedir+'emission_halpha_L0100N1504_28_test2_SmAb_C2Sm_32000pix_20slice_total_noSFR.npz'\n",
    "\n",
    "    if os.path.isfile(file_SF_28):\n",
    "        print 'Total fromSFR file exists, loading now...'\n",
    "        halpha_fromSF = np.load(file_SF_28)['arr_0']\n",
    "    else:\n",
    "        print 'Total fromSFR file doesnt exist, making it now...'\n",
    "        halpha_fromSF = np.load(files_SF_28[0])['arr_0']\n",
    "        for filename in files_SF_28[1:]:\n",
    "            print 'adding: '+filename\n",
    "            halpha_fromSF = np.log10(10**halpha_fromSF + 10**(np.load(filename)['arr_0']))\n",
    "        print 'Saving total fromSFR file to: %s'%file_SF_28\n",
    "        np.savez(file_SF_28,halpha_fromSF)\n",
    "\n",
    "    if os.path.isfile(file_noSF_28):\n",
    "        print 'Total noSFR file exists, loading now...'\n",
    "        halpha_noSF = np.load(file_noSF_28)['arr_0']\n",
    "    else:\n",
    "        print 'Total noSFR file doesnt exist, making it now...'\n",
    "        halpha_noSF = np.load(files_noSF_28[0])['arr_0']\n",
    "        for filename in files_noSF_28[1:]:\n",
    "            print 'adding: '+filename\n",
    "            halpha_noSF = np.log10(10**halpha_noSF + 10**(np.load(filename)['arr_0']))\n",
    "        print 'Saving total noSFR file to: %s'%file_noSF_28\n",
    "        np.savez(file_noSF_28,halpha_noSF)\n",
    "\n",
    "    return halpha_fromSF,halpha_noSF"
   ]
  },
  {
   "cell_type": "code",
   "execution_count": null,
   "metadata": {
    "collapsed": true
   },
   "outputs": [],
   "source": [
    "halpha_fromSF,halpha_noSF = loaddata('coho')"
   ]
  },
  {
   "cell_type": "code",
   "execution_count": null,
   "metadata": {
    "collapsed": true
   },
   "outputs": [],
   "source": [
    "halpha_total = np.log10(10**halpha_fromSF + 10**halpha_noSF)"
   ]
  },
  {
   "cell_type": "code",
   "execution_count": null,
   "metadata": {
    "collapsed": true
   },
   "outputs": [],
   "source": [
    "distance = '50Mpc'; z = 0.0115;\n",
    "resolution = find_output_resolution(distance,True)\n",
    "fwhm = 3.0*arcsec"
   ]
  },
  {
   "cell_type": "markdown",
   "metadata": {},
   "source": [
    "Convolve it with the psf."
   ]
  },
  {
   "cell_type": "code",
   "execution_count": null,
   "metadata": {
    "collapsed": true
   },
   "outputs": [],
   "source": []
  },
  {
   "cell_type": "markdown",
   "metadata": {},
   "source": [
    "Save the psf convolved EAGLE simulation to be loaded into the other script."
   ]
  },
  {
   "cell_type": "code",
   "execution_count": null,
   "metadata": {
    "collapsed": true
   },
   "outputs": [],
   "source": []
  }
 ],
 "metadata": {
  "kernelspec": {
   "display_name": "Python 2",
   "language": "python",
   "name": "python2"
  },
  "language_info": {
   "codemirror_mode": {
    "name": "ipython",
    "version": 2
   },
   "file_extension": ".py",
   "mimetype": "text/x-python",
   "name": "python",
   "nbconvert_exporter": "python",
   "pygments_lexer": "ipython2",
   "version": "2.7.12"
  }
 },
 "nbformat": 4,
 "nbformat_minor": 2
}
