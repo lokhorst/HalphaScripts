{
 "cells": [
  {
   "cell_type": "markdown",
   "metadata": {},
   "source": [
    "# Making a mock observation from the EAGLE simulations\n",
    "\n",
    "This script is an example script to lay out the individual steps of making mock observations.\n",
    "\n",
    "The steps are as follows:\n",
    "\n",
    "1. Load the EAGLE simulated data.  Specify the distance at which we want to observe the cosmic web i.e. redshift of central wavelength of filter and the resolution that the data should be binned to.  The minimum resolution at 50Mpc away is about 14\".\n",
    "2. Cut out a chunk of the simulated data that corresponds to the Dragonfly FOV.  (switched with step 3 because takes too long for the whole simulation)\n",
    "3. Add the noise to the simulated data to mimic observational noises (includes sky background noise, read out noise, dark current noise, and shot noise).  This depends on the exposure time of the mock observation.\n",
    "4. Plot the data to check and see what it looks like.\n",
    "\n",
    "Ta da!"
   ]
  },
  {
   "cell_type": "code",
   "execution_count": 1,
   "metadata": {
    "collapsed": true
   },
   "outputs": [],
   "source": [
    "import numpy as np\n",
    "import eagle_constants_and_units as c\n",
    "import cosmo_utils as csu\n",
    "import matplotlib.pyplot as plt\n",
    "import matplotlib.cm as cm\n",
    "import mpl_toolkits.axes_grid1 as axgrid\n",
    "from astropy import constants as const\n",
    "from astropy import units as u\n",
    "\n",
    "import os\n",
    "import get_halpha_SB\n",
    "\n",
    "%matplotlib inline\n",
    "\n",
    "%run 'load_data.ipynb'\n",
    "%run 'add_noise.ipynb'\n",
    "%run 'extract_FOV.ipynb'"
   ]
  },
  {
   "cell_type": "code",
   "execution_count": 2,
   "metadata": {},
   "outputs": [
    {
     "name": "stdout",
     "output_type": "stream",
     "text": [
      "Loading data of slicewidth 20 (after rounding), number of slices is 4\n",
      "data_50Mpc_14arcsec_20slwd.npz exists (and is special because cant save as tuple), loading now...\n"
     ]
    }
   ],
   "source": [
    "machine='coho'\n",
    "resolution = 14.; slicewidth = 20; exptime = 1000.*60.*60.; CMOS = False; R_squared= None\n",
    "\n",
    "for distance in ['500Mpc','200Mpc','100Mpc','50Mpc']:\n",
    "    print \"****** Working on mock observation for distance %s ******\"%distance\n",
    "    print 'loading the data...'\n",
    "    data_tuple = loaddata(machine=machine,resolution=resolution,distance=distance,\\\n",
    "                          slicewidth=slicewidth,CMOS=CMOS,R_squared=R_squared)\n",
    "    print 'extracting the FOV...'\n",
    "    data_FOV, xystarts, size = extractFOV(data_tuple,resolution,distance)\n",
    "    \n",
    "    print 'adding noise to the data...'\n",
    "    noiseadded_signal,B_sky_array,R_array = addnoise(data_FOV,resolution,exptime=exptime,debugging=True)\n",
    "    \n",
    "    print 'saving the noise-added data...'\n",
    "    if CMOS:\n",
    "        cams = 'newcam'\n",
    "    else:\n",
    "        cams = 'oldcam'\n",
    "    if R_squared:\n",
    "        cams = cams+'_Rsquared%s'%R_squared\n",
    "\n",
    "    fname = 'noisy_fov_%shr_%s_%sdist_%sarcsec_%sslwd.npz' \\\n",
    "            % (round(exptime/3600.),cams,distance,resolution,slicewidth)\n",
    "    R_fname = 'noisy_fov_%shr_%s_%sdist_%sarcsec_%sslwd_RARRAY.npz' \\\n",
    "            % (round(exptime/3600.),cams,distance,resolution,slicewidth)\n",
    "    B_sky_fname = 'noisy_fov_%shr_%s_%sdist_%sarcsec_%sslwd_BSKYARRAY.npz' \\\n",
    "            % (round(exptime/3600.),cams,distance,resolution,slicewidth)\n",
    "\n",
    "    print \"Saving mock observation as %s\"%fname\n",
    "    np.savez(fname,noiseadded_signal)\n",
    "    print \"Saving readout noise array as %s\"%R_fname\n",
    "    np.savez(R_fname,R_array)\n",
    "    print \"Saving the sky background array as %s\"%B_sky_fname\n",
    "    np.savez(B_sky_fname,B_sky_array)\n",
    "    \n",
    "    print \"****** Done mock observation for distance %s ******\"%distance"
   ]
  },
  {
   "cell_type": "code",
   "execution_count": null,
   "metadata": {},
   "outputs": [],
   "source": []
  }
 ],
 "metadata": {
  "kernelspec": {
   "display_name": "Python 2",
   "language": "python",
   "name": "python2"
  },
  "language_info": {
   "codemirror_mode": {
    "name": "ipython",
    "version": 2
   },
   "file_extension": ".py",
   "mimetype": "text/x-python",
   "name": "python",
   "nbconvert_exporter": "python",
   "pygments_lexer": "ipython2",
   "version": "2.7.12"
  }
 },
 "nbformat": 4,
 "nbformat_minor": 2
}
