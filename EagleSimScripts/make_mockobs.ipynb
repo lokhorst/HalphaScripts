{
 "cells": [
  {
   "cell_type": "markdown",
   "metadata": {},
   "source": [
    "# Making a mock observation from the EAGLE simulations\n",
    "\n",
    "This script is an example script to lay out the individual steps of making mock observations.\n",
    "\n",
    "The steps are as follows:\n",
    "\n",
    "1. Load the EAGLE simulated data.  Specify the distance at which we want to observe the cosmic web i.e. redshift of central wavelength of filter and the resolution that the data should be binned to.  The minimum resolution at 50Mpc away is:\n",
    "2. Cut out a chunk of the simulated data that corresponds to the Dragonfly FOV.  (switched with step 3 because takes too long for the whole simulation)\n",
    "3. Add the noise to the simulated data to mimic observational noises (includes sky background noise, read out noise, dark current noise, and shot noise).  This depends on the exposure time of the mock observation.\n",
    "4. Plot the data to check and see what it looks like.\n",
    "\n",
    "Ta da!"
   ]
  },
  {
   "cell_type": "code",
   "execution_count": 30,
   "metadata": {
    "collapsed": true
   },
   "outputs": [],
   "source": [
    "import numpy as np\n",
    "import eagle_constants_and_units as c\n",
    "import cosmo_utils as csu\n",
    "import matplotlib.pyplot as plt\n",
    "import matplotlib.cm as cm\n",
    "import mpl_toolkits.axes_grid1 as axgrid\n",
    "from astropy import constants as const\n",
    "from astropy import units as u\n",
    "\n",
    "import os\n",
    "import get_halpha_SB\n",
    "\n",
    "%matplotlib inline\n",
    "\n",
    "%run 'load_data.ipynb'\n",
    "%run 'add_noise.ipynb'\n",
    "%run 'extract_FOV.ipynb'"
   ]
  },
  {
   "cell_type": "markdown",
   "metadata": {},
   "source": [
    "### Step 1:  Load the data (load_data.ipynb)\n",
    "Let's say we want to observe at 100 Mpc away, with a resolution of 100 arcsec.  Our filter width is 3nm which corresponds to about 20 Mpc in radial distance (so we specify a slice width of 20)."
   ]
  },
  {
   "cell_type": "code",
   "execution_count": 17,
   "metadata": {},
   "outputs": [
    {
     "name": "stdout",
     "output_type": "stream",
     "text": [
      "Loading data of slicewidth 20 (after rounding), number of slices is 4\n",
      "data_100Mpc_100arcsec_20slwd.npz exists, loading now...\n"
     ]
    }
   ],
   "source": [
    "distance = '100Mpc'; resolution = 100; slicewidth = 20; machine='coho'\n",
    "data_tuple = loaddata(machine=machine,resolution=resolution,distance=distance,slicewidth=slicewidth)"
   ]
  },
  {
   "cell_type": "markdown",
   "metadata": {},
   "source": [
    "### Step 2: Extract the Dragonfly FOV (extract_FOV.ipynb)"
   ]
  },
  {
   "cell_type": "code",
   "execution_count": 21,
   "metadata": {},
   "outputs": [
    {
     "data": {
      "text/plain": [
       "(105, 71)"
      ]
     },
     "execution_count": 21,
     "metadata": {},
     "output_type": "execute_result"
    }
   ],
   "source": [
    "data_FOV, xystarts, size = extractFOV(data_tuple,resolution,distance)\n",
    "\n",
    "data_FOV.shape"
   ]
  },
  {
   "cell_type": "markdown",
   "metadata": {},
   "source": [
    "### Step 3: Add noise to the data (add_noise.ipynb)\n",
    "Let's say that we want to observe for 1000 hours."
   ]
  },
  {
   "cell_type": "code",
   "execution_count": 31,
   "metadata": {},
   "outputs": [
    {
     "name": "stdout",
     "output_type": "stream",
     "text": [
      "VERBOSE: Using old cameras... (QE = 0.48, R = 10.)\n",
      "DEBUGGING: R_squared is : 100.0\n",
      "DEBUGGING: the number of pixels is 1276.0\n",
      "DEBUGGING: raise the data by 10** since was logged data before...\n",
      "DEBUGGING: the shape of the input data is:\n",
      "(105, 71)\n",
      "DEBUGGING: the total object signal [electrons] detected ranges from: 2.67696e-12 to 274.123\n",
      "DEBUGGING: the shape of the detsignal is:\n",
      "(105, 71)\n",
      "Adding sky background noise and shot noise.\n",
      "DEBUGGING: the background in the bandwidth is: 0.560633\n",
      "DEBUGGING: the background signal, B_sky [ph/s (in a pixel)], is: 13.824775167\n",
      "DEBUGGING: the shape of B_sky_array is: \n",
      "(105, 71)\n",
      "DEBUGGING: the mean total background signal, B_sky_total [electrons], is: 63505487207.0\n",
      "DEBUGGING: the total background noisy signal [electrons] ranges from: -967212.462458 to 879154.324442\n",
      "Adding read out noise to the signal.\n",
      "DEBUGGING: No expnum provided, assuming hour long exposures.\n",
      "DEBUGGING: The number of exposures is: 1000.0\n",
      "VERBOSE:  At line 0 out of 105\n"
     ]
    },
    {
     "name": "stderr",
     "output_type": "stream",
     "text": [
      "/anaconda/lib/python2.7/site-packages/ipykernel_launcher.py:28: VisibleDeprecationWarning: using a non-integer number instead of an integer will result in an error in the future\n"
     ]
    },
    {
     "name": "stdout",
     "output_type": "stream",
     "text": [
      "VERBOSE:  At line 1 out of 105\n",
      "VERBOSE:  At line 2 out of 105\n",
      "VERBOSE:  At line 3 out of 105\n",
      "VERBOSE:  At line 4 out of 105\n",
      "VERBOSE:  At line 5 out of 105\n",
      "VERBOSE:  At line 6 out of 105\n",
      "VERBOSE:  At line 7 out of 105\n",
      "VERBOSE:  At line 8 out of 105\n",
      "VERBOSE:  At line 9 out of 105\n",
      "VERBOSE:  At line 10 out of 105\n",
      "VERBOSE:  At line 11 out of 105\n",
      "VERBOSE:  At line 12 out of 105\n",
      "VERBOSE:  At line 13 out of 105\n",
      "VERBOSE:  At line 14 out of 105\n",
      "VERBOSE:  At line 15 out of 105\n",
      "VERBOSE:  At line 16 out of 105\n",
      "VERBOSE:  At line 17 out of 105\n",
      "VERBOSE:  At line 18 out of 105\n",
      "VERBOSE:  At line 19 out of 105\n",
      "VERBOSE:  At line 20 out of 105\n",
      "VERBOSE:  At line 21 out of 105\n",
      "VERBOSE:  At line 22 out of 105\n",
      "VERBOSE:  At line 23 out of 105\n",
      "VERBOSE:  At line 24 out of 105\n",
      "VERBOSE:  At line 25 out of 105\n",
      "VERBOSE:  At line 26 out of 105\n",
      "VERBOSE:  At line 27 out of 105\n",
      "VERBOSE:  At line 28 out of 105\n",
      "VERBOSE:  At line 29 out of 105\n",
      "VERBOSE:  At line 30 out of 105\n",
      "VERBOSE:  At line 31 out of 105\n",
      "VERBOSE:  At line 32 out of 105\n",
      "VERBOSE:  At line 33 out of 105\n",
      "VERBOSE:  At line 34 out of 105\n",
      "VERBOSE:  At line 35 out of 105\n",
      "VERBOSE:  At line 36 out of 105\n",
      "VERBOSE:  At line 37 out of 105\n",
      "VERBOSE:  At line 38 out of 105\n",
      "VERBOSE:  At line 39 out of 105\n",
      "VERBOSE:  At line 40 out of 105\n",
      "VERBOSE:  At line 41 out of 105\n",
      "VERBOSE:  At line 42 out of 105\n",
      "VERBOSE:  At line 43 out of 105\n",
      "VERBOSE:  At line 44 out of 105\n",
      "VERBOSE:  At line 45 out of 105\n",
      "VERBOSE:  At line 46 out of 105\n",
      "VERBOSE:  At line 47 out of 105\n",
      "VERBOSE:  At line 48 out of 105\n",
      "VERBOSE:  At line 49 out of 105\n",
      "VERBOSE:  At line 50 out of 105\n",
      "VERBOSE:  At line 51 out of 105\n",
      "VERBOSE:  At line 52 out of 105\n",
      "VERBOSE:  At line 53 out of 105\n",
      "VERBOSE:  At line 54 out of 105\n",
      "VERBOSE:  At line 55 out of 105\n",
      "VERBOSE:  At line 56 out of 105\n",
      "VERBOSE:  At line 57 out of 105\n",
      "VERBOSE:  At line 58 out of 105\n",
      "VERBOSE:  At line 59 out of 105\n",
      "VERBOSE:  At line 60 out of 105\n",
      "VERBOSE:  At line 61 out of 105\n",
      "VERBOSE:  At line 62 out of 105\n",
      "VERBOSE:  At line 63 out of 105\n",
      "VERBOSE:  At line 64 out of 105\n",
      "VERBOSE:  At line 65 out of 105\n",
      "VERBOSE:  At line 66 out of 105\n",
      "VERBOSE:  At line 67 out of 105\n",
      "VERBOSE:  At line 68 out of 105\n",
      "VERBOSE:  At line 69 out of 105\n",
      "VERBOSE:  At line 70 out of 105\n",
      "VERBOSE:  At line 71 out of 105\n",
      "VERBOSE:  At line 72 out of 105\n",
      "VERBOSE:  At line 73 out of 105\n",
      "VERBOSE:  At line 74 out of 105\n",
      "VERBOSE:  At line 75 out of 105\n",
      "VERBOSE:  At line 76 out of 105\n",
      "VERBOSE:  At line 77 out of 105\n",
      "VERBOSE:  At line 78 out of 105\n",
      "VERBOSE:  At line 79 out of 105\n",
      "VERBOSE:  At line 80 out of 105\n",
      "VERBOSE:  At line 81 out of 105\n",
      "VERBOSE:  At line 82 out of 105\n",
      "VERBOSE:  At line 83 out of 105\n",
      "VERBOSE:  At line 84 out of 105\n",
      "VERBOSE:  At line 85 out of 105\n",
      "VERBOSE:  At line 86 out of 105\n",
      "VERBOSE:  At line 87 out of 105\n",
      "VERBOSE:  At line 88 out of 105\n",
      "VERBOSE:  At line 89 out of 105\n",
      "VERBOSE:  At line 90 out of 105\n",
      "VERBOSE:  At line 91 out of 105\n",
      "VERBOSE:  At line 92 out of 105\n",
      "VERBOSE:  At line 93 out of 105\n",
      "VERBOSE:  At line 94 out of 105\n",
      "VERBOSE:  At line 95 out of 105\n",
      "VERBOSE:  At line 96 out of 105\n",
      "VERBOSE:  At line 97 out of 105\n",
      "VERBOSE:  At line 98 out of 105\n",
      "VERBOSE:  At line 99 out of 105\n",
      "VERBOSE:  At line 100 out of 105\n",
      "VERBOSE:  At line 101 out of 105\n",
      "VERBOSE:  At line 102 out of 105\n",
      "VERBOSE:  At line 103 out of 105\n",
      "VERBOSE:  At line 104 out of 105\n",
      "DEBUGGING: Standard deviation of R array: 11266.1405958 \n",
      "DEBUGGING: the R_squared value is: 100.0, so in 1000.0 exposures [per pixel], will have R_squared of: 100000.0\n",
      "DEBUGGING: the total R_squared value [electrons] multiplying by numpix read out is: 127600000.0\n",
      "DEBUGGING: the max and min R_squared values are: 1900008309.59 and 0.245039928021\n",
      "DEBUGGING: the max and min R values are: 40587.8530942 and -43589.0847528\n",
      "Adding dark current to the signal.\n",
      "DEBUGGING: the total dark current [electrons] is: 183744000.0\n",
      "DEBUGGING: the total dark current noisy signal [electrons] ranges from: 183691964.743 to 183792612.012\n"
     ]
    }
   ],
   "source": [
    "exptime = 1000.*60.*60.\n",
    "debugging = True; R_squared = None; CMOS = False\n",
    "noiseadded_signal,B_sky_array,R_array = addnoise(data_FOV,resolution,exptime=exptime,debugging=True)#,expnum=1)\n",
    "# default for addnoise: oldcam == old QE and old R"
   ]
  },
  {
   "cell_type": "markdown",
   "metadata": {},
   "source": [
    "### Step 4: Save the data"
   ]
  },
  {
   "cell_type": "code",
   "execution_count": 41,
   "metadata": {},
   "outputs": [
    {
     "name": "stdout",
     "output_type": "stream",
     "text": [
      "3362.89284353\n",
      "-214.220413144\n",
      "(105, 71)\n",
      "[[-10097.17277528  -6022.35446411   8076.70416505 ...,  -4785.48341214\n",
      "   -7989.691547    -7953.31815763]\n",
      " [ -5887.82944365 -20023.99166745  10958.08654567 ..., -15536.63635573\n",
      "   -9431.50371072   5407.93523193]\n",
      " [ 18403.37194288 -16457.36441655 -25235.6184102  ...,   1868.03280851\n",
      "    2210.9965035   -4635.24159214]\n",
      " ..., \n",
      " [ -7747.96693491   -562.98692847  12793.39885673 ...,   6413.12034369\n",
      "   14908.52195561   -793.06777223]\n",
      " [-12926.96253931  -8504.27218069   -358.43148638 ..., -13458.05928956\n",
      "   -2708.01822965   -709.9073958 ]\n",
      " [-20415.20474249  -8145.13034087   9717.14160579 ...,  14381.1394182\n",
      "    1717.50735581   9181.80061487]]\n"
     ]
    },
    {
     "data": {
      "image/png": "[encoded data removed]",
      "text/plain": [
       "<matplotlib.figure.Figure at 0x1106a2d90>"
      ]
     },
     "metadata": {},
     "output_type": "display_data"
    }
   ],
   "source": [
    "print np.mean(B_sky_array)\n",
    "print np.mean(R_array)\n",
    "\n",
    "if CMOS:\n",
    "    cams = 'newcam'\n",
    "else:\n",
    "    cams = 'oldcam'\n",
    "\n",
    "if R_squared:\n",
    "    cams = cams+'_Rsquared%s'%R_squared\n",
    "\n",
    "fname = 'noisy_fov_%shr_%s_%sdist_%sarcsec_%sslwd.npz' \\\n",
    "            % (round(exptime/3600.),cams,distance,resolution,slicewidth)\n",
    "R_fname = 'noisy_fov_%shr_%s_%sdist_%sarcsec_%sslwd_RARRAY.npz' \\\n",
    "            % (round(exptime/3600.),cams,distance,resolution,slicewidth)\n",
    "B_sky_fname = 'noisy_fov_%shr_%s_%sdist_%sarcsec_%sslwd_BSKYARRAY.npz' \\\n",
    "            % (round(exptime/3600.),cams,distance,resolution,slicewidth)\n",
    "\n",
    "#np.savez(noiseadded_signal)\n",
    "\n",
    "\n",
    "def plthist(ax3,B_sky,R_squared,R,title='',label1='',label2='',label3=''):\n",
    "    ax3.hist(np.ravel(B_sky),edgecolor='black', alpha = 0.5,label=label1)\n",
    "    ax3.hist(np.ravel(R_squared),edgecolor='black', alpha = 0.5,label=label2)\n",
    "    #ax3.hist(np.ravel(R),edgecolor='black', alpha = 0.5, label=label3)\n",
    "    ax3.text(0.6,0.7,r'$\\sigma$_sb = %.1f'%(np.std(B_sky)),transform=ax3.transAxes)\n",
    "    ax3.text(0.6,0.6,r'$\\sigma$_r = %.1f'%(np.std(R_squared)),transform=ax3.transAxes)\n",
    "    ax3.text(0.6,0.5,r'$\\sigma$_r = %.1f'%(np.std(R)),transform=ax3.transAxes)\n",
    "    #ax3.set_ylim(0,8500)\n",
    "    #ax3.set_xlim(-1500,2000)\n",
    "    ax3.set_title(title)\n",
    "\n",
    "fig, (ax1) = plt.subplots(1, 1, figsize=(6, 6))\n",
    "plthist(ax1,B_sky_array,R_array**2,R_array,label1='b_sky',label2='r_squared',label3='r')\n",
    "ax1.legend()\n",
    "print B_sky_array.shape\n",
    "print R_array"
   ]
  },
  {
   "cell_type": "markdown",
   "metadata": {},
   "source": [
    "R_squared is huge!  I wonder if maybe before I was comparing just the R value to the sky background value.  I'm not sure though.  This also might be the difference of adding up read out noise over the 1000 exposures.  I will try it again with only one exposure now\n",
    "\n",
    "### Step 3 & 4 again, but with different params"
   ]
  },
  {
   "cell_type": "code",
   "execution_count": 45,
   "metadata": {},
   "outputs": [
    {
     "name": "stdout",
     "output_type": "stream",
     "text": [
      "VERBOSE: Using old cameras... (QE = 0.48, R = 10.)\n",
      "DEBUGGING: R_squared is : 100.0\n",
      "DEBUGGING: the number of pixels is 1276.0\n",
      "DEBUGGING: raise the data by 10** since was logged data before...\n",
      "DEBUGGING: the shape of the input data is:\n",
      "(105, 71)\n",
      "DEBUGGING: the total object signal [electrons] detected ranges from: 2.67696e-12 to 274.123\n",
      "DEBUGGING: the shape of the detsignal is:\n",
      "(105, 71)\n",
      "Adding sky background noise and shot noise.\n",
      "DEBUGGING: the background in the bandwidth is: 0.560633\n",
      "DEBUGGING: the background signal, B_sky [ph/s (in a pixel)], is: 13.824775167\n",
      "DEBUGGING: the shape of B_sky_array is: \n",
      "(105, 71)\n",
      "DEBUGGING: the mean total background signal, B_sky_total [electrons], is: 63505487207.0\n",
      "DEBUGGING: the total background noisy signal [electrons] ranges from: -898917.893557 to 913369.297058\n",
      "Adding read out noise to the signal.\n",
      "DEBUGGING: The number of exposures is: 1\n",
      "VERBOSE:  At line 0 out of 105\n",
      "VERBOSE:  At line 1 out of 105\n",
      "VERBOSE:  At line 2 out of 105\n",
      "VERBOSE:  At line 3 out of 105\n",
      "VERBOSE:  At line 4 out of 105\n",
      "VERBOSE:  At line 5 out of 105\n",
      "VERBOSE:  At line 6 out of 105\n",
      "VERBOSE:  At line 7 out of 105\n",
      "VERBOSE:  At line 8 out of 105\n",
      "VERBOSE:  At line 9 out of 105\n",
      "VERBOSE:  At line 10 out of 105\n",
      "VERBOSE:  At line 11 out of 105\n",
      "VERBOSE:  At line 12 out of 105\n",
      "VERBOSE:  At line 13 out of 105\n",
      "VERBOSE:  At line 14 out of 105\n",
      "VERBOSE:  At line 15 out of 105\n",
      "VERBOSE:  At line 16 out of 105\n",
      "VERBOSE:  At line 17 out of 105\n",
      "VERBOSE:  At line 18 out of 105\n",
      "VERBOSE:  At line 19 out of 105\n",
      "VERBOSE:  At line 20 out of 105\n",
      "VERBOSE:  At line 21 out of 105\n",
      "VERBOSE:  At line 22 out of 105\n",
      "VERBOSE:  At line 23 out of 105\n",
      "VERBOSE:  At line 24 out of 105\n",
      "VERBOSE:  At line 25 out of 105\n",
      "VERBOSE:  At line 26 out of 105\n",
      "VERBOSE:  At line 27 out of 105\n",
      "VERBOSE:  At line 28 out of 105\n",
      "VERBOSE:  At line 29 out of 105\n",
      "VERBOSE:  At line 30 out of 105\n",
      "VERBOSE:  At line 31 out of 105\n",
      "VERBOSE:  At line 32 out of 105\n",
      "VERBOSE:  At line 33 out of 105\n",
      "VERBOSE:  At line 34 out of 105\n",
      "VERBOSE:  At line 35 out of 105\n",
      "VERBOSE:  At line 36 out of 105\n",
      "VERBOSE:  At line 37 out of 105\n",
      "VERBOSE:  At line 38 out of 105\n",
      "VERBOSE:  At line 39 out of 105\n",
      "VERBOSE:  At line 40 out of 105\n",
      "VERBOSE:  At line 41 out of 105\n",
      "VERBOSE:  At line 42 out of 105\n"
     ]
    },
    {
     "name": "stderr",
     "output_type": "stream",
     "text": [
      "/anaconda/lib/python2.7/site-packages/ipykernel_launcher.py:28: VisibleDeprecationWarning: using a non-integer number instead of an integer will result in an error in the future\n"
     ]
    },
    {
     "name": "stdout",
     "output_type": "stream",
     "text": [
      "VERBOSE:  At line 43 out of 105\n",
      "VERBOSE:  At line 44 out of 105\n",
      "VERBOSE:  At line 45 out of 105\n",
      "VERBOSE:  At line 46 out of 105\n",
      "VERBOSE:  At line 47 out of 105\n",
      "VERBOSE:  At line 48 out of 105\n",
      "VERBOSE:  At line 49 out of 105\n",
      "VERBOSE:  At line 50 out of 105\n",
      "VERBOSE:  At line 51 out of 105\n",
      "VERBOSE:  At line 52 out of 105\n",
      "VERBOSE:  At line 53 out of 105\n",
      "VERBOSE:  At line 54 out of 105\n",
      "VERBOSE:  At line 55 out of 105\n",
      "VERBOSE:  At line 56 out of 105\n",
      "VERBOSE:  At line 57 out of 105\n",
      "VERBOSE:  At line 58 out of 105\n",
      "VERBOSE:  At line 59 out of 105\n",
      "VERBOSE:  At line 60 out of 105\n",
      "VERBOSE:  At line 61 out of 105\n",
      "VERBOSE:  At line 62 out of 105\n",
      "VERBOSE:  At line 63 out of 105\n",
      "VERBOSE:  At line 64 out of 105\n",
      "VERBOSE:  At line 65 out of 105\n",
      "VERBOSE:  At line 66 out of 105\n",
      "VERBOSE:  At line 67 out of 105\n",
      "VERBOSE:  At line 68 out of 105\n",
      "VERBOSE:  At line 69 out of 105\n",
      "VERBOSE:  At line 70 out of 105\n",
      "VERBOSE:  At line 71 out of 105\n",
      "VERBOSE:  At line 72 out of 105\n",
      "VERBOSE:  At line 73 out of 105\n",
      "VERBOSE:  At line 74 out of 105\n",
      "VERBOSE:  At line 75 out of 105\n",
      "VERBOSE:  At line 76 out of 105\n",
      "VERBOSE:  At line 77 out of 105\n",
      "VERBOSE:  At line 78 out of 105\n",
      "VERBOSE:  At line 79 out of 105\n",
      "VERBOSE:  At line 80 out of 105\n",
      "VERBOSE:  At line 81 out of 105\n",
      "VERBOSE:  At line 82 out of 105\n",
      "VERBOSE:  At line 83 out of 105\n",
      "VERBOSE:  At line 84 out of 105\n",
      "VERBOSE:  At line 85 out of 105\n",
      "VERBOSE:  At line 86 out of 105\n",
      "VERBOSE:  At line 87 out of 105\n",
      "VERBOSE:  At line 88 out of 105\n",
      "VERBOSE:  At line 89 out of 105\n",
      "VERBOSE:  At line 90 out of 105\n",
      "VERBOSE:  At line 91 out of 105\n",
      "VERBOSE:  At line 92 out of 105\n",
      "VERBOSE:  At line 93 out of 105\n",
      "VERBOSE:  At line 94 out of 105\n",
      "VERBOSE:  At line 95 out of 105\n",
      "VERBOSE:  At line 96 out of 105\n",
      "VERBOSE:  At line 97 out of 105\n",
      "VERBOSE:  At line 98 out of 105\n",
      "VERBOSE:  At line 99 out of 105\n",
      "VERBOSE:  At line 100 out of 105\n",
      "VERBOSE:  At line 101 out of 105\n",
      "VERBOSE:  At line 102 out of 105\n",
      "VERBOSE:  At line 103 out of 105\n",
      "VERBOSE:  At line 104 out of 105\n",
      "DEBUGGING: Standard deviation of R array: 357.432435551 \n",
      "DEBUGGING: the R_squared value is: 100.0, so in 1 exposures [per pixel], will have R_squared of: 100.0\n",
      "DEBUGGING: the total R_squared value [electrons] multiplying by numpix read out is: 127600.0\n",
      "DEBUGGING: the max and min R_squared values are: 1634759.79108 and 8.7770217798e-07\n",
      "DEBUGGING: the max and min R values are: 1278.57725268 and -1277.43108413\n",
      "Adding dark current to the signal.\n",
      "DEBUGGING: the total dark current [electrons] is: 183744000.0\n",
      "DEBUGGING: the total dark current noisy signal [electrons] ranges from: 183696043.756 to 183794146.882\n"
     ]
    }
   ],
   "source": [
    "noiseadded_signal_2,B_sky_array_2,R_array_2 = addnoise(data_FOV,resolution,exptime=exptime,debugging=True,expnum=1)\n"
   ]
  },
  {
   "cell_type": "code",
   "execution_count": 46,
   "metadata": {},
   "outputs": [
    {
     "name": "stdout",
     "output_type": "stream",
     "text": [
      "4461.60171159\n",
      "-5.4198151991\n"
     ]
    },
    {
     "data": {
      "text/plain": [
       "<matplotlib.legend.Legend at 0x10db7e310>"
      ]
     },
     "execution_count": 46,
     "metadata": {},
     "output_type": "execute_result"
    },
    {
     "data": {
      "image/png": "[encoded data removed]",
      "text/plain": [
       "<matplotlib.figure.Figure at 0x10bf20050>"
      ]
     },
     "metadata": {},
     "output_type": "display_data"
    }
   ],
   "source": [
    "print np.mean(B_sky_array_2)\n",
    "print np.mean(R_array_2)\n",
    "fig, (ax1) = plt.subplots(1, 1, figsize=(6, 6))\n",
    "plthist(ax1,B_sky_array_2,R_array_2**2,R_array_2,label1='b_sky',label2='r_squared',label3='r')\n",
    "ax1.legend()"
   ]
  },
  {
   "cell_type": "markdown",
   "metadata": {},
   "source": [
    "It seems that that is the difference.\n",
    "\n",
    "But now that I stop to think about it, I should be comparing the R value not the R_squared values to the array, since I am not adding in quadrature, I'm just straight up adding the noise by drawing from their distributions.\n",
    "\n",
    "Shoot ahaha.\n",
    "\n",
    "I have to go back and check on my add_noise function - it was adding the R_squared values, but should actually just add the R values.  \n",
    "\n"
   ]
  },
  {
   "cell_type": "markdown",
   "metadata": {},
   "source": [
    "### Step 5: Plot the data"
   ]
  },
  {
   "cell_type": "code",
   "execution_count": null,
   "metadata": {
    "collapsed": true
   },
   "outputs": [],
   "source": [
    "fig, (ax1) = plt.subplots(1, 1, figsize=(6, 6))\n",
    "get_halpha_SB.makemap(noiseadded_signal,size,ax1,xystarts = xystarts)"
   ]
  }
 ],
 "metadata": {
  "kernelspec": {
   "display_name": "Python 2",
   "language": "python",
   "name": "python2"
  },
  "language_info": {
   "codemirror_mode": {
    "name": "ipython",
    "version": 2
   },
   "file_extension": ".py",
   "mimetype": "text/x-python",
   "name": "python",
   "nbconvert_exporter": "python",
   "pygments_lexer": "ipython2",
   "version": "2.7.12"
  }
 },
 "nbformat": 4,
 "nbformat_minor": 2
}
