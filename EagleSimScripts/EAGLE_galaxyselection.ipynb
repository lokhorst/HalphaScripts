{
 "cells": [
  {
   "cell_type": "code",
   "execution_count": 1,
   "metadata": {
    "collapsed": false
   },
   "outputs": [
    {
     "name": "stderr",
     "output_type": "stream",
     "text": [
      "//anaconda/lib/python2.7/site-packages/matplotlib/font_manager.py:273: UserWarning: Matplotlib is building the font cache using fc-list. This may take a moment.\n",
      "  warnings.warn('Matplotlib is building the font cache using fc-list. This may take a moment.')\n"
     ]
    }
   ],
   "source": [
    "import numpy as np\n",
    "import eagle_constants_and_units as c\n",
    "import cosmo_utils as csu\n",
    "import matplotlib.pyplot as plt\n",
    "import matplotlib.cm as cm\n",
    "import mpl_toolkits.axes_grid1 as axgrid\n",
    "from astropy import constants as const\n",
    "from astropy import units as u\n",
    "%matplotlib inline\n",
    "\n",
    "import get_halpha_SB"
   ]
  },
  {
   "cell_type": "code",
   "execution_count": 19,
   "metadata": {
    "collapsed": false
   },
   "outputs": [
    {
     "name": "stdout",
     "output_type": "stream",
     "text": [
      "13300\n",
      "13473\n"
     ]
    }
   ],
   "source": [
    "import eagleSqlTools as sql\n",
    "\n",
    "mySim = ('RefL0100N1504',100.)\n",
    "con   = sql.connect(\"dlokhorst\",password=\"mxdPB54Y\")  \n",
    "\n",
    "myQuery  = \"SELECT \\\n",
    "                SH.GalaxyID, \\\n",
    "                SH.CentreOfPotential_x, \\\n",
    "                SH.CentreOfPotential_y, \\\n",
    "                SH.CentreOfPotential_z, \\\n",
    "                SH.SubGroupNumber, \\\n",
    "                SH.MassType_Star\\\n",
    "            FROM \\\n",
    "                %s_SubHalo as SH \\\n",
    "            WHERE \\\n",
    "                SH.SnapNum = 28 and \\\n",
    "                SH.MassType_Star > 1e9\"%('RefL0100N1504')\n",
    "\n",
    "myData_28 = sql.execute_query(con,myQuery)\n",
    "print len(myData_28)\n",
    "#x = myData['CentreOfMass_x'][:]\n",
    "#y = myData['CentreOfMass_y'][:]\n",
    "#z = myData['CentreOfMass_z'][:]\n",
    "\n",
    "myQuery  = \"SELECT \\\n",
    "                SH.GalaxyID, \\\n",
    "                SH.CentreOfPotential_x, \\\n",
    "                SH.CentreOfPotential_y, \\\n",
    "                SH.CentreOfPotential_z, \\\n",
    "                SH.SubGroupNumber, \\\n",
    "                SH.MassType_Star\\\n",
    "            FROM \\\n",
    "                %s_SubHalo as SH \\\n",
    "            WHERE \\\n",
    "                SH.SnapNum = 27 and \\\n",
    "                SH.MassType_Star > 1e9\"%('RefL0100N1504')\n",
    "\n",
    "myData_27 = sql.execute_query(con,myQuery)\n",
    "print len(myData_27)"
   ]
  },
  {
   "cell_type": "code",
   "execution_count": 20,
   "metadata": {
    "collapsed": false
   },
   "outputs": [
    {
     "data": {
      "text/plain": [
       "<matplotlib.legend.Legend at 0x113df4190>"
      ]
     },
     "execution_count": 20,
     "metadata": {},
     "output_type": "execute_result"
    },
    {
     "data": {
      "image/png": "[encoded data removed]",
      "text/plain": [
       "<matplotlib.figure.Figure at 0x15382f610>"
      ]
     },
     "metadata": {},
     "output_type": "display_data"
    }
   ],
   "source": [
    "plt.hist(np.log10(myData_27['MassType_Star'][:]),label='z = 0.1',alpha=0.5,bins=20)\n",
    "plt.hist(np.log10(myData_28['MassType_Star'][:]),label='z = 0',alpha=0.5,bins=20)\n",
    "plt.legend()"
   ]
  },
  {
   "cell_type": "markdown",
   "metadata": {},
   "source": [
    "Center galaxy of that potential: \"subGroupNumber = 0\" selected central galaxies"
   ]
  },
  {
   "cell_type": "code",
   "execution_count": 24,
   "metadata": {
    "collapsed": false
   },
   "outputs": [
    {
     "name": "stdout",
     "output_type": "stream",
     "text": [
      "(7649, 7482)\n"
     ]
    }
   ],
   "source": [
    "central_27 = myData_27[myData_27['SubGroupNumber']==0]\n",
    "central_28 = myData_28[myData_28['SubGroupNumber']==0]\n",
    "\n",
    "print(len(central_27), len(central_28))"
   ]
  },
  {
   "cell_type": "code",
   "execution_count": 25,
   "metadata": {
    "collapsed": false
   },
   "outputs": [
    {
     "data": {
      "text/plain": [
       "<matplotlib.legend.Legend at 0x113f9de50>"
      ]
     },
     "execution_count": 25,
     "metadata": {},
     "output_type": "execute_result"
    },
    {
     "data": {
      "image/png": "[encoded data removed]",
      "text/plain": [
       "<matplotlib.figure.Figure at 0x113e03f50>"
      ]
     },
     "metadata": {},
     "output_type": "display_data"
    }
   ],
   "source": [
    "plt.hist(np.log10(central_27['MassType_Star'][:]),label='z = 0.1',alpha=0.5,bins=20)\n",
    "plt.hist(np.log10(central_28['MassType_Star'][:]),label='z = 0',alpha=0.5,bins=20)\n",
    "plt.legend()"
   ]
  },
  {
   "cell_type": "code",
   "execution_count": 26,
   "metadata": {
    "collapsed": false
   },
   "outputs": [
    {
     "data": {
      "text/plain": [
       "1.8487777e+10"
      ]
     },
     "execution_count": 26,
     "metadata": {},
     "output_type": "execute_result"
    }
   ],
   "source": [
    "np.mean(central_28['MassType_Star'][:])"
   ]
  },
  {
   "cell_type": "markdown",
   "metadata": {},
   "source": [
    "If we pretend that we choose to observe all the redshift range open to us with the filter, the total distance we range over is:\n",
    "\n",
    "d ~ v / H_0 = (5/656.3 * 3e5 km/s) / (70 Mpc km/s) ~ 30 Mpc\n",
    "\n",
    "The galaxies are in a 100 Mpc square box, so let's start by pruning it to 30 Mpc, then looking for galaxies in the range specified by Clampitt et al., Tanimura et al., de Graaff et al."
   ]
  },
  {
   "cell_type": "code",
   "execution_count": 28,
   "metadata": {
    "collapsed": false
   },
   "outputs": [],
   "source": [
    "## Make Galaxy Catalogue ##\n",
    "\n",
    "# pare down selection into box representative of survey size \n",
    "# (observable with one filter in tilting range vs observable with filter at one tilt)\n",
    "# start with one 3nm filter, stack filaments inside FOV\n",
    "\n",
    "# go through list of galaxies, look for another galaxy in specified distance range\n",
    "# loop through list, searching for pair in acceptable range\n",
    "\n",
    "# go through again and make list with only unique pairs (necessary? because may just mirror anyway)\n"
   ]
  },
  {
   "cell_type": "code",
   "execution_count": null,
   "metadata": {
    "collapsed": true
   },
   "outputs": [],
   "source": [
    "## Project Onto Same Grid ##\n",
    "\n"
   ]
  }
 ],
 "metadata": {
  "kernelspec": {
   "display_name": "Python 2",
   "language": "python",
   "name": "python2"
  },
  "language_info": {
   "codemirror_mode": {
    "name": "ipython",
    "version": 2
   },
   "file_extension": ".py",
   "mimetype": "text/x-python",
   "name": "python",
   "nbconvert_exporter": "python",
   "pygments_lexer": "ipython2",
   "version": "2.7.12"
  }
 },
 "nbformat": 4,
 "nbformat_minor": 0
}
