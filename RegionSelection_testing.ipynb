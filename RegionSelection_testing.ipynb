{
 "cells": [
  {
   "cell_type": "code",
   "execution_count": 1,
   "metadata": {
    "collapsed": false
   },
   "outputs": [
    {
     "ename": "NameError",
     "evalue": "name 'np' is not defined",
     "output_type": "error",
     "traceback": [
      "\u001b[0;31m---------------------------------------------------------------------------\u001b[0m",
      "\u001b[0;31mNameError\u001b[0m                                 Traceback (most recent call last)",
      "\u001b[0;32m<ipython-input-1-0fc6c58eecad>\u001b[0m in \u001b[0;36m<module>\u001b[0;34m()\u001b[0m\n\u001b[1;32m      1\u001b[0m \u001b[0;31m# example loading simulation file called filename\u001b[0m\u001b[0;34m\u001b[0m\u001b[0;34m\u001b[0m\u001b[0m\n\u001b[1;32m      2\u001b[0m \u001b[0;34m\u001b[0m\u001b[0m\n\u001b[0;32m----> 3\u001b[0;31m \u001b[0mslice1\u001b[0m \u001b[0;34m=\u001b[0m \u001b[0mnp\u001b[0m\u001b[0;34m.\u001b[0m\u001b[0mload\u001b[0m\u001b[0;34m(\u001b[0m\u001b[0;34m'filename'\u001b[0m\u001b[0;34m)\u001b[0m\u001b[0;34m[\u001b[0m\u001b[0;34m'arr_0'\u001b[0m\u001b[0;34m]\u001b[0m\u001b[0;34m\u001b[0m\u001b[0m\n\u001b[0m\u001b[1;32m      4\u001b[0m \u001b[0mtest\u001b[0m \u001b[0;34m=\u001b[0m \u001b[0mnp\u001b[0m\u001b[0;34m.\u001b[0m\u001b[0mloadl\u001b[0m\u001b[0;34m(\u001b[0m\u001b[0;34m'filename'\u001b[0m\u001b[0;34m)\u001b[0m\u001b[0;34m\u001b[0m\u001b[0m\n\u001b[1;32m      5\u001b[0m \u001b[0mtest\u001b[0m\u001b[0;34m.\u001b[0m\u001b[0mkey\u001b[0m\u001b[0;34m\u001b[0m\u001b[0m\n",
      "\u001b[0;31mNameError\u001b[0m: name 'np' is not defined"
     ]
    }
   ],
   "source": [
    "# example loading simulation file called filename\n",
    "\n",
    "slice1 = np.load('filename')['arr_0']\n",
    "test = np.loadl('filename')\n",
    "test.key\n",
    "\n",
    "slice2 = np.load('filename2')['arr_0']\n",
    "slice3 = np.load('filename3')['arr_0']\n",
    "sliceT = np.log10(10**slice1+10**slice2+10**slice3)\n",
    "\n",
    "# then bin the pixels in each dimension by a factor of 40 (to get rid of weird high or low pixels that aren't physical)\n",
    "# (down to 800 cubed pixels)\n",
    "\n",
    "imshow"
   ]
  },
  {
   "cell_type": "code",
   "execution_count": 1,
   "metadata": {
    "collapsed": true
   },
   "outputs": [],
   "source": [
    "import numpy as np"
   ]
  },
  {
   "cell_type": "code",
   "execution_count": 2,
   "metadata": {
    "collapsed": false
   },
   "outputs": [],
   "source": [
    "def indices_region(xbox,ybox):\n",
    "# Create 2d arrays for both x and y indices values to pick out the data in the regions \n",
    "#(not sure, there's probably a better way to do this...)\n",
    "\n",
    "#[53,53,56,56,53],[9.2,10,8.5,7.7,9.2]\n",
    "#xbox = [53, 53, 56,56] # lower left, upper left, upper right, lower right\n",
    "#ybox = [9.2,10,8.5,7.7] # lower left, upper left, upper right, lower right\n",
    "\n",
    "#    xbox = [1,10,10,1] # lower left, upper left, upper right, lower right\n",
    "#    ybox = [20,15,25,30]\n",
    "\n",
    "#xacross_length = np.abs(xbox[2] - xbox[1])  \n",
    "#xdown_length = np.abs(xbox[1]-xbox[0])       \n",
    "#yacross_length = np.abs(ybox[2] - ybox[1])  \n",
    "#ydown_length = np.abs(ybox[1]-ybox[0])         \n",
    "    xacross_length = (xbox[2] - xbox[1])  \n",
    "    xdown_length = (xbox[1]-xbox[0])       \n",
    "    yacross_length = (ybox[2] - ybox[1])  \n",
    "    ydown_length = (ybox[1]-ybox[0])   \n",
    "    print('xacross_length,yacross_length,xdown_length,ydown_length:  '+str(xacross_length)+', '+\n",
    "          str(yacross_length)+', '+str(xdown_length)+', '+str(ydown_length))\n",
    "\n",
    "  #  xacross_length = max(xbox)-min(xbox)\n",
    "  #  yacross_length = max(ybox)-min(ybox)\n",
    "#\n",
    "#    print('xacross_length,yacross_length,xdown_length,ydown_length:  '+str(xacross_length)+', '+\n",
    "#          str(yacross_length)+', '+str(xdown_length)+', '+str(ydown_length))\n",
    "    \n",
    "    \n",
    "    if xacross_length > yacross_length:\n",
    "        iterable = np.round(np.arange(xacross_length+1)*float(yacross_length)/float(xacross_length))\n",
    "        yacross = [ybox[1]+y for y in iterable.astype(int)]\n",
    "        xacross = [xbox[1]+x for x in xrange(xacross_length+1)]\n",
    "        print('xacross_length > yacross_length:')\n",
    "        print('iterable: '+str(iterable))\n",
    "    elif xacross_length < yacross_length:\n",
    "        iterable = np.round(np.arange(yacross_length+1)*float(xacross_length)/float(yacross_length))\n",
    "        xacross = [xbox[1]+x for x in iterable.astype(int)]\n",
    "        yacross = [ybox[1]+y for y in xrange(yacross_length+1)]\n",
    "        print('xacross_length < yacross_length:')\n",
    "        print('iterable: '+str(iterable))\n",
    "    else:\n",
    "        xacross = [xbox[1]+x for x in xrange(xacross_length+1)]\n",
    "        yacross = [ybox[1]+y for y in xrange(yacross_length+1)]\n",
    "        print('xacross_length = yacross_length')\n",
    "\n",
    "    if xdown_length > ydown_length:\n",
    "        iterable = np.round(np.arange(xdown_length+1)*float(ydown_length)/float(xdown_length))\n",
    "        yfull = [np.array(yacross)-y for y in iterable.astype(int)]    \n",
    "        xfull = [np.array(xacross)-x for x in xrange(xdown_length+1)]\n",
    "        print('xdown_length > ydown_length:')\n",
    "        print('iterable: '+str(iterable))    \n",
    "    elif xdown_length < ydown_length:\n",
    "        iterable = np.round(np.arange(ydown_length+1)*float(xdown_length)/float(ydown_length))\n",
    "        xfull = [np.array(xacross)-x for x in iterable.astype(int)]\n",
    "        yfull = [np.array(yacross)-y for y in xrange(ydown_length+1)]\n",
    "        print('xdown_length < ydown_length:')\n",
    "        print('iterable: '+str(iterable))    \n",
    "    else:\n",
    "        xfull = [np.array(xacross)-x for x in xrange(xdown_length+1)]\n",
    "        yfull = [np.array(yacross)-y for y in xrange(ydown_length+1)]\n",
    "        print('xdown_length = ydown_length:')\n",
    "\n",
    "    xfull = np.array(xfull)\n",
    "    yfull = np.array(yfull)\n",
    "    \n",
    "    return xfull, yfull"
   ]
  },
  {
   "cell_type": "code",
   "execution_count": 28,
   "metadata": {
    "collapsed": false
   },
   "outputs": [
    {
     "name": "stdout",
     "output_type": "stream",
     "text": [
      "(array([ 1510.4,  1478.4,  1510.4,  1542.4]), array([ 320.,  448.,  448.,  320.]))\n",
      "xacross_length,yacross_length,xdown_length,ydown_length:  32, 0, -32, 128\n",
      "xacross_length > yacross_length:\n",
      "iterable: [ 0.  0.  0.  0.  0.  0.  0.  0.  0.  0.  0.  0.  0.  0.  0.  0.  0.  0.\n",
      "  0.  0.  0.  0.  0.  0.  0.  0.  0.  0.  0.  0.  0.  0.  0.]\n",
      "xdown_length < ydown_length:\n",
      "iterable: [ -0.  -0.  -0.  -1.  -1.  -1.  -2.  -2.  -2.  -2.  -2.  -3.  -3.  -3.  -4.\n",
      "  -4.  -4.  -4.  -4.  -5.  -5.  -5.  -6.  -6.  -6.  -6.  -6.  -7.  -7.  -7.\n",
      "  -8.  -8.  -8.  -8.  -8.  -9.  -9.  -9. -10. -10. -10. -10. -10. -11. -11.\n",
      " -11. -12. -12. -12. -12. -12. -13. -13. -13. -14. -14. -14. -14. -14. -15.\n",
      " -15. -15. -16. -16. -16. -16. -16. -17. -17. -17. -18. -18. -18. -18. -18.\n",
      " -19. -19. -19. -20. -20. -20. -20. -20. -21. -21. -21. -22. -22. -22. -22.\n",
      " -22. -23. -23. -23. -24. -24. -24. -24. -24. -25. -25. -25. -26. -26. -26.\n",
      " -26. -26. -27. -27. -27. -28. -28. -28. -28. -28. -29. -29. -29. -30. -30.\n",
      " -30. -30. -30. -31. -31. -31. -32. -32. -32.]\n"
     ]
    },
    {
     "data": {
      "text/plain": [
       "array([[1478, 1479, 1480, ..., 1508, 1509, 1510],\n",
       "       [1478, 1479, 1480, ..., 1508, 1509, 1510],\n",
       "       [1478, 1479, 1480, ..., 1508, 1509, 1510],\n",
       "       ..., \n",
       "       [1510, 1511, 1512, ..., 1540, 1541, 1542],\n",
       "       [1510, 1511, 1512, ..., 1540, 1541, 1542],\n",
       "       [1510, 1511, 1512, ..., 1540, 1541, 1542]])"
      ]
     },
     "execution_count": 28,
     "metadata": {},
     "output_type": "execute_result"
    }
   ],
   "source": [
    "#xbox = [1,10,10,1] # lower left, upper left, upper right, lower right\n",
    "#ybox = [20,15,25,30]\n",
    "#xbox = np.array([53,53,56,56])*3200./100.\n",
    "#ybox = np.array([9.2,10,8.5,7.7])*3200./100.\n",
    "xbox = np.array([47.2,46.2,47.2,48.2])*3200./100.\n",
    "ybox = np.array([10,14,14,10])*3200./100.\n",
    "#xbox = np.array([43,43,46,46])*3200./100.\n",
    "#ybox = np.array([7.5,8.2,7.2,6.5])*3200./100.\n",
    "print(xbox,ybox)\n",
    "#print(xbox.astype(int),ybox.astype(int))\n",
    "xfull, yfull= indices_region(xbox.astype(int),ybox.astype(int))  \n",
    "#xfull, yfull= indices_region(xbox,ybox)  \n",
    "xfull#*100./3200."
   ]
  },
  {
   "cell_type": "code",
   "execution_count": 4,
   "metadata": {
    "collapsed": false
   },
   "outputs": [
    {
     "data": {
      "text/plain": [
       "array([[15, 16, 17, 18, 19, 20, 21, 22, 23, 24, 25],\n",
       "       [16, 17, 18, 19, 20, 21, 22, 23, 24, 25, 26],\n",
       "       [16, 17, 18, 19, 20, 21, 22, 23, 24, 25, 26],\n",
       "       [17, 18, 19, 20, 21, 22, 23, 24, 25, 26, 27],\n",
       "       [17, 18, 19, 20, 21, 22, 23, 24, 25, 26, 27],\n",
       "       [18, 19, 20, 21, 22, 23, 24, 25, 26, 27, 28],\n",
       "       [18, 19, 20, 21, 22, 23, 24, 25, 26, 27, 28],\n",
       "       [19, 20, 21, 22, 23, 24, 25, 26, 27, 28, 29],\n",
       "       [19, 20, 21, 22, 23, 24, 25, 26, 27, 28, 29],\n",
       "       [20, 21, 22, 23, 24, 25, 26, 27, 28, 29, 30]])"
      ]
     },
     "execution_count": 4,
     "metadata": {},
     "output_type": "execute_result"
    }
   ],
   "source": [
    "yfull#*100./3200."
   ]
  },
  {
   "cell_type": "code",
   "execution_count": 22,
   "metadata": {
    "collapsed": false
   },
   "outputs": [
    {
     "data": {
      "text/plain": [
       "[0, 1, 2, 3, 4, 5, 6, 7, 8, 9, 10]"
      ]
     },
     "execution_count": 22,
     "metadata": {},
     "output_type": "execute_result"
    }
   ],
   "source": [
    "datafull = np.zeros(yfull.shape)\n",
    "\n",
    "range(yfull.shape[1])"
   ]
  },
  {
   "cell_type": "code",
   "execution_count": 26,
   "metadata": {
    "collapsed": false
   },
   "outputs": [
    {
     "name": "stdout",
     "output_type": "stream",
     "text": [
      "[[ 15.  16.  17.  18.  19.  20.  21.  22.  23.  24.  25.]\n",
      " [ 16.  17.  18.  19.  20.  21.  22.  23.  24.  25.  26.]\n",
      " [ 16.  17.  18.  19.  20.  21.  22.  23.  24.  25.  26.]\n",
      " [ 17.  18.  19.  20.  21.  22.  23.  24.  25.  26.  27.]\n",
      " [ 17.  18.  19.  20.  21.  22.  23.  24.  25.  26.  27.]\n",
      " [ 18.  19.  20.  21.  22.  23.  24.  25.  26.  27.  28.]\n",
      " [ 18.  19.  20.  21.  22.  23.  24.  25.  26.  27.  28.]\n",
      " [ 19.  20.  21.  22.  23.  24.  25.  26.  27.  28.  29.]\n",
      " [ 19.  20.  21.  22.  23.  24.  25.  26.  27.  28.  29.]\n",
      " [ 20.  21.  22.  23.  24.  25.  26.  27.  28.  29.  30.]]\n",
      "22.5\n"
     ]
    }
   ],
   "source": [
    "for i in range(yfull.shape[0]):\n",
    "    for j in range(yfull.shape[1]):\n",
    "        datafull[i,j] = yfull[i,j]\n",
    "        \n",
    "print(datafull)\n",
    "print(np.mean(datafull))"
   ]
  },
  {
   "cell_type": "code",
   "execution_count": 5,
   "metadata": {
    "collapsed": false
   },
   "outputs": [
    {
     "name": "stdout",
     "output_type": "stream",
     "text": [
      "[[ 0  1  2 ..., 47 48 49]\n",
      " [ 1  2  3 ..., 48 49 50]\n",
      " [ 2  3  4 ..., 49 50 51]\n",
      " ..., \n",
      " [47 48 49 ..., 94 95 96]\n",
      " [48 49 50 ..., 95 96 97]\n",
      " [49 50 51 ..., 96 97 98]]\n"
     ]
    }
   ],
   "source": [
    "x = [[(i+j) for i in range(50)] for j in range(50)]\n",
    "x = np.array(x)\n",
    "print(x)"
   ]
  },
  {
   "cell_type": "code",
   "execution_count": 126,
   "metadata": {
    "collapsed": false
   },
   "outputs": [
    {
     "name": "stdout",
     "output_type": "stream",
     "text": [
      "10 15\n",
      "10 16\n",
      "10 17\n",
      "10 18\n",
      "10 19\n",
      "10 20\n",
      "10 21\n",
      "10 22\n",
      "10 23\n",
      "10 24\n",
      "10 25\n",
      "9 16\n",
      "9 17\n",
      "9 18\n",
      "9 19\n",
      "9 20\n",
      "9 21\n",
      "9 22\n",
      "9 23\n",
      "9 24\n",
      "9 25\n",
      "9 26\n",
      "8 16\n",
      "8 17\n",
      "8 18\n",
      "8 19\n",
      "8 20\n",
      "8 21\n",
      "8 22\n",
      "8 23\n",
      "8 24\n",
      "8 25\n",
      "8 26\n",
      "7 17\n",
      "7 18\n",
      "7 19\n",
      "7 20\n",
      "7 21\n",
      "7 22\n",
      "7 23\n",
      "7 24\n",
      "7 25\n",
      "7 26\n",
      "7 27\n",
      "6 17\n",
      "6 18\n",
      "6 19\n",
      "6 20\n",
      "6 21\n",
      "6 22\n",
      "6 23\n",
      "6 24\n",
      "6 25\n",
      "6 26\n",
      "6 27\n",
      "5 18\n",
      "5 19\n",
      "5 20\n",
      "5 21\n",
      "5 22\n",
      "5 23\n",
      "5 24\n",
      "5 25\n",
      "5 26\n",
      "5 27\n",
      "5 28\n",
      "4 18\n",
      "4 19\n",
      "4 20\n",
      "4 21\n",
      "4 22\n",
      "4 23\n",
      "4 24\n",
      "4 25\n",
      "4 26\n",
      "4 27\n",
      "4 28\n",
      "3 19\n",
      "3 20\n",
      "3 21\n",
      "3 22\n",
      "3 23\n",
      "3 24\n",
      "3 25\n",
      "3 26\n",
      "3 27\n",
      "3 28\n",
      "3 29\n",
      "2 19\n",
      "2 20\n",
      "2 21\n",
      "2 22\n",
      "2 23\n",
      "2 24\n",
      "2 25\n",
      "2 26\n",
      "2 27\n",
      "2 28\n",
      "2 29\n",
      "1 20\n",
      "1 21\n",
      "1 22\n",
      "1 23\n",
      "1 24\n",
      "1 25\n",
      "1 26\n",
      "1 27\n",
      "1 28\n",
      "1 29\n",
      "1 30\n"
     ]
    }
   ],
   "source": [
    "# Cycle through the arrays, spitting out the indices that we want to sum up over.\n",
    "\n",
    "for x,y in zip(xfull,yfull):\n",
    "    for i,j in zip(x,y):\n",
    "        print i,j"
   ]
  },
  {
   "cell_type": "code",
   "execution_count": 111,
   "metadata": {
    "collapsed": false
   },
   "outputs": [
    {
     "data": {
      "text/plain": [
       "15"
      ]
     },
     "execution_count": 111,
     "metadata": {},
     "output_type": "execute_result"
    }
   ],
   "source": [
    "yfull[0,0]"
   ]
  },
  {
   "cell_type": "code",
   "execution_count": 114,
   "metadata": {
    "collapsed": false
   },
   "outputs": [
    {
     "data": {
      "text/plain": [
       "25"
      ]
     },
     "execution_count": 114,
     "metadata": {},
     "output_type": "execute_result"
    }
   ],
   "source": [
    "x[xfull[0,0],yfull[0,0]]"
   ]
  },
  {
   "cell_type": "code",
   "execution_count": 134,
   "metadata": {
    "collapsed": false
   },
   "outputs": [
    {
     "name": "stdout",
     "output_type": "stream",
     "text": [
      "[[10 15]\n",
      " [10 16]\n",
      " [10 17]\n",
      " [10 18]\n",
      " [10 19]\n",
      " [10 20]\n",
      " [10 21]\n",
      " [10 22]\n",
      " [10 23]\n",
      " [10 24]\n",
      " [10 25]]\n",
      "[[ 9 16]\n",
      " [ 9 17]\n",
      " [ 9 18]\n",
      " [ 9 19]\n",
      " [ 9 20]\n",
      " [ 9 21]\n",
      " [ 9 22]\n",
      " [ 9 23]\n",
      " [ 9 24]\n",
      " [ 9 25]\n",
      " [ 9 26]]\n",
      "[[ 8 16]\n",
      " [ 8 17]\n",
      " [ 8 18]\n",
      " [ 8 19]\n",
      " [ 8 20]\n",
      " [ 8 21]\n",
      " [ 8 22]\n",
      " [ 8 23]\n",
      " [ 8 24]\n",
      " [ 8 25]\n",
      " [ 8 26]]\n",
      "[[ 7 17]\n",
      " [ 7 18]\n",
      " [ 7 19]\n",
      " [ 7 20]\n",
      " [ 7 21]\n",
      " [ 7 22]\n",
      " [ 7 23]\n",
      " [ 7 24]\n",
      " [ 7 25]\n",
      " [ 7 26]\n",
      " [ 7 27]]\n",
      "[[ 6 17]\n",
      " [ 6 18]\n",
      " [ 6 19]\n",
      " [ 6 20]\n",
      " [ 6 21]\n",
      " [ 6 22]\n",
      " [ 6 23]\n",
      " [ 6 24]\n",
      " [ 6 25]\n",
      " [ 6 26]\n",
      " [ 6 27]]\n",
      "[[ 5 18]\n",
      " [ 5 19]\n",
      " [ 5 20]\n",
      " [ 5 21]\n",
      " [ 5 22]\n",
      " [ 5 23]\n",
      " [ 5 24]\n",
      " [ 5 25]\n",
      " [ 5 26]\n",
      " [ 5 27]\n",
      " [ 5 28]]\n",
      "[[ 4 18]\n",
      " [ 4 19]\n",
      " [ 4 20]\n",
      " [ 4 21]\n",
      " [ 4 22]\n",
      " [ 4 23]\n",
      " [ 4 24]\n",
      " [ 4 25]\n",
      " [ 4 26]\n",
      " [ 4 27]\n",
      " [ 4 28]]\n",
      "[[ 3 19]\n",
      " [ 3 20]\n",
      " [ 3 21]\n",
      " [ 3 22]\n",
      " [ 3 23]\n",
      " [ 3 24]\n",
      " [ 3 25]\n",
      " [ 3 26]\n",
      " [ 3 27]\n",
      " [ 3 28]\n",
      " [ 3 29]]\n",
      "[[ 2 19]\n",
      " [ 2 20]\n",
      " [ 2 21]\n",
      " [ 2 22]\n",
      " [ 2 23]\n",
      " [ 2 24]\n",
      " [ 2 25]\n",
      " [ 2 26]\n",
      " [ 2 27]\n",
      " [ 2 28]\n",
      " [ 2 29]]\n",
      "[[ 1 20]\n",
      " [ 1 21]\n",
      " [ 1 22]\n",
      " [ 1 23]\n",
      " [ 1 24]\n",
      " [ 1 25]\n",
      " [ 1 26]\n",
      " [ 1 27]\n",
      " [ 1 28]\n",
      " [ 1 29]\n",
      " [ 1 30]]\n"
     ]
    }
   ],
   "source": [
    "dists = np.squeeze(np.vstack(([xfull.T], [yfull.T])).T)\n",
    "#dists\n",
    "for x in dists:\n",
    "    print x"
   ]
  },
  {
   "cell_type": "code",
   "execution_count": null,
   "metadata": {
    "collapsed": true
   },
   "outputs": [],
   "source": []
  }
 ],
 "metadata": {
  "kernelspec": {
   "display_name": "Python 2",
   "language": "python",
   "name": "python2"
  },
  "language_info": {
   "codemirror_mode": {
    "name": "ipython",
    "version": 2
   },
   "file_extension": ".py",
   "mimetype": "text/x-python",
   "name": "python",
   "nbconvert_exporter": "python",
   "pygments_lexer": "ipython2",
   "version": "2.7.13"
  }
 },
 "nbformat": 4,
 "nbformat_minor": 0
}
