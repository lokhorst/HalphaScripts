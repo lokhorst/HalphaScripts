{
 "cells": [
  {
   "cell_type": "markdown",
   "metadata": {},
   "source": [
    "## Towards the comparison of the signal-to-noise achieved with different filter widths\n",
    "\n",
    "## Signal-to-noise calculations\n",
    "\n",
    "As a function of exposure time, what is the signal-to-noise for the different filter widths?\n",
    "\n",
    "How does that change when the CWL of the filters changes?\n",
    "\n",
    "What is the benefit of the narrow bandwidth filters over larger bandwidth?\n",
    "\n",
    "\n",
    "### Some background\n",
    "\n",
    "The SNR is calculated following the equation (see, e.g., pg 407 of \"Spectroscopic Instrumentation\" by Eversberg and Vollmann): \n",
    "\n",
    "$SNR = \\frac{I t}{\\sqrt{I t + B t + D t + R^2}}$, \n",
    "\n",
    "where I is the signal over some number of pixels, B is the sky background over some number of pixels, D is the dark current over some number of pixels and R is the readout noise of the detector.  The exposure time, t, is usually given in seconds."
   ]
  },
  {
   "cell_type": "code",
   "execution_count": 1,
   "metadata": {},
   "outputs": [],
   "source": [
    "%matplotlib inline\n",
    "\n",
    "import numpy as np\n",
    "import matplotlib.pyplot as plt\n",
    "from astropy import constants as const\n",
    "from astropy import units as u\n",
    "from astropy.io import fits\n",
    "import math"
   ]
  },
  {
   "cell_type": "code",
   "execution_count": 2,
   "metadata": {},
   "outputs": [],
   "source": [
    "class DragonflySystem(object):\n",
    "\n",
    "    \"\"\"This class represented the noise calculations \n",
    "    for the Dragonfly Array.\"\"\"\n",
    "\n",
    "    def __init__(self, number_of_lenses = 48.,oldcam=False):\n",
    "        self.number_of_lenses = number_of_lenses\n",
    "        self.area_lens = self.calculate_lens_area()\n",
    "        self.tau_l = 0.85  # transmittance of the Dragonfly lens\n",
    "        self.tau_f = 1.    # transmittance of the Halpha filter -- assumed for now\n",
    "        if oldcam:\n",
    "            self.QE = 0.48 * u.electron / u.photon\n",
    "            self.ro_noise = 10.  # read noise (electrons)\n",
    "            self.dark_curr = 0.02 *u.photon/u.second    # dark current (electrons / s / pix)\n",
    "            self.pix_size = 2.8 # arcsec / pix\n",
    "        else:\n",
    "            self.QE = 0.75 * u.electron / u.photon\n",
    "            self.ro_noise = 4.5  # read noise (electrons)\n",
    "            self.dark_curr = 0.025 *u.electron/u.second    # dark current (electrons / s / pix)\n",
    "            self.pix_size = 2.45 # arcsec / pix\n",
    "\n",
    "        self.ang_pix_size = (self.pix_size * (1./206265.))**2 * u.rad**2\n",
    "        self.ro_squared = self.ro_noise**2 * u.electron\n",
    "\n",
    "    def calculate_lens_area(self):\n",
    "        return np.pi*(14.3/2)**2 * self.number_of_lenses * u.cm**2\n",
    "    \n",
    "    def report(self):\n",
    "        print('Number of lenses (lens area): %s (%s)'%\\\n",
    "              (self.number_of_lenses,self.area_lens))\n",
    "        print('Quantum Efficiency: %s'%self.QE)\n",
    "        print('Readout Noise (RO squared): %s (%s)'%\\\n",
    "              (self.ro_noise,self.ro_squared))\n",
    "        print('Dark Current: %s'%self.dark_curr)\n",
    "        print('Pixel Size: %s'%self.pix_size)\n",
    "\n",
    "    \n",
    "def calculate_signal_to_noise(SB_ph,B,time,explength=30.*(60.*u.second)):\n",
    "    numexp=1\n",
    "    if isinstance(time.value, (np.ndarray)):\n",
    "        numexp = np.array([math.ceil(thistime/explength) for thistime in time])\n",
    "    else:\n",
    "        numexp = math.ceil(time/explength) # round up the number of exposures\n",
    "        \n",
    "    S = SB_ph * QE * tau_l * tau_f * area_lens * ang_size_pixel\n",
    "    signal = S*time*numpixel\n",
    "    B_tot = B * QE * tau_l * tau_f * area_lens.to(u.m**2) * ang_size_pixel.to(u.arcsec**2)\n",
    "    print('total S: %s'%signal)\n",
    "    print('total B: %s'%(B_tot*time*numpixel))\n",
    "    #sigma = np.sqrt(signal + B_tot*time*numpixel + D*time*numpixel + R_squared*numpixel)\n",
    "    sigma = np.sqrt(signal + B_tot*time*numpixel + D*time*numpixel*numlens + \n",
    "                    R_squared*numpixel*numlens*numexp)\n",
    "    print ('total R: %s'%(R_squared*numpixel*numlens*numexp))\n",
    "    SNR = signal/sigma\n",
    "    return SNR\n"
   ]
  },
  {
   "cell_type": "markdown",
   "metadata": {},
   "source": [
    "#### from SkyBackground_FilterWidthComparison:"
   ]
  },
  {
   "cell_type": "code",
   "execution_count": 3,
   "metadata": {},
   "outputs": [],
   "source": [
    "B_10nm_G_1  = 4.91488*u.photon/u.second/u.arcsec**2/u.m**2  # already times the filter width\n",
    "B_3nm_G_1  = 1.52495*u.photon/u.second/u.arcsec**2/u.m**2  # already times the filter width\n",
    "B_08nm_G_1 = 0.383995*u.photon/u.second/u.arcsec**2/u.m**2  # already times the filter width"
   ]
  },
  {
   "cell_type": "markdown",
   "metadata": {},
   "source": [
    "#### compare noise as a function of exposure time"
   ]
  },
  {
   "cell_type": "code",
   "execution_count": 4,
   "metadata": {},
   "outputs": [
    {
     "name": "stdout",
     "output_type": "stream",
     "text": [
      "Number of lenses (lens area): 1.0 (160.6060704331442 cm2)\n",
      "Quantum Efficiency: 0.75 electron / ph\n",
      "Readout Noise (RO squared): 4.5 (20.25 electron)\n",
      "Dark Current: 0.025 electron / s\n",
      "Pixel Size: 2.45\n"
     ]
    }
   ],
   "source": [
    "numlens = 1.\n",
    "numexp = 1.\n",
    "numpixel = 1.\n",
    "\n",
    "noise = DragonflySystem(number_of_lenses=numlens)\n",
    "noise.report()"
   ]
  },
  {
   "cell_type": "code",
   "execution_count": 7,
   "metadata": {},
   "outputs": [
    {
     "name": "stdout",
     "output_type": "stream",
     "text": [
      "168.69476578200826 electron\n",
      "12.988254916731819 electron(1/2)\n"
     ]
    },
    {
     "data": {
      "image/png": "[encoded data removed]",
      "text/plain": [
       "<Figure size 432x288 with 1 Axes>"
      ]
     },
     "metadata": {
      "needs_background": "light"
     },
     "output_type": "display_data"
    }
   ],
   "source": [
    "exposure_length = 1800. * u.second * numexp\n",
    "time = np.arange(exposure_length.value)\n",
    "\n",
    "factor_perpixel = noise.QE * noise.tau_l * noise.tau_f * \\\n",
    "    noise.area_lens.to(u.m**2) * noise.ang_pix_size.to(u.arcsec**2)\n",
    "\n",
    "B_noise = B_3nm_G_1 * factor_perpixel * numpixel\n",
    "\n",
    "plt.plot(time,B_noise*time*u.second)\n",
    "\n",
    "print(B_noise*exposure_length)\n",
    "\n",
    "print(np.sqrt(B_noise*exposure_length))\n"
   ]
  },
  {
   "cell_type": "code",
   "execution_count": 54,
   "metadata": {},
   "outputs": [
    {
     "name": "stdout",
     "output_type": "stream",
     "text": [
      "20.25 electron\n"
     ]
    }
   ],
   "source": [
    "R_noise = noise.ro_squared*numlens*numexp\n",
    "\n",
    "print(R_noise)"
   ]
  },
  {
   "cell_type": "code",
   "execution_count": 6,
   "metadata": {},
   "outputs": [
    {
     "name": "stdout",
     "output_type": "stream",
     "text": [
      "45.0 electron\n",
      "6.708203932499369 electron(1/2)\n"
     ]
    }
   ],
   "source": [
    "D_noise = noise.dark_curr * numlens * exposure_length * numpixel\n",
    "\n",
    "print(D_noise)\n",
    "print(np.sqrt(D_noise))"
   ]
  },
  {
   "cell_type": "code",
   "execution_count": null,
   "metadata": {},
   "outputs": [],
   "source": []
  }
 ],
 "metadata": {
  "kernelspec": {
   "display_name": "Python 3",
   "language": "python",
   "name": "python3"
  },
  "language_info": {
   "codemirror_mode": {
    "name": "ipython",
    "version": 3
   },
   "file_extension": ".py",
   "mimetype": "text/x-python",
   "name": "python",
   "nbconvert_exporter": "python",
   "pygments_lexer": "ipython3",
   "version": "3.7.6"
  }
 },
 "nbformat": 4,
 "nbformat_minor": 4
}
