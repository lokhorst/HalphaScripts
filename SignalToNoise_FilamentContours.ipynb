{
 "cells": [
  {
   "cell_type": "markdown",
   "metadata": {},
   "source": [
    "### Signal to Noise Calculations\n",
    "\n",
    "The SNR is calculated following the equation (see, e.g., pg 407 of \"Spectroscopic Instrumentation\" by Eversberg and Vollmann): \n",
    "\n",
    "$SNR = \\frac{I t}{\\sqrt{I t + B t + D t + R^2}}$, \n",
    "\n",
    "where I is the signal over some number of pixels, B is the sky background over some number of pixels, D is the dark current over some number of pixels and R is the readout noise of the detector.  The exposure time, t, is usually given in seconds."
   ]
  },
  {
   "cell_type": "code",
   "execution_count": 10,
   "metadata": {
    "collapsed": false
   },
   "outputs": [],
   "source": [
    "%matplotlib inline\n",
    "\n",
    "import numpy as np\n",
    "import matplotlib.pyplot as plt\n",
    "from astropy import constants as const\n",
    "from astropy import units as u\n",
    "\n",
    "machine = 'chinook'"
   ]
  },
  {
   "cell_type": "code",
   "execution_count": 11,
   "metadata": {
    "collapsed": true
   },
   "outputs": [],
   "source": [
    "def getBackgroundMean(start,end):\n",
    "    wavelength = []\n",
    "    flux = []\n",
    "    if machine=='coho':\n",
    "        backgrounddir = '/Users/deblokhorst/Documents/Dragonfly/DragonflyHalpha/Notebooks/'\n",
    "    elif machine=='chinook':\n",
    "        backgrounddir = '/Users/lokhorst/Documents/HalphaScripts/'\n",
    "    with open(backgrounddir+'Gemini_skybackground.dat','r') as f:\n",
    "        for line in f:\n",
    "            if line[0]!='#' and len(line)>5:\n",
    "                tmp = line.split()\n",
    "                wavelength.append(tmp[0])\n",
    "                flux.append(tmp[1])\n",
    "                \n",
    "    wavelength = np.array(wavelength,'d')\n",
    "    flux = np.array(flux,'d')\n",
    "    \n",
    "    start_ind = (np.abs(wavelength-start)).argmin()\n",
    "    end_ind   = (np.abs(wavelength-end)).argmin()\n",
    "    \n",
    "    total=0\n",
    "    for index in np.arange(start_ind,end_ind):\n",
    "        total = total + (flux[index]*(wavelength[index+1]-wavelength[index]))\n",
    "    \n",
    "    return total /(wavelength[end_ind]-wavelength[start_ind])"
   ]
  },
  {
   "cell_type": "code",
   "execution_count": 12,
   "metadata": {
    "collapsed": false
   },
   "outputs": [],
   "source": [
    "area_lens = np.pi*(14.3/2)**2 * 48. * u.cm**2               # 48 * 14.3 cm diameter lenses\n",
    "pix_size = 2.8                                              # arcsec\n",
    "ang_size_pixel  = (pix_size * (1./206265.))**2 * u.rad**2   # rad^2, the pixel size of the CCD\n",
    "# transmittance of the Dragonfly lens\n",
    "tau_l = 0.85  \n",
    "# quantum efficiency of the CCDs\n",
    "QE_new = 0.70 \n",
    "QE_old = 0.48 \n",
    "# transmittance of the Halpha filter -- assumed for now\n",
    "tau_f = 1.    \n",
    "\n",
    "#### The following are per pixel ###\n",
    "# sky background at 565.6 nm \n",
    "B = 0.52135 *u.photon/u.second/u.nm/u.arcsec**2/u.m**2  \n",
    "# dark current (electrons / s) -- PER PIXEL??\n",
    "D = 0.04 *u.photon/u.second                             \n",
    "# read noise (electrons)\n",
    "R_squared_old = 10.**2 * u.photon \n",
    "R_squared_new = 1.**2 * u.photon "
   ]
  },
  {
   "cell_type": "code",
   "execution_count": 16,
   "metadata": {
    "collapsed": false
   },
   "outputs": [
    {
     "name": "stdout",
     "output_type": "stream",
     "text": [
      "Background avg in 0.77nm: 0.519773417722 ph / (arcsec2 m2 nm s)\n",
      "Background total in 0.77nm: 0.984388719975 ph / s\n"
     ]
    }
   ],
   "source": [
    "filterwidth_5 = 0.7657* u.nm \n",
    "B_5 = getBackgroundMean(656.3,657.0657)*u.photon/u.second/u.nm/u.arcsec**2/u.m**2\n",
    "print('Background avg in 0.77nm: '+str(B_5))\n",
    "\n",
    "B_tot = B * QE * tau_l * tau_f * filterwidth_5 * area_lens.to(u.m**2) * ang_size_pixel.to(u.arcsec**2)\n",
    "#print(B)\n",
    "#print(B* filterwidth_5)\n",
    "#print(B* filterwidth_5* ang_size_pixel.to(u.arcsec**2))\n",
    "#print(area_lens)\n",
    "#print(area_lens.to(u.m**2))\n",
    "print('Background total in 0.77nm: '+str(B_tot))"
   ]
  },
  {
   "cell_type": "code",
   "execution_count": 17,
   "metadata": {
    "collapsed": false
   },
   "outputs": [
    {
     "name": "stdout",
     "output_type": "stream",
     "text": [
      "Background avg in 0.77nm: 0.519773417722 ph / (arcsec2 m2 nm s)\n",
      "Background avg in 3nm: 0.504666438356 ph / (arcsec2 m2 nm s)\n",
      "total S: 5.79599947142e-09 ph / s\n",
      "total B: 3.73339792907 ph / s\n",
      "SB: 0.01 ph / (cm2 rad2 s)\n",
      "numpixel:1275.51020408\n",
      "time (hours): 8e+11\n",
      "SNR: 5.71873860457 ph(1/2)\n",
      "The length of time_1_array is 28800000\n",
      "\n",
      "\n",
      "total S: 5.79599947142e-08 ph / s\n",
      "total B: 3.73339792907 ph / s\n",
      "SB: 0.1 ph / (cm2 rad2 s)\n",
      "numpixel:1275.51020408\n",
      "time (hours): 8000000000.0\n",
      "SNR: 5.71873856504 ph(1/2)\n",
      "The length of time_2_array is 2880000\n",
      "\n",
      "\n",
      "total S: 5.79599947142e-07 ph / s\n",
      "total B: 3.73339792907 ph / s\n",
      "SB: 1.0 ph / (cm2 rad2 s)\n",
      "numpixel:1275.51020408\n",
      "time (hours): 100000000.0\n",
      "SNR: 6.39374364632 ph(1/2)\n",
      "The length of time_3_array is 3600000\n",
      "\n",
      "\n",
      "total S: 5.79599947142e-06 ph / s\n",
      "total B: 3.73339792907 ph / s\n",
      "SB: 10.0 ph / (cm2 rad2 s)\n",
      "numpixel:1275.51020408\n",
      "time (hours): 1000000.0\n",
      "SNR: 6.39373920363 ph(1/2)\n",
      "The length of time_4_array is 36000000\n",
      "\n",
      "\n",
      "total S: 5.79599947142e-05 ph / s\n",
      "total B: 3.73339792907 ph / s\n",
      "SB: 100.0 ph / (cm2 rad2 s)\n",
      "numpixel:1275.51020408\n",
      "time (hours): 6000.0\n",
      "SNR: 4.95253183914 ph(1/2)\n",
      "The length of time_5_array is 21599999\n",
      "\n",
      "\n",
      "total S: 0.000579599947142 ph / s\n",
      "total B: 3.73339792907 ph / s\n",
      "SB: 1000.0 ph / (cm2 rad2 s)\n",
      "numpixel:1275.51020408\n",
      "time (hours): 60.0\n",
      "SNR: 4.95188887444 ph(1/2)\n",
      "The length of time_6_array is 21599999\n",
      "\n",
      "\n"
     ]
    }
   ],
   "source": [
    "R_squared = R_squared_old\n",
    "QE = QE_old\n",
    "\n",
    "# 5 Mpc bandpass means...\n",
    "filterwidth_5 = 0.7657* u.nm \n",
    "B_5 = getBackgroundMean(656.3,657.0657)*u.photon/u.second/u.nm/u.arcsec**2/u.m**2\n",
    "print('Background avg in 0.77nm: '+str(B_5))\n",
    "\n",
    "# 3 nm bandpass\n",
    "filterwidth_3nm = 3.0 * u.nm\n",
    "B_3nm = getBackgroundMean(656.3,659.3)*u.photon/u.second/u.nm/u.arcsec**2/u.m**2\n",
    "print('Background avg in 3nm: '+str(B_3nm))\n",
    "\n",
    "B = B_3nm\n",
    "filterwidth = filterwidth_3nm\n",
    "\n",
    "numpixels= np.array([(100.*100.)/(pix_size**2),(10.*10.)/(pix_size**2),1.])\n",
    "numpixel = 100.0 * 100.0/(pix_size**2)   # 100-arcsec-a-side pixels\n",
    "\n",
    "SB_ph_one = 10**-2. * u.photon / (u.cm**2 * u.rad**2 * u.second)\n",
    "SB_ph_two = 10**-1. * u.photon / (u.cm**2 * u.rad**2 * u.second)\n",
    "SB_ph_thr = 10**0. * u.photon / (u.cm**2 * u.rad**2 * u.second)\n",
    "SB_ph_fou = 10**1. * u.photon / (u.cm**2 * u.rad**2 * u.second)\n",
    "SB_ph_fiv = 10**2. * u.photon / (u.cm**2 * u.rad**2 * u.second)\n",
    "SB_ph_six = 10**3. * u.photon / (u.cm**2 * u.rad**2 * u.second)\n",
    "\n",
    "def calcSNR(SB_ph,time):\n",
    "    S = SB_ph * QE * tau_l * tau_f * area_lens * ang_size_pixel\n",
    "    signal = S*time*numpixel\n",
    "    B_tot = B * QE * tau_l * tau_f * filterwidth * area_lens.to(u.m**2) * ang_size_pixel.to(u.arcsec**2)\n",
    "    print('total S: %s'%S)\n",
    "    print('total B: %s'%B_tot)\n",
    "    sigma = np.sqrt(signal + B_tot*time*numpixel + D*time*numpixel + R_squared*numpixel)\n",
    "    SNR = signal/sigma\n",
    "    return SNR\n",
    "\n",
    "# SB_ph_one\n",
    "time = 60.*60*800000000000. * u.second\n",
    "SNR = calcSNR(SB_ph_one,time)\n",
    "\n",
    "print('SB: '+str(SB_ph_one))\n",
    "print('numpixel:'+str(numpixel))\n",
    "print('time (hours): '+str(time/(3600.*u.second)))\n",
    "print('SNR: '+str(SNR))\n",
    "\n",
    "time_1_array = np.arange(1,time.value,100000000)* u.second\n",
    "print('The length of time_1_array is %s'%(len(time_1_array)))\n",
    "print('\\n')\n",
    "\n",
    "# SB_ph_two \n",
    "time = 60.*60*8000000000. * u.second\n",
    "SNR = calcSNR(SB_ph_two,time)\n",
    "\n",
    "print('SB: '+str(SB_ph_two))\n",
    "print('numpixel:'+str(numpixel))\n",
    "print('time (hours): '+str(time/(3600.*u.second)))\n",
    "print('SNR: '+str(SNR))\n",
    "\n",
    "time_2_array = np.arange(1,time.value,10000000)* u.second\n",
    "print('The length of time_2_array is %s'%(len(time_2_array)))\n",
    "print('\\n')\n",
    "\n",
    "# SB_ph_thr \n",
    "time = 60.*60*100000000. * u.second  #  For the large box\n",
    "#time = 60.*60*10000. * u.second    #  For the small box\n",
    "SNR = calcSNR(SB_ph_thr,time)\n",
    "\n",
    "print('SB: '+str(SB_ph_thr))\n",
    "print('numpixel:'+str(numpixel))\n",
    "print('time (hours): '+str(time/(3600.*u.second)))\n",
    "print('SNR: '+str(SNR))\n",
    "\n",
    "time_3_array = np.arange(1,time.value,100000)* u.second\n",
    "print('The length of time_3_array is %s'%(len(time_3_array)))\n",
    "print('\\n')\n",
    "\n",
    "# SB_ph_fou --> \n",
    "time = 60.*60*1000000. * u.second  #  For the large box\n",
    "#time = 60.*60*10000. * u.second    #  For the small box\n",
    "SNR = calcSNR(SB_ph_fou,time)\n",
    "\n",
    "print('SB: '+str(SB_ph_fou))\n",
    "print('numpixel:'+str(numpixel))\n",
    "print('time (hours): '+str(time/(3600.*u.second)))\n",
    "print('SNR: '+str(SNR))\n",
    "\n",
    "time_4_array = np.arange(1,time.value,100)* u.second\n",
    "print('The length of time_4_array is %s'%(len(time_4_array)))\n",
    "print('\\n')\n",
    "\n",
    "# SB_ph_fiv --> \n",
    "time = 60.*60*1300. * u.second  #  For ~1nm filter (B_5,filterwidth_5)\n",
    "time = 60.*60*6000. * u.second  #  For 3nm filter (B_3nm,filterwidth_3nm)\n",
    "SNR = calcSNR(SB_ph_fiv,time)\n",
    "\n",
    "print('SB: '+str(SB_ph_fiv))\n",
    "print('numpixel:'+str(numpixel))\n",
    "print('time (hours): '+str(time/(3600.*u.second)))\n",
    "print('SNR: '+str(SNR))\n",
    "\n",
    "time_5_array = np.arange(1,time.value,1)* u.second\n",
    "print('The length of time_5_array is %s'%(len(time_5_array)))\n",
    "print('\\n')\n",
    "\n",
    "# SB_ph_six --> \n",
    "time = 60.*60*13. * u.second  #  For ~1nm filter (B_5,filterwidth_5)\n",
    "time = 60.*60*60 * u.second   #  For 3nm filter (B_3nm,filterwidth_3nm)\n",
    "SNR = calcSNR(SB_ph_six,time)\n",
    "\n",
    "print('SB: '+str(SB_ph_six))\n",
    "print('numpixel:'+str(numpixel))\n",
    "print('time (hours): '+str(time/(3600.*u.second)))\n",
    "print('SNR: '+str(SNR))\n",
    "\n",
    "time_6_array = np.arange(1,time.value,1)* u.second\n",
    "print('The length of time_6_array is %s'%(len(time_5_array)))\n",
    "print('\\n')"
   ]
  },
  {
   "cell_type": "code",
   "execution_count": 22,
   "metadata": {
    "collapsed": false
   },
   "outputs": [
    {
     "name": "stdout",
     "output_type": "stream",
     "text": [
      "Halpha Signal: 5.79599947142e-09 ph / s\n",
      "Background Sky: 0.774957274111 ph / s\n",
      "Halpha Signal: 5.79599947142e-08 ph / s\n",
      "Background Sky: 7.74957274111 ph / s\n",
      "Halpha Signal: 5.79599947142e-08 ph / s\n",
      "Background Sky: 0.774957274111 ph / s\n",
      "Halpha Signal: 5.79599947142e-07 ph / s\n",
      "Background Sky: 7.74957274111 ph / s\n",
      "Halpha Signal: 5.79599947142e-07 ph / s\n",
      "Background Sky: 0.774957274111 ph / s\n",
      "Halpha Signal: 5.79599947142e-06 ph / s\n",
      "Background Sky: 7.74957274111 ph / s\n",
      "Halpha Signal: 5.79599947142e-06 ph / s\n",
      "Background Sky: 0.774957274111 ph / s\n",
      "Halpha Signal: 5.79599947142e-05 ph / s\n",
      "Background Sky: 7.74957274111 ph / s\n",
      "Halpha Signal: 5.79599947142e-05 ph / s\n",
      "Background Sky: 0.774957274111 ph / s\n",
      "Halpha Signal: 0.000579599947142 ph / s\n",
      "Background Sky: 7.74957274111 ph / s\n",
      "mostly with number of pixels: 127551.020408\n"
     ]
    },
    {
     "data": {
      "image/png": "[encoded data removed]",
      "text/plain": [
       "<matplotlib.figure.Figure at 0x126adeed0>"
      ]
     },
     "metadata": {},
     "output_type": "display_data"
    }
   ],
   "source": [
    "plt.figure(figsize=(6,2))\n",
    "\n",
    "numpixel = 1000.0 * 1000.0/(pix_size**2)   # 1000-arcsec-a-side pixels\n",
    "#numpixel = 100.0 * 100.0/(pix_size**2)   # 1000-arcsec-a-side pixels\n",
    "\n",
    "\n",
    "#numpixel = (330.*330.)/(2.8*2.8) \n",
    "\n",
    "filterwidth=filterwidth_5\n",
    "SB_array = [SB_ph_one,SB_ph_two,SB_ph_thr,SB_ph_fou,SB_ph_fiv]\n",
    "area_lens_500 = area_lens * 10.\n",
    "timearray = [time_1_array,time_2_array,time_3_array,time_4_array,time_5_array]\n",
    "symbols = ['k-','k--','k:','k-','k--']\n",
    "colors = ['red','orange','yellow','cyan','purple']\n",
    "for SB_ph,time,symbol,color in zip(SB_array,timearray,symbols,colors):\n",
    "    \n",
    "    ################### 48 lenses\n",
    "    ## Signal\n",
    "    S = SB_ph * QE * tau_l * tau_f * area_lens * ang_size_pixel\n",
    "    signal = S*time*numpixel\n",
    "    ## Noise\n",
    "    B_tot = B * QE * tau_l * tau_f * filterwidth * area_lens.to(u.m**2) * ang_size_pixel.to(u.arcsec**2)\n",
    "    sigma = np.sqrt(signal + B_tot*time*numpixel + D*time*numpixel + R_squared*numpixel)\n",
    "\n",
    "    # Note that the signal is about an eighth the strength of the background sky signal: IS THIS TRUE HERE?\n",
    "    print('Halpha Signal: '+str(S))\n",
    "    print('Background Sky: ' +str(B_tot))\n",
    "\n",
    "    plt.semilogx((time/3600./u.second), (signal/sigma/(u.photon**0.5)),symbol,linewidth=2,color=color)\n",
    "\n",
    "    ################### 480 lenses\n",
    "    ## Signal\n",
    "    S = SB_ph * QE * tau_l * tau_f * area_lens_500 * ang_size_pixel\n",
    "    signal = S*time*numpixel\n",
    "    ## Noise\n",
    "    B_tot = B * QE * tau_l * tau_f * filterwidth * area_lens_500.to(u.m**2) * ang_size_pixel.to(u.arcsec**2)\n",
    "    sigma = np.sqrt(signal + B_tot*time*numpixel + D*time*numpixel + R_squared*numpixel)\n",
    "\n",
    "    print('Halpha Signal: '+str(S))\n",
    "    print('Background Sky: ' +str(B_tot))\n",
    "\n",
    "    plt.semilogx((time/3600./u.second), (signal/sigma/(u.photon**0.5)),symbol,linewidth=1,color ='grey')\n",
    "print('mostly with number of pixels: '+str(numpixel))\n",
    "\n",
    "#numpixel = (330.*330.)/(2.8*2.8) \n",
    "#time = time_3_array\n",
    "#S = SB_ph_thr * QE * tau_l * tau_f * area_lens_500 * ang_size_pixel\n",
    "#signal = S*time*numpixel\n",
    "#B_tot = B * QE * tau_l * tau_f * filterwidth * area_lens_500.to(u.m**2) * ang_size_pixel.to(u.arcsec**2)\n",
    "#sigma = np.sqrt(signal + B_tot*time*numpixel + D*time*numpixel + R_squared*numpixel)\n",
    "#plt.semilogx((time/3600./u.second), (signal/sigma/(u.photon**0.5)),'k-',linewidth=3,color ='yellow')\n",
    "#print('extra line with number of pixels: '+str(numpixel))\n",
    "\n",
    "plt.ylim(0,5)\n",
    "plt.xlim(10**-3,10**9)\n",
    "#plt.xticks([-2,0,2,4,6,8],['10$^{-2}$','10$^{0}$','10$^{2}$','10$^{4}$','10$^{6}$','10$^{8}$'])\n",
    "\n",
    "plt.plot([10**-3,10**9],[5,5],color='gray')\n",
    "plt.xlabel('Integration Time (hours)')\n",
    "plt.ylabel('Signal-to-noise Ratio')\n",
    "plt.savefig('plots/SignalToNoise_Contours_QE_%s_Rsquared_%s_withnumpix_%s_shorter.pdf'%(QE,R_squared.value,numpixel),bbox_inches='tight')"
   ]
  },
  {
   "cell_type": "markdown",
   "metadata": {},
   "source": [
    "Plot with less lines."
   ]
  },
  {
   "cell_type": "code",
   "execution_count": 37,
   "metadata": {
    "collapsed": false
   },
   "outputs": [
    {
     "name": "stdout",
     "output_type": "stream",
     "text": [
      "Halpha Signal: 5.79599947142e-05 ph / s\n",
      "Background Sky: 0.952887598097 ph / s\n",
      "Halpha Signal: 0.000579599947142 ph / s\n",
      "Background Sky: 9.52887598097 ph / s\n",
      "Halpha Signal: 5.79599947142e-07 ph / s\n",
      "Background Sky: 0.952887598097 ph / s\n",
      "Halpha Signal: 5.79599947142e-06 ph / s\n",
      "Background Sky: 9.52887598097 ph / s\n",
      "mostly with number of pixels: 127551.020408\n"
     ]
    },
    {
     "data": {
      "text/plain": [
       "<matplotlib.text.Text at 0x11e5bfb50>"
      ]
     },
     "execution_count": 37,
     "metadata": {},
     "output_type": "execute_result"
    },
    {
     "data": {
      "image/png": "[encoded data removed]",
      "text/plain": [
       "<matplotlib.figure.Figure at 0x1173b2290>"
      ]
     },
     "metadata": {},
     "output_type": "display_data"
    }
   ],
   "source": [
    "plt.figure(figsize=(6,2))\n",
    "\n",
    "numpixel = 1000.0 * 1000.0/(pix_size**2)   # 1000-arcsec-a-side pixels\n",
    "#numpixel = 100.0 * 100.0/(pix_size**2)   # 1000-arcsec-a-side pixels\n",
    "#numpixel = (330.*330.)/(2.8*2.8) \n",
    "\n",
    "filterwidth=filterwidth_5\n",
    "SB_array = [SB_ph_one,SB_ph_two,SB_ph_thr,SB_ph_fou,SB_ph_fiv]\n",
    "area_lens_500 = area_lens * 10.\n",
    "timearray = {SB_ph_one:time_1_array,SB_ph_two:time_2_array,\n",
    "             SB_ph_thr:time_3_array,SB_ph_fou:time_4_array,SB_ph_fiv:time_5_array}\n",
    "symbols = {SB_ph_one:'k-',SB_ph_two:'k--',SB_ph_thr:'k:',SB_ph_fou:'k-',SB_ph_fiv:'k--'}\n",
    "colors = {SB_ph_one:'red',SB_ph_two:'orange',SB_ph_thr:'yellow',SB_ph_fou:'cyan',SB_ph_fiv:'purple'}\n",
    "\n",
    "for SB_ph in [SB_ph_fiv,SB_ph_thr]:\n",
    "    time   = timearray[SB_ph]\n",
    "    symbol = symbols[SB_ph]\n",
    "    color  = colors[SB_ph]\n",
    "    \n",
    "    ################### 48 lenses\n",
    "    ## Signal\n",
    "    S = SB_ph * QE * tau_l * tau_f * area_lens * ang_size_pixel\n",
    "    signal = S*time*numpixel\n",
    "    ## Noise\n",
    "    B_tot = B * QE * tau_l * tau_f * filterwidth * area_lens.to(u.m**2) * ang_size_pixel.to(u.arcsec**2)\n",
    "    sigma = np.sqrt(signal + B_tot*time*numpixel + D*time*numpixel + R_squared*numpixel)\n",
    "\n",
    "    # Note that the signal is about an eighth the strength of the background sky signal: IS THIS TRUE HERE?\n",
    "    print('Halpha Signal: '+str(S))\n",
    "    print('Background Sky: ' +str(B_tot))\n",
    "\n",
    "    plt.semilogx((time/3600./u.second), (signal/sigma/(u.photon**0.5)),symbol,linewidth=2,color=color)\n",
    "\n",
    "    ################### 480 lenses\n",
    "    ## Signal\n",
    "    S = SB_ph * QE * tau_l * tau_f * area_lens_500 * ang_size_pixel\n",
    "    signal = S*time*numpixel\n",
    "    ## Noise\n",
    "    B_tot = B * QE * tau_l * tau_f * filterwidth * area_lens_500.to(u.m**2) * ang_size_pixel.to(u.arcsec**2)\n",
    "    sigma = np.sqrt(signal + B_tot*time*numpixel + D*time*numpixel + R_squared*numpixel)\n",
    "\n",
    "    print('Halpha Signal: '+str(S))\n",
    "    print('Background Sky: ' +str(B_tot))\n",
    "\n",
    "    plt.semilogx((time/3600./u.second), (signal/sigma/(u.photon**0.5)),symbol,linewidth=1,color ='grey')\n",
    "print('mostly with number of pixels: '+str(numpixel))\n",
    "\n",
    "#numpixel = (330.*330.)/(2.8*2.8) \n",
    "#time = time_3_array\n",
    "#S = SB_ph_thr * QE * tau_l * tau_f * area_lens_500 * ang_size_pixel\n",
    "#signal = S*time*numpixel\n",
    "#B_tot = B * QE * tau_l * tau_f * filterwidth * area_lens_500.to(u.m**2) * ang_size_pixel.to(u.arcsec**2)\n",
    "#sigma = np.sqrt(signal + B_tot*time*numpixel + D*time*numpixel + R_squared*numpixel)\n",
    "#plt.semilogx((time/3600./u.second), (signal/sigma/(u.photon**0.5)),'k-',linewidth=3,color ='yellow')\n",
    "#print('extra line with number of pixels: '+str(numpixel))\n",
    "\n",
    "plt.ylim(0,5)\n",
    "plt.xlim(10**-3,10**5)\n",
    "#plt.xticks([-2,0,2,4,6,8],['10$^{-2}$','10$^{0}$','10$^{2}$','10$^{4}$','10$^{6}$','10$^{8}$'])\n",
    "\n",
    "plt.plot([10**-3,10**9],[5,5],color='gray')\n",
    "plt.xlabel('Integration Time (hours)')\n",
    "plt.ylabel('Signal-to-noise Ratio')"
   ]
  },
  {
   "cell_type": "code",
   "execution_count": 19,
   "metadata": {
    "collapsed": true
   },
   "outputs": [],
   "source": [
    "# 1000\" pixel a side:  number of pixels=127551.020408\n",
    "# 100\"  pixel a side:  number of pixels=1275.51020408"
   ]
  },
  {
   "cell_type": "code",
   "execution_count": 35,
   "metadata": {
    "collapsed": false
   },
   "outputs": [
    {
     "name": "stdout",
     "output_type": "stream",
     "text": [
      "[  1.00000000e+00   1.00000010e+07   2.00000010e+07 ...,   2.87999700e+13\n",
      "   2.87999800e+13   2.87999900e+13] s\n",
      "[  1.00000000e+00   1.00001000e+05   2.00001000e+05 ...,   3.59999700e+11\n",
      "   3.59999800e+11   3.59999900e+11] s\n"
     ]
    }
   ],
   "source": [
    "SB_array = [SB_ph_one,SB_ph_two,SB_ph_thr,SB_ph_fou,SB_ph_fiv]\n",
    "area_lens_500 = area_lens * 10.\n",
    "timearray = {SB_ph_one:time_1_array,SB_ph_two:time_2_array,\n",
    "             SB_ph_thr:time_3_array,SB_ph_fou:time_4_array,SB_ph_fiv:time_5_array}\n",
    "symbols = {SB_ph_one:'k-',SB_ph_two:'k--',SB_ph_thr:'k:',SB_ph_fou:'k-',SB_ph_fiv:'k--'}\n",
    "colors = {SB_ph_one:'red',SB_ph_two:'orange',SB_ph_thr:'yellow',SB_ph_fou:'cyan',SB_ph_fiv:'purple'}\n",
    "time   = timearray[SB_ph_two]\n",
    "print time\n",
    "print time_3_array"
   ]
  },
  {
   "cell_type": "code",
   "execution_count": null,
   "metadata": {
    "collapsed": true
   },
   "outputs": [],
   "source": []
  }
 ],
 "metadata": {
  "kernelspec": {
   "display_name": "Python 2",
   "language": "python",
   "name": "python2"
  },
  "language_info": {
   "codemirror_mode": {
    "name": "ipython",
    "version": 2
   },
   "file_extension": ".py",
   "mimetype": "text/x-python",
   "name": "python",
   "nbconvert_exporter": "python",
   "pygments_lexer": "ipython2",
   "version": "2.7.13"
  }
 },
 "nbformat": 4,
 "nbformat_minor": 2
}
