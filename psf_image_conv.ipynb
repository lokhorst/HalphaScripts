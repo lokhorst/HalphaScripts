{
 "cells": [
  {
   "cell_type": "markdown",
   "metadata": {},
   "source": [
    "Created on Thu Feb  2 14:12:22 2017\n",
    "\n",
    "@author: wijers\n",
    "\n",
    "takes a .npz box (region) projection from make_maps, convolves with a PSF, \n",
    "selects a region if needed\n",
    "\n",
    "input: \n",
    " - 2D array repesenting emission\n",
    " - angle subtended by an image pixel\n",
    " - centre on chip (pixel coordinates)\n",
    " - angle of chip long axis wrt image x-axis (radians)\n",
    "output:\n",
    " - photon counts or ergs per second (as in input file) per pixel"
   ]
  },
  {
   "cell_type": "code",
   "execution_count": 1,
   "metadata": {
    "collapsed": true
   },
   "outputs": [],
   "source": [
    "import numpy as np\n",
    "import astropy as asp\n",
    "import astropy.convolution as cnv\n",
    "import os.path\n",
    "\n",
    "import eagle_constants_and_units as cons\n",
    "#import loadnpz_and_plot as lnp\n",
    "from cosmo_utils import comoving_distance_cm # loading all of make_maps means the entire read_eagle machinary too \n",
    "\n",
    "# working units: cgs, radians\n",
    "\n",
    "radians = 1.\n",
    "degrees = np.pi/180.\n",
    "arcmin = 1./60. * degrees \n",
    "arcsec = 1./3600. * degrees\n",
    "\n",
    "g = 1.\n",
    "kg = 10.**3 * g\n",
    "\n",
    "s = 1.\n",
    "Hz = 1/s\n",
    "\n",
    "cm = 1.\n",
    "nm = 10.**-7 * cm\n",
    "mum = 10**-4 * cm\n",
    "\n",
    "erg = 1.\n",
    "\n",
    "Jy = 10**-23 * erg/(s*cm**2) *1/Hz  \n",
    "\n"
   ]
  },
  {
   "cell_type": "code",
   "execution_count": 2,
   "metadata": {
    "collapsed": true
   },
   "outputs": [],
   "source": [
    "# Dragonfly CCD data (current)\n",
    "data_version = 1\n",
    "saved_kernels = 'dragonfly_kernels_dataversion%s' %str(data_version)\n",
    "saved_abr_fftkernels = 'dragonfly_abr_fftkernels_dataversion%s' %str(data_version)\n",
    "\n",
    "FOV = (2.6*degrees, 1.9*degrees)\n",
    "numpix_dr = (3326,2504)\n",
    "pix_size_phys = 5.4 *mum\n",
    "pix_size_angle = 2.8 * arcsec\n",
    "seeing_limit = 1.5*arcsec #typically 1.5--2.0 in long exposures according to the dragonfly paper\n",
    "\n",
    "def diffraction_limit(wavelength):\n",
    "    return 0.65*arcsec * wavelength/(450.*nm)\n",
    "def airy_size(wavelength): #3.1 mum diamater of Airy disc; used as distance to first Airy zero\n",
    "    return 3.1*mum/2. * wavelength/(450.*nm)\n",
    "\n",
    "wavelengths = {'halpha': 656.28*nm}\n",
    "\n",
    "def SB_photonscgs_to_ABmagarcsec(sb):\n",
    "    fld = sb * cons.planck * (4*np.pi)/3600**2 # flux density: energy / (m**2 s)  /frequency (/arcmin**2)  sufrace brightness: photons / (cm**2 s) /sr       \n",
    "    return -2.5*np.log10(fld/(3631.*Jy))\n"
   ]
  },
  {
   "cell_type": "code",
   "execution_count": null,
   "metadata": {
    "collapsed": true
   },
   "outputs": [],
   "source": []
  }
 ],
 "metadata": {
  "kernelspec": {
   "display_name": "Python 2",
   "language": "python",
   "name": "python2"
  },
  "language_info": {
   "codemirror_mode": {
    "name": "ipython",
    "version": 2
   },
   "file_extension": ".py",
   "mimetype": "text/x-python",
   "name": "python",
   "nbconvert_exporter": "python",
   "pygments_lexer": "ipython2",
   "version": "2.7.13"
  }
 },
 "nbformat": 4,
 "nbformat_minor": 2
}
