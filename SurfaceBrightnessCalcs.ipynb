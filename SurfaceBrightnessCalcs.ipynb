{
 "cells": [
  {
   "cell_type": "markdown",
   "metadata": {},
   "source": [
    "# H-$\\alpha$ Emission from the Intergalactic Medium\n",
    "\n",
    "## Intro\n",
    "\n",
    "In $\\Lambda$CDM cosmology, dark matter and dark energy dominate the mass-energy budget of the universe, with \"normal\" matter following the gravitational pull of the much more plentiful dark matter.  The baryons in the potential wells of the densest dark matter haloes formed galaxies and galaxy clusters.  Most of the matter, though, remained in the intergalactic medium (IGM), the space in between galaxies.  This is true up to the present day, with only $\\sim$ 10 -- 20 $\\%$ of baryons found in galaxies and galaxy clusters, and the rest in the diffuse IGM (e.g. mcqu2015, danf16).\n",
    "\n",
    "Galaxies have been extensively investigated and spatially mapped across the sky, tracing out the underlying dark matter distribution.  Unlike galaxies, though, the IGM is weakly biased with respect to dark matter, and flows along the \"cosmic web\" (Bertone et al 2012).  Mapping out the IGM could thus provide a powerful tool for astrophysical cosmology.\n",
    "\n",
    "The gas in the IGM can be injected with energy by gravity, by galactic winds (stellar, supernova, and active galactic nuclei), and by cosmic rays.  The gas then cools and emits radiation both through continuum and line emission.\n",
    "The emission produced by the cooling of diffuse gas is very low surface brightness, though, and, as such, difficult to observe.  The IGM has been more effectively studied through absorption features, such as the Ly-$\\alpha$ absorption lines in spectra of background sources (e.g. Danforth et al 2015).  This measures the IGM where it intersects with these background sources, so is not a spatially continuous along the IGM. \n",
    "\n",
    "There have been a few studies investigating line emission from the intermediate/high redshift IGM.\n",
    "For example, Bertone et al (2012) used cosmological simulations at redshifts z = 2 - 5 to calculate the energy emitted in diffuse gas of the IGM via the cooling processes of several elements with emission lines in the rest-frame UV, which would be redshifted into the optical in the rest-frame of the Earth.  They used emissivities calculated using the CLOUDY (Ferland et al 1998) emission code as a function of temperature, H number density, and redshift (since the UV and CMB background photo-ionizing the IGM evolve with redshift).  Bertone et al (2012) proceeded to use these emissivities to find the luminosities of each of the particles in their simulations, then projected the corresponding particle fluxes onto a 2D grid in order to find an estimate of the surface brightness (SB) across the simulation box.  These lines included HI Ly-$\\alpha$ and He II H$\\alpha$, as well as transition lines of carbon, nitrogen, oxygen, neon, and silicon.  Bertone et al (2012) mapped out the densities, temperatures and metallicities of the IGM, as well as the surface brightness, in 25 /h Mpc slices of their simulation boxes. \n",
    "\n",
    "The Cosmic Web Imager has attempted to image the IGM at redshifts within the same range, using line emission redshifted from rest-frame UV into the optical.  If we look at the same line emission in the local universe it will be significantly brighter (since surface brightness in an expanding universe decreases by (1 + z)$^{-4}$), but the emission will remain in the UV.  Space telescopes could image in the UV (e.g. Messier), but without going to space, we could instead look at rest-frame optical emission lines.  One such prominent line is HI H$\\alpha$.\n",
    "\n",
    "Bertone et al (2013) used large, hydrodynamical simulations to calculate the emissivity of the diffuse gas of the IGM at redshifts of z = 0 and z = 2, and found that the greatest energy is emitted in the ultraviolet (UV) by the Lyman series lines of hydrogen and metal lines, with some energy emitted via HI H$\\alpha$.  Using emissivities calculated via CLOUDY (Ferland et al 1998) and the density and mass of particles in their simulations, they calculated the total emitted energy, as well as the total emitted energy in each emission line they considered.\n",
    "\n",
    "Simulations of the IGM in intermediate redshift (z = 2 -- 5) have been quite successful at reproducing the observed column densities of HI.   At local redshift, though, when one adds together the baryons contained in galaxies and those measured via the Lyman-$\\alpha$ forest, the majority of baryons are not accounted for.  In fact, only $\\sim$5$\\%$ of the gas that should have funneled onto galaxies has done so and formed stars \\citep{mcqu2015}.  Unless simulations have made some errors in high redshift estimates of baryon content, there is a large amount of low redshift baryons that are missing \\citep{bert08}.  The interplay between gas in the intracluster medium and the circumgalactic medium (both of which contain dense gas, gravitationally bound to galaxies and galaxy systems) and the non-gravitationally bound, low-density IGM is essential to understand this \"missing baryon problem\".    The IGM provides material for star formation in the galaxies, and in turn is enriched by outflows driven by supernovae, radiation pressure, and active galactic nuclei winds \\citep[][ and references within]{danf16}.  In order to understand the galactic feedback that is preventing the accumulation of gas onto the galaxies, we need to study the IGM at low redshift.\n",
    "\n",
    "At local redshift, the H-Lyman series lines fall in the UV and as such require a space telescope \\citep{mcqu2015}.  To observe emission from the IGM at local redshift from the ground would require observing the fainter lines in the optical (such as the H-Balmer series lines), and an extremely low surface brightness imaging telescope.  The Dragonfly Telephoto Array\\footnote{\\citet{abra14}} is a telescope designed for low surface brightness imaging, and has reached low surface brightness measurements of 32 mag/arcsec$^2$ \\citep{vand14}.  Even though we would be restricted to observing in the optical and miss out on the bright UV radiation, could it observe the cooling emission from the IGM?\n",
    "\n",
    "## The plan\n",
    "\n",
    "My goal is to estimate the surface brightness of the IGM in H-$\\alpha$ line emission at redshift z = 0.\n",
    "\n",
    "This script calculates the approximate energy emitted through cooling radiation and an estimate of its surface brightness, with data taken from the simulations of Bertone, Schaye+ (2012/2013/2010).  The data we need to determine from these simulations to obtain an estimate of the emitted energy is listed below:\n",
    "\n",
    "1. estimate an approximate temperature of the IGM (depends on redshift?)\n",
    "2. estimate an approximate H number density for the IGM (depends on redshift?)\n",
    "3. estimate the emissivity, $\\epsilon$, of the specified line (depends on 1. and 2.)\n",
    "4. estimate the volume, $V$, of the emitter (i.e. the size of an IG filament) \n",
    "\n",
    "The approximate luminosity of the emitter is $L = \\epsilon * V$ erg / s.\n",
    "\n",
    "The flux of the emitter is found via: $F = \\frac{L}{4\\pi D_{L}^{2}} \\frac{\\lambda(1 + z)}{h_P c}$ photons / cm$^2$ / s, where $h_P$ is Planck's constant, D$_L$ is the luminosity distance of the emitter, and c is the speed of light.\n",
    "\n",
    "Finally, the surface brightness is found by dividing the flux by the solid angle subtended by the emitter, i.e. $SB = \\frac{F}{\\Omega}$ where $\\Omega = \\frac{V^{2/3}}{D_{A}^2}$.\n",
    "\n",
    "The luminosity distance for an EdS cosmology is given by: $D_L = \\frac{2c}{H_0}(1+z)[1 - \\frac{1}{\\sqrt{1 + z}}]$ where H$_0$ = 100 h km/s /Mpc is the Hubble constant.  The angular diameter distance is: $D_A = \\frac{2c}{H_0}\\frac{1}{(1+z)}[1 - \\frac{1}{\\sqrt{1 + z}}]$.  This means that $SB = \\frac{L}{4\\pi}\\frac{\\lambda(1 + z)}{h_P c}\\frac{1}{V^{2/3}(1 + z)^4}$ photons / cm$^{2}$ / s / sr.\n",
    "\n",
    "First, to double check that this method works, I will attempt to reproduce the surface brightnesses obtained in Bertone+ (2012), who calculated the SB of the IGM from emission lines, including Ly$\\alpha$.  I will use the emissivities, typical temperature and H number density from this simulation to calculate the surface brightness of a typical patch in their simulation, and compare this to the surface brightness that they calculated.\n",
    "\n",
    "If this check comes through, then I can pick the correct temperature and density at local redshift for H$\\alpha$ emitting regions and use the same process to determine an estimate of the SB of H$\\alpha$ emission."
   ]
  },
  {
   "cell_type": "markdown",
   "metadata": {},
   "source": [
    "## Loading the constants\n",
    "\n",
    "First, I load some general constants.  These correspond to the cosmology used by the Bertone+ (2010,2012,2013) simulations."
   ]
  },
  {
   "cell_type": "code",
   "execution_count": 3,
   "metadata": {
    "collapsed": false
   },
   "outputs": [],
   "source": [
    "%matplotlib inline\n",
    "\n",
    "import numpy as np\n",
    "import matplotlib.pyplot as plt\n",
    "from astropy import constants as const\n",
    "from astropy import units as u \n",
    "\n",
    "# load constants\n",
    "c = 3e8            # speed of light m/s\n",
    "hp = 6.626e-27     # planck's constant erg s\n",
    "H_0 = 100.         # hubble's constant /h km/s/Mpc\n",
    "h = 0.73"
   ]
  },
  {
   "cell_type": "markdown",
   "metadata": {},
   "source": [
    "I then wrote a few functions containing constants for different emission line calculations.  My options are Ly$\\alpha$ or Ly$\\alpha$ self-shielded (SS) at redshift z = 2, with emissivity values taken from Bertone+ (2012), or Ly$\\alpha$ energy estimates at z = 2 taken from Bertone+ (2012,2013).  The SS case takes into account possible self-shielding of the gas, and ignores all emission from gas with H number density n$_H < 10^{-3}$ cm$^{-2}$, which significantly decreases the energy emitted and surface brightness of Ly$\\alpha$. \n",
    "\n",
    "Finally, the last option is H$\\alpha$ at local redshift, with values taken from Bertone+ (2010,2013)."
   ]
  },
  {
   "cell_type": "markdown",
   "metadata": {},
   "source": [
    "### Ly$\\alpha$ emission (Bertone+ 2012)\n",
    "\n",
    "In this section, I load values associated with Ly$\\alpha$ emission at redshift z = 2.  The temperature, emissivities, densities, and the length scale of the filament are taken from Bertone+ (2012).\n",
    "\n",
    "1. Temperature:  Take temperature of logT ~ 6.  LogT ~ 6 is typical for the spatially large, highest SB parts of the simulation (determined from the density map of Fig 4 and the SB map of Fig 2), logT ~ 4,5 is typical at small, dense locations within the filaments, which also correspond with locations of high SB.\n",
    "2. $n_H$:  Take $log n_H \\approx 10^{-3}$, which is the number density for which Bertone+ (2012) have plotted the emissivities.  Other option is to take a typical density from the density map in Fig 4 of Bertone+ (2012).\n",
    "3. Emissivity:  Pick the emissivity at logT ~ 6, $\\epsilon/n_H^2 \\approx 10^{-25}$, from emissivity plot of Bertone+ (2012).  An alternate option is to pick emissivity at logT ~ 4 - 5, $\\epsilon/n_H^2 \\approx 10^{-23.6}$.\n",
    "4. Volume:  To create the surface brightness maps, Bertone+ (2012) used a slice thickness of W ~ 25 Mpc and stacked up the surface brightness across this slice.  The length scale of the filaments is approximated from Fig 4 in Bertone+ (2012), L ~ 0.5 Mpc.  The volume V = W * L$^2$.  Bertone+ (2012) themselves acknowledge that \"the probability distribution function of the pixel flux is proportional to the slice thickness...the PDF can thus easily be scaled to a different slice thickness\".\n",
    "\n",
    "Since I am considering Ly$\\alpha$, I set the wavelength to $\\lambda = 121.6 nm$."
   ]
  },
  {
   "cell_type": "code",
   "execution_count": 4,
   "metadata": {
    "collapsed": true
   },
   "outputs": [],
   "source": [
    "def Lyalpha():\n",
    "    # load values that agree with Ly-alpha emission at redshift 2 (from B&S 2012)\n",
    "    n_H = 10**-3             # H density, assumed this at first\n",
    "    #n_H = 5*10**-4.6          # popular density from the density map of Fig 4 B&S 2012\n",
    "    #emis = 10**-23.6 * n_H**2 # emissivity erg / s/ cm^3 (at temp logT ~ 4,5)\n",
    "    emis = 10**-25 * n_H**2  # emissivity erg/s/cm^3 (at temp logT ~ 6)\n",
    "    z = 2                    # redshift\n",
    "    wavlen = 121.6e-9        # wavlength of line  m\n",
    "    W = 25.                   # slice width from maps, length scale Mpc\n",
    "    L = 0.5                   # filament width from maps\n",
    "    vol = W*L**2               # volume  Mpc^3\n",
    "    print('Doing Ly-alpha...')\n",
    "    return [emis,z,wavlen,W,L,vol]"
   ]
  },
  {
   "cell_type": "markdown",
   "metadata": {},
   "source": [
    "### Ly$\\alpha$ SS emission (Bertone+ 2012)\n",
    "\n",
    "In this section, we load values associated with Ly$\\alpha$ self-shielded emission at redshift z = 2.  The temperature, emissivities, densities, and the length scale of the filament are taken from Bertone+ (2012).\n",
    "\n",
    "This is an additional check on top of the Ly$\\alpha$ case, and the end result surface brightness can be compared with Bertone+ (2012), who have done calculations for the self-shielded case (see Fig 2).\n",
    "\n",
    "1. Temperature:  same as above.\n",
    "2. $n_H$:  Since we are not included $log n_H \\approx 10^{-3}$, which is the number density for which Bertone+ (2012) have plotted the emissivities, we take a typical density from the density map in Fig 4 of Bertone+ (2012), $log n_H \\approx 10^{-4.6}$.\n",
    "3. Emissivity:  same as above.\n",
    "4. Volume:  same as above.\n",
    "\n",
    "Since we are considering Ly$\\alpha$, we set the wavelength to $\\lambda = 121.6 nm$."
   ]
  },
  {
   "cell_type": "code",
   "execution_count": 5,
   "metadata": {
    "collapsed": true
   },
   "outputs": [],
   "source": [
    "def LyalphaSS():\n",
    "    # load values that agree with Ly-alpha emission at redshift 2 (from B&S 2012)\n",
    "    n_H = 5*10**-4.6         # taken as a popular density from the density map of Fig 4 B&S 2012\n",
    "    emis = 10**-25 * n_H**2  # emissivity erg/s/cm^3 (at temp logT ~ 6)\n",
    "    #emis = 10**-23.6 * n_H**2 # emissivity erg / s/ cm^3 (at temp logT ~ 4,5)\n",
    "    z = 2                    # redshift\n",
    "    wavlen = 121.6e-9        # wavlength of line  m\n",
    "    W = 25.                  # width slice Mpc\n",
    "    L = .5                   # length scale Mpc\n",
    "    vol = W*L**2             # volume  Mpc^3\n",
    "    print('Doing Ly-alphaSS...')\n",
    "    return [emis,z,wavlen,W,L,vol]"
   ]
  },
  {
   "cell_type": "markdown",
   "metadata": {},
   "source": [
    "### Ly$\\alpha$ emission from average energy (Bertone+ 2013)\n",
    "\n",
    "This section has not been completed.\n",
    "\n",
    "In Bertone+ (2013), they calculate the fractions of the total energy emitted from each individual line, but do not seperate this based on density or spatial location.  This makes it difficult, because it is average energy over their entire simulation.  The results at redshift z = 2 should be directly calcuable from the emissivities etc. of Bertone+ (2012) at redshift z = 2, so in this section I attempt to estimate the total energy emitted from a particular line, using the total energy averaged over all diffuse gas (all temps, all densities) and relate this to the fraction of total energy averaged over all diffuse gas (at temp logT ~ 3, all densities).\n",
    "\n",
    "This gives me a result that is off by one or two mags, and I haven't had a chance to work out what I'm missing yet, so I've left this to do later if I have time.  It is not necessary for the rest of the calculations."
   ]
  },
  {
   "cell_type": "code",
   "execution_count": 6,
   "metadata": {
    "collapsed": true
   },
   "outputs": [],
   "source": [
    "def LyalphaE():   # do later if you want\n",
    "    # calculate Ly-alpha emission at redshift 2 from BS2013 energy estimates and compare to Lyalpha from BS2012\n",
    "  #  emis = 10**-25*10**-6\n",
    "  #           # emissivity erg/s/cm^3 (at temp logT ~ 6) Took ly-alpha emis (since didn't calculation H-alpha) \n",
    "  #           # and used the energy fraction from Table B1 to approximate the emis of H-alpha\n",
    "  #  z = 0                    # redshift\n",
    "  #  wavlen = 656.3e-9        # wavlength of line  m  Which line should I use?  What fraction is \"energy\"? (photons vs ergs)\n",
    "  #  L = 0.5                  # length scale Mpc (from Bertone et al (2010b))\n",
    "  #  vol = L**3               # volume  Mpc^3    \n",
    "    totalE0 = 10**40.2       # Etot of H emission at z = 0 (all densities, all temp), erg / s/ Mpc^3\n",
    "    fracE0  = 10**-0.9       # frac of emission (all densities, at temp logT ~ 3)\n",
    "    totalE2 = 10**40.65      # Etot of H emission at z = 2 (all densities, all temp), erg / s/ Mpc^3\n",
    "    fracE2  = 10**-0.75      # frac of emission (all densities, at temp logT ~ 3)\n",
    "    z = 2                    # redshift\n",
    "    wavlen = 121.6e-9        # wavlength of line  m\n",
    "    L = .5                   # length scale Mpc\n",
    "    vol = L**3               # volume  Mpc^3\n",
    "    print('Doing Ly-alpha energy way...')\n",
    "    return [totalE0, fracE0,totalE2,fracE2,z,wavlen,L,vol]"
   ]
  },
  {
   "cell_type": "markdown",
   "metadata": {},
   "source": [
    "###H$\\alpha$ emission (Bertone+ 2013)\n",
    "\n",
    "In this section, we load values associated with H$\\alpha$ emission at redshift z = 0.  The temperature, emissivities, densities, and the length scale of the filament are taken from Bertone+ (2010).\n",
    "\n",
    "1. Temperature:  Take temperature T $\\sim 10^3$ K, which is the temperature at which H$\\alpha$ emits the largest fraction of total energy (Table B1 and Fig 11 of Bertone+ 2013).  Other options, would be to take from Fig 4 of Bertone+ (2010), where it looks like main filaments are at logT ~ 6, and similarily to the earlier redshift, the smaller scale denser bits in the filaments are lower temp (logT ~ 3).\n",
    "\n",
    "2. $n_H$:  Take $log n_H \\approx 10^{-3}$ cm$^{-3}$, which is the number density for which Bertone+ (2013) have plotted the emissivities.  Other option is to take a typical density from the density map in Fig 4 of Bertone+ (2010).  Since there is a large range of potential number densities (three orders of mag), in this case I created an array to hold values from a probable minimum to a probable maximum value of n$_H$.  These directly correspond to the n$_H$ explored by Bertone+ (2010) in their density maps in Fig 4.\n",
    "\n",
    "3. Emissivity:  From emissivity plots of Bertone+ (2013), estimate that the emissivity of Ly$\\alpha$ at logT ~ 3 is $\\epsilon/n_H^2 \\approx 10^{-23}$ erg s cm$^3$ (and at logT ~ 6, $\\epsilon/n_H^2 \\approx 10^{-25}$ erg s cm$^3$).  These simulations have not given the emissivity of H$\\alpha$ directly, so instead, I approximate the emissivity by using the total energy fraction emitted by Ly$\\alpha$ and by H$\\alpha$, which are given in Table B1 of Bertone+ (2013).  The total energy fraction averaged over the entire simulation emitted by Ly$\\alpha$ is 11.26 and by H$\\alpha$ is 0.66.  I take the emissivity of Ly$\\alpha$ and multiply it by the ratio of these two fractions to get an approx emissivity for H$\\alpha$.  Should note that Bertone+ (2010/2012/2013) did not plot the emissivity as a function of number density for Ly$\\alpha$ or H$\\alpha$, so we don't have a way to know whether or not the emissivity would increase or decrease at lower number density.  In Bertone+ (2010), they do plot emissivities at log n$_H$ = -1, -3, and -6, for emission lines of O, Si, and C.  They find the emissivities do change by about an order of magnitude, but for different lines they increase and decrease, so it's difficult to predict what change would occur for \n",
    "Ly$\\alpha$ or H$\\alpha$.\n",
    "\n",
    "4. Volume:  The length scale of the filaments is approximated from Fig 4 in Bertone+ (2010), L ~ 0.5 Mpc.\n",
    "\n",
    "Since we are considering H$\\alpha$, we set the wavelength to $\\lambda = 656.3 nm$."
   ]
  },
  {
   "cell_type": "code",
   "execution_count": 12,
   "metadata": {
    "collapsed": true
   },
   "outputs": [],
   "source": [
    "def Halpha():\n",
    "    ## Number density /cm^3.  Load values that agree with H-alpha emission at redshift 0 (from )\n",
    "    #n_H = 4*10**-5.7         # taken as a popular density from the density map of Fig 4 B&S 2010   log(rho/rhom)~1.3\n",
    "    n_H = 4*10**-5           # taken as a popular density from the density map of Fig 4 B&S 2010   log(rho/rhom)~2\n",
    "    #n_H = 4*10**-4           # taken as a popular density from the density map of Fig 4 B&S 2010   log(rho/rhom)~3\n",
    "    #n_H = 10**-3             # used for small dense filaments\n",
    "    n_Harray = 4*10**-7 * 10**np.arange(0,3.1,0.1)   # number density ranging from 4*10^-7 to 4*10^-4\n",
    "    n_Harray = 4*10**-7 * 10**np.arange(0,4.1,0.1)   # number density ranging from 4*10^-7 to 4*10^-4\n",
    "\n",
    "    n_Hplot = 4*10**-7 * 10**np.array([1.5,1.5,3.5])  # dot-dash, dash, solid\n",
    "    n_Hplot = 4*10**-7 * 10**np.array([2.0,1.5,3.5,2.0])  # dot-dash, dash, solid, red ; AVERAGE within the boxes\n",
    "\n",
    "\n",
    "    ## Emissivity erg/s/cm^3. Took ly-alpha emis (since didn't calculation H-alpha) \n",
    "    ## and used the energy fraction from Table B1 to approximate the emis of H-alpha\n",
    "    emis_T6 = 0.66/11.26 * 10**-25 * n_Harray**2    # at temp logT ~ 6\n",
    "    emis_T3 = 0.66/11.26 * 10**-23 * n_Harray**2      # at temp logT ~ 3\n",
    "    emis_T3_single = 0.66/11.26 * 10**-23 * n_H**2             # at temp logT ~ 3\n",
    "    emis_T6_single = 0.66/11.26 * 10**-25 * n_H**2             # at temp logT ~ 6\n",
    "    \n",
    "    emis_plot = 0.66/11.26 * 10**np.array([-25,-23,-23,-23]) * n_Hplot**2   # dot-dash, dash, solid\n",
    "    emis_plot = 0.66/11.26 * np.array([10**-25*n_Hplot[0]**2,10**-23*n_Hplot[1]**2,10**-23*n_Hplot[2]**2,10**-23*n_Hplot[3]**2])\n",
    "\n",
    "  #  emis_plot1 = 0.66/11.26 * np.array([10**-25*n_Hplot[0]**2])\n",
    "  #  emis_plot2 = 0.66/11.26 * np.array([10**-23*n_Hplot[1]**2])\n",
    "  #  emis_plot3 = 0.66/11.26 * np.array([10**-23*n_Hplot[2]**2])\n",
    "\n",
    "    \n",
    "    z = 0                    # redshift\n",
    "    wavlen = 656.3e-9        # wavlength of line m  Which line should I use?  What fraction is \"energy\"? --> ergs, so use Halpha \n",
    "    L = 1.                   # length scale Mpc (from Bertone et al (2010b))\n",
    "    vol = L**3               # volume  Mpc^3 \n",
    "    L_6 = 2.\n",
    "    L_3 = 0.5\n",
    "    vol_6 = L_6**3\n",
    "    vol_3 = L_3**3\n",
    "    \n",
    "    L_plot = np.array([1.,0.5,0.15,0.5])   # dot-dash, dash, solid\n",
    "    vol_plot = L_plot**3\n",
    "    \n",
    "    print('Doing H-alpha...')\n",
    "    # return:  emissivity, redshift, wavelength, length scale, volume\n",
    "    return [emis_T3,emis_T3_single,emis_T6,emis_T6_single,z,wavlen,L_3,L_6,vol_3,vol_6,emis_plot,L_plot,vol_plot]"
   ]
  },
  {
   "cell_type": "markdown",
   "metadata": {},
   "source": [
    "## Emission Calculation\n",
    "\n",
    "### Ly$\\alpha$ check\n",
    "\n",
    "To first check that this calculation is consistent with the simulations themselves, I'll use the Ly$\\alpha$ values which were taken from the Bertone+ (2012) paper and use these to calculate surface brightness.  Then I can compare this to the surface brightness they calculate in their paper and make sure they agree.\n",
    "\n",
    "Now that we've collected the data from the simulation papers, we can calculate several important values to keep in mind.  These include the cosmic mean density, $\\rho_{mean}$, and the luminosity distance, $D_L$, which are functions of redshift (at local redshift, I just picked a random distance of 15 Mpc for the luminosity distance since cosmological effects are small). \n",
    "\n",
    "The solid angle subtending the selected area is also calculated, which is the area of the emitter divided by the angular diameter distance squared.\n",
    "\n",
    "The added cosmological effects result in the (1 + z)$^{-4}$ decrease in surface brightness as a function of redshift."
   ]
  },
  {
   "cell_type": "code",
   "execution_count": 8,
   "metadata": {
    "collapsed": false
   },
   "outputs": [
    {
     "name": "stdout",
     "output_type": "stream",
     "text": [
      "Doing Ly-alpha...\n"
     ]
    }
   ],
   "source": [
    "# Call the function with the constants we want, in this case, we want to load the Ly-alpha values.\n",
    "[emis,z,wavlen,W,L,vol] = Lyalpha()\n",
    "\n",
    "# cosmic mean density\n",
    "rho_mean = 5.1*10**-6*((1+z)/3)**3\n",
    "\n",
    "# calculate the luminosity and angular diameter distances (equation from cosmology notes, for EdS universe)\n",
    "if z == 0: \n",
    "    DL = 15. #Mpc\n",
    "    DA = 15.\n",
    "else:\n",
    "    DL = 2*c*h*10**-3/H_0 * (1.+z) * (1. - 1/np.sqrt(1.+z))  # Mpc\n",
    "    DA = 2*c*h*10**-3/H_0 / (1.+z) * (1. - 1/np.sqrt(1.+z))  # Mpc\n",
    "\n",
    "# approx angular size of the emitter (use to calculate the surface brightness)\n",
    "solidangle = L**2/DA**2\n",
    "\n",
    "DA = 2*c*h*10**-3/H_0 / (1.+z) * (1. - 1/np.sqrt(1.+z))"
   ]
  },
  {
   "cell_type": "markdown",
   "metadata": {},
   "source": [
    "The luminosity and surface brightness calculations follow.  The units are listed after each calculation to keep track of conversions.\n",
    "\n",
    "To reflect the fact that there is a large range of $n_H$ we can choose for these calculations, the surface brightness is plotted as a function of normalized density, $log \\rho/\\rho_{mean}$.  The minimum and maximum densities correspond to $n_H \\approx 10^{-6}$ and $10^{-3}$, respectively (see Bertone et al 2010), which are typical values in the IGM."
   ]
  },
  {
   "cell_type": "code",
   "execution_count": 9,
   "metadata": {
    "collapsed": false
   },
   "outputs": [
    {
     "name": "stdout",
     "output_type": "stream",
     "text": [
      "(6.2500000000000005e-31, 0.00091740703617636959, 1397.2977605039089)\n"
     ]
    }
   ],
   "source": [
    "lum = emis * vol         # erg / s / cm^s * Mpc^3\n",
    "flux = lum / (4.*np.pi*DL**2) * wavlen * (1+z)/(hp*c) * 3.1e24    # photon / cm^2 / s\n",
    "#      erg Mpc^3 / cm^3 / s / Mpc^2 * m / (erg s m/s) * cm / Mpc = photon  / cm^2  / s\n",
    "SB = flux/solidangle     # photon / cm^2 / s / sr\n",
    "\n",
    "print(lum, flux, SB)"
   ]
  },
  {
   "cell_type": "markdown",
   "metadata": {},
   "source": [
    "This gives a surface brightness of the order 10$^3$, which is consistent with the highest surface brightness in the surface brightness maps of Bertone+ (2012).\n",
    "\n",
    "We would also like to consider the Dragonfly telescope and figure out the number of photons we'd expect to observe per pixel.  To make this calculation, we multiply the surface brightness by the aperture area of Dragonfly and the angular size corresponding to one pixel of the Dragonfly CCD."
   ]
  },
  {
   "cell_type": "code",
   "execution_count": 10,
   "metadata": {
    "collapsed": false
   },
   "outputs": [
    {
     "name": "stdout",
     "output_type": "stream",
     "text": [
      "The number of photons per FOV per sec: 337.701199628\n",
      "The number of photons per pixel per sec: 4.13538453906e-05\n"
     ]
    }
   ],
   "source": [
    "# Calculate the total number of photons incident on one of the lenses\n",
    "# The aperture size:\n",
    "area_lens = np.pi*(14.3/2)**2\n",
    "#SB=20000\n",
    "\n",
    "# Conversion factor between arsec and Mpc\n",
    "arcsecPerMpc = (22.4 * 60.) / (25/h)\n",
    "\n",
    "# Angular sizes that can be used (the angular size of the emitter, the angular size of the field of view of \n",
    "# the telescope, and the angular size of one pixel)\n",
    "#ang_size_sim  = L**2 * (arcsecPerMpc)**2 * (1./206265.)**2  # rad^2 = sr, the angular area corresponding to 1 Mpc^2 area\n",
    "ang_size_FOV  = 2.6 * 1.9 * (np.pi/180.)**2  # rad^2 = sr , the FOV of the telescope\n",
    "ang_size_pixel  = (2.8 * (1./206265.))**2   # rad^2, the pixel size of the telescope\n",
    "\n",
    "print('The number of photons per FOV per sec: '+str(SB * area_lens * ang_size_FOV))\n",
    "print('The number of photons per pixel per sec: '+str(SB * area_lens * ang_size_pixel))"
   ]
  },
  {
   "cell_type": "markdown",
   "metadata": {},
   "source": [
    "The end result is that one can expect 0.00004 Ly$\\alpha$ photons/pixel/second incident on one Dragonfly lens.  These would be Ly$\\alpha$ photons redshifted up into the optical: arriving from redshift z = 2, they would be detected at $\\sim$ 363 nm."
   ]
  },
  {
   "cell_type": "markdown",
   "metadata": {},
   "source": [
    "### H$\\alpha$ calculation\n",
    "\n",
    "Now, I repeat the above calculations, but this time calling values from the H-$\\alpha$ function.\n",
    "\n"
   ]
  },
  {
   "cell_type": "code",
   "execution_count": 14,
   "metadata": {
    "collapsed": false
   },
   "outputs": [
    {
     "name": "stdout",
     "output_type": "stream",
     "text": [
      "Doing H-alpha...\n"
     ]
    }
   ],
   "source": [
    "# Call the function with the constants we want, now we want to load the H-alpha values.\n",
    "[emis_T3,emis_T3_single,emis_T6,emis_T6_single,z,wavlen,L_3,L_6,vol_3,vol_6,emis_plot,L_plot,vol_plot] = Halpha()\n",
    "\n",
    "# cosmic mean density\n",
    "rho_mean = 5.1*10**-6*((1+z)/3)**3\n",
    "\n",
    "# calculate the luminosity and angular diameter distances (equation from cosmology notes, for EdS universe)\n",
    "if z == 0: \n",
    "    DL = 15. #Mpc\n",
    "    DA = 15.\n",
    "else:\n",
    "    DL = 2*c*h*10**-3/H_0 * (1.+z) * (1. - 1/np.sqrt(1.+z))  # Mpc\n",
    "    DA = 2*c*h*10**-3/H_0 / (1.+z) * (1. - 1/np.sqrt(1.+z))  # Mpc\n",
    "\n",
    "# approx angular size of the emitter (use to calculate the surface brightness)\n",
    "solidangle_6 = L_6**2/DA**2\n",
    "solidangle_3 = L_3**2/DA**2\n",
    "solidangle_plot = L_plot/DA**2"
   ]
  },
  {
   "cell_type": "code",
   "execution_count": 26,
   "metadata": {
    "collapsed": false
   },
   "outputs": [
    {
     "name": "stdout",
     "output_type": "stream",
     "text": [
      "0.125\n",
      "T = 10^3:\n",
      "e: 9.378330373e-34 vol_6: 0.125\n",
      "(1.1722912966252222e-34, 0.04243601266787549, 38.192411401087945)\n",
      "T = 10^6:\n",
      "e: 9.378330373e-36 vol_6: 8.0\n",
      "(7.502664298401423e-35, 0.02715904810744032, 1.527696456043518)\n",
      "[  4.00000000e-07   1.26491106e-06   4.00000000e-06   1.26491106e-05\n",
      "   4.00000000e-05   1.26491106e-04   4.00000000e-04   1.26491106e-03\n",
      "   4.00000000e-03]\n"
     ]
    },
    {
     "data": {
      "image/png": "[encoded data removed]",
      "text/plain": [
       "<matplotlib.figure.Figure at 0x10a5a7f90>"
      ]
     },
     "metadata": {},
     "output_type": "display_data"
    }
   ],
   "source": [
    "### how it was first:\n",
    "lum_3 = emis_T3_single * vol_3         # erg / s / cm^s * Mpc^3\n",
    "flux = lum_3 / (4.*np.pi*DL**2) * wavlen * (1+z)/(hp*c) * 3.1e24    # photon / cm^2 / s\n",
    "#      erg Mpc^3 / cm^3 / s / Mpc^2 * m / (erg s m/s) * cm / Mpc = photon  / cm^2  / s\n",
    "SB = flux/solidangle_3     # photon / cm^2 / s / sr\n",
    "###\n",
    "\n",
    "\n",
    "# with temperature logT ~ 3 \n",
    "print(vol_3)\n",
    "lum_3 = emis_T3_single * vol_3         # erg / s / cm^s * Mpc^3\n",
    "flux_3 = lum_3 / (4.*np.pi*DL**2) * wavlen * (1+z)/(hp*c) * 3.1e24    # photon / cm^2 / s\n",
    "#      erg Mpc^3 / cm^3 / s / Mpc^2 * m / (erg s m/s) * cm / Mpc = photon  / cm^2  / s\n",
    "SB_3 = flux_3/solidangle_3     # photon / cm^2 / s / sr\n",
    "\n",
    "print('T = 10^3:')\n",
    "print('e: '+str(emis_T3_single)+' vol_6: '+str(vol_3))\n",
    "print(lum_3, flux_3, SB_3)\n",
    "\n",
    "# with temperature logT ~ 6\n",
    "\n",
    "lum_6 = emis_T6_single * vol_6         # erg / s / cm^s * Mpc^3\n",
    "flux_6 = lum_6 / (4.*np.pi*DL**2) * wavlen * (1+z)/(hp*c) * 3.1e24    # photon / cm^2 / s\n",
    "#      erg Mpc^3 / cm^3 / s / Mpc^2 * m / (erg s m/s) * cm / Mpc = photon  / cm^2  / s\n",
    "SB_6 = flux_6/solidangle_6     # photon / cm^2 / s / sr\n",
    "\n",
    "print('T = 10^6:')\n",
    "print('e: '+str(emis_T6_single)+' vol_6: '+str(vol_6))\n",
    "print(lum_6, flux_6, SB_6)\n",
    "\n",
    "### How it was originally:\n",
    "#vol = 1.  # to put back to how it was before\n",
    "#solidangle = L_3**2/DA**2  # to put back to how it was before\n",
    "###\n",
    "\n",
    "# Plot the SB as a function of the density n_H\n",
    "fig, ax1 = plt.subplots(figsize=(4,4))\n",
    "#plt.figure(figsize=(4,4))\n",
    "ax1.plot(np.arange(0,4.1,0.1),np.log10((emis_T3 * vol_3 /(4.*np.pi*DL**2) * wavlen * (1+z)/(hp*c) * 3.1e24/solidangle_3)))\n",
    "ax1.set_xlabel(r'log $\\rho$/$\\rho_{mean}$')\n",
    "ax1.set_ylabel('log SB [photons / cm^2 / s / sr]')\n",
    "ax2 = ax1.twiny()\n",
    "labels = 4. * 10**np.array([0,0.5,1.0,1.5,2.0,2.5,3.,3.5,4.0]) *10**-7\n",
    "print(labels)  # need to just write it out so turns out nicely in the plot\n",
    "labels = np.array(['4e-7','1.3e-6','4e-6','1.3e-5','4e-5','1.3e-4','4e-4','1.3e-3'])\n",
    "ax2.set_xticks([0,0.5,1.0,1.5,2.0,2.5,3.,3.5])\n",
    "ax2.set_xticklabels(labels)\n",
    "ax2.set_xlabel('n$_H$')\n",
    "plt.savefig('FigHalpha.pdf')"
   ]
  },
  {
   "cell_type": "code",
   "execution_count": 29,
   "metadata": {
    "collapsed": false
   },
   "outputs": [
    {
     "name": "stdout",
     "output_type": "stream",
     "text": [
      "(7.502664298401423e-35, 0.02715904810744032, 24.443143296696288)\n",
      "vol 6: 8.0\n",
      "vol 3: 0.125\n",
      "[  4.00000000e-07   1.26491106e-06   4.00000000e-06   1.26491106e-05\n",
      "   4.00000000e-05   1.26491106e-04   4.00000000e-04   1.26491106e-03\n",
      "   4.00000000e-03]\n"
     ]
    },
    {
     "data": {
      "image/png": "[encoded data removed]",
      "text/plain": [
       "<matplotlib.figure.Figure at 0x10e250450>"
      ]
     },
     "metadata": {},
     "output_type": "display_data"
    }
   ],
   "source": [
    "### How it was orginally:\n",
    "vol = 1.  # to put back to how it was before\n",
    "solidangle = L_3**2/DA**2  # to put back to how it was before\n",
    "###\n",
    "\n",
    "# with temperature logT ~ 6 \n",
    "lum = emis_T6_single * vol_6         # erg / s / cm^s * Mpc^3\n",
    "flux = lum / (4.*np.pi*DL**2) * wavlen * (1+z)/(hp*c) * 3.1e24    # photon / cm^2 / s\n",
    "#      erg Mpc^3 / cm^3 / s / Mpc^2 * m / (erg s m/s) * cm / Mpc = photon  / cm^2  / s\n",
    "SB_T6 = flux/solidangle     # photon / cm^2 / s / sr\n",
    "\n",
    "print(lum, flux, SB_T6)\n",
    "\n",
    "print('vol 6: '+str(vol_6))\n",
    "print('vol 3: '+str(vol_3))\n",
    "\n",
    "\n",
    "# Plot the SB as a function of the density n_H\n",
    "fig, ax1 = plt.subplots(figsize=(4,4))\n",
    "#plt.figure(figsize=(4,4))\n",
    "ax1.plot(np.arange(0,4.1,0.1),np.log10((emis_T3 * vol_3 /(4.*np.pi*DL**2) * wavlen * (1+z)/(hp*c) * 3.1e24/solidangle_3))\n",
    "         ,'b',label='$logT\\sim3$')\n",
    "ax1.plot(np.arange(0,4.1,0.1),np.log10((emis_T6 * vol_3 /(4.*np.pi*DL**2) * wavlen * (1+z)/(hp*c) * 3.1e24/solidangle_3))\n",
    "         ,'g',label='$logT\\sim6$')\n",
    "ax1.plot(np.arange(0,4.1,0.1),np.log10((emis_T3 * vol_6 /(4.*np.pi*DL**2) * wavlen * (1+z)/(hp*c) * 3.1e24/solidangle_6))\n",
    "         ,'b--')\n",
    "# 1 Mpc sized filament\n",
    "ax1.plot(np.arange(0,4.1,0.1),np.log10((emis_T6 * vol_6 /(4.*np.pi*DL**2) * wavlen * (1+z)/(hp*c) * 3.1e24/solidangle_6))\n",
    "         ,'g--')\n",
    "# 1 Mpc sized filament\n",
    "ax1.set_xlabel(r'log $\\rho$/$\\rho_{mean}$')\n",
    "ax1.set_ylabel('log SB [photons / cm^2 / s / sr]')\n",
    "ax1.legend(shadow=True, fancybox=True,loc=4)\n",
    "ax1.get_legend()\n",
    "ax2 = ax1.twiny()\n",
    "labels = 4. * 10**np.array([0,0.5,1.0,1.5,2.0,2.5,3.,3.5,4.0]) *10**-7\n",
    "print(labels)  # need to just write it out so turns out nicely in the plot\n",
    "labels = np.array(['4e-7','1.3e-6','4e-6','1.3e-5','4e-5','1.3e-4','4e-4','1.3e-3','4e-3'])\n",
    "ax2.set_xticks([0,0.5,1.0,1.5,2.0,2.5,3.,3.5,4.0])\n",
    "ax2.set_xticklabels(labels)\n",
    "ax2.set_xlabel('n$_H$')\n",
    "#plt.savefig('FigHalpha.pdf')\n",
    "\n",
    "# put in horizontal lines, that can label as lines for exposure times. (100\" pixels)\n",
    "# 20000 --> 10 min\n",
    "# 2000 --> 15 hours\n",
    "# 200 --> 1600 hours\n",
    "plt.plot([0.,4.0],np.log10([20000,20000]),'r-.')\n",
    "plt.plot([0.,3.5],np.log10([2000,2000]),'-.',color='orange')\n",
    "plt.plot([0.,3.5],np.log10([200,200]),'y-.')\n",
    "\n",
    "plt.savefig('FigHalphaLines.pdf')"
   ]
  },
  {
   "cell_type": "code",
   "execution_count": 15,
   "metadata": {
    "collapsed": false
   },
   "outputs": [
    {
     "name": "stdout",
     "output_type": "stream",
     "text": [
      "[  4.00000000e-07   1.26491106e-06   4.00000000e-06   1.26491106e-05\n",
      "   4.00000000e-05   1.26491106e-04   4.00000000e-04   1.26491106e-03\n",
      "   4.00000000e-03]\n",
      "[  7.63848228e-01   1.90962057e+00   1.71865851e+03   1.90962057e+01]\n",
      "[-2.71905292 -2.51905292 -2.31905292 -2.11905292 -1.91905292 -1.71905292\n",
      " -1.51905292 -1.31905292 -1.11905292 -0.91905292 -0.71905292 -0.51905292\n",
      " -0.31905292 -0.11905292  0.08094708  0.28094708  0.48094708  0.68094708\n",
      "  0.88094708  1.08094708  1.28094708  1.48094708  1.68094708  1.88094708\n",
      "  2.08094708  2.28094708  2.48094708  2.68094708  2.88094708  3.08094708\n",
      "  3.28094708  3.48094708  3.68094708  3.88094708  4.08094708  4.28094708\n",
      "  4.48094708  4.68094708  4.88094708  5.08094708  5.28094708]\n",
      "[-4.11699292 -3.91699292 -3.71699292 -3.51699292 -3.31699292 -3.11699292\n",
      " -2.91699292 -2.71699292 -2.51699292 -2.31699292 -2.11699292 -1.91699292\n",
      " -1.71699292 -1.51699292 -1.31699292 -1.11699292 -0.91699292 -0.71699292\n",
      " -0.51699292 -0.31699292 -0.11699292  0.08300708  0.28300708  0.48300708\n",
      "  0.68300708  0.88300708  1.08300708  1.28300708  1.48300708  1.68300708\n",
      "  1.88300708  2.08300708  2.28300708  2.48300708  2.68300708  2.88300708\n",
      "  3.08300708  3.28300708  3.48300708  3.68300708  3.88300708]\n"
     ]
    },
    {
     "data": {
      "image/png": "[encoded data removed]",
      "text/plain": [
       "<matplotlib.figure.Figure at 0x10eb3fc50>"
      ]
     },
     "metadata": {},
     "output_type": "display_data"
    }
   ],
   "source": [
    "# Plot the SB as a function of the density n_H\n",
    "fig, ax1 = plt.subplots(figsize=(4,4))\n",
    "#plt.figure(figsize=(4,4))\n",
    "#ax1.plot(np.arange(0,3.6,0.1),np.log10((emis_T3 * vol_3 /(4.*np.pi*DL**2) * wavlen * (1+z)/(hp*c) * 3.1e24/solidangle_3))\n",
    "#         ,'b',label='$logT\\sim3$')\n",
    "#ax1.plot(np.arange(0,3.6,0.1),np.log10((emis_T6 * vol_3 /(4.*np.pi*DL**2) * wavlen * (1+z)/(hp*c) * 3.1e24/solidangle_3))\n",
    "#         ,'g',label='$logT\\sim6$')\n",
    "#ax1.plot(np.arange(0,3.6,0.1),np.log10((emis_T3 * vol_6 /(4.*np.pi*DL**2) * wavlen * (1+z)/(hp*c) * 3.1e24/solidangle_6))\n",
    "#         ,'b--')\n",
    "# 1 Mpc sized filament\n",
    "#ax1.plot(np.arange(0,3.6,0.1),np.log10((emis_T6 * vol_6 /(4.*np.pi*DL**2) * wavlen * (1+z)/(hp*c) * 3.1e24/solidangle_6))\n",
    "#         ,'g--')\n",
    "# 1 Mpc sized filament\n",
    "\n",
    "ax1.set_xlabel(r'log $\\rho$/$\\rho_{mean}$')\n",
    "ax1.set_ylabel('log SB [ph cm$^{-2}$ s$^{-1}$ sr$^{-1}$]')\n",
    "ax1.legend(loc=4)\n",
    "ax1.get_legend()\n",
    "#ax2 = ax1.twiny()\n",
    "labels = 4. * 10**np.array([0,0.5,1.0,1.5,2.0,2.5,3.,3.5,4.0]) *10**-7\n",
    "print(labels)  # need to just write it out so turns out nicely in the plot\n",
    "#labels = np.array(['1.3e-6','1.3e-5','1.3e-4','1.3e-3'])\n",
    "#ax2.set_xticks([0.5,1.5,2.5,3.5])\n",
    "#ax2.set_xticklabels(labels)\n",
    "#ax2.set_xlabel('n$_H$')\n",
    "#plt.savefig('FigHalpha.pdf')\n",
    "\n",
    "#ax3.set_yticks([-6,-4,-2,0,2,4])\n",
    "#ax3.set_yticklabels([-6,-4,-2,0,2,4])\n",
    "\n",
    "\n",
    "# put in horizontal lines that match with structures labelled on the SB, density and temperature maps from simulations\n",
    "SB_plot1 = emis_T3 * vol_plot[2] / (4.*np.pi*DL**2) * wavlen * (1+z)/(hp*c) * 3.1e24 / solidangle_plot[2]\n",
    "SB_plot2 = emis_T3 * vol_plot[1] / (4.*np.pi*DL**2) * wavlen * (1+z)/(hp*c) * 3.1e24 / solidangle_plot[1]\n",
    "SB_plot3 = emis_T6 * vol_plot[0] / (4.*np.pi*DL**2) * wavlen * (1+z)/(hp*c) * 3.1e24 / solidangle_plot[0]\n",
    "SB_plot4 = emis_T6 * vol_plot[3] / (4.*np.pi*DL**2) * wavlen * (1+z)/(hp*c) * 3.1e24 / solidangle_plot[3]\n",
    "\n",
    "\n",
    "SB_plot = emis_plot * vol_plot / (4.*np.pi*DL**2) * wavlen * (1+z)/(hp*c) * 3.1e24 / solidangle_plot\n",
    "print(SB_plot)\n",
    "plt.plot([0.,4.0],np.log10([SB_plot[2],SB_plot[2]]),'k-',linewidth=1,color='gray')\n",
    "plt.plot([0.,4.0],np.log10([SB_plot[1],SB_plot[1]]),'k--',linewidth=1,color='gray')\n",
    "plt.plot([0.,4.0],np.log10([SB_plot[0],SB_plot[0]]),'k:',linewidth=1,color='gray')\n",
    "plt.plot([0.,4.0],np.log10([SB_plot[3],SB_plot[3]]),'k:',linewidth=1,color='gray')\n",
    "plt.plot([3.5,3.5],[-6,6],'k-',linewidth=1,color='gray')\n",
    "plt.plot([1.5,1.5],[-6,6],'k--',linewidth=1,color='gray')\n",
    "plt.plot([1.5,1.5],[-6,6],'k:',linewidth=1,color='gray')\n",
    "\n",
    "\n",
    "print np.log10(SB_plot2)\n",
    "print np.log10(SB_plot3)\n",
    "\n",
    "\n",
    "ax1.plot(np.arange(0,4.1,0.1),np.log10(SB_plot1),'k-',linewidth=2)                          # logT ~ 3\n",
    "ax1.plot(np.arange(0,4.1,0.1),np.log10(SB_plot2),'k--',linewidth=2)        # logT ~ 3\n",
    "plt.plot(np.arange(0,4.1,0.1),np.log10(SB_plot3),'k:',linewidth=2)                          # logT ~ 6\n",
    "plt.plot(np.arange(0,4.1,0.1),np.log10(SB_plot4),'r-',linewidth=2)                          # logT ~ 6\n",
    "\n",
    "\n",
    "## Signal = signal flux * QE * transmission * angular pixel size * area of the lens\n",
    "#[area_lens, ang_size_pixel, tau_l, tau_f, QE, B, D, R_squared, numpixel] = [7709.1*u.cm**2, \n",
    "#                                                                             1.8427438923353984e-10 *u.rad**2,\n",
    "#                                                                             0.85, 1.0, 0.48, \n",
    "#                                                                             0.52135 *u.photon / (u.arcsec**2 *u.m**2 *u.nm *u.second),\n",
    "#                                                                             0.04 *u.photon / u.second, \n",
    "#                                                                             100.0 *u.photon, \n",
    "#                                                                             1.276e+03]\n",
    "#wavelen = 656.3e-9 * u.m\n",
    "#time = np.arange(0,60.*60*10**5) * u.second#\n",
    "\n",
    "#SB_ph = 10**np.array([-6.,-4.,-2.,0.,2.,4.,6.]) * u.photon / (u.cm**2) / u.second / (u.rad**2)\n",
    "#times = np.zeros(len(SB_ph))\n",
    "\n",
    "#for i in range(len(SB_ph)):\n",
    "#    S = SB_ph[i] * QE * tau_l * tau_f * area_lens * ang_size_pixel\n",
    "#    print('signal: '+str(S))\n",
    "#    signal = S*time*numpixel\n",
    "#    #print(area_lens)\n",
    "#    ## Noise\n",
    "#    B_tot = B * QE * tau_l * tau_f * 3.*u.nm * area_lens.to(u.m**2) * ang_size_pixel.to(u.arcsec**2)\n",
    "#    sigma = np.sqrt(signal + B_tot*time*numpixel + D*time*numpixel + R_squared*numpixel)#\n",
    "\n",
    "#    SNR = signal/sigma\n",
    "#    times[i] = time[abs(SNR-5.) == min(abs(SNR-5.))]\n",
    "\n",
    "#print(times)\n",
    "    \n",
    "\n",
    "ax3 = ax1.twinx()\n",
    "ax3.set_yticks([-6,-4,-2,0,2,4,6])\n",
    "ax3.set_yticklabels([-6,-4,-2,0,2,4,6])\n",
    "ax3.set_ylabel('log SB [ph cm$^{-2}$ s$^{-1}$ sr$^{-1}$]')\n",
    "\n",
    "plt.savefig('FigHalphaLines3.pdf',bbox_inches='tight')"
   ]
  },
  {
   "cell_type": "code",
   "execution_count": 15,
   "metadata": {
    "collapsed": false
   },
   "outputs": [
    {
     "name": "stdout",
     "output_type": "stream",
     "text": [
      "The number of photons per FOV per sec: 9.2304042212\n",
      "The number of photons per pixel per sec: 1.13032677846e-06\n"
     ]
    }
   ],
   "source": [
    "# Calculate the total number of photons incident on one of the lenses\n",
    "# The aperture size:\n",
    "area_lens = np.pi*(14.3/2)**2\n",
    "\n",
    "# Conversion factor between arsec and Mpc\n",
    "arcsecPerMpc = (22.4 * 60.) / (25/h)\n",
    "\n",
    "# Angular sizes that can be used (the angular size of the emitter, the angular size of the field of view of \n",
    "# the telescope, and the angular size of one pixel)\n",
    "ang_size_sim  = L**2 * (arcsecPerMpc)**2 * (1./206265.)**2  # rad^2 = sr, the angular area corresponding to 1 Mpc^2 area\n",
    "ang_size_FOV  = 2.6 * 1.9 * (np.pi/180.)**2  # rad^2 = sr , the FOV of the telescope\n",
    "ang_size_pixel  = (2.8 * (1./206265.))**2   # rad^2, the pixel size of the telescope\n",
    "\n",
    "print('The number of photons per FOV per sec: '+str(SB * area_lens * ang_size_FOV))\n",
    "print('The number of photons per pixel per sec: '+str(SB * area_lens * ang_size_pixel))"
   ]
  },
  {
   "cell_type": "markdown",
   "metadata": {},
   "source": [
    "So the end result is that there is approximately 0.0007 H$\\alpha$ photons/pixel/second for one lens (can multiply by 48 for the whole array of lenses)."
   ]
  },
  {
   "cell_type": "markdown",
   "metadata": {},
   "source": [
    "### Ly$\\alpha$ Energy Average calculation\n",
    "\n",
    "Haven't figured out how this would work yet, but wanted to include it still for now."
   ]
  },
  {
   "cell_type": "code",
   "execution_count": 12,
   "metadata": {
    "collapsed": false
   },
   "outputs": [
    {
     "name": "stdout",
     "output_type": "stream",
     "text": [
      "Doing Ly-alpha energy way...\n",
      "(3.332920322934271e-35, 0.074513313650784341)\n"
     ]
    }
   ],
   "source": [
    "# Call the function with the constants we want, now we want to load the H-alpha values.\n",
    "[totalE0, fracE0,totalE2,fracE2,z,wavlen,L,vol] = LyalphaE()\n",
    "\n",
    "# cosmic mean density\n",
    "rho_mean = 5.1*10**-6*((1+z)/3)**3\n",
    "\n",
    "# calculate the luminosity and angular diameter distances (equation from cosmology notes, for EdS universe)\n",
    "if z == 0: \n",
    "    DL = 15. #Mpc\n",
    "    DA = 15.\n",
    "else:\n",
    "    DL = 2*c*h*10**-3/H_0 * (1.+z) * (1. - 1/np.sqrt(1.+z))  # Mpc\n",
    "    DA = 2*c*h*10**-3/H_0 / (1.+z) * (1. - 1/np.sqrt(1.+z))  # Mpc\n",
    "\n",
    "# approx angular size of the emitter (use to calculate the surface brightness)\n",
    "solidangle = L**2/DA**2\n",
    "\n",
    "# calculation from energies\n",
    "lum2 = totalE2 * fracE2 * vol  # erg / s\n",
    "SB2 = lum2 / (4*np.pi*DL**2) * wavlen * (1+z)/(hp*c) / (3.1e24)**2 / solidangle #*100 # the 100 is to compensate for the filaments being 1/10^2 the area of the whole sim\n",
    "#     erg / s  / Mpc^2  * m / (erg s m / s) * (Mpc / cm)^2 / sr = photon / s / cm^2 / sr\n",
    "# But this is average energy over the entire volume... So we want to restrict this to a smaller area \n",
    "# on the sky to increase the surface brightness\n",
    "print(lum2/(3.1e24)**3, SB2)"
   ]
  },
  {
   "cell_type": "markdown",
   "metadata": {},
   "source": [
    "## References\n",
    "\n",
    "1. Bertone et al (2010a)\n",
    "2. Bertone et al (2010b)\n",
    "3. Bertone et al (2012)\n",
    "4. Bertone et al (2013)\n",
    "5. Danforth et al (2016)\n",
    "6. McQuinn et al (2016)"
   ]
  },
  {
   "cell_type": "markdown",
   "metadata": {},
   "source": [
    "## Extra\n",
    "\n",
    "The following is just space used to double check the above calculations."
   ]
  },
  {
   "cell_type": "code",
   "execution_count": 162,
   "metadata": {
    "collapsed": false
   },
   "outputs": [
    {
     "name": "stdout",
     "output_type": "stream",
     "text": [
      "64022520.2777\n",
      "0.000133986458234\n"
     ]
    }
   ],
   "source": [
    "# double check that the above numbers are consistent\n",
    "print(2.6*1.9*(206265 * np.pi/180)**2)\n",
    "print(1094.15188/(2.6*1.9*(206265 * np.pi/180)**2)*2.8**2)\n",
    "#    photons / FOV in arcsec  * pixel size in arcsec\n",
    "# Yay!"
   ]
  },
  {
   "cell_type": "code",
   "execution_count": 128,
   "metadata": {
    "collapsed": false
   },
   "outputs": [
    {
     "name": "stdout",
     "output_type": "stream",
     "text": [
      "cosmic mean density (z = 2):  5.1e-06\n",
      "0.0586145648313\n",
      "0.142857142857\n"
     ]
    }
   ],
   "source": [
    "print('cosmic mean density (z = 2):  '+str(5.1*10**-6*((1+2)/3)**3))\n",
    "print(0.66/11.26)  # fractions of energy in Ly-alpha and H-alpha at z = 0\n",
    "print(0.03/0.21)   # fractions of energy in optical/NUV at z = 0"
   ]
  },
  {
   "cell_type": "code",
   "execution_count": null,
   "metadata": {
    "collapsed": false
   },
   "outputs": [],
   "source": [
    "plt.plot(1,1)\n",
    "\n",
    "# compare solid angles (circular surface area flat and projected onto sphere), roughly equal?\n",
    "solidangle1 = 2*np.pi*(1-np.sqrt(DL**2-L**2)/DL)\n",
    "solidangle2 = np.pi*L**2/DL**2\n",
    "print('ratio of solid angles:  '+str(solidangle1/solidangle2))"
   ]
  },
  {
   "cell_type": "code",
   "execution_count": 39,
   "metadata": {
    "collapsed": true
   },
   "outputs": [],
   "source": [
    "# What about converting the SB to mag / arcsec^2?s\n",
    "\n"
   ]
  },
  {
   "cell_type": "code",
   "execution_count": 45,
   "metadata": {
    "collapsed": false
   },
   "outputs": [],
   "source": [
    "# First estimate, just using mean density and emission rate from Case B emission tables\n",
    "n_H = 4*10**-7\n",
    "N_H = 10**20\n",
    "n_H = N_H/3.1e24"
   ]
  },
  {
   "cell_type": "code",
   "execution_count": 46,
   "metadata": {
    "collapsed": false
   },
   "outputs": [
    {
     "name": "stdout",
     "output_type": "stream",
     "text": [
      "387.096774194\n"
     ]
    }
   ],
   "source": [
    "em_rate = n_H**2 * 1.2e-13 * 3.1e24\n",
    "print(em_rate)"
   ]
  },
  {
   "cell_type": "code",
   "execution_count": 47,
   "metadata": {
    "collapsed": false
   },
   "outputs": [
    {
     "data": {
      "text/plain": [
       "3.125e-06"
      ]
     },
     "execution_count": 47,
     "metadata": {},
     "output_type": "execute_result"
    }
   ],
   "source": [
    "# cosmic mean density\n",
    "z = 0.25\n",
    "1.6*(1+z)**3/(100**3)"
   ]
  },
  {
   "cell_type": "code",
   "execution_count": 61,
   "metadata": {
    "collapsed": false
   },
   "outputs": [
    {
     "name": "stdout",
     "output_type": "stream",
     "text": [
      "[15]\n"
     ]
    }
   ],
   "source": [
    "array =np.array([1.1,2.1,3.1,4.1,5.1,6.1,7.1,8])\n",
    "counter = np.array([11,12,13,14,15,16,17,18])\n",
    "abs(array - 5)\n",
    "num = counter[abs(array-5) == min(abs(array-5))]\n",
    "print(num)"
   ]
  },
  {
   "cell_type": "code",
   "execution_count": null,
   "metadata": {
    "collapsed": true
   },
   "outputs": [],
   "source": [
    "times = time[abs(SNR-5) == min(abs(SNR-5))]"
   ]
  }
 ],
 "metadata": {
  "kernelspec": {
   "display_name": "Python 2",
   "language": "python",
   "name": "python2"
  },
  "language_info": {
   "codemirror_mode": {
    "name": "ipython",
    "version": 2
   },
   "file_extension": ".py",
   "mimetype": "text/x-python",
   "name": "python",
   "nbconvert_exporter": "python",
   "pygments_lexer": "ipython2",
   "version": "2.7.12"
  }
 },
 "nbformat": 4,
 "nbformat_minor": 0
}
