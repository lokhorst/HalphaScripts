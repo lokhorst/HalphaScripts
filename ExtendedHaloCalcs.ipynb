{
 "cells": [
  {
   "cell_type": "markdown",
   "metadata": {},
   "source": [
    "# Extended H halos around galaxies\n",
    "\n",
    "### Theory\n",
    "\n",
    "If galaxies in the local universe were not somehow gaining new material to form stars out of, the current star formation rate is impossible to sustain (Voort+ 2011).  This can be shown by calculating the timescale for the formation of stars out of the current gas supply of local galaxies, which is <<$t_{Hubble}$ (Keres+ 2009), implying that to support the observed sustained star formation, some external gas supply is required.  This gas is from the IGM, which accretes onto galaxies via two channels, dubbed \"cold\" and \"hot\" mode, which correspond to gas with temperatures below and above T$\\sim 10^{5.5}$K (Voort+ 2011).  The cold mode dominates at high redshift and for galaxies with halo mass below $\\sim 10^{11} M_{\\odot}$, with hot mode becoming dominant for massive local redshift galaxies, which result in the accreting gas being shocked at the virial radius (Keres slideshows, Keres 2009, references therein).  The cold mode is still expected to be somewhat present at low redshift, still, though (Keres slideshow).\n",
    "\n",
    "The gas infalling through cold mode accretion is expected to primarily emit cooling radiation through the Ly$\\alpha$ line (Faucher-Giguere+ 2010).\n",
    "\n",
    "Analytically, can approximate the transition halo mass between which dominantly accrete via cold mode or hot mode (READ Birnboim & Dekel 2003).\n",
    "\n",
    "The CGM is approximately defined as the region 100 - 300 kpc from the central galaxy, distinct yet still within the virial radius of the halo (Barnes 2014).\n",
    "\n",
    "The observations of Ly$\\alpha$ radiation produced by the cooling inflows are confused by the resonant scattering effect of this line, which causes the Ly$\\alpha$ emission to become diffused throughout the large HI halo area.  It also possibly results in Ly$\\alpha$ emission originating in the central HII regions of the galaxy to be diffused into the extended halo, as well (Stiedel + 2011, F-G 2010).\n",
    "\n",
    "### Observations\n",
    "\n",
    "Steidel et al (2011) used deep narrowband imaging around the Ly$\\alpha$ line to look for extended structure around galaxies at redshift z ~ 2.5.  They found that there was a diffuse Ly$\\alpha$ component that extended out to ~80 kpc, compared to the continuum emission, which stopped at ~10 kpc.\n",
    "\n",
    "We want to figure out if we can image these extended H halos/outflows/inflows in local galaxies, using the H$\\alpha$ emission line.  This leads us to a couple main questions/cases:\n",
    "1. If this emission were coming from the central regions, and the galaxies were identical at all redshifts (in terms of location of H$\\alpha$ and Ly$\\alpha$ emission), how much fainter would the H$\\alpha$ emission be than the Ly$\\alpha$ emission that Steidel+2011 imaged?\n",
    "2. If this emission were coming from cooling radiation, and we ignore resonant scattering effects, how much fainter would the H$\\alpha$ emission be?\n",
    "3. Number 2., but trying to account for number 1. and scattering effects. \n",
    "4. How do typical galaxies change from z ~2.5 to z ~ 0, in terms of observed emission, and can we use that to estimate a change in the H$\\alpha$ emission we'd expect?\n",
    "\n",
    "\n",
    "### First Case\n",
    "To answer the first question, I looked into a couple papers describing the line emission mechanism that most people assume, which is Case B recombination (optically thick to ionizing radiation about 13.6 eV, so only recombinations to n = 1 reduce the ionized fraction) with no dust.  Hayes et al (2010) quote a line ratio of 1:8.7 for H$\\alpha$:Ly$\\alpha$ emission, referencing Brocklehurst (1971).  If there is dust present, Hayes+ (2010) state that the line ratio will become closer to unity, since Ly$\\alpha$ has higher extinction (the scattering of the Ly$\\alpha$ photons increases their sensitivity to absorption; this is also mentioned in Steidel+2011).  If we assume that galaxies at redshift 2.5 are identical to those at local redshift, and that H$\\alpha$ and Ly$\\alpha$ experience the same scattering (not true since Ly$\\alpha$ is a resonant scattering line), we can simply apply the line ratio directly to the Ly$\\alpha$ surface brightness (assuming no dust for the most conservative estimate) and compensate for redshift (which decreases surface brightness by (1 + z)$^{4})."
   ]
  },
  {
   "cell_type": "code",
   "execution_count": 4,
   "metadata": {
    "collapsed": true
   },
   "outputs": [],
   "source": [
    "%matplotlib inline\n",
    "\n",
    "import numpy as np\n",
    "import matplotlib.pyplot as plt\n",
    "from astropy import constants as const\n",
    "from astropy import units as u"
   ]
  },
  {
   "cell_type": "code",
   "execution_count": 5,
   "metadata": {
    "collapsed": false
   },
   "outputs": [
    {
     "name": "stdout",
     "output_type": "stream",
     "text": [
      "3.16216045618e-17 erg / (arcsec2 cm2 s)\n",
      "444487.8352 ph / (cm2 rad2 s)\n"
     ]
    }
   ],
   "source": [
    "# surface brightness threshold from Stiedel et al (2011)\n",
    "LyalphaSB = 1.55 * 10**-18 *u.erg/u.second/u.cm**2/u.arcsec**2\n",
    "z = 2.65\n",
    "\n",
    "# line ratio\n",
    "LyAtoHA = 1./8.7\n",
    "\n",
    "# surface brightness of Halpha (compensating for increase due to closer redshift)\n",
    "HalphaSB = LyalphaSB * LyAtoHA * (1+z)**4\n",
    "print(HalphaSB)\n",
    "\n",
    "# convert to photons / sr\n",
    "wavelen = 656.3e-9 * u.m\n",
    "SB_cgs = HalphaSB\n",
    "SB_ph  = SB_cgs * wavelen / (const.h.cgs * const.c) / (u.arcsec.to(u.rad) * u.rad/u.arcsec)**2 * u.photon\n",
    "print(SB_ph)"
   ]
  },
  {
   "cell_type": "markdown",
   "metadata": {},
   "source": [
    "This is assuming that\n",
    "1. Case B recombination holds (probably fine)\n",
    "2. Same hydrogen clouds at redshift 2.5 to 0 (There are LAE at redshift zero, just about a fifth of the number at intermediate redshift (Hayes 2015))\n",
    "3. The H$\\alpha$ emission is scattered to the same extent that Ly$\\alpha$ is scattered.\n",
    "\n",
    "For the third assumption, at the moment we are assuming the H$\\alpha$ emission follows the same distribution that the Ly$\\alpha$ emission follows.  It is probably true that the both emissions come from the same hydrogen clouds, but Steidel et al (2011) propose that these clouds are located near the center and close in to the galaxy.  They then suggest that extended structure is subsequently caused by the scattering of the photons produced near the central galaxy into and through the lower density H clouds/inflows/outflows at larger radii.  If the H$\\alpha$ photons do not scatter as the Ly$\\alpha$ photons do, the total luminosity will be the same, but the H$\\alpha$ photons will be concentrated at the center rather than spread out as the Ly$\\alpha$ photons are.  \n"
   ]
  },
  {
   "cell_type": "markdown",
   "metadata": {},
   "source": [
    "### Second Case\n",
    "\n",
    "Now we are assuming that the emission observed by Steidel 2011 is (at least partially) radiation from the cooling of gas accreting onto the halo.  In this case, I will find estimates of the temperature and density of inflows from the IGM onto haloes of galaxies.  Comparison with simulations of the IGM at matching temperatures and densities should give a fairly good estimate of the ratio of Ly$\\alpha$ to H$\\alpha$ radiation (e.g. Bertone et al 2012).\n",
    "\n",
    "For cold mode accretion, the temperature of the accreting gas is $\\sim 10^4 - 10^5$ K.  The density of the gas can vary, from the average density $<\\rho>$ to $10^3 <\\rho>$ to $\\rho_{virial}$/3 (Okamoto et al 2008).  Because of this, I will take a range of densities and attempt to estimate the ratio of energies emitted via the Ly$\\alpha$ and H$\\alpha$ line for a variety of cases.\n"
   ]
  },
  {
   "cell_type": "markdown",
   "metadata": {},
   "source": [
    "### Third Case\n",
    "\n",
    "So, resonant scattering!  \n",
    "\n",
    "How does resonant scattering compare to \"normal\" H$\\alpha$ scattering? Does Dijkstra 2014 explain this difference?  Are there any imaging comparisons/simulations with resonant scattering?\n",
    "\n",
    "Once we look into this, we can estimate how much fainter the scattering of H$\\alpha$ will be compared to the Ly$\\alpha$ scattering.  In other words, we can calculate/approximate the optical depth of each line to figure out the ratio in path lengths expected to be traversed by both lines.\n",
    "\n"
   ]
  },
  {
   "cell_type": "markdown",
   "metadata": {},
   "source": [
    "### Fourth Case\n",
    "\n",
    "How does the Ly$\\alpha$ emission from hydrogen clouds in galaxies change from local redshift to redshift of 2.5?"
   ]
  },
  {
   "cell_type": "markdown",
   "metadata": {
    "collapsed": true
   },
   "source": [
    "## IDEA:\n",
    "Use Faucher-Giguere et al (2010) (simulations of Ly $\\alpha$ cold mode accretion at z = 3) and van de Voort et al (2011) (to project the Ly $\\alpha$ emission cold mode from z = 3 to z = 0) and Steidel et al (2011) (to compare the observations with the theory from the other two).\n",
    "\n",
    "Notes from F-G et al 2010:\n",
    "Ionization radiation (cosmic background, local star formation or AGN) can photoionize gas.  Collisions in gas of sufficient density and temperature can also ionize hydrogen.  Both these processes lead to recombination and emission of line photons (like Ly$\\alpha$ and H$\\alpha$).  Faucher-Giguere et al (2010) assume case B recombination coefficient to be appropriate for this case.  Can also produce line radiation through collisional excitation that doesn't ionize hydrogen.  Note that the recombination emissivity is proportional to the HII number density, whereas the collisional excitation emissivity is proportional to the HI number density (Faucher-Giguere et al 2010).  Most of the cosmic volume well approximated by just photoionization equilibrium regime.  Dense cold gas (including cold streams of accretion) can self-shield from the external ionizing radiation, and therefore is approximated by just collisional ionization equilibrium regime.  In their Figure 1, they constrast the emissivity from collisional excitation, collisional ionization, and photoionization (and it's dependance on n$_H$).  Collisional excitation is dominant for Ly$\\alpha$ emission, and has close dependance on temperature, so should accurately represent thermal state of the gas.  Assumed that He is all ionized (important if most of H is neutral, because then He determines the free electrons).  Emission processes scale with density squared (Equations 1 and 2 of F-G et al 2010).  In Fig 9 they compare Ly$\\alpha$ emission with and without resonant scattering turned on.  In their Appendix A, they explain the physics of the simulations (grav heating + photoionization etc).  In Appendix C they further talk about Ly$\\alpha$ radiative transfer, including resonant scattering.  Possibly the Einstein coefficient is the key to the scattering timescale, since it is proportional to the optical depth.\n",
    "\n",
    "The approximate mean halo mass of the galaxies in the Steidel et al (2011) sample is $M_{halo}\\approx9\\times10^{11}M_{\\odot}$ and the mean redshift is $<z>\\sim2.65$.\n",
    "\n",
    "Need to decide which of the F-G et al 2010 SB profiles is applicable (quick read-through of paper to find where physics described and pick out the SB profiles we want).  Looks like they think that prescription 9 is the best (Fig 7/8).\n",
    "\n",
    "NOT FINISHED"
   ]
  },
  {
   "cell_type": "markdown",
   "metadata": {},
   "source": [
    "## IDEA:\n",
    "Use fraction of H$\\alpha$ vs Ly$\\alpha$ from Bertone et al (2013), use (1 + z)$^{-4}$ to translate Steidel et al (2011) SB, already converted into H$\\alpha$ SB, from z$\\sim$2 to z$\\sim$0.  What would be approximate T, n$_H$ in Ly$\\alpha$ diffuse clouds, what do Steidel et al (2011) say (use this to get handle on emissivity tables)?\n",
    "\n",
    "Since cold mode accretion, the temperature is low, T$\\sim10^4$K, and the emission comes from the dense streams, $n_H\\sim10^{-3}$cm$^{-3}$ (Faucher-Giguere et al 2010).  In the dense streams, dominated by collisional excitation, thus the H$\\alpha$ emission analytically would be 1/100th of the Ly$\\alpha$ emission (Dijkstra 2014).  If the emission arises from recombination processes, F-G et al 2010 assume case B recombination for the cold accretion, so that's what we will do to, in which case, the H$\\alpha$ emission is about 1/9th the Ly$\\alpha$ emission.  It seems that the worst case scenario can be assumed in this case (1/100th of Ly$\\alpha$ emission.  This is consistent with the energy fraction stated by Bertone et al (2013) for the cold, dense filaments of the IGM.\n",
    "\n",
    "Here's some steps to take:\n",
    "\n",
    "1. This means we will just [take the SB in Ly$\\alpha$ from Steidel 2011 and times by the energy fraction to get SB in H$\\alpha$].  This SB is the threshold for a typical observation of an individual object, which is reached at about 20 kpc in their observations.  They go below this by averaging a bunch of images.\n",
    "\n",
    "2. Then we will [scale up the SB to correct for cosmological effects] i.e. we will be observing at redshift of zero instead of reshift of 3, so can increase the SB quadrifold.  This will give us a detection limit and estimate for H$\\alpha$ luminosity.\n",
    "\n",
    "4. We can [correct slightly for resonant scattering of Ly$\\alpha$] photons using Figure 8 of F-G et al 2010, i.e. we assume that scattering effects are at work, so we will decrease the luminosity of the SB profile by the ratio of the two plots.  Figure out if all the other physics is at work in both plots, i.e. if they still include the cooling radiation from the inflows.  Only do this if they do still include the cooling radiation from the accretion, because otherwise will be overcorrecting and assuming that there is no cooling radiation whatsoever (ok I guess, just make note of this).  Yes, in Figure 8 they include all the physics for prescription 9, and just turn off resonant scattering for the last plot.  So I should be able to just take some ratios and figure out how much gets scattered out to different radii!  From this plot, it appears that including resonant scattering smooths out the luminosity, causing it to be smaller at low radius, larger at middle radius, and then equal at the furthest radius.  \n",
    "\n",
    "The greatest difference is at R ~ 20 kpc,where (Iwith - Iwithout)/Iwithout ~ 1.3 --> Iwith = (1+1.3) Iwithout, so the surface brightness without scattering is 1/2.3 times the surface brightness with scattering.  Pick out the surface brightness at 20 kpc from Steidel et al (2011), what is that?  So just say that'll be down by half but once we get into the real outskirts, it won't be any different."
   ]
  },
  {
   "cell_type": "code",
   "execution_count": 16,
   "metadata": {
    "collapsed": false
   },
   "outputs": [
    {
     "name": "stdout",
     "output_type": "stream",
     "text": [
      "2.75107959688e-18 erg / (arcsec2 cm2 s)\n",
      "38670.4416624 ph / (cm2 rad2 s)\n"
     ]
    }
   ],
   "source": [
    "# surface brightness threshold from Stiedel et al (2011)\n",
    "LyalphaSB = 1.55 * 10**-18 *u.erg/u.second/u.cm**2/u.arcsec**2\n",
    "z = 2.65\n",
    "\n",
    "# energy ratio from Table B1 of Bertone et al (2013)\n",
    "LyAtoHA_energy = 0.66/11.26\n",
    "\n",
    "# collisional fraction from Dijkstra (2014)\n",
    "LyAtoHA_energy = 1./100.\n",
    "\n",
    "# surface brightness of Halpha (compensating for increase due to closer redshift)\n",
    "HalphaSB_2 = LyalphaSB * LyAtoHA_energy * (1+z)**4\n",
    "print(HalphaSB_2)\n",
    "\n",
    "# convert to photons / sr\n",
    "wavelen = 656.3e-9 * u.m\n",
    "SB_cgs = HalphaSB_2\n",
    "SB_ph  = SB_cgs * wavelen / (const.h.cgs * const.c) / (u.arcsec.to(u.rad) * u.rad/u.arcsec)**2 * u.photon\n",
    "print(SB_ph)"
   ]
  },
  {
   "cell_type": "markdown",
   "metadata": {},
   "source": [
    "So the surface brightness is 2.75107959688e-18 erg / (arcsec2 cm2 s) which corresponds to 38670.4416624 ph / (cm2 rad2 s)."
   ]
  },
  {
   "cell_type": "code",
   "execution_count": 12,
   "metadata": {
    "collapsed": false
   },
   "outputs": [
    {
     "data": {
      "text/latex": [
       "$16813.236 \\; \\mathrm{\\frac{ph}{s\\,cm^{2}\\,rad^{2}}}$"
      ],
      "text/plain": [
       "<Quantity 16813.235505398316 ph / (cm2 rad2 s)>"
      ]
     },
     "execution_count": 12,
     "metadata": {},
     "output_type": "execute_result"
    }
   ],
   "source": [
    "# correct for resonant scattering\n",
    "# greatest difference at R ~ 20 kpc,where (Iwith - Iwithout)/Iwithout ~ 1.3 --> Iwith = (1+1.3) Iwithout\n",
    "# so the surface brightness without scattering is 1/2.3 times the surface brightness with scattering\n",
    "# pick out the surface brightness at 20 kpc from Steidel et al (2011), what is that?  So just say that'll be\n",
    "# down by half but once we get into the real outskirts, it won't be any different.\n",
    "\n",
    "# Okay so the threshold is the number at about 20 kpc.  So lets just divide that by half and then say that's that!\n",
    "\n",
    "SB_ph/2.3"
   ]
  },
  {
   "cell_type": "markdown",
   "metadata": {
    "collapsed": true
   },
   "source": [
    "So corrected for resonant scattering, let's say that at 20 kpc, the surface brightness is actually 16813.236 photon/s/cm^2/sr.  \n",
    "\n",
    "But at 80 kpc, the SB will not be affected by resonant scattering of photons from center outwards, so we can just take the lowest value of the SB in the profile that Steidel et al (2011) have, and use the collisional fraction, this is about $0.09\\times10^{-18} ergs/s/cm^2/arcsec^2."
   ]
  },
  {
   "cell_type": "code",
   "execution_count": 18,
   "metadata": {
    "collapsed": false
   },
   "outputs": [
    {
     "name": "stdout",
     "output_type": "stream",
     "text": [
      "1.59740105625e-19 erg / (arcsec2 cm2 s)\n",
      "2245.38048362 ph / (cm2 rad2 s)\n"
     ]
    }
   ],
   "source": [
    "# surface brightness at R~80kpc from Stiedel et al (2011)\n",
    "LyalphaSB = 0.09 * 10**-18 *u.erg/u.second/u.cm**2/u.arcsec**2\n",
    "z = 2.65\n",
    "\n",
    "# energy ratio from Table B1 of Bertone et al (2013)\n",
    "LyAtoHA_energy = 0.66/11.26\n",
    "\n",
    "# collisional fraction from Dijkstra (2014)\n",
    "LyAtoHA_energy = 1./100.\n",
    "\n",
    "# surface brightness of Halpha (compensating for increase due to closer redshift)\n",
    "HalphaSB_2 = LyalphaSB * LyAtoHA_energy * (1+z)**4\n",
    "print(HalphaSB_2)\n",
    "\n",
    "# convert to photons / sr\n",
    "wavelen = 656.3e-9 * u.m\n",
    "SB_cgs = HalphaSB_2\n",
    "SB_ph  = SB_cgs * wavelen / (const.h.cgs * const.c) / (u.arcsec.to(u.rad) * u.rad/u.arcsec)**2 * u.photon\n",
    "print(SB_ph)"
   ]
  },
  {
   "cell_type": "markdown",
   "metadata": {},
   "source": [
    "So the limit out to which Steidel observe corresponds to a SB in H$\\alpha$ of 1.59740105625e-19 erg / (arcsec2 cm2 s) or 2245.38048362 ph / (cm2 rad2 s).  This is actually very close to the IGM SB, implies we are looking at the same type of gas and cooling radiation.  At this distance, predict that resonant scattering of Ly$\\alpha$ photons provides very small effect.\n",
    "\n",
    "Should also note stuff about Ly$\\alpha$ self-shielding that might not be applicable for H$\\alpha$, read about this."
   ]
  },
  {
   "cell_type": "code",
   "execution_count": null,
   "metadata": {
    "collapsed": true
   },
   "outputs": [],
   "source": []
  }
 ],
 "metadata": {
  "kernelspec": {
   "display_name": "Python 2",
   "language": "python",
   "name": "python2"
  },
  "language_info": {
   "codemirror_mode": {
    "name": "ipython",
    "version": 2
   },
   "file_extension": ".py",
   "mimetype": "text/x-python",
   "name": "python",
   "nbconvert_exporter": "python",
   "pygments_lexer": "ipython2",
   "version": "2.7.12"
  }
 },
 "nbformat": 4,
 "nbformat_minor": 0
}
