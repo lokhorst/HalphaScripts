{
 "cells": [
  {
   "cell_type": "markdown",
   "metadata": {},
   "source": [
    "From Bob:\n",
    "\n",
    "I have no idea what is going on here:  We are sky noise limited in 5min.  So in an hour we can probably be sky noise limited with a filter that has a width of about 150 / 12 \"nm\"  "
   ]
  },
  {
   "cell_type": "code",
   "execution_count": 2,
   "metadata": {
    "collapsed": false
   },
   "outputs": [
    {
     "data": {
      "text/plain": [
       "12.5"
      ]
     },
     "execution_count": 2,
     "metadata": {},
     "output_type": "execute_result"
    }
   ],
   "source": [
    "150./12."
   ]
  },
  {
   "cell_type": "markdown",
   "metadata": {},
   "source": [
    "H$\\alpha$ is at 656.3nm, the Coma cluster is at 8000 km/s (call it 10,000 km/s allowing for 2x the RMS velocity dispersion of a huge cluster), and Virgo is at about 2000 km/s, Leo I has redshift of 750 km/s.   \n",
    "\n",
    "v = H_0 d | d = 20 Mpc | H_0 = 70 km/s/Mpc  --> v = 1400 km/s\n"
   ]
  },
  {
   "cell_type": "code",
   "execution_count": 3,
   "metadata": {
    "collapsed": true
   },
   "outputs": [],
   "source": [
    "%matplotlib inline\n",
    "\n",
    "import numpy as np\n",
    "import matplotlib.pyplot as plt\n",
    "from astropy import constants as const\n",
    "from astropy import units as u"
   ]
  },
  {
   "cell_type": "code",
   "execution_count": 5,
   "metadata": {
    "collapsed": false
   },
   "outputs": [],
   "source": [
    "halpha_rest = 656.3 *u.nm # nm\n",
    "c = 300000.               # km/s\n",
    "def halpha_z(v):\n",
    "    return halpha_rest*(1+(v/c))"
   ]
  },
  {
   "cell_type": "code",
   "execution_count": 6,
   "metadata": {
    "collapsed": false
   },
   "outputs": [
    {
     "name": "stdout",
     "output_type": "stream",
     "text": [
      "redshift of Coma:  21.8766666667 nm\n",
      "redshift of Virgo: 4.37533333333 nm\n",
      "redshift of Leo I: 1.64075 nm\n"
     ]
    }
   ],
   "source": [
    "print('redshift of Coma:  '+str(halpha_z(10000)-halpha_rest))\n",
    "print('redshift of Virgo: '+str(halpha_z(2000)-halpha_rest))\n",
    "print('redshift of Leo I: '+str(halpha_z(750)-halpha_rest))"
   ]
  },
  {
   "cell_type": "markdown",
   "metadata": {},
   "source": [
    "The filter used by Donahue, Aldering & Stocke 1995 is described as follows: “The bandpass of the narrow-band filter is centered on 6583 Å with a FWHM of 31 Å after including the effects of the f/3.6 converging beam of the Burrell Schmidt and accounting for the dome air temperature. This corresponds to a velocity range of ~400-1800 km/s for Hα.”\n",
    "\n",
    "The standard formula for λ shift with angle θ (in deg) for indices n2 and n1 is:"
   ]
  },
  {
   "cell_type": "code",
   "execution_count": 7,
   "metadata": {
    "collapsed": true
   },
   "outputs": [],
   "source": [
    "def shift(wavelen, theta, n_2, n_1) :\n",
    "    new = wavelen*np.sqrt(1.-((n_1/n_2)*np.sin(theta*np.pi / 180.))**2)\n",
    "    return new-wavelen"
   ]
  },
  {
   "cell_type": "markdown",
   "metadata": {},
   "source": [
    "(Caution: this isbased on small angle approx! Probably wrong for big tilts?).\n",
    "\n",
    "Don says [OIII] shifts by 1.5nm for an 8 deg tilt. SiO2(Quartz) has an index n=1.4585 and Ta2 O5 has an index of about 2 (2.1 if IAD is used). So applying the standard formula to Don’s filter:"
   ]
  },
  {
   "cell_type": "code",
   "execution_count": 8,
   "metadata": {
    "collapsed": false
   },
   "outputs": [
    {
     "name": "stdout",
     "output_type": "stream",
     "text": [
      "-2.31719039327\n"
     ]
    }
   ],
   "source": [
    "print(shift(500.7, 8, 2.1, 1.45))"
   ]
  },
  {
   "cell_type": "markdown",
   "metadata": {},
   "source": [
    "The Bob multiplied the result by a fudge factor of 0.65 to match to what Don had measured (shift of 1.5 nm for an 8 deg tilt).\n",
    "\n",
    "But I wonder if there's a better way?  Reading through Lofdahl+ 2011, it looks like when you have two transmitting \"cavities\" (two layers on the filter?), you need to define an **effective index of refraction**.  Not sure how to do that (look in Optics by Hecht), but it looks like they should be added together from the $\\beta$ in Lofdahl+ 2011.  I tried that then decided to average them together, and you get a shift of ~1.5 nm which is the goal (below).  So surprisingly, averaging the two indices of refraction works quite well.\n",
    "\n",
    "Since I am not sure what the filter is (but I am assuming from Bob's notes that it is a two layer filter of SiO2 and Ta2O5), this seems to be appropriate."
   ]
  },
  {
   "cell_type": "code",
   "execution_count": 9,
   "metadata": {
    "collapsed": false
   },
   "outputs": [
    {
     "name": "stdout",
     "output_type": "stream",
     "text": [
      "-2.30649221013\n",
      "-1.5414538009\n"
     ]
    }
   ],
   "source": [
    "#  First I tried applying one at a time, but this leads to confusing results\n",
    "first = shift(500.7, 8, 1.45, 1)\n",
    "second = shift(500.7+first, 8, 2.1, 1.45)\n",
    "third = shift(500.7+first, 8, 2.1, 1.45)\n",
    "print(second)\n",
    "\n",
    "# Then I tried creating an effective index of refraction: (n1+n2)/2, with \n",
    "# air as the entrance medium\n",
    "print(shift(500.7, 8, (2.1+1.45)/2.,1))\n"
   ]
  },
  {
   "cell_type": "code",
   "execution_count": 10,
   "metadata": {
    "collapsed": false
   },
   "outputs": [
    {
     "name": "stdout",
     "output_type": "stream",
     "text": [
      "1.775\n"
     ]
    },
    {
     "data": {
      "image/png": "[encoded data removed]",
      "text/plain": [
       "<matplotlib.figure.Figure at 0x10b1027d0>"
      ]
     },
     "metadata": {},
     "output_type": "display_data"
    }
   ],
   "source": [
    "tilt = np.arange(0,30,0.1)\n",
    "eff_index_of_refr = (2.1+1.45)/2.\n",
    "print(eff_index_of_refr)\n",
    "eff_index_of_refr_TWEAK = 2.1 # tweaked to fit (\"Astro\")Don's values\n",
    "\n",
    "plt.plot(tilt,shift(662., tilt, eff_index_of_refr_TWEAK,1))\n",
    "plt.ylabel('Wavelength Shift (nm)')\n",
    "plt.xlabel('Tilt Angle (degrees)')\n",
    "\n",
    "# needed shifts (as differences)\n",
    "plt.plot([0,30],[-21.88,-21.88],'r--',label='Coma') \n",
    "plt.plot([0,30],[-4.38,-4.38],'y--'  ,label='Virgo')  \n",
    "plt.plot([0,30],[-1.64,-1.64],'c--'  ,label='Leo I')  \n",
    "#plt.plot([0,30],[-5,-5],'k--'  ,label='test')  \n",
    "\n",
    "# Let's also add on the empirical data measured by (\"Astro\")Don\n",
    "AOI = np.array([0,5,10,15,20,25,30])\n",
    "blueshift = np.array([0,0.5,2.7,4.9,8.9,13.5,19.5])\n",
    "plt.plot(AOI,-1*blueshift,'ro',label='AstroDon measurements')\n",
    "\n",
    "plt.ylim(-25,5)\n",
    "plt.legend(loc=3, fancybox=True)\n",
    "plt.grid()\n",
    "\n",
    "plt.savefig('FilterTuning.png')"
   ]
  },
  {
   "cell_type": "markdown",
   "metadata": {},
   "source": [
    "Note that when the filter is tilted, the wavelength shift is to the *blue* whereas redshift is, clearly, towards the *red*.  Thus when we get a filter, we will need it to be originally centered to the red of the H$\\alpha$ line rather than on the H$\\alpha$ line, or else we will never be able to adjust it to the correct redshift.\n",
    "\n",
    "Another note is to consider the broadening of the filter bandwidth as it is tilted for a filter in a convering beam (this effect is calculated in Lofdahl+ 2011).  But actually this might only happen in a converging beam (since the angle of incidence on the filter changes across the pupil plane in a converging beam). In Lofdahl+ 2011, they use the geometry of the converging beam to calculate the broadening by integrating over the pupil field and considering the differing ray angles at each point over the field.\n",
    "\n",
    "One thing I don't know about is the transmittance of the filter as a function of AOI.\n",
    "\n",
    "I also had a small moment where I worried about the refraction angle of the light and if it would change it's incidence angle onto the lens by passing through a tilted filter, but then I remembered that the combined effect of the light crossing into the filter and then crossing out of the filter readjusts its direction to the original light path.  So we don't need to worry about that."
   ]
  },
  {
   "cell_type": "markdown",
   "metadata": {},
   "source": [
    "Let's say we want 5 nm tunable filter range -- 656.3 to 661.3 nm."
   ]
  },
  {
   "cell_type": "code",
   "execution_count": null,
   "metadata": {
    "collapsed": true
   },
   "outputs": [],
   "source": []
  }
 ],
 "metadata": {
  "kernelspec": {
   "display_name": "Python 2",
   "language": "python",
   "name": "python2"
  },
  "language_info": {
   "codemirror_mode": {
    "name": "ipython",
    "version": 2
   },
   "file_extension": ".py",
   "mimetype": "text/x-python",
   "name": "python",
   "nbconvert_exporter": "python",
   "pygments_lexer": "ipython2",
   "version": "2.7.12"
  }
 },
 "nbformat": 4,
 "nbformat_minor": 0
}
