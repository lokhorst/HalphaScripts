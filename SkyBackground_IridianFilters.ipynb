{
 "cells": [
  {
   "cell_type": "markdown",
   "metadata": {},
   "source": [
    "## Same as SkyBackground_FilterWidths, ...\n",
    "\n",
    "but using filter transmission curves to calculate the sky background within some filter."
   ]
  },
  {
   "cell_type": "markdown",
   "metadata": {},
   "source": [
    "From Iridian:\n",
    "\n",
    ">Also in the meeting we discussed \"how narrow a filter we can offer and the angular sensitivity of this\".  I have attached here some pdf slides on a \"sub-nm \" BPF demo that we have coated along with an excel file describing the effects of cone angle.  The narrowest filter that we can grow depends on the uniformity that can be achieved over the desired clear aperture.   One way to think about this is that there is an effective clear aperture outside of which the filter shifts by more than its bandwidth.  If the effective clear aperture < specified clear aperture, then the bandwidth is too narrow for the attainable uniformity.\n",
    "\n",
    ">For a 0.04% total uniformity variation over a clear aperture of 150 mm, then the minimum bandwidth is CWL * uniformity.  For CWL=659 nm, the min bandwidth =  0.27 nm.   In practice, we'd probably want to limit a CWL shift due to uniformity to ½ the bandwidth (in order to still have the line of interest being transmitted) --> min FWHM = 0.54 nm for CWL = 659 nm.\n",
    "\n",
    ">Adam has calculated the transmittance of three different FWHM filters (and the results are in the attached excel file) : <br>\n",
    "a)\tCWL=659 nm, FWHM = 3.1 nm,  Collimated, CHA = 1.5° and 11°  for AOI=0° and 10°  <br>\n",
    "b)\tCWL= 659 nm, FWHM = 0.8 nm, Collimated, CHA = 1.5° and 11°  for AOI=0° and 10°  <br>\n",
    "c)\tCWL= 659 nm, FWHM = 0.4 nm, Collimated, CHA = 1.5° and 11°  for AOI=0° and 10°  <br>\n",
    "\n",
    ">As you can see, all of these calculations assume a flat profile with angle (worst case).  Adam did one calculation for a Gaussian profile - this is also in the excel file."
   ]
  },
  {
   "cell_type": "code",
   "execution_count": 1,
   "metadata": {
    "collapsed": true
   },
   "outputs": [],
   "source": [
    "%matplotlib inline\n",
    "\n",
    "import numpy as np\n",
    "import matplotlib.pyplot as plt\n",
    "from astropy import constants as const\n",
    "from astropy import units as u\n",
    "from astropy.io import fits"
   ]
  },
  {
   "cell_type": "code",
   "execution_count": 2,
   "metadata": {
    "collapsed": true
   },
   "outputs": [],
   "source": [
    "def loadBackgroundGemini(start,end,machine,plot=False,verbose=False):\n",
    "    # Returns the total background flux in the wavlength interval supplied i.e. returns (flux)*(wavlength interval) \n",
    "    wavelength = []\n",
    "    flux = []\n",
    "    \n",
    "    if machine=='chinook':\n",
    "        geminiloc='/Users/lokhorst/Documents/Eagle/Gemini_skybackground.dat'\n",
    "    elif machine=='coho':\n",
    "        geminiloc='/Users/deblokhorst/Documents/Dragonfly/HalphaScripts/Gemini_skybackground.dat'\n",
    "    \n",
    "    with open(geminiloc,'r') as f:  #wavelength in nm, flux in phot/s/nm/arcsec^2/m^2\n",
    "        for line in f:\n",
    "            if line[0]!='#' and len(line)>5:\n",
    "                tmp = line.split()\n",
    "                wavelength.append(tmp[0])\n",
    "                flux.append(tmp[1])\n",
    "                \n",
    "    wavelength = np.array(wavelength,'d')\n",
    "    flux = np.array(flux,'d')\n",
    "    \n",
    "    start_ind = (np.abs(wavelength-start)).argmin()\n",
    "    end_ind   = (np.abs(wavelength-end)).argmin()\n",
    "        \n",
    "    return wavelength[start_ind-1:end_ind+1],flux[start_ind-1:end_ind+1]"
   ]
  },
  {
   "cell_type": "code",
   "execution_count": 3,
   "metadata": {
    "collapsed": true
   },
   "outputs": [],
   "source": [
    "def loadBackgroundUVES(start,end,machine,plot=False,verbose=False):\n",
    "    \n",
    "    #start = start*10\n",
    "    #end = end*10\n",
    "    \n",
    "    def getUVESBackground(filename):\n",
    "        hdulist = fits.open(filename)\n",
    "        flux = hdulist[0].data\n",
    "    \n",
    "        CRPIX1 = hdulist[0].header['CRPIX1']\n",
    "        CRVAL1 = hdulist[0].header['CRVAL1']\n",
    "        CDELT1 = hdulist[0].header['CDELT1']\n",
    "        #print(CRPIX1,CRVAL1,CDELT1)\n",
    "        hdulist.close()\n",
    "        \n",
    "        begin = CRVAL1 - CRPIX1*CDELT1   \n",
    "        end = begin + len(flux)*CDELT1\n",
    "        wavelength = np.arange(begin,end,CDELT1)\n",
    "        #print(len(wavelength),len(flux))\n",
    "        return wavelength,flux\n",
    "\n",
    "    # Returns the total background flux in the wavlength interval supplied i.e. returns (flux)*(wavlength interval) \n",
    "    wavelength = []\n",
    "    flux = []\n",
    "    \n",
    "    filename1 = \"fluxed_sky_580U.fits\"\n",
    "    filename2 = \"fluxed_sky_860L.fits\"\n",
    "    leakycolumns = [6340.5, 6407, 6475.5,6545, 6616, 6689,6763] # locations where should mask data\n",
    "    # about 2 angstrom thick\n",
    "    \n",
    "\n",
    "    if machine=='coho':\n",
    "        uvesloc = '/Users/deblokhorst/Dropbox/UVES_Sky_Background/UVES_sky_all/'\n",
    "    elif machine =='chinook':\n",
    "        uvesloc = '/Users/lokhorst/Dropbox/UVES_Sky_Background/UVES_sky_all/'\n",
    "    else:\n",
    "        print 'No machine specified!'\n",
    "    \n",
    "    wavelength_UVES1,flux_UVES1=getUVESBackground(uvesloc+filename1)\n",
    "    wavelength_UVES2,flux_UVES2=getUVESBackground(uvesloc+filename2)\n",
    "\n",
    "    if len(wavelength_UVES2)==(len(flux_UVES2)+1):\n",
    "        if verbose:\n",
    "            print('wavelength array is one element longer than the flux array.  Shortening the wavelength array.')\n",
    "        wavelength_UVES2 = wavelength_UVES2[0:-1]\n",
    "        \n",
    "    wavelength = np.append(wavelength_UVES1[wavelength_UVES1<6700.],wavelength_UVES2[wavelength_UVES2>6700.])\n",
    "    flux = np.append(flux_UVES1[wavelength_UVES1<6700.],flux_UVES2[wavelength_UVES2>6700.])\n",
    "        \n",
    "    wavelength = np.array(wavelength,'d')\n",
    "    flux = np.array(flux,'d')\n",
    "    \n",
    "    # convert the units to nm and ph / s / nm / m**2 / arcsec**2\n",
    "    wavelength = wavelength / 10.  \n",
    "        # Angs --> nm\n",
    "    flux = flux *10**-16 * ((wavelength*10**-9)/(const.h.to('erg s').value * const.c.to('m/s').value)) * 10. * (100/1)**2 \n",
    "        # (erg --> photon) and (/ Ang --> / nm) and (/ cm**2 --> / m**2)\n",
    "        \n",
    "    start_ind = (np.abs(wavelength-start)).argmin()\n",
    "    end_ind   = (np.abs(wavelength-end)).argmin()\n",
    "    \n",
    "    return wavelength[start_ind-1:end_ind+1],flux[start_ind-1:end_ind+1]"
   ]
  },
  {
   "cell_type": "code",
   "execution_count": 4,
   "metadata": {
    "collapsed": true
   },
   "outputs": [],
   "source": [
    "def getFluxFlatFilter(wavelength,flux,start,end):\n",
    "    start_ind = 1\n",
    "    end_ind = len(wavelength)-2\n",
    "    # if spacings are not even, need to add element by element\n",
    "    total=0\n",
    "    for index in np.arange(start_ind,end_ind):\n",
    "        total = total+(flux[index]*(wavelength[index+1]-wavelength[index]))\n",
    "        \n",
    "    # slight better\n",
    "    fluxarray = flux[start_ind:end_ind]\n",
    "    wavelenarray_left = wavelength[start_ind-1:end_ind-1]\n",
    "    wavelenarray_cent = wavelength[start_ind:end_ind]\n",
    "    wavelenarray_righ = wavelength[start_ind+1:end_ind+1]\n",
    "    total3 = np.sum(fluxarray*(wavelenarray_righ-wavelenarray_left))/2.\n",
    "           \n",
    "    actualwavelenrange = np.mean([wavelenarray_cent[-1],wavelenarray_righ[-1]]) - \\\n",
    "                        np.mean([wavelenarray_left[0],wavelenarray_cent[0]])\n",
    "    if verbose:\n",
    "        print actualwavelenrange\n",
    "        print end-start\n",
    "        \n",
    "    # scaling to match desired wavelength range, since resolution might not match up correctly\n",
    "    total4 = total3 * (end-start)/actualwavelenrange\n",
    "    \n",
    "    if verbose:\n",
    "        print 'COMPARE: %s and %s and %s'%(total,total3,total4)\n",
    "        \n",
    "    if plot==True:\n",
    "        plt.plot(wavelength[start_ind-100:end_ind+100],flux[start_ind-100:end_ind+100])\n",
    "        top = max(flux[start_ind-100:end_ind+100])\n",
    "        plt.plot([start,start,end,end,start],[0,top,top,0,0])\n",
    "        plt.show()\n",
    "        \n",
    "    return total4"
   ]
  },
  {
   "cell_type": "code",
   "execution_count": 5,
   "metadata": {
    "collapsed": true
   },
   "outputs": [],
   "source": [
    "filterdict = {}\n",
    "\n",
    "def loadFilter(thisfilter,wavefront='Collimated'):\n",
    "    \"\"\"Load the Iridian Transmission curves from the data files for different bandpass filters (BPF).\n",
    "    \n",
    "       thisfilter:  specify which Iridian filter to load\n",
    "                       Options: '6599_3nm_0deg','6599_3nm_10deg','6599_08nm_0deg','6599_08nm_10deg',\n",
    "                                 '6599_08nm_10deg_Gaus','6599_04nm_0deg','6599_04nm_10deg'\n",
    "       \n",
    "       wavefront:  specify which wavefront type for the transmission curve\n",
    "                       Options:  Collimated, ConeAngle22deg, ConeAngle3deg\n",
    "    \"\"\"\n",
    "    # filter options\n",
    "    filters = ['6599_3nm_0deg','6599_3nm_10deg','6599_08nm_0deg','6599_08nm_10deg',\\\n",
    "               '6599_08nm_10deg_Gaus','6599_04nm_0deg','6599_04nm_10deg']\n",
    "    \n",
    "    if thisfilter not in filters:\n",
    "        print \"WARNING: Filter specified not in list of options.  Using default filter.\"\n",
    "        thisfilter = filters[0]\n",
    "        \n",
    "    # check if already loaded into dictionary first\n",
    "    if thisfilter in filterdict:\n",
    "        data = filterdict[thisfilter]\n",
    "        return data['wavelen1'],data[wavefront]\n",
    "    else:\n",
    "        # load filter data from Iridian files\n",
    "        data = np.genfromtxt('%s.dat'%thisfilter,  dtype='f', \\\n",
    "                             names=('wavelen1', 'Collimated', 'wavelen2', 'ConeAngle22deg', 'wavelen3','ConeAngle3deg'))\n",
    "        # save into dictionary\n",
    "        filterdict[thisfilter] = data\n",
    "\n",
    "        return data['wavelen1'],data[wavefront]\n",
    "\n",
    "def getFlux(thisfilter,thissky = 'Gemini',machine='coho'):\n",
    "    \"\"\"Integrate over the filter and sky background spectrum.\n",
    "    \n",
    "        thisfilter:  specify which Iridian filter to load\n",
    "        \n",
    "        thissky: specify which sky background to use to integrate over and get total sky flux\n",
    "                    Options: Gemini, UVES\n",
    "        \n",
    "        machine: specify which machine you are running the code on (for locations of data)\n",
    "                    Options: chinook, coho\n",
    "    \"\"\"\n",
    "    # load data\n",
    "    if thissky == 'Gemini':\n",
    "        dwavelength, dflux = loadBackgroundGemini(640.,680.,machine)\n",
    "    elif thissky =='UVES':\n",
    "        dwavelength, dflux = loadBackgroundUVES(640.,680.,machine)\n",
    "    else:\n",
    "        print \"WARNING: Filter not recognized. Please choose either Gemini or UVES. Returning None.\"\n",
    "        return None\n",
    "    \n",
    "    # load transmission curve\n",
    "    twavelength, tflux = loadFilter(thisfilter) #transmission curve of the filter\n",
    "    \n",
    "    # reinterpolate transmission onto the same wavelength def as the data\n",
    "    itflux = np.interp(dwavelength, twavelength, tflux, left=0., right=0.)  \n",
    "            ## left and right are the values for tflux for dwavelength outside range of twavelength\n",
    "        \n",
    "    # if the filter is null on that wavelength range flux is then 0\n",
    "    ind = itflux > 0.  # makes a masked array where True if >0 and False if <=0\n",
    "    \n",
    "    if True in ind:\n",
    "        # limit integrals to where necessary\n",
    "        # ind = itflux > 0.\n",
    "        total = np.trapz( itflux[ind] * dflux[ind], dwavelength[ind], axis=-1)\n",
    "        if np.isinf(total).any():\n",
    "            print(\"WARNING: inf value from integration.\")\n",
    "        return total\n",
    "    else:\n",
    "        return 0.\n"
   ]
  },
  {
   "cell_type": "markdown",
   "metadata": {},
   "source": [
    "# to dos\n",
    "\n",
    "- test loading the filter transmission curves\n",
    "- plot the filter transmission curves with the sky spectra\n",
    "- confirm that the units work out for the integral of the flux calculation\n"
   ]
  },
  {
   "cell_type": "code",
   "execution_count": 10,
   "metadata": {
    "collapsed": true
   },
   "outputs": [],
   "source": [
    "machine = 'chinook'"
   ]
  },
  {
   "cell_type": "code",
   "execution_count": 19,
   "metadata": {
    "collapsed": true
   },
   "outputs": [],
   "source": [
    "twavelength, tflux = loadFilter('6599_3nm_0deg')\n",
    "dwavelength, dflux = loadBackgroundGemini(640.,680.,machine)\n",
    "dwavelength_u, dflux_u = loadBackgroundUVES(640.,680.,machine)"
   ]
  },
  {
   "cell_type": "code",
   "execution_count": 23,
   "metadata": {
    "collapsed": true
   },
   "outputs": [],
   "source": [
    "itflux = np.interp(dwavelength, twavelength, tflux, left=0., right=0.)"
   ]
  },
  {
   "cell_type": "code",
   "execution_count": 24,
   "metadata": {
    "collapsed": false
   },
   "outputs": [
    {
     "data": {
      "text/plain": [
       "(0, 1.5)"
      ]
     },
     "execution_count": 24,
     "metadata": {},
     "output_type": "execute_result"
    },
    {
     "data": {
      "image/png": "[encoded data removed]",
      "text/plain": [
       "<matplotlib.figure.Figure at 0x10de23a50>"
      ]
     },
     "metadata": {},
     "output_type": "display_data"
    }
   ],
   "source": [
    "plt.plot(dwavelength_u,dflux_u)\n",
    "plt.plot(dwavelength,dflux)\n",
    "plt.plot(twavelength,tflux)\n",
    "plt.plot(dwavelength,itflux)\n",
    "plt.ylim(0,1.5)"
   ]
  },
  {
   "cell_type": "code",
   "execution_count": 27,
   "metadata": {
    "collapsed": true
   },
   "outputs": [],
   "source": [
    "ind = itflux > 0."
   ]
  },
  {
   "cell_type": "code",
   "execution_count": 30,
   "metadata": {
    "collapsed": false
   },
   "outputs": [],
   "source": [
    "total = np.trapz( itflux[ind] * dflux[ind], dwavelength[ind], axis=-1)"
   ]
  },
  {
   "cell_type": "code",
   "execution_count": 31,
   "metadata": {
    "collapsed": false
   },
   "outputs": [
    {
     "name": "stdout",
     "output_type": "stream",
     "text": [
      "1.5044920901\n"
     ]
    }
   ],
   "source": [
    "print total"
   ]
  },
  {
   "cell_type": "code",
   "execution_count": null,
   "metadata": {
    "collapsed": true
   },
   "outputs": [],
   "source": []
  }
 ],
 "metadata": {
  "kernelspec": {
   "display_name": "Python 2",
   "language": "python",
   "name": "python2"
  },
  "language_info": {
   "codemirror_mode": {
    "name": "ipython",
    "version": 2
   },
   "file_extension": ".py",
   "mimetype": "text/x-python",
   "name": "python",
   "nbconvert_exporter": "python",
   "pygments_lexer": "ipython2",
   "version": "2.7.13"
  }
 },
 "nbformat": 4,
 "nbformat_minor": 2
}
