{
 "cells": [
  {
   "cell_type": "markdown",
   "metadata": {},
   "source": [
    "Some signal-to-noise ratio plots for the CASTOR thingie."
   ]
  },
  {
   "cell_type": "code",
   "execution_count": 11,
   "metadata": {
    "collapsed": true
   },
   "outputs": [],
   "source": [
    "%matplotlib inline\n",
    "\n",
    "import numpy as np\n",
    "import matplotlib.pyplot as plt\n",
    "from astropy import constants as const\n",
    "from astropy import units as u\n",
    "from matplotlib import rcParams\n",
    "rcParams.update({'figure.autolayout': True})\n",
    "\n",
    "from astropy.io import fits\n",
    "import math\n",
    "\n",
    "machine = 'coho'"
   ]
  },
  {
   "cell_type": "code",
   "execution_count": 7,
   "metadata": {
    "collapsed": true
   },
   "outputs": [],
   "source": [
    "plt.style.use('seaborn-dark-palette')\n",
    "plt.style.use('ggplot')\n",
    "font = {'family' : 'normal',\n",
    "        'weight' : 'normal',\n",
    "        'size'   : 16}\n",
    "import matplotlib\n",
    "matplotlib.rc('font', **font)\n",
    "\n",
    "TINY_SIZE = 14\n",
    "SMALL_SIZE = 16\n",
    "MEDIUM_SIZE = 16\n",
    "BIGGER_SIZE = 18\n",
    "\n",
    "plt.rc('font', size=SMALL_SIZE)          # controls default text sizes\n",
    "plt.rc('axes', titlesize=SMALL_SIZE)     # fontsize of the axes title\n",
    "plt.rc('axes', labelsize=MEDIUM_SIZE)    # fontsize of the x and y labels\n",
    "plt.rc('xtick', labelsize=SMALL_SIZE)    # fontsize of the tick labels\n",
    "plt.rc('ytick', labelsize=SMALL_SIZE)    # fontsize of the tick labels\n",
    "plt.rc('legend', fontsize=TINY_SIZE)     # legend fontsize\n",
    "plt.rc('figure', titlesize=BIGGER_SIZE)  # fontsize of the figure title\n"
   ]
  },
  {
   "cell_type": "code",
   "execution_count": 3,
   "metadata": {},
   "outputs": [
    {
     "name": "stdout",
     "output_type": "stream",
     "text": [
      "VERBOSE: Guessing... (QE = 0.7, R = 5.)\n",
      "25.0 ph\n"
     ]
    }
   ],
   "source": [
    "def CASTOR(CMOS=False, Dragonfly=False):\n",
    "    area_lens = np.pi * (100./2.)**2 * u.cm**2                   # 1m circular aperture\n",
    "    pix_size = 1.                                              # arcsec (total guess)\n",
    "    ang_size_pixel  = (pix_size * (1./206265.))**2 * u.rad**2  # rad^2, the pixel size of the CCD\n",
    "\n",
    "    tau_l = 0.85  # transmittance of the Dragonfly lens\n",
    "    tau_f = 1.    # transmittance of the Halpha filter -- assumed for now\n",
    "\n",
    "    # The following are per pixel\n",
    "    D = 0.04 *u.photon/u.second                             # dark current (electrons / s) -- PER PIXEL??\n",
    "    \n",
    "    if CMOS:\n",
    "        print \"VERBOSE: Using new CMOS cameras... (QE = 0.70, R = 2.)\"\n",
    "        QE = 0.70                # quantum efficiency of the CMOS detector\n",
    "        R = 2.                   # read noise (electrons)\n",
    "    elif Dragonfly:\n",
    "        print \"VERBOSE: Using old cameras... (QE = 0.48, R = 10.)\"\n",
    "        QE = 0.48                # quantum efficiency of the CCDs\n",
    "        R = 10.                  # read noise (electrons)\n",
    "    else:\n",
    "        print \"VERBOSE: Guessing... (QE = 0.7, R = 5.)\"\n",
    "        QE = 0.7                # quantum efficiency of the CCDs\n",
    "        R = 5.                  # read noise (electrons)\n",
    "        \n",
    "        \n",
    "    R_squared = R**2 * u.photon\n",
    "        \n",
    "    return [area_lens, ang_size_pixel, pix_size, tau_l, tau_f, QE, D, R_squared]\n",
    "\n",
    "[area_lens, ang_size_pixel, pix_size, tau_l, tau_f, QE, D, R_squared] = CASTOR()\n",
    "print R_squared"
   ]
  },
  {
   "cell_type": "code",
   "execution_count": 49,
   "metadata": {
    "collapsed": true
   },
   "outputs": [],
   "source": [
    "def print_verbose_string(printthis,verbose):\n",
    "    if verbose:\n",
    "        print printthis\n",
    "\n",
    "def calcSNR(SB_ph,time,R_squared,D,explength=10.*(60.*u.second),verbose=False):\n",
    "    numexp=1\n",
    "    if isinstance(time.value, (np.ndarray)):\n",
    "        numexp = np.array([math.ceil(thistime/explength) for thistime in time])\n",
    "    else:\n",
    "        numexp = math.ceil(time/explength) # round up the number of exposures\n",
    "    print_verbose_string('Number of exposures: %s'%numexp,verbose)\n",
    "        \n",
    "    S = SB_ph * QE * tau_l * tau_f * area_lens * ang_size_pixel\n",
    "    signal = S*time*numpixel\n",
    "    ###B_tot = B * QE * tau_l * tau_f * area_lens.to(u.m**2) * ang_size_pixel.to(u.arcsec**2)\n",
    "    print_verbose_string('total S: %s'%signal,verbose)\n",
    "    ###print('total B: %s'%(B_tot*time*numpixel))\n",
    "    #sigma = np.sqrt(signal + B_tot*time*numpixel + D*time*numpixel + R_squared*numpixel)\n",
    "    ###sigma = np.sqrt(signal + B_tot*time*numpixel + D*time*numpixel*numlens + R_squared*numpixel*numlens*numexp)\n",
    "    sigma = np.sqrt(signal + D*time*numpixel + R_squared*numpixel*numexp)\n",
    "    print_verbose_string('total R: %s'%(R_squared*numpixel*numexp),verbose)\n",
    "    print_verbose_string('total D: %s'%(D*time*numpixel),verbose)\n",
    "    SNR = signal/sigma\n",
    "    return SNR"
   ]
  },
  {
   "cell_type": "code",
   "execution_count": 39,
   "metadata": {
    "collapsed": true
   },
   "outputs": [],
   "source": [
    "def plotSNR(SB_ph,time,R_squared,D,refSNR=5.0,linestyle='-',label='',colour='black'):\n",
    "    SNR = calcSNR(SB_ph,time,R_squared,D,explength=10.*(60.*u.second))\n",
    "    ind = (np.abs(SNR.value-refSNR)).argmin()\n",
    "    plt.plot(time/3600.,SNR,label=label+' (%.1f hr)'%(time[ind]/3600.).value,\\\n",
    "             linewidth=3,linestyle=linestyle,color=colour)\n",
    "    return SNR,ind,time[ind]/3600."
   ]
  },
  {
   "cell_type": "code",
   "execution_count": 40,
   "metadata": {
    "collapsed": true
   },
   "outputs": [],
   "source": [
    "SB_ph_min2 = 10**-2. * u.photon / (u.cm**2 * u.rad**2 * u.second)\n",
    "SB_ph_min1 = 10**-1. * u.photon / (u.cm**2 * u.rad**2 * u.second)\n",
    "SB_ph_0 = 10**0. * u.photon / (u.cm**2 * u.rad**2 * u.second)\n",
    "SB_ph_1 = 10**1. * u.photon / (u.cm**2 * u.rad**2 * u.second)\n",
    "SB_ph_2 = 10**2. * u.photon / (u.cm**2 * u.rad**2 * u.second)\n",
    "SB_ph_3 = 10**3. * u.photon / (u.cm**2 * u.rad**2 * u.second)"
   ]
  },
  {
   "cell_type": "code",
   "execution_count": 41,
   "metadata": {
    "collapsed": true
   },
   "outputs": [],
   "source": [
    "sky_background = 0 *u.photon/u.second/u.arcsec**2/u.m**2 "
   ]
  },
  {
   "cell_type": "code",
   "execution_count": 69,
   "metadata": {
    "collapsed": true
   },
   "outputs": [],
   "source": [
    "numpixel = 100.0 * 100.0/(pix_size**2)   # 100-arcsec-a-side pixels\n",
    "#numpixel = 200.0 * 200.0/(pix_size**2)   # 100-arcsec-a-side pixels\n",
    "#numpixel = 1000.0 * 1000.0/(pix_size**2)   # 100-arcsec-a-side pixels"
   ]
  },
  {
   "cell_type": "code",
   "execution_count": 70,
   "metadata": {},
   "outputs": [
    {
     "name": "stdout",
     "output_type": "stream",
     "text": [
      "Number of exposures: 6.0\n",
      "total S: 3954.19666614 ph\n",
      "total R: 60000.0 ph\n",
      "total D: 36000.0 ph\n",
      "12.5071324511 ph(1/2)\n",
      "\n",
      "Number of exposures: 60.0\n",
      "total S: 39541.9666614 ph\n",
      "total R: 600000.0 ph\n",
      "total D: 360000.0 ph\n",
      "39.551025543 ph(1/2)\n",
      "\n",
      "Number of exposures: 600.0\n",
      "total S: 395419.666614 ph\n",
      "total R: 6000000.0 ph\n",
      "total D: 3600000.0 ph\n",
      "125.071324511 ph(1/2)\n",
      "\n",
      "Number of exposures: 6000.0\n",
      "total S: 3954196.66614 ph\n",
      "total R: 60000000.0 ph\n",
      "total D: 36000000.0 ph\n",
      "395.51025543 ph(1/2)\n",
      "\n"
     ]
    }
   ],
   "source": [
    "time = 60.*60.*1. * u.second\n",
    "#print isinstance(time.value, (np.ndarray))\n",
    "D = 0.001 *u.photon/u.second             # dark current (electrons / s) -- PER PIXEL??\n",
    "R_squared = 1.**2 * u.photon\n",
    "verbose=True\n",
    "SNR = calcSNR(SB_ph_3,60.*60.*1. * u.second,R_squared,D,verbose=verbose)\n",
    "print SNR\n",
    "print \"\"\n",
    "SNR = calcSNR(SB_ph_3,60.*60.*10. * u.second,R_squared,D,verbose=verbose)\n",
    "print SNR\n",
    "print \"\"\n",
    "SNR = calcSNR(SB_ph_3,60.*60.*100. * u.second,R_squared,D,verbose=verbose)\n",
    "print SNR\n",
    "print \"\"\n",
    "SNR = calcSNR(SB_ph_3,60.*60.*1000. * u.second,R_squared,D,verbose=verbose)\n",
    "print SNR\n",
    "print \"\"\n",
    "#time = 60.*60.*60. * u.second\n",
    "#SNR = calcSNR(SB_ph_three,time,R_squared,D)\n",
    "#print SNR\n",
    "#print \"\"\n",
    "\n",
    "#time = 60.*60.*1. * u.second\n",
    "#SNR = calcSNR(SB_ph_three,time,R_squared,D,explength=10.*(60.*u.second))\n",
    "#print SNR"
   ]
  },
  {
   "cell_type": "code",
   "execution_count": 83,
   "metadata": {
    "scrolled": false
   },
   "outputs": [
    {
     "data": {
      "image/png": "[encoded data removed]",
      "text/plain": [
       "<matplotlib.figure.Figure at 0x10b351d50>"
      ]
     },
     "metadata": {},
     "output_type": "display_data"
    }
   ],
   "source": [
    "time = np.arange(1,60.*60.*2000.,60.*5)* u.second\n",
    "limit = time[-1]/u.second\n",
    "\n",
    "# reference signal-to-noise for comparison\n",
    "refSNR = 1.0\n",
    "\n",
    "reds = plt.get_cmap(\"Reds\")\n",
    "blues = plt.get_cmap(\"Blues\")\n",
    "\n",
    "plt.figure(figsize=(8,5))\n",
    "\n",
    "D = 0.02 *u.photon/u.second             # dark current (electrons / s) -- PER PIXEL??\n",
    "R_squared = 1.**2 * u.photon\n",
    "#SNR,ind,total = plotSNR(SB_ph_3,time,R_squared,D,refSNR=refSNR,linestyle='--',\n",
    "#                        label='1000 ph',colour=reds(0.3))\n",
    "SNR,ind,total = plotSNR(SB_ph_2,time,R_squared,D,refSNR=refSNR,linestyle='--',\n",
    "                        label='D=0.02 e/s/p, R=1, 100 ph',colour=reds(0.3))\n",
    "#SNR,ind,total = plotSNR(SB_ph_1,time,R_squared,D,refSNR=refSNR,linestyle='-',\n",
    "#                        label='D=0.02 e/s/p, R=1, 10 ph',colour=reds(0.3))\n",
    "#SNR,ind,total = plotSNR(SB_ph_0,time,R_squared,D,refSNR=refSNR,linestyle='--',\n",
    "#                        label='1 ph',colour=reds(0.9))\n",
    "\n",
    "D = 0.04 *u.photon/u.second             # dark current (electrons / s) -- PER PIXEL??\n",
    "R_squared = 1.**2 * u.photon\n",
    "#SNR,ind,total = plotSNR(SB_ph_3,time,R_squared,D,refSNR=refSNR,linestyle='--',\n",
    "#                        label='1000 ph',colour=reds(0.3))\n",
    "SNR,ind,total = plotSNR(SB_ph_2,time,R_squared,D,refSNR=refSNR,linestyle='--',\n",
    "                        label='D=0.04 e/s/p, R=1, 100 ph',colour=reds(0.5))\n",
    "#SNR,ind,total = plotSNR(SB_ph_1,time,R_squared,D,refSNR=refSNR,linestyle='-',\n",
    "#                        label='D=0.04 e/s/p, R=1, 10 ph',colour=reds(0.5))\n",
    "#SNR,ind,total = plotSNR(SB_ph_0,time,R_squared,D,refSNR=refSNR,linestyle='--',\n",
    "#                        label='1 ph',colour=reds(0.9))\n",
    "\n",
    "D = 0.04 *u.photon/u.second             # dark current (electrons / s) -- PER PIXEL??\n",
    "R_squared = 5.**2 * u.photon\n",
    "#SNR,ind,total = plotSNR(SB_ph_3,time,R_squared,D,refSNR=refSNR,linestyle='--',\n",
    "#                        label='1000 ph',colour=reds(0.3))\n",
    "SNR,ind,total = plotSNR(SB_ph_2,time,R_squared,D,refSNR=refSNR,linestyle='--',\n",
    "                        label='D=0.04 e/s/p, R=5, 100 ph',colour=reds(0.7))\n",
    "#SNR,ind,total = plotSNR(SB_ph_1,time,R_squared,D,refSNR=refSNR,linestyle='-',\n",
    "#                        label='D=0.04 e/s/p, R=5, 10 ph',colour=reds(0.7))\n",
    "#SNR,ind,total = plotSNR(SB_ph_0,time,R_squared,D,refSNR=refSNR,linestyle='--',\n",
    "#                        label='1 ph',colour=reds(0.9))\n",
    "\n",
    "D = 0.02 *u.photon/u.second             # dark current (electrons / s) -- PER PIXEL??\n",
    "R_squared = 1.**2 * u.photon\n",
    "#SNR,ind,total = plotSNR(SB_ph_3,time,R_squared,D,refSNR=refSNR,linestyle='--',\n",
    "#                        label='1000 ph',colour=reds(0.3))\n",
    "#SNR,ind,total = plotSNR(SB_ph_2,time,R_squared,D,refSNR=refSNR,linestyle='--',\n",
    "#                        label='D=0.02 e/s/p, R=1, 100 ph',colour=reds(0.3))\n",
    "SNR,ind,total = plotSNR(SB_ph_1,time,R_squared,D,refSNR=refSNR,linestyle='-',\n",
    "                        label='D=0.02 e/s/p, R=1, 10 ph',colour=reds(0.3))\n",
    "#SNR,ind,total = plotSNR(SB_ph_0,time,R_squared,D,refSNR=refSNR,linestyle='--',\n",
    "#                        label='1 ph',colour=reds(0.9))\n",
    "\n",
    "D = 0.04 *u.photon/u.second             # dark current (electrons / s) -- PER PIXEL??\n",
    "R_squared = 1.**2 * u.photon\n",
    "#SNR,ind,total = plotSNR(SB_ph_3,time,R_squared,D,refSNR=refSNR,linestyle='--',\n",
    "#                        label='1000 ph',colour=reds(0.3))\n",
    "#SNR,ind,total = plotSNR(SB_ph_2,time,R_squared,D,refSNR=refSNR,linestyle='--',\n",
    "#                        label='D=0.04 e/s/p, R=1, 100 ph',colour=reds(0.5))\n",
    "SNR,ind,total = plotSNR(SB_ph_1,time,R_squared,D,refSNR=refSNR,linestyle='-',\n",
    "                        label='D=0.04 e/s/p, R=1, 10 ph',colour=reds(0.5))\n",
    "#SNR,ind,total = plotSNR(SB_ph_0,time,R_squared,D,refSNR=refSNR,linestyle='--',\n",
    "#                        label='1 ph',colour=reds(0.9))\n",
    "\n",
    "D = 0.04 *u.photon/u.second             # dark current (electrons / s) -- PER PIXEL??\n",
    "R_squared = 5.**2 * u.photon\n",
    "#SNR,ind,total = plotSNR(SB_ph_3,time,R_squared,D,refSNR=refSNR,linestyle='--',\n",
    "#                        label='1000 ph',colour=reds(0.3))\n",
    "#SNR,ind,total = plotSNR(SB_ph_2,time,R_squared,D,refSNR=refSNR,linestyle='--',\n",
    "#                        label='D=0.04 e/s/p, R=5, 100 ph',colour=reds(0.7))\n",
    "SNR,ind,total = plotSNR(SB_ph_1,time,R_squared,D,refSNR=refSNR,linestyle='-',\n",
    "                        label='D=0.04 e/s/p, R=5, 10 ph',colour=reds(0.7))\n",
    "#SNR,ind,total = plotSNR(SB_ph_0,time,R_squared,D,refSNR=refSNR,linestyle='--',\n",
    "#                        label='1 ph',colour=reds(0.9))\n",
    "\n",
    "\n",
    "\n",
    "plt.plot([0,limit/3600.],[refSNR,refSNR],'k--')   \n",
    "plt.xlabel('Time (hours)')\n",
    "plt.ylabel('SNR')\n",
    "#plt.title('Comparing Filter Bandwidths (near 656.3nm)')\n",
    "plt.grid(linestyle=':',linewidth=2)\n",
    "plt.legend(loc=1,fancybox=True, framealpha=0.5)\n",
    "\n",
    "loglog=False\n",
    "loglogind=''\n",
    "if loglog:\n",
    "    plt.yscale('log')\n",
    "    plt.xscale('log')\n",
    "    loglogind='_loglog'\n",
    "else:\n",
    "    plt.xlim(0,limit/3600.)\n",
    "    plt.ylim(0,5)\n",
    "\n",
    "plt.tight_layout()\n",
    "plt.savefig('SignalToNoise_CASTOR.pdf')"
   ]
  },
  {
   "cell_type": "markdown",
   "metadata": {},
   "source": [
    "Make more sense to zoom in a lot on a filament and then say like half the field would be dominated by filament, so can stack all those pixels together (for the detection of filaments in between galaxies)."
   ]
  },
  {
   "cell_type": "code",
   "execution_count": null,
   "metadata": {
    "collapsed": true
   },
   "outputs": [],
   "source": []
  }
 ],
 "metadata": {
  "kernelspec": {
   "display_name": "Python 2",
   "language": "python",
   "name": "python2"
  },
  "language_info": {
   "codemirror_mode": {
    "name": "ipython",
    "version": 2
   },
   "file_extension": ".py",
   "mimetype": "text/x-python",
   "name": "python",
   "nbconvert_exporter": "python",
   "pygments_lexer": "ipython2",
   "version": "2.7.12"
  }
 },
 "nbformat": 4,
 "nbformat_minor": 2
}
