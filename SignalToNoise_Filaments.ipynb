{
 "cells": [
  {
   "cell_type": "markdown",
   "metadata": {},
   "source": [
    "### Signal to Noise Calculations\n",
    "\n",
    "The SNR is calculated following the equation (see, e.g., pg 407 of \"Spectroscopic Instrumentation\" by Eversberg and Vollmann): \n",
    "\n",
    "$SNR = \\frac{I t}{\\sqrt{I t + B t + D t + R^2}}$, \n",
    "\n",
    "where I is the signal over some number of pixels, B is the sky background over some number of pixels, D is the dark current over some number of pixels and R is the readout noise of the detector.  The exposure time, t, is usually given in seconds."
   ]
  },
  {
   "cell_type": "code",
   "execution_count": 2,
   "metadata": {
    "collapsed": true
   },
   "outputs": [],
   "source": [
    "%matplotlib inline\n",
    "\n",
    "import numpy as np\n",
    "import matplotlib.pyplot as plt\n",
    "from astropy import constants as const\n",
    "from astropy import units as u"
   ]
  },
  {
   "cell_type": "code",
   "execution_count": 3,
   "metadata": {
    "collapsed": true
   },
   "outputs": [],
   "source": [
    "def Dragonfly():\n",
    "    area_lens = np.pi*(14.3/2)**2 * 48. * u.cm**2               # 48 * 14.3 cm diameter lenses\n",
    "    pix_size = 2.8                                              # arcsec\n",
    "    ang_size_pixel  = (pix_size * (1./206265.))**2 * u.rad**2   # rad^2, the pixel size of the CCD\n",
    "\n",
    "    tau_l = 0.85  # transmittance of the Dragonfly lens\n",
    "    QE = 0.70 #QE = 0.48     # quantum efficiency of the CCDs\n",
    "    tau_f = 1.    # transmittance of the Halpha filter -- assumed for now\n",
    "\n",
    "    # The following are per pixel\n",
    "#    B = 0.52135 *u.photon/u.second/u.nm/u.arcsec**2/u.m**2  # sky background at 565.6 nm \n",
    "    D = 0.04 *u.photon/u.second                             # dark current (electrons / s) -- PER PIXEL??\n",
    "#    R_squared = 10.**2 * u.photon                           # read noise (electrons)\n",
    "    R_squared = 1.**2 * u.photon                           # read noise (electrons)\n",
    "\n",
    "\n",
    "    return [area_lens, ang_size_pixel, pix_size, tau_l, tau_f, QE, D, R_squared]"
   ]
  },
  {
   "cell_type": "code",
   "execution_count": 4,
   "metadata": {
    "collapsed": true
   },
   "outputs": [],
   "source": [
    "def getBackground(start,end):\n",
    "    wavelength = []\n",
    "    flux = []\n",
    "    with open('/Users/deblokhorst/Documents/Dragonfly/DragonflyHalpha/Notebooks/Gemini_skybackground.dat','r') as f:\n",
    "        for line in f:\n",
    "            if line[0]!='#' and len(line)>5:\n",
    "                tmp = line.split()\n",
    "                wavelength.append(tmp[0])\n",
    "                flux.append(tmp[1])\n",
    "                \n",
    "    wavelength = np.array(wavelength,'d')\n",
    "    flux = np.array(flux,'d')\n",
    "    \n",
    "    start_ind = (np.abs(wavelength-start)).argmin()\n",
    "    end_ind   = (np.abs(wavelength-end)).argmin()\n",
    "    \n",
    "    # since spacings are even, can just take the average of the flux array and times it by the total bandwidth\n",
    "    return np.mean(flux[start_ind:end_ind])*(wavelength[end_ind]-wavelength[start_ind])\n",
    "\n",
    "    "
   ]
  },
  {
   "cell_type": "markdown",
   "metadata": {},
   "source": [
    "### IGM Filaments\n",
    "\n",
    "Excitingly, I now have actual EAGLE simulation data to play with and get real numbers from their H$\\alpha$ simulations.  In the following section, I take the estimates of surface brightness from selected regions in different simulations.  The simulations vary in box width (analogously to filter bandwidth) and redshift.  \n",
    "\n",
    "I will include SFing regions in the analysis.\n",
    "\n",
    "These simulations have not yet been convolved with a PSF (waiting for Nastasha to finish debugging her code, or for me to have enough time to go through her code myself and get it running).\n",
    "\n",
    "Brace yourselves, because the H$\\alpha$ emission looks *extremely* faint.  (crosses her fingers and grimaces)"
   ]
  },
  {
   "cell_type": "code",
   "execution_count": 10,
   "metadata": {
    "collapsed": false
   },
   "outputs": [
    {
     "name": "stdout",
     "output_type": "stream",
     "text": [
      "[<Quantity 7709.091380790922 cm2>, <Quantity 1.8427438923353984e-10 rad2>, 2.8, 0.85, 1.0, 0.7, <Quantity 0.04 ph / s>, <Quantity 1.0 ph>]\n",
      "Surface brightness: 435.956422437 ph / (cm2 rad2 s)\n",
      "Surface brightness: 464.060325163 ph / (cm2 rad2 s)\n"
     ]
    }
   ],
   "source": [
    "# pick numpixels to bin over:\n",
    "pixsize = 2.8   # arcsec\n",
    "numpixels= np.array([(100.*100.)/(pixsize**2),(10.*10.)/(pixsize**2),1.])\n",
    "numpixel = 100.0 * 100.0/(pixsize**2)   # 100-arcsec-a-side pixels\n",
    "\n",
    "#   scale_50  = 0.206 #kpc/\"  ## at z = 0.01 (about 50 Mpc)\n",
    "#   scale_100 = 0.467 #kpc/\"  ## at z = 0.023 (about 100 Mpc)\n",
    "#   scale_200 = 0.928 #kpc/\"  ## at z = 0.047. (about 200 Mpc)\n",
    "### basically, you can bin twice as much per side if you go twice as much closer\n",
    "\n",
    "[area_lens, ang_size_pixel, pix_size, tau_l, tau_f, QE, D, R_squared] = Dragonfly()\n",
    "\n",
    "print([area_lens, ang_size_pixel, pix_size, tau_l, tau_f, QE, D, R_squared])\n",
    "wavelen = 656.3e-9 * u.m\n",
    "\n",
    "### SB of IGM filaments\n",
    "#Average logSB in the selected region: 2.63944307544\n",
    "#Median logSB in the selected region:-1.37115943432\n",
    "SB_ph_1 = 10**2.639443 * u.photon / (u.cm**2 * u.rad**2 * u.second) # threshold from Steidel et al 2011 plus long translations\n",
    "SB_ph_2 = 10**-1.37116 * u.photon / (u.cm**2 * u.rad**2 * u.second)  # from van de Voort & Schaye 2013\n",
    "#Max SB in the selected region: -0.450042337179\n",
    "#Average SB in the selected region: -1.28205479715\n",
    "#Median SB in the selected region:-1.52137815952\n",
    "#['SBdata_5', 'SBdata_10', 'SBdata_15', 'SBdata_20']   -- numbers are the width of the regions\n",
    "#Average SB in the selected region: [ 2.63944308  2.63944324  2.63946358  2.66657444]\n",
    "#Median SB in the selected region:[-1.37115943 -1.36929631 -1.36385357 -1.26499414]\n",
    "\n",
    "#### snapnum 28\n",
    "#['SBdata_5', 'SBdata_10', 'SBdata_15', 'SBdata_20']\n",
    "#Average SB in the selected region: [ 2.51163479  2.511635    2.51163552  2.60486156]\n",
    "#Median SB in the selected region:[-1.29914451 -1.29799104 -1.29510307 -1.23004115]\n",
    "\n",
    "SB_ph_2 = 10**-0.45004 * u.photon / (u.cm**2 * u.rad**2 * u.second)  # from van de Voort & Schaye 2013\n",
    "\n",
    "### snapnum 27\n",
    "SB_ph_5   = 10**2.63944308 * u.photon / (u.cm**2 * u.rad**2 * u.second)\n",
    "SB_ph_10  = 10**2.63944324 * u.photon / (u.cm**2 * u.rad**2 * u.second)\n",
    "SB_ph_15  = 10**2.63946358 * u.photon / (u.cm**2 * u.rad**2 * u.second)\n",
    "SB_ph_20  = 10**2.66657444 * u.photon / (u.cm**2 * u.rad**2 * u.second)\n",
    "### snapnum 28\n",
    "#SB_ph_5   = 10**2.51163479 * u.photon / (u.cm**2 * u.rad**2 * u.second)\n",
    "#SB_ph_10  = 10**2.511635 * u.photon / (u.cm**2 * u.rad**2 * u.second)\n",
    "#SB_ph_15  = 10**2.51163552 * u.photon / (u.cm**2 * u.rad**2 * u.second)\n",
    "#SB_ph_20  = 10**2.60486156 * u.photon / (u.cm**2 * u.rad**2 * u.second)\n",
    "\n",
    "### snapnum 28\n",
    "SB_ph_5_1 = \n",
    "SB_ph_5_2 = \n",
    "SB_ph_5_3 = \n",
    "\n",
    "print('Surface brightness: '+str(SB_ph_5))\n",
    "print('Surface brightness: '+str(SB_ph_20))"
   ]
  },
  {
   "cell_type": "code",
   "execution_count": 19,
   "metadata": {
    "collapsed": false
   },
   "outputs": [
    {
     "name": "stdout",
     "output_type": "stream",
     "text": [
      "0.410431333333 ph / (arcsec2 m2 nm s)\n",
      "1.47327272727 ph / (arcsec2 m2 nm s)\n",
      "Halpha Signal: 0.000368492132459 ph / s\n",
      "Background Sky: 1.13014602475 ph / s\n",
      "Halpha Signal: 0.000392246954072 ph / s\n",
      "Background Sky: 15.8942416038 ph / s\n"
     ]
    },
    {
     "data": {
      "image/png": "[encoded data removed]",
      "text/plain": [
       "<matplotlib.figure.Figure at 0x1037e0650>"
      ]
     },
     "metadata": {},
     "output_type": "display_data"
    }
   ],
   "source": [
    "# pick how long to calculate SNR over\n",
    "time = np.arange(1,60.*60.*1000000.,1000)* u.second\n",
    "time = np.arange(1,60.*60.*100.*10.)* u.second\n",
    "#time = np.arange(1,60.*60.*100.*20.)* u.second\n",
    "limit = time[-1]/u.second\n",
    "\n",
    "# 5 Mpc, \n",
    "filterwidth_5 = 0.7657* u.nm \n",
    "B_5 = getBackground(656.3,657.0657)*u.photon/u.second/u.nm/u.arcsec**2/u.m**2\n",
    "print(B_5)\n",
    "# 20 Mpc, \n",
    "filterwidth_20 = 3 * u.nm\n",
    "B_20 = getBackground(656.3,659.3)*u.photon/u.second/u.nm/u.arcsec**2/u.m**2\n",
    "print(B_20)\n",
    "\n",
    "for SB_ph in [SB_ph_5, SB_ph_20]:\n",
    "    if SB_ph == SB_ph_5:\n",
    "        B = B_5\n",
    "        filterwidth = filterwidth_5\n",
    "    if SB_ph == SB_ph_20:\n",
    "        B = B_20\n",
    "        filterwidth = filterwidth_20\n",
    "\n",
    "    ## Signal\n",
    "    S = SB_ph * QE * tau_l * tau_f * area_lens * ang_size_pixel\n",
    "    signal = S*time*numpixel\n",
    "    ## Noise\n",
    "    B_tot = B * QE * tau_l * tau_f * filterwidth * area_lens.to(u.m**2) * ang_size_pixel.to(u.arcsec**2)\n",
    "    sigma = np.sqrt(signal + B_tot*time*numpixel + D*time*numpixel + R_squared*numpixel)\n",
    "\n",
    "    # Note that the signal is about an eighth the strength of the background sky signal: IS THIS TRUE HERE?\n",
    "    print('Halpha Signal: '+str(S))\n",
    "    print('Background Sky: ' +str(B_tot))\n",
    "\n",
    "    plt.plot(time/3600., signal/sigma, label=str(SB_ph))#,label= 'num pixels '+str(round(numpixel)))\n",
    "\n",
    "plt.plot([0,limit/3600.],[5,5],'k--')   \n",
    "plt.title(r'H$\\alpha$ IGM Emission')\n",
    "plt.legend(title='Surface Brightness:')\n",
    "plt.xlim(0,limit/3600.)\n",
    "plt.ylim(0,10)\n",
    "plt.xlabel('time (hours)')\n",
    "plt.ylabel('SNR')\n",
    "\n",
    "plt.plot([4.,4.],[0,10],'k--')  # ~4 hour ~250min\n",
    "plt.plot([70,70],[0,10],'k--')  # ~70 hour ~4200min\n",
    "\n",
    "\n",
    "plt.savefig('HalphaIGMemission.pdf')"
   ]
  },
  {
   "cell_type": "code",
   "execution_count": 6,
   "metadata": {
    "collapsed": false
   },
   "outputs": [
    {
     "name": "stdout",
     "output_type": "stream",
     "text": [
      "1.47327272727 ph / (arcsec2 m2 nm s)\n"
     ]
    }
   ],
   "source": [
    "slicewidth = 20 #Mpc\n",
    "\n",
    "v = "
   ]
  },
  {
   "cell_type": "code",
   "execution_count": 5,
   "metadata": {
    "collapsed": false
   },
   "outputs": [
    {
     "data": {
      "text/plain": [
       "20.599999999999998"
      ]
     },
     "execution_count": 5,
     "metadata": {},
     "output_type": "execute_result"
    }
   ],
   "source": [
    "0.206 * 100 # kpc"
   ]
  },
  {
   "cell_type": "markdown",
   "metadata": {},
   "source": [
    "different factors:\n",
    "- distance from us:  determines how many pixels we can bin over, H$\\alpha$ SB may also change\n",
    "- width of filter/slice: determines how much signal to background we will end up getting\n",
    "\n",
    "\n",
    "v_20 = H_0 * d = 70 km/s/Mpc * 20 Mpc = 1400 km/s\n",
    "\n",
    "z ~ v/c = delta(lambda)/lambda\n",
    "\n",
    "delta(lambda) = lambda * v / c = 656.3nm * 1400 km/s / 300000 km/s = 3 nm\n",
    "\n",
    "\n",
    "v_5 = H_0 * d = 70 km/s/Mpc * 5 Mpc = 350 km/s\n",
    "\n",
    "z ~ v/c = delta(lambda)/lambda\n",
    "\n",
    "delta(lambda) = lambda * v / c = 656.3nm * 350 km/s / 300000 km/s = 0.7657 nm\n"
   ]
  },
  {
   "cell_type": "code",
   "execution_count": 14,
   "metadata": {
    "collapsed": false
   },
   "outputs": [
    {
     "data": {
      "text/plain": [
       "3.062733333333333"
      ]
     },
     "execution_count": 14,
     "metadata": {},
     "output_type": "execute_result"
    }
   ],
   "source": [
    "656.3*1400/300000"
   ]
  },
  {
   "cell_type": "code",
   "execution_count": 15,
   "metadata": {
    "collapsed": false
   },
   "outputs": [
    {
     "data": {
      "text/plain": [
       "657.0657"
      ]
     },
     "execution_count": 15,
     "metadata": {},
     "output_type": "execute_result"
    }
   ],
   "source": [
    "0.7657 + 656.3"
   ]
  },
  {
   "cell_type": "code",
   "execution_count": 16,
   "metadata": {
    "collapsed": false
   },
   "outputs": [
    {
     "name": "stdout",
     "output_type": "stream",
     "text": [
      "0.410431333333 ph / (arcsec2 m2 nm s)\n",
      "1.47327272727 ph / (arcsec2 m2 nm s)\n"
     ]
    }
   ],
   "source": [
    "# 5 Mpc, filter width is: 0.7657 nm \n",
    "B_5 = getBackground(656.3,657.0657)*u.photon/u.second/u.nm/u.arcsec**2/u.m**2\n",
    "print(B_5)\n",
    "# 20 Mpc, filter width is: 3 nm\n",
    "B_20 = getBackground(656.3,659.3)*u.photon/u.second/u.nm/u.arcsec**2/u.m**2\n",
    "print(B_20)\n",
    "\n"
   ]
  },
  {
   "cell_type": "code",
   "execution_count": null,
   "metadata": {
    "collapsed": true
   },
   "outputs": [],
   "source": [
    "def SB_photonscgs_to_ABmagarcsec(sb):\n",
    "    fld = sb * cons.planck * (4*np.pi)/3600**2 # flux density: energy / (m**2 s)  /frequency (/arcmin**2)  sufrace brightness: photons / (cm**2 s) /sr       \n",
    "    return -2.5*np.log10(fld/(3631.*Jy))"
   ]
  }
 ],
 "metadata": {
  "kernelspec": {
   "display_name": "Python 2",
   "language": "python",
   "name": "python2"
  },
  "language_info": {
   "codemirror_mode": {
    "name": "ipython",
    "version": 2
   },
   "file_extension": ".py",
   "mimetype": "text/x-python",
   "name": "python",
   "nbconvert_exporter": "python",
   "pygments_lexer": "ipython2",
   "version": "2.7.12"
  }
 },
 "nbformat": 4,
 "nbformat_minor": 2
}
