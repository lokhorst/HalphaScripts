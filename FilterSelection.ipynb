{
 "cells": [
  {
   "cell_type": "code",
   "execution_count": 1,
   "metadata": {
    "collapsed": true
   },
   "outputs": [],
   "source": [
    "import numpy as np\n",
    "import matplotlib.pyplot as plt\n",
    "import matplotlib\n",
    "from astropy.coordinates import Distance\n",
    "from astropy import units as u\n",
    "from astropy.coordinates import SkyCoord\n",
    "from mpl_toolkits.mplot3d import Axes3D\n",
    "from astropy.io import fits\n",
    "\n",
    "plt.style.use('seaborn-dark-palette')\n",
    "plt.style.use('ggplot')\n",
    "font = {'family' : 'normal',\n",
    "        'weight' : 'normal',\n",
    "        'size'   : 16}\n",
    "\n",
    "matplotlib.rc('font', **font)\n",
    "\n",
    "%matplotlib inline"
   ]
  },
  {
   "cell_type": "code",
   "execution_count": 4,
   "metadata": {
    "collapsed": false
   },
   "outputs": [],
   "source": [
    "def loadSDSS():\n",
    "    z=[]\n",
    "    with open('./data/Skyserver_SQL_1_xyz.csv','r') as f:\n",
    "        for line in f:\n",
    "            if line[0]!='#' and len(line)>5:\n",
    "                tmp = line.split(',')\n",
    "                z.append(float(tmp[1]))\n",
    "    with open('./data/Skyserver_SQL_2_xyz.csv','r') as f:\n",
    "        for line in f:\n",
    "            if line[0]!='#' and len(line)>5:\n",
    "                tmp = line.split(',')\n",
    "                z.append(float(tmp[1]))\n",
    "    z = np.array(z,'d')\n",
    "    \n",
    "    return z\n",
    "\n",
    "def loadUVES():\n",
    "    # UVES Sky background files (continuum and emission lines)\n",
    "    filename4 = homedir+'/Dropbox/UVES_Sky_Background/UVES_sky_all/fluxed_sky_437.fits'\n",
    "    filename3 = homedir+'/Dropbox/UVES_Sky_Background/UVES_sky_all/fluxed_sky_580L.fits'\n",
    "    filename1 = homedir+'/Dropbox/UVES_Sky_Background/UVES_sky_all/fluxed_sky_580U.fits'\n",
    "    filename2 = homedir+'/Dropbox/UVES_Sky_Background/UVES_sky_all/fluxed_sky_860L.fits'\n",
    "    hdulist1 = fits.open(filename1)\n",
    "    hdulist2 = fits.open(filename2)\n",
    "    hdulist3 = fits.open(filename3)\n",
    "    hdulist4 = fits.open(filename4)\n",
    "\n",
    "    flux1 = hdulist1[0].data\n",
    "    flux2 = hdulist2[0].data\n",
    "    flux3 = hdulist3[0].data\n",
    "    flux4 = hdulist4[0].data\n",
    "    \n",
    "    CRPIX1 = hdulist1[0].header['CRPIX1']\n",
    "    CRVAL1 = hdulist1[0].header['CRVAL1']\n",
    "    CDELT1 = hdulist1[0].header['CDELT1']\n",
    "    #print(CRPIX1,CRVAL1,CDELT1)\n",
    "    hdulist1.close()\n",
    "    begin = CRVAL1 - CRPIX1*CDELT1   \n",
    "    end = begin + len(flux1)*CDELT1\n",
    "    wavelength1 = np.arange(begin,end,CDELT1)\n",
    "    #print(len(wavelength1),len(flux1))\n",
    "\n",
    "    CRPIX1 = hdulist2[0].header['CRPIX1']\n",
    "    CRVAL1 = hdulist2[0].header['CRVAL1']\n",
    "    CDELT1 = hdulist2[0].header['CDELT1']\n",
    "    #print(CRPIX1,CRVAL1,CDELT1)\n",
    "    hdulist2.close()\n",
    "    begin = CRVAL1 - CRPIX1*CDELT1   \n",
    "    end = begin + len(flux2)*CDELT1\n",
    "    wavelength2 = np.arange(begin,end,CDELT1)\n",
    "    #print(len(wavelength2),len(flux2))\n",
    "\n",
    "    CRPIX1 = hdulist3[0].header['CRPIX1']\n",
    "    CRVAL1 = hdulist3[0].header['CRVAL1']\n",
    "    CDELT1 = hdulist3[0].header['CDELT1']\n",
    "    #print(CRPIX1,CRVAL1,CDELT1)\n",
    "    hdulist3.close()\n",
    "    begin = CRVAL1 - CRPIX1*CDELT1   \n",
    "    end = begin + len(flux3)*CDELT1\n",
    "    wavelength3 = np.arange(begin,end,CDELT1)\n",
    "    #print(len(wavelength2),len(flux2))\n",
    "    \n",
    "    CRPIX1 = hdulist4[0].header['CRPIX1']\n",
    "    CRVAL1 = hdulist4[0].header['CRVAL1']\n",
    "    CDELT1 = hdulist4[0].header['CDELT1']\n",
    "    #print(CRPIX1,CRVAL1,CDELT1)\n",
    "    hdulist4.close()\n",
    "    begin = CRVAL1 - CRPIX1*CDELT1   \n",
    "    end = begin + len(flux4)*CDELT1\n",
    "    wavelength4 = np.arange(begin,end,CDELT1)\n",
    "    #print(len(wavelength2),len(flux2))\n",
    "    \n",
    "    return flux1,flux2,wavelength1,wavelength2,flux3,wavelength3,flux4,wavelength4\n",
    "\n",
    "def loadUVESlinelists():\n",
    "    # UVES identified line lists\n",
    "    line_wavelength = []\n",
    "    with open(homedir+'/Dropbox/UVES_Sky_Background/UVES_ident/gident_437.dat','r') as f:\n",
    "        for line in f:\n",
    "            if line[0]!='#' and len(line)>5:\n",
    "                tmp = line.split()\n",
    "                line_wavelength.append(tmp[1])\n",
    "    with open(homedir+'/Dropbox/UVES_Sky_Background/UVES_ident/gident_580L.dat','r') as f:\n",
    "        for line in f:\n",
    "            if line[0]!='#' and len(line)>5:\n",
    "                tmp = line.split()\n",
    "                line_wavelength.append(tmp[1])\n",
    "    with open(homedir+'/Dropbox/UVES_Sky_Background/UVES_ident/gident_580U.dat','r') as f:\n",
    "        for line in f:\n",
    "            if line[0]!='#' and len(line)>5:\n",
    "                tmp = line.split()\n",
    "                line_wavelength.append(tmp[1])\n",
    "    with open(homedir+'/Dropbox/UVES_Sky_Background/UVES_ident/gident_860L.dat','r') as f:\n",
    "        for line in f:\n",
    "            if line[0]!='#' and len(line)>5:\n",
    "                tmp = line.split()\n",
    "                line_wavelength.append(tmp[1])\n",
    "    line_wavelength = np.array(line_wavelength,'d')\n",
    "    \n",
    "    return line_wavelength\n"
   ]
  },
  {
   "cell_type": "code",
   "execution_count": 5,
   "metadata": {
    "collapsed": true
   },
   "outputs": [],
   "source": [
    "def plotskybackground2(ax,start=4500.,end=5550.):\n",
    "    indices3 = (wavelength3>start) & (wavelength3<end)\n",
    "    indices4 = (wavelength4>start) & (wavelength4<end)\n",
    "    indices1 = (wavelength1>start) & (wavelength1<end)\n",
    "    print len(indices3)\n",
    "    print len(indices4)\n",
    "    if len(wavelength1[indices1])>0:\n",
    "        newstart = wavelength1[indices1][-1]\n",
    "        print newstart\n",
    "    else:\n",
    "        newstart=start\n",
    "        print newstart\n",
    "    indices2 = (wavelength2>newstart) & (wavelength2<end)\n",
    "    ax.plot(wavelength1[indices1],flux1[indices1],color='gray',zorder=2)\n",
    "    ax.plot(wavelength2[indices2],flux2[indices2],color='gray',zorder=2)\n",
    "    ax.plot(wavelength3[indices3],flux3[indices3],color='gray',zorder=2)\n",
    "    ax.plot(wavelength4[indices4],flux4[indices4],color='gray',zorder=2)\n",
    "    \n",
    "    ## plot sky background divided by 10 to pick out strong lines\n",
    "    ax.plot(wavelength1[indices1],flux1[indices1]/10.,color='red',zorder=2)\n",
    "    ax.plot(wavelength2[indices2],flux2[indices2]/10.,color='red',zorder=2)\n",
    "    ax.plot(wavelength3[indices3],flux3[indices3]/10.,color='red',zorder=2)\n",
    "    ax.plot(wavelength4[indices4],flux4[indices4]/10.,color='red',zorder=2)\n",
    "#    ax.plot(np.concatenate([wavelength1[indices1],wavelength2[indices2]]),\n",
    "#            np.concatenate([flux1[indices1],flux2[indices2]]))\n",
    "    ax.set_ylim(0,2)\n",
    "    ax.set_xlim(start,end)\n",
    "    ax.set_ylabel('Flux (sky)')\n",
    "    \n",
    " #   # identified lines\n",
    " #   for line in line_wavelength:\n",
    " #       ax.plot([line],[1.5],'ro')\n",
    " #   \n",
    " #   # locations off 50Mpc, 100Mpc, 200Mpc, 500Mpc away\n",
    " #   for wavelen,name in zip([lambda_50,lambda_100,lambda_200,lambda_500],['50 Mpc','100 Mpc','200 Mpc','500 Mpc']):\n",
    " #       ax.plot([wavelen,wavelen],[0.,3.],'k--',linewidth=2)\n",
    " #      # if (wavelen>lowlim) and (wavelen<(lowlim+300.)):\n",
    " #      #     plt.text(line,1.5,name,rotation=90)\n",
    " #       \n",
    " #   # pretend filter (3 nm wide)\n",
    " #   #ax.fill_between([lowlim+240.,lowlim+240.+30.], 0, 1.5,facecolor ='yellow',alpha=0.4)\n",
    " #   #ax.plot([lowlim+240.,lowlim+240.,lowlim+240.+30.,lowlim+240.+30.,lowlim+240.],[0,1.5,1.5,0,0],'g-',linewidth=2)\n",
    "\n",
    "    ax.set_xlabel('wavelength (Angstrom)')"
   ]
  },
  {
   "cell_type": "code",
   "execution_count": 6,
   "metadata": {
    "collapsed": true
   },
   "outputs": [],
   "source": [
    "machine = 'coho'\n",
    "if machine=='chinook':\n",
    "    homedir = 'Users/lokhorst'\n",
    "elif machine=='coho':\n",
    "    homedir = '/Users/deblokhorst'"
   ]
  },
  {
   "cell_type": "code",
   "execution_count": 7,
   "metadata": {
    "collapsed": false
   },
   "outputs": [
    {
     "ename": "IOError",
     "evalue": "[Errno 2] No such file or directory: './data/Skyserver_SQL_1_xyz.csv'",
     "output_type": "error",
     "traceback": [
      "\u001b[0;31m---------------------------------------------------------------------------\u001b[0m",
      "\u001b[0;31mIOError\u001b[0m                                   Traceback (most recent call last)",
      "\u001b[0;32m<ipython-input-7-2f3eb595fdd7>\u001b[0m in \u001b[0;36m<module>\u001b[0;34m()\u001b[0m\n\u001b[0;32m----> 1\u001b[0;31m \u001b[0mz\u001b[0m\u001b[0;34m=\u001b[0m\u001b[0mloadSDSS\u001b[0m\u001b[0;34m(\u001b[0m\u001b[0;34m)\u001b[0m\u001b[0;34m\u001b[0m\u001b[0m\n\u001b[0m\u001b[1;32m      2\u001b[0m \u001b[0mflux1\u001b[0m\u001b[0;34m,\u001b[0m\u001b[0mflux2\u001b[0m\u001b[0;34m,\u001b[0m\u001b[0mwavelength1\u001b[0m\u001b[0;34m,\u001b[0m\u001b[0mwavelength2\u001b[0m\u001b[0;34m,\u001b[0m\u001b[0mflux3\u001b[0m\u001b[0;34m,\u001b[0m\u001b[0mwavelength3\u001b[0m\u001b[0;34m,\u001b[0m\u001b[0mflux4\u001b[0m\u001b[0;34m,\u001b[0m\u001b[0mwavelength4\u001b[0m\u001b[0;34m=\u001b[0m\u001b[0mloadUVES\u001b[0m\u001b[0;34m(\u001b[0m\u001b[0;34m)\u001b[0m\u001b[0;34m\u001b[0m\u001b[0m\n\u001b[1;32m      3\u001b[0m \u001b[0mline_wavelength\u001b[0m\u001b[0;34m=\u001b[0m\u001b[0mloadUVESlinelists\u001b[0m\u001b[0;34m(\u001b[0m\u001b[0;34m)\u001b[0m\u001b[0;34m\u001b[0m\u001b[0m\n",
      "\u001b[0;32m<ipython-input-4-f671d843e3f7>\u001b[0m in \u001b[0;36mloadSDSS\u001b[0;34m()\u001b[0m\n\u001b[1;32m      1\u001b[0m \u001b[0;32mdef\u001b[0m \u001b[0mloadSDSS\u001b[0m\u001b[0;34m(\u001b[0m\u001b[0;34m)\u001b[0m\u001b[0;34m:\u001b[0m\u001b[0;34m\u001b[0m\u001b[0m\n\u001b[1;32m      2\u001b[0m     \u001b[0mz\u001b[0m\u001b[0;34m=\u001b[0m\u001b[0;34m[\u001b[0m\u001b[0;34m]\u001b[0m\u001b[0;34m\u001b[0m\u001b[0m\n\u001b[0;32m----> 3\u001b[0;31m     \u001b[0;32mwith\u001b[0m \u001b[0mopen\u001b[0m\u001b[0;34m(\u001b[0m\u001b[0;34m'./data/Skyserver_SQL_1_xyz.csv'\u001b[0m\u001b[0;34m,\u001b[0m\u001b[0;34m'r'\u001b[0m\u001b[0;34m)\u001b[0m \u001b[0;32mas\u001b[0m \u001b[0mf\u001b[0m\u001b[0;34m:\u001b[0m\u001b[0;34m\u001b[0m\u001b[0m\n\u001b[0m\u001b[1;32m      4\u001b[0m         \u001b[0;32mfor\u001b[0m \u001b[0mline\u001b[0m \u001b[0;32min\u001b[0m \u001b[0mf\u001b[0m\u001b[0;34m:\u001b[0m\u001b[0;34m\u001b[0m\u001b[0m\n\u001b[1;32m      5\u001b[0m             \u001b[0;32mif\u001b[0m \u001b[0mline\u001b[0m\u001b[0;34m[\u001b[0m\u001b[0;36m0\u001b[0m\u001b[0;34m]\u001b[0m\u001b[0;34m!=\u001b[0m\u001b[0;34m'#'\u001b[0m \u001b[0;32mand\u001b[0m \u001b[0mlen\u001b[0m\u001b[0;34m(\u001b[0m\u001b[0mline\u001b[0m\u001b[0;34m)\u001b[0m\u001b[0;34m>\u001b[0m\u001b[0;36m5\u001b[0m\u001b[0;34m:\u001b[0m\u001b[0;34m\u001b[0m\u001b[0m\n",
      "\u001b[0;31mIOError\u001b[0m: [Errno 2] No such file or directory: './data/Skyserver_SQL_1_xyz.csv'"
     ]
    }
   ],
   "source": [
    "z=loadSDSS()\n",
    "flux1,flux2,wavelength1,wavelength2,flux3,wavelength3,flux4,wavelength4=loadUVES()\n",
    "line_wavelength=loadUVESlinelists()"
   ]
  },
  {
   "cell_type": "code",
   "execution_count": null,
   "metadata": {
    "collapsed": true
   },
   "outputs": [],
   "source": []
  }
 ],
 "metadata": {
  "kernelspec": {
   "display_name": "Python 2",
   "language": "python",
   "name": "python2"
  },
  "language_info": {
   "codemirror_mode": {
    "name": "ipython",
    "version": 2
   },
   "file_extension": ".py",
   "mimetype": "text/x-python",
   "name": "python",
   "nbconvert_exporter": "python",
   "pygments_lexer": "ipython2",
   "version": "2.7.13"
  }
 },
 "nbformat": 4,
 "nbformat_minor": 2
}
