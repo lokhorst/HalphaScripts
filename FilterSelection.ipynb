{
 "cells": [
  {
   "cell_type": "markdown",
   "metadata": {},
   "source": [
    "## Testing out the Filter Selection and tilting effects with the 659.9 nm CWL filters\n",
    "\n"
   ]
  },
  {
   "cell_type": "code",
   "execution_count": 4,
   "metadata": {
    "collapsed": true
   },
   "outputs": [],
   "source": [
    "import numpy as np\n",
    "import matplotlib.pyplot as plt\n",
    "import matplotlib\n",
    "from astropy.coordinates import Distance\n",
    "from astropy import units as u\n",
    "from astropy.coordinates import SkyCoord\n",
    "from mpl_toolkits.mplot3d import Axes3D\n",
    "from astropy.io import fits\n",
    "\n",
    "plt.style.use('seaborn-dark-palette')\n",
    "plt.style.use('ggplot')\n",
    "font = {'family' : 'normal',\n",
    "        'weight' : 'normal',\n",
    "        'size'   : 16}\n",
    "\n",
    "matplotlib.rc('font', **font)\n",
    "\n",
    "%matplotlib inline"
   ]
  },
  {
   "cell_type": "code",
   "execution_count": 6,
   "metadata": {
    "collapsed": true
   },
   "outputs": [],
   "source": [
    "def loadSDSS():\n",
    "    z=[]\n",
    "    with open('./data/Skyserver_SQL_1_xyz.csv','r') as f:\n",
    "        for line in f:\n",
    "            if line[0]!='#' and len(line)>5:\n",
    "                tmp = line.split(',')\n",
    "                z.append(float(tmp[1]))\n",
    "    with open('./data/Skyserver_SQL_2_xyz.csv','r') as f:\n",
    "        for line in f:\n",
    "            if line[0]!='#' and len(line)>5:\n",
    "                tmp = line.split(',')\n",
    "                z.append(float(tmp[1]))\n",
    "    z = np.array(z,'d')\n",
    "    \n",
    "    return z\n",
    "\n",
    "def loadUVES():\n",
    "    # UVES Sky background files (continuum and emission lines)\n",
    "    filename4 = homedir+'/Dropbox/UVES_Sky_Background/UVES_sky_all/fluxed_sky_437.fits'\n",
    "    filename3 = homedir+'/Dropbox/UVES_Sky_Background/UVES_sky_all/fluxed_sky_580L.fits'\n",
    "    filename1 = homedir+'/Dropbox/UVES_Sky_Background/UVES_sky_all/fluxed_sky_580U.fits'\n",
    "    filename2 = homedir+'/Dropbox/UVES_Sky_Background/UVES_sky_all/fluxed_sky_860L.fits'\n",
    "    hdulist1 = fits.open(filename1)\n",
    "    hdulist2 = fits.open(filename2)\n",
    "    hdulist3 = fits.open(filename3)\n",
    "    hdulist4 = fits.open(filename4)\n",
    "\n",
    "    flux1 = hdulist1[0].data\n",
    "    flux2 = hdulist2[0].data\n",
    "    flux3 = hdulist3[0].data\n",
    "    flux4 = hdulist4[0].data\n",
    "    \n",
    "    CRPIX1 = hdulist1[0].header['CRPIX1']\n",
    "    CRVAL1 = hdulist1[0].header['CRVAL1']\n",
    "    CDELT1 = hdulist1[0].header['CDELT1']\n",
    "    #print(CRPIX1,CRVAL1,CDELT1)\n",
    "    hdulist1.close()\n",
    "    begin = CRVAL1 - CRPIX1*CDELT1   \n",
    "    end = begin + len(flux1)*CDELT1\n",
    "    wavelength1 = np.arange(begin,end,CDELT1)\n",
    "    #print(len(wavelength1),len(flux1))\n",
    "\n",
    "    CRPIX1 = hdulist2[0].header['CRPIX1']\n",
    "    CRVAL1 = hdulist2[0].header['CRVAL1']\n",
    "    CDELT1 = hdulist2[0].header['CDELT1']\n",
    "    #print(CRPIX1,CRVAL1,CDELT1)\n",
    "    hdulist2.close()\n",
    "    begin = CRVAL1 - CRPIX1*CDELT1   \n",
    "    end = begin + len(flux2)*CDELT1\n",
    "    wavelength2 = np.arange(begin,end,CDELT1)\n",
    "    #print(len(wavelength2),len(flux2))\n",
    "\n",
    "    CRPIX1 = hdulist3[0].header['CRPIX1']\n",
    "    CRVAL1 = hdulist3[0].header['CRVAL1']\n",
    "    CDELT1 = hdulist3[0].header['CDELT1']\n",
    "    #print(CRPIX1,CRVAL1,CDELT1)\n",
    "    hdulist3.close()\n",
    "    begin = CRVAL1 - CRPIX1*CDELT1   \n",
    "    end = begin + len(flux3)*CDELT1\n",
    "    wavelength3 = np.arange(begin,end,CDELT1)\n",
    "    #print(len(wavelength2),len(flux2))\n",
    "    \n",
    "    CRPIX1 = hdulist4[0].header['CRPIX1']\n",
    "    CRVAL1 = hdulist4[0].header['CRVAL1']\n",
    "    CDELT1 = hdulist4[0].header['CDELT1']\n",
    "    #print(CRPIX1,CRVAL1,CDELT1)\n",
    "    hdulist4.close()\n",
    "    begin = CRVAL1 - CRPIX1*CDELT1   \n",
    "    end = begin + len(flux4)*CDELT1\n",
    "    wavelength4 = np.arange(begin,end,CDELT1)\n",
    "    #print(len(wavelength2),len(flux2))\n",
    "    \n",
    "    return flux1,flux2,wavelength1,wavelength2,flux3,wavelength3,flux4,wavelength4\n",
    "\n",
    "def loadUVESlinelists():\n",
    "    # UVES identified line lists\n",
    "    line_wavelength = []\n",
    "    with open(homedir+'/Dropbox/UVES_Sky_Background/UVES_ident/gident_437.dat','r') as f:\n",
    "        for line in f:\n",
    "            if line[0]!='#' and len(line)>5:\n",
    "                tmp = line.split()\n",
    "                line_wavelength.append(tmp[1])\n",
    "    with open(homedir+'/Dropbox/UVES_Sky_Background/UVES_ident/gident_580L.dat','r') as f:\n",
    "        for line in f:\n",
    "            if line[0]!='#' and len(line)>5:\n",
    "                tmp = line.split()\n",
    "                line_wavelength.append(tmp[1])\n",
    "    with open(homedir+'/Dropbox/UVES_Sky_Background/UVES_ident/gident_580U.dat','r') as f:\n",
    "        for line in f:\n",
    "            if line[0]!='#' and len(line)>5:\n",
    "                tmp = line.split()\n",
    "                line_wavelength.append(tmp[1])\n",
    "    with open(homedir+'/Dropbox/UVES_Sky_Background/UVES_ident/gident_860L.dat','r') as f:\n",
    "        for line in f:\n",
    "            if line[0]!='#' and len(line)>5:\n",
    "                tmp = line.split()\n",
    "                line_wavelength.append(tmp[1])\n",
    "    line_wavelength = np.array(line_wavelength,'d')\n",
    "    \n",
    "    return line_wavelength\n"
   ]
  },
  {
   "cell_type": "code",
   "execution_count": 52,
   "metadata": {
    "collapsed": true
   },
   "outputs": [],
   "source": [
    "def plotskybackground2(ax,start=4500.,end=5550.):\n",
    "    indices3 = (wavelength3>start) & (wavelength3<end)\n",
    "    indices4 = (wavelength4>start) & (wavelength4<end)\n",
    "    indices1 = (wavelength1>start) & (wavelength1<end)\n",
    "    print len(indices3)\n",
    "    print len(indices4)\n",
    "    if len(wavelength1[indices1])>0:\n",
    "        newstart = wavelength1[indices1][-1]\n",
    "        print newstart\n",
    "    else:\n",
    "        newstart=start\n",
    "        print newstart\n",
    "    indices2 = (wavelength2>newstart) & (wavelength2<end)\n",
    "    ax.plot(wavelength1[indices1],flux1[indices1],color='gray',zorder=2)\n",
    "    ax.plot(wavelength2[indices2],flux2[indices2],color='gray',zorder=2)\n",
    "    ax.plot(wavelength3[indices3],flux3[indices3],color='gray',zorder=2)\n",
    "    ax.plot(wavelength4[indices4],flux4[indices4],color='gray',zorder=2)\n",
    "    \n",
    "    ## plot sky background divided by 10 to pick out strong lines\n",
    "    ax.plot(wavelength1[indices1],flux1[indices1]/10.,color='darkgrey',zorder=2)\n",
    "    ax.plot(wavelength2[indices2],flux2[indices2]/10.,color='darkgrey',zorder=2)\n",
    "    ax.plot(wavelength3[indices3],flux3[indices3]/10.,color='darkgrey',zorder=2)\n",
    "    ax.plot(wavelength4[indices4],flux4[indices4]/10.,color='darkgrey',zorder=2)\n",
    "#    ax.plot(np.concatenate([wavelength1[indices1],wavelength2[indices2]]),\n",
    "#            np.concatenate([flux1[indices1],flux2[indices2]]))\n",
    "    ax.set_ylim(0,2)\n",
    "    ax.set_xlim(start,end)\n",
    "    ax.set_ylabel('Flux (sky)')\n",
    "    \n",
    " #   # identified lines\n",
    " #   for line in line_wavelength:\n",
    " #       ax.plot([line],[1.5],'ro')\n",
    " #   \n",
    " #   # locations off 50Mpc, 100Mpc, 200Mpc, 500Mpc away\n",
    " #   for wavelen,name in zip([lambda_50,lambda_100,lambda_200,lambda_500],['50 Mpc','100 Mpc','200 Mpc','500 Mpc']):\n",
    " #       ax.plot([wavelen,wavelen],[0.,3.],'k--',linewidth=2)\n",
    " #      # if (wavelen>lowlim) and (wavelen<(lowlim+300.)):\n",
    " #      #     plt.text(line,1.5,name,rotation=90)\n",
    " #       \n",
    " #   # pretend filter (3 nm wide)\n",
    " #   #ax.fill_between([lowlim+240.,lowlim+240.+30.], 0, 1.5,facecolor ='yellow',alpha=0.4)\n",
    " #   #ax.plot([lowlim+240.,lowlim+240.,lowlim+240.+30.,lowlim+240.+30.,lowlim+240.],[0,1.5,1.5,0,0],'g-',linewidth=2)\n",
    "\n",
    "    ax.set_xlabel('wavelength (Angstrom)')\n",
    "    \n",
    "def plotfilt(ax,center,width,color='black',label='',linestyle='-',height=1):\n",
    "    ax.plot([center-width/2,center+width/2,center+width/2,center-width/2,center-width/2],[0,0,height,height,0],\n",
    "           linewidth=2,color=color,linestyle=linestyle)\n",
    "    ax.text(center,height+.2,label,horizontalalignment='center')\n"
   ]
  },
  {
   "cell_type": "code",
   "execution_count": 8,
   "metadata": {
    "collapsed": true
   },
   "outputs": [],
   "source": [
    "machine = 'coho'\n",
    "if machine=='chinook':\n",
    "    homedir = 'Users/lokhorst'\n",
    "elif machine=='coho':\n",
    "    homedir = '/Users/deblokhorst'"
   ]
  },
  {
   "cell_type": "code",
   "execution_count": 9,
   "metadata": {
    "collapsed": true
   },
   "outputs": [],
   "source": [
    "z=loadSDSS()\n",
    "flux1,flux2,wavelength1,wavelength2,flux3,wavelength3,flux4,wavelength4=loadUVES()\n",
    "line_wavelength=loadUVESlinelists()"
   ]
  },
  {
   "cell_type": "code",
   "execution_count": 63,
   "metadata": {
    "collapsed": true
   },
   "outputs": [],
   "source": [
    "def shift(wavelen, theta, n_2, n_1) :\n",
    "    new = wavelen*np.sqrt(1.-((n_1/n_2)*np.sin(theta*np.pi / 180.))**2)\n",
    "    return new-wavelen\n",
    "\n",
    "eff_index_of_refr_TWEAK = 2.1 # tweaked to fit AstroDon's values\n",
    "tilt = np.arange(0,30.1,0.1)\n",
    "shiftresult = shift(656.3, tilt, eff_index_of_refr_TWEAK,1)\n",
    "\n",
    "#plt.plot(tilt,shiftresult,'k-',label='theoretical')\n",
    "\n",
    "#print shiftresult[tilt==10]"
   ]
  },
  {
   "cell_type": "code",
   "execution_count": 98,
   "metadata": {
    "collapsed": true
   },
   "outputs": [],
   "source": [
    "\n",
    "def plotfilter(tilt,ax,cwl=6599,height=1,label=''):\n",
    "    'Plot shaded regions to show the width of the filter'\n",
    "    filterwidth = 3. #nm\n",
    "    FOV_size = 1. # degrees\n",
    "    shift_cent = shift(656.3, tilt, eff_index_of_refr_TWEAK,1)\n",
    "    shift_up   = shift(656.3, tilt+FOV_size/2., eff_index_of_refr_TWEAK,1)\n",
    "    shift_down = shift(656.3, tilt-FOV_size/2., eff_index_of_refr_TWEAK,1)\n",
    "\n",
    "    'Filter width centered at 0 deg theoretical shift'\n",
    "    low  = (shift_cent - filterwidth/2.)*10.\n",
    "    high = (shift_cent + filterwidth/2.)*10.\n",
    "    print low+cwl,high+cwl\n",
    "    ax.fill_between([low+cwl,high+cwl],0,height, alpha=0.8)\n",
    "    \n",
    "    'Filter width centered at one side of FOV'\n",
    "    low  = (shift_up - filterwidth/2.)*10.\n",
    "    high = (shift_up + filterwidth/2.)*10.\n",
    "    ax.fill_between([low+cwl,high+cwl],0,height,alpha=0.3)\n",
    "\n",
    "    'Filter width centered at other side of FOV'\n",
    "    low  = (shift_down - filterwidth/2.)*10.\n",
    "    high = (shift_down + filterwidth/2.)*10.\n",
    "    ax.fill_between([low+cwl,high+cwl],0,height,alpha=0.3)\n",
    "    \n",
    "    ax.text(shift_cent*10,height+.2,label,horizontalalignment='center')\n"
   ]
  },
  {
   "cell_type": "code",
   "execution_count": 109,
   "metadata": {
    "scrolled": false
   },
   "outputs": [
    {
     "name": "stdout",
     "output_type": "stream",
     "text": [
      "6584.0 6614.0\n",
      "6551.75518996 6581.75518996\n",
      "6512.55549056 6542.55549056\n"
     ]
    },
    {
     "data": {
      "image/png": "[encoded data removed]",
      "text/plain": [
       "<matplotlib.figure.Figure at 0x1135fcf90>"
      ]
     },
     "metadata": {},
     "output_type": "display_data"
    }
   ],
   "source": [
    "#f, (ax1,ax5) = plt.subplots(2,1, figsize=(15.,10.))\n",
    "f, (ax1,ax2,ax3) = plt.subplots(3,1, figsize=(10.,8.))\n",
    "\n",
    "start=6500.; end=6620.\n",
    "#plotskybackground2(ax1,start=start,end=end)\n",
    "#plotskybackground2(ax2,start=start,end=end)\n",
    "#plotskybackground2(ax3,start=start,end=end)\n",
    "\n",
    "c = 300000 # km/s\n",
    "v = 200    # km/s\n",
    "\n",
    "for ax in [ax1,ax2,ax3]:\n",
    "    ax.set_ylim(0,2)\n",
    "    ax.set_xlim(start,end)\n",
    "    #ax.set_ylabel('Flux (sky)')\n",
    "    ax.set_xlabel('wavelength (Angstrom)')\n",
    "\n",
    "plotfilt(ax1,6563*(1+v/c),1,color='green',label= 'Halpha')\n",
    "plotfilt(ax1,6585*(1+v/c),1,color='cyan',label= '[NII]')\n",
    "plotfilt(ax1,6550*(1+v/c),1,color='cyan',label= '[NII]')\n",
    "\n",
    "plotfilt(ax1,6599,30,color='black',label= 'Filter, Tilt=0 deg',height=1.5)\n",
    "plotfilter(0,ax1,height=1.5)#,label= 'Filter, Tilt=0 deg')\n",
    "\n",
    "plotfilt(ax2,6563*(1+v/c),1,color='green',label= 'Halpha')\n",
    "plotfilt(ax2,6585*(1+v/c),1,color='cyan',label= '[NII]')\n",
    "plotfilt(ax2,6550*(1+v/c),1,color='cyan',label= '[NII]')\n",
    "\n",
    "plotfilt(ax2,6599+10*shiftresult[tilt==12],30,color='black',label= 'Filter, Tilt=12 deg',height=1.5)\n",
    "plotfilter(12,ax2,height=1.5)\n",
    "\n",
    "\n",
    "plotfilt(ax3,6563*(1+v/c),1,color='green',label= 'Halpha')\n",
    "plotfilt(ax3,6585*(1+v/c),1,color='cyan',label= '[NII]')\n",
    "plotfilt(ax3,6550*(1+v/c),1,color='cyan',label= '[NII]')\n",
    "\n",
    "plotfilt(ax3,6599+10*shiftresult[tilt==18],30,color='black',label= 'Filter, Tilt=18 deg',height=1.5)\n",
    "plotfilter(18,ax3,height=1.5)\n",
    "\n",
    "ax1.set_title(r'Filter width: 30 $\\mathrm{\\AA}$, Filter CWL: 6599 $\\mathrm{\\AA}$, field-of-view: 1.8 deg')\n",
    "plt.tight_layout()\n",
    "plt.savefig('FilterSelection.jpg')"
   ]
  },
  {
   "cell_type": "markdown",
   "metadata": {
    "collapsed": true
   },
   "source": [
    "662 -- [NII] at the Virgo Cluster -- 1500 km/s"
   ]
  },
  {
   "cell_type": "code",
   "execution_count": null,
   "metadata": {
    "collapsed": true
   },
   "outputs": [],
   "source": []
  }
 ],
 "metadata": {
  "kernelspec": {
   "display_name": "Python 2",
   "language": "python",
   "name": "python2"
  },
  "language_info": {
   "codemirror_mode": {
    "name": "ipython",
    "version": 2
   },
   "file_extension": ".py",
   "mimetype": "text/x-python",
   "name": "python",
   "nbconvert_exporter": "python",
   "pygments_lexer": "ipython2",
   "version": "2.7.12"
  }
 },
 "nbformat": 4,
 "nbformat_minor": 2
}
